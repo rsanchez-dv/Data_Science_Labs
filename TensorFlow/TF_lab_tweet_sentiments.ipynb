{
 "cells": [
  {
   "cell_type": "markdown",
   "metadata": {},
   "source": [
    "<a href='https://www.moh.gov.sa/en/Pages/Default.aspx'> <img style=\"float: left;height:70px\" src=\"http://scienceacademy.ca/wp-content/uploads/2018/12/Logo_SA.png\"></a>"
   ]
  },
  {
   "cell_type": "markdown",
   "metadata": {},
   "source": [
    "Instructor and author: [_Dr. Junaid Qazi_](https://www.linkedin.com/in/jqazi/)"
   ]
  },
  {
   "cell_type": "markdown",
   "metadata": {},
   "source": [
    "Hello guys, \n",
    "\n",
    "Having twitter account is a common practice in this era of social media, and many individuals express their feeling via their twitter accounts. This might be a good idea to see how Neural Networks can help us to extract or classify tweets for certain sentiment. \n",
    "\n",
    "`==>` *Tweets data is available at [kaggle](https://www.kaggle.com/c/tweet-sentiment-extraction/overview) and there is a prize money for the winners!*\n",
    "\n",
    "At this stage, we all know that that [TensorFlow](https://www.tensorflow.org/) is a wonderful end-to-end open source platform for machine learning. Let's use this amazing platform to train a simple Convolutional Neural Network -- CNN and see if we can classify tweets into \"`positive`\",\"`negative`\" and \"`neutral`\" sentiment! \n",
    "\n",
    ">Please note, I expect all of you to print message to update the status and progress of the process in this exercise. You can see several messages in the output to lead the user.....!"
   ]
  },
  {
   "cell_type": "code",
   "execution_count": 1,
   "metadata": {},
   "outputs": [],
   "source": [
    "# Starting with the required imports\n",
    "import pandas as pd\n",
    "import numpy as np\n",
    "import matplotlib.pyplot as plt\n",
    "%matplotlib inline\n",
    "from collections import Counter\n",
    "\n",
    "# sklearn imports\n",
    "from sklearn.preprocessing import LabelEncoder, LabelBinarizer\n",
    "from sklearn.model_selection import train_test_split\n",
    "from sklearn.metrics import classification_report,confusion_matrix\n",
    "\n",
    "# some tensorflow imports\n",
    "from tensorflow.keras.preprocessing.text import Tokenizer\n",
    "from tensorflow.keras.preprocessing.sequence import pad_sequences\n",
    "from tensorflow.keras import Sequential,regularizers,losses\n",
    "from tensorflow.keras.layers import Embedding,Conv1D,GlobalMaxPooling1D,Dropout,Dense\n",
    "\n",
    "#Setting display format to retina in matplotlib to see better quality images.\n",
    "from IPython.display import set_matplotlib_formats\n",
    "set_matplotlib_formats('retina')\n",
    "\n",
    "# just to ignore warnings\n",
    "import warnings; warnings.filterwarnings('ignore')"
   ]
  },
  {
   "cell_type": "markdown",
   "metadata": {},
   "source": [
    "In the cell below, I am importing some custom functions that I have placed in a directory name `custom_funcs` inside the current working directory. *Recall your python lecture on functions, where we learned to do this!*"
   ]
  },
  {
   "cell_type": "code",
   "execution_count": 2,
   "metadata": {},
   "outputs": [],
   "source": [
    "# importing custom function from working directory\n",
    "from custom_funcs.remove_emoji import remove_emoji \n",
    "from custom_funcs.remove_urls import remove_url\n",
    "from custom_funcs.clean_tweet_text import clean_text"
   ]
  },
  {
   "cell_type": "code",
   "execution_count": 3,
   "metadata": {},
   "outputs": [
    {
     "name": "stdout",
     "output_type": "stream",
     "text": [
      "the current tensorflow version in use is:  2.5.0\n"
     ]
    }
   ],
   "source": [
    "# Just making sure we are working with TF-2\n",
    "import tensorflow as tf\n",
    "print(\"the current tensorflow version in use is: \",tf.__version__)"
   ]
  },
  {
   "cell_type": "markdown",
   "metadata": {},
   "source": [
    "**reading the data from git.** *(you can download the file for off-line usage.)* "
   ]
  },
  {
   "cell_type": "code",
   "execution_count": 4,
   "metadata": {},
   "outputs": [],
   "source": [
    "train_url=\"\"\"https://raw.githubusercontent.com/junaidqazi/\\\n",
    "DataSets_Practice_ScienceAcademy/master/Tweets_Sentiment_Analysis/train.csv\"\"\"\n",
    "df= pd.read_csv(train_url)"
   ]
  },
  {
   "cell_type": "markdown",
   "metadata": {},
   "source": [
    "**the data overview using `.info()`.** "
   ]
  },
  {
   "cell_type": "code",
   "execution_count": 5,
   "metadata": {},
   "outputs": [
    {
     "name": "stdout",
     "output_type": "stream",
     "text": [
      "<class 'pandas.core.frame.DataFrame'>\n",
      "RangeIndex: 27481 entries, 0 to 27480\n",
      "Data columns (total 4 columns):\n",
      " #   Column         Non-Null Count  Dtype \n",
      "---  ------         --------------  ----- \n",
      " 0   textID         27481 non-null  object\n",
      " 1   text           27480 non-null  object\n",
      " 2   selected_text  27480 non-null  object\n",
      " 3   sentiment      27481 non-null  object\n",
      "dtypes: object(4)\n",
      "memory usage: 858.9+ KB\n"
     ]
    }
   ],
   "source": [
    "df.info()"
   ]
  },
  {
   "cell_type": "markdown",
   "metadata": {},
   "source": [
    "**looks like there is some missing data (only one tweet), let's drop it!**\n",
    "\n",
    "*by the way, what would be your strategy if a small fraction is missing?*"
   ]
  },
  {
   "cell_type": "code",
   "execution_count": 6,
   "metadata": {
    "scrolled": true
   },
   "outputs": [
    {
     "data": {
      "text/plain": [
       "text             1\n",
       "selected_text    1\n",
       "textID           0\n",
       "sentiment        0\n",
       "dtype: int64"
      ]
     },
     "execution_count": 6,
     "metadata": {},
     "output_type": "execute_result"
    }
   ],
   "source": [
    "#code here please\n",
    "df.isnull().sum().sort_values(ascending=False)"
   ]
  },
  {
   "cell_type": "code",
   "execution_count": 7,
   "metadata": {},
   "outputs": [
    {
     "name": "stdout",
     "output_type": "stream",
     "text": [
      "<class 'pandas.core.frame.DataFrame'>\n",
      "Int64Index: 27480 entries, 0 to 27480\n",
      "Data columns (total 4 columns):\n",
      " #   Column         Non-Null Count  Dtype \n",
      "---  ------         --------------  ----- \n",
      " 0   textID         27480 non-null  object\n",
      " 1   text           27480 non-null  object\n",
      " 2   selected_text  27480 non-null  object\n",
      " 3   sentiment      27480 non-null  object\n",
      "dtypes: object(4)\n",
      "memory usage: 1.0+ MB\n"
     ]
    }
   ],
   "source": [
    "df.dropna(inplace=True)\n",
    "df.info()"
   ]
  },
  {
   "cell_type": "code",
   "execution_count": 7,
   "metadata": {},
   "outputs": [
    {
     "name": "stdout",
     "output_type": "stream",
     "text": [
      "<class 'pandas.core.frame.DataFrame'>\n",
      "Int64Index: 27480 entries, 0 to 27480\n",
      "Data columns (total 4 columns):\n",
      " #   Column         Non-Null Count  Dtype \n",
      "---  ------         --------------  ----- \n",
      " 0   textID         27480 non-null  object\n",
      " 1   text           27480 non-null  object\n",
      " 2   selected_text  27480 non-null  object\n",
      " 3   sentiment      27480 non-null  object\n",
      "dtypes: object(4)\n",
      "memory usage: 1.0+ MB\n"
     ]
    }
   ],
   "source": []
  },
  {
   "cell_type": "markdown",
   "metadata": {},
   "source": [
    "**What is the minimum and maximum length (how many words) of a single tweet?** "
   ]
  },
  {
   "cell_type": "code",
   "execution_count": 8,
   "metadata": {},
   "outputs": [
    {
     "name": "stdout",
     "output_type": "stream",
     "text": [
      "Min Tweet length: 1\n",
      "Max Tweet length: 33\n"
     ]
    }
   ],
   "source": [
    "#code here please\n",
    "df['tweetLength'] = df['text'].str.split().str.len()\n",
    "min = df['tweetLength'].min()\n",
    "max = df['tweetLength'].max()\n",
    "print(f'Min Tweet length: {min}')\n",
    "print(f'Max Tweet length: {max}')"
   ]
  },
  {
   "cell_type": "code",
   "execution_count": 9,
   "metadata": {},
   "outputs": [
    {
     "name": "stdout",
     "output_type": "stream",
     "text": [
      "Min tweet lenght:  1\n",
      "Max tweet lenght:  33\n"
     ]
    }
   ],
   "source": []
  },
  {
   "cell_type": "markdown",
   "metadata": {},
   "source": [
    "**Select only the tweets that are more than 2 words long.** *(recall masking from dataframes lecture)*"
   ]
  },
  {
   "cell_type": "code",
   "execution_count": 9,
   "metadata": {},
   "outputs": [
    {
     "data": {
      "text/html": [
       "<div>\n",
       "<style scoped>\n",
       "    .dataframe tbody tr th:only-of-type {\n",
       "        vertical-align: middle;\n",
       "    }\n",
       "\n",
       "    .dataframe tbody tr th {\n",
       "        vertical-align: top;\n",
       "    }\n",
       "\n",
       "    .dataframe thead th {\n",
       "        text-align: right;\n",
       "    }\n",
       "</style>\n",
       "<table border=\"1\" class=\"dataframe\">\n",
       "  <thead>\n",
       "    <tr style=\"text-align: right;\">\n",
       "      <th></th>\n",
       "      <th>textID</th>\n",
       "      <th>text</th>\n",
       "      <th>selected_text</th>\n",
       "      <th>sentiment</th>\n",
       "      <th>tweetLength</th>\n",
       "    </tr>\n",
       "  </thead>\n",
       "  <tbody>\n",
       "    <tr>\n",
       "      <th>0</th>\n",
       "      <td>cb774db0d1</td>\n",
       "      <td>I`d have responded, if I were going</td>\n",
       "      <td>I`d have responded, if I were going</td>\n",
       "      <td>neutral</td>\n",
       "      <td>7</td>\n",
       "    </tr>\n",
       "    <tr>\n",
       "      <th>1</th>\n",
       "      <td>549e992a42</td>\n",
       "      <td>Sooo SAD I will miss you here in San Diego!!!</td>\n",
       "      <td>Sooo SAD</td>\n",
       "      <td>negative</td>\n",
       "      <td>10</td>\n",
       "    </tr>\n",
       "    <tr>\n",
       "      <th>2</th>\n",
       "      <td>088c60f138</td>\n",
       "      <td>my boss is bullying me...</td>\n",
       "      <td>bullying me</td>\n",
       "      <td>negative</td>\n",
       "      <td>5</td>\n",
       "    </tr>\n",
       "    <tr>\n",
       "      <th>3</th>\n",
       "      <td>9642c003ef</td>\n",
       "      <td>what interview! leave me alone</td>\n",
       "      <td>leave me alone</td>\n",
       "      <td>negative</td>\n",
       "      <td>5</td>\n",
       "    </tr>\n",
       "    <tr>\n",
       "      <th>4</th>\n",
       "      <td>358bd9e861</td>\n",
       "      <td>Sons of ****, why couldn`t they put them on t...</td>\n",
       "      <td>Sons of ****,</td>\n",
       "      <td>negative</td>\n",
       "      <td>14</td>\n",
       "    </tr>\n",
       "  </tbody>\n",
       "</table>\n",
       "</div>"
      ],
      "text/plain": [
       "       textID                                               text  \\\n",
       "0  cb774db0d1                I`d have responded, if I were going   \n",
       "1  549e992a42      Sooo SAD I will miss you here in San Diego!!!   \n",
       "2  088c60f138                          my boss is bullying me...   \n",
       "3  9642c003ef                     what interview! leave me alone   \n",
       "4  358bd9e861   Sons of ****, why couldn`t they put them on t...   \n",
       "\n",
       "                         selected_text sentiment  tweetLength  \n",
       "0  I`d have responded, if I were going   neutral            7  \n",
       "1                             Sooo SAD  negative           10  \n",
       "2                          bullying me  negative            5  \n",
       "3                       leave me alone  negative            5  \n",
       "4                        Sons of ****,  negative           14  "
      ]
     },
     "execution_count": 9,
     "metadata": {},
     "output_type": "execute_result"
    }
   ],
   "source": [
    "df.head()"
   ]
  },
  {
   "cell_type": "code",
   "execution_count": 10,
   "metadata": {},
   "outputs": [
    {
     "name": "stdout",
     "output_type": "stream",
     "text": [
      "Training dataset:\n",
      "Number of tweets having more than 2 words: True    26752\n",
      "Name: Greater_two, dtype: int64\n",
      "Class count:\n",
      "neutral     10704\n",
      "positive     8375\n",
      "negative     7673\n",
      "Name: sentiment, dtype: int64\n"
     ]
    }
   ],
   "source": [
    "df['Greater_two'] = df['tweetLength'] > 2\n",
    "df['Greater_two'] = df['Greater_two'].replace(False, np.NAN)\n",
    "df.dropna(inplace=True)\n",
    "g2 = df['Greater_two'].value_counts()\n",
    "print('Training dataset:')\n",
    "print(f'Number of tweets having more than 2 words: {g2}')\n",
    "g3 = df['sentiment'].value_counts()\n",
    "print(f'Class count:\\n{g3}')"
   ]
  },
  {
   "cell_type": "code",
   "execution_count": 11,
   "metadata": {},
   "outputs": [
    {
     "name": "stdout",
     "output_type": "stream",
     "text": [
      "Training dataset:\n",
      "Number of tweets having more than 2 words:  26752\n",
      "Class count:\n",
      "neutral     10704\n",
      "positive     8375\n",
      "negative     7673\n",
      "Name: sentiment, dtype: int64\n"
     ]
    }
   ],
   "source": []
  },
  {
   "cell_type": "markdown",
   "metadata": {},
   "source": [
    "**Clean the data please.**\n",
    "* remove emoji\n",
    "* remove urls\n",
    "* clean the text "
   ]
  },
  {
   "cell_type": "code",
   "execution_count": 11,
   "metadata": {},
   "outputs": [
    {
     "name": "stdout",
     "output_type": "stream",
     "text": [
      "training data -- removing emoji....\n",
      "training data -- removing urls....\n",
      "training data -- cleaning text....\n"
     ]
    },
    {
     "data": {
      "text/html": [
       "<div>\n",
       "<style scoped>\n",
       "    .dataframe tbody tr th:only-of-type {\n",
       "        vertical-align: middle;\n",
       "    }\n",
       "\n",
       "    .dataframe tbody tr th {\n",
       "        vertical-align: top;\n",
       "    }\n",
       "\n",
       "    .dataframe thead th {\n",
       "        text-align: right;\n",
       "    }\n",
       "</style>\n",
       "<table border=\"1\" class=\"dataframe\">\n",
       "  <thead>\n",
       "    <tr style=\"text-align: right;\">\n",
       "      <th></th>\n",
       "      <th>textID</th>\n",
       "      <th>text</th>\n",
       "      <th>selected_text</th>\n",
       "      <th>sentiment</th>\n",
       "      <th>tweetLength</th>\n",
       "      <th>Greater_two</th>\n",
       "    </tr>\n",
       "  </thead>\n",
       "  <tbody>\n",
       "    <tr>\n",
       "      <th>0</th>\n",
       "      <td>cb774db0d1</td>\n",
       "      <td>have responded were going</td>\n",
       "      <td>I`d have responded, if I were going</td>\n",
       "      <td>neutral</td>\n",
       "      <td>7</td>\n",
       "      <td>True</td>\n",
       "    </tr>\n",
       "  </tbody>\n",
       "</table>\n",
       "</div>"
      ],
      "text/plain": [
       "       textID                       text                        selected_text  \\\n",
       "0  cb774db0d1  have responded were going  I`d have responded, if I were going   \n",
       "\n",
       "  sentiment  tweetLength Greater_two  \n",
       "0   neutral            7        True  "
      ]
     },
     "execution_count": 11,
     "metadata": {},
     "output_type": "execute_result"
    }
   ],
   "source": [
    "#code here please\n",
    "df['text'] = df['text'].apply(remove_emoji)\n",
    "print(f'training data -- removing emoji....')\n",
    "df['text'] = df['text'].apply(remove_url)\n",
    "print(f'training data -- removing urls....')\n",
    "df['text'] = df['text'].apply(clean_text)\n",
    "print(f'training data -- cleaning text....')\n",
    "df.head(1)"
   ]
  },
  {
   "cell_type": "code",
   "execution_count": 13,
   "metadata": {},
   "outputs": [
    {
     "name": "stdout",
     "output_type": "stream",
     "text": [
      "training data -- removing emoji....\n",
      "training data -- removing urls....\n",
      "training data -- cleaning text....\n",
      "training data -- Done!\n"
     ]
    }
   ],
   "source": []
  },
  {
   "cell_type": "markdown",
   "metadata": {},
   "source": [
    "*A quick question to see if you are still with me! Why the number in n_words is different than the word count in text column?*"
   ]
  },
  {
   "cell_type": "markdown",
   "metadata": {},
   "source": [
    "#### Working with the train part of the data.\n",
    "\n",
    "Let us split the training data into train and validation datasets\n",
    "Let us convert our training,validation and test data into the format accepted by tensorflow"
   ]
  },
  {
   "cell_type": "markdown",
   "metadata": {},
   "source": [
    "**Initialize the [tokenizer](https://www.tensorflow.org/api_docs/python/tf/keras/preprocessing/text/Tokenizer) and fit to the text column.**\n",
    "\n",
    "*(from TF documentation) This class allows to vectorize a text corpus, by turning each text into either a sequence of integers (each integer being the index of a token in a dictionary) or into a vector where the coefficient for each token could be binary, based on word count, based on tf-idf...*\n",
    "\n",
    "***please set `oov_token='unknown'` while creating `Tokenizer` instances, can you explain this parameter?*** *(hint: out-of-vocabulary)*"
   ]
  },
  {
   "cell_type": "code",
   "execution_count": 12,
   "metadata": {},
   "outputs": [
    {
     "name": "stdout",
     "output_type": "stream",
     "text": [
      "Max words to keep: 20000\n",
      "token initilized....\n",
      "fitting on tweets...\n",
      "Done!\n"
     ]
    }
   ],
   "source": [
    "#code here please\n",
    "print(f'Max words to keep: 20000')\n",
    "tokenizer = Tokenizer(num_words=20000, oov_token='unknown')\n",
    "print(f'token initilized....')\n",
    "tokenizer.fit_on_texts(df['text'])\n",
    "print(f'fitting on tweets...')\n",
    "print(f'Done!')"
   ]
  },
  {
   "cell_type": "code",
   "execution_count": 16,
   "metadata": {},
   "outputs": [
    {
     "name": "stdout",
     "output_type": "stream",
     "text": [
      "max words to keep: 20000\n",
      "tokenizer initilized....\n",
      "fitting on tweets ....\n",
      "Done!\n"
     ]
    }
   ],
   "source": []
  },
  {
   "cell_type": "markdown",
   "metadata": {},
   "source": [
    "**please check the index of 'unknown'**"
   ]
  },
  {
   "cell_type": "code",
   "execution_count": 13,
   "metadata": {},
   "outputs": [
    {
     "name": "stdout",
     "output_type": "stream",
     "text": [
      "Index of word 'unknown' is 5284\n"
     ]
    }
   ],
   "source": [
    "#code here please\n",
    "index = tokenizer.word_index['unknown']\n",
    "print(f'Index of word \\'unknown\\' is {index}')"
   ]
  },
  {
   "cell_type": "code",
   "execution_count": 18,
   "metadata": {},
   "outputs": [
    {
     "name": "stdout",
     "output_type": "stream",
     "text": [
      "index of word 'unknown' is: 5284\n"
     ]
    }
   ],
   "source": []
  },
  {
   "cell_type": "markdown",
   "metadata": {},
   "source": [
    "**(extra learning question) Get the sequence for `'I am Junaid; xyz how are you -- unknown'`**\n",
    "\n",
    "*What do you see, explain the reason to have same number for several words?*"
   ]
  },
  {
   "cell_type": "code",
   "execution_count": 14,
   "metadata": {},
   "outputs": [
    {
     "data": {
      "text/plain": [
       "[[5284, 5284, 5284, 5284, 5284, 21, 4, 5284]]"
      ]
     },
     "execution_count": 14,
     "metadata": {},
     "output_type": "execute_result"
    }
   ],
   "source": [
    "#code here please\n",
    "tokenizer.texts_to_sequences(['I am Juaid; xyz hhow are you -- unknown'])"
   ]
  },
  {
   "cell_type": "code",
   "execution_count": 20,
   "metadata": {},
   "outputs": [
    {
     "name": "stdout",
     "output_type": "stream",
     "text": [
      "[[5284, 5284, 5284, 5284, 58, 21, 4, 5284]]\n"
     ]
    }
   ],
   "source": []
  },
  {
   "cell_type": "markdown",
   "metadata": {},
   "source": [
    "**Split the data into train and test part.**\n",
    "\n",
    "Class is imbalanced, how will you handle this without re-sampling? "
   ]
  },
  {
   "cell_type": "code",
   "execution_count": 15,
   "metadata": {},
   "outputs": [
    {
     "data": {
      "text/html": [
       "<div>\n",
       "<style scoped>\n",
       "    .dataframe tbody tr th:only-of-type {\n",
       "        vertical-align: middle;\n",
       "    }\n",
       "\n",
       "    .dataframe tbody tr th {\n",
       "        vertical-align: top;\n",
       "    }\n",
       "\n",
       "    .dataframe thead th {\n",
       "        text-align: right;\n",
       "    }\n",
       "</style>\n",
       "<table border=\"1\" class=\"dataframe\">\n",
       "  <thead>\n",
       "    <tr style=\"text-align: right;\">\n",
       "      <th></th>\n",
       "      <th>textID</th>\n",
       "      <th>text</th>\n",
       "      <th>selected_text</th>\n",
       "      <th>sentiment</th>\n",
       "      <th>tweetLength</th>\n",
       "      <th>Greater_two</th>\n",
       "    </tr>\n",
       "  </thead>\n",
       "  <tbody>\n",
       "    <tr>\n",
       "      <th>0</th>\n",
       "      <td>cb774db0d1</td>\n",
       "      <td>have responded were going</td>\n",
       "      <td>I`d have responded, if I were going</td>\n",
       "      <td>neutral</td>\n",
       "      <td>7</td>\n",
       "      <td>True</td>\n",
       "    </tr>\n",
       "    <tr>\n",
       "      <th>1</th>\n",
       "      <td>549e992a42</td>\n",
       "      <td>sooo sad will miss you here san diego</td>\n",
       "      <td>Sooo SAD</td>\n",
       "      <td>negative</td>\n",
       "      <td>10</td>\n",
       "      <td>True</td>\n",
       "    </tr>\n",
       "    <tr>\n",
       "      <th>2</th>\n",
       "      <td>088c60f138</td>\n",
       "      <td>boss bullying</td>\n",
       "      <td>bullying me</td>\n",
       "      <td>negative</td>\n",
       "      <td>5</td>\n",
       "      <td>True</td>\n",
       "    </tr>\n",
       "    <tr>\n",
       "      <th>3</th>\n",
       "      <td>9642c003ef</td>\n",
       "      <td>what interview leave alone</td>\n",
       "      <td>leave me alone</td>\n",
       "      <td>negative</td>\n",
       "      <td>5</td>\n",
       "      <td>True</td>\n",
       "    </tr>\n",
       "    <tr>\n",
       "      <th>4</th>\n",
       "      <td>358bd9e861</td>\n",
       "      <td>sons why couldnt they put them the releases al...</td>\n",
       "      <td>Sons of ****,</td>\n",
       "      <td>negative</td>\n",
       "      <td>14</td>\n",
       "      <td>True</td>\n",
       "    </tr>\n",
       "  </tbody>\n",
       "</table>\n",
       "</div>"
      ],
      "text/plain": [
       "       textID                                               text  \\\n",
       "0  cb774db0d1                          have responded were going   \n",
       "1  549e992a42              sooo sad will miss you here san diego   \n",
       "2  088c60f138                                      boss bullying   \n",
       "3  9642c003ef                         what interview leave alone   \n",
       "4  358bd9e861  sons why couldnt they put them the releases al...   \n",
       "\n",
       "                         selected_text sentiment  tweetLength Greater_two  \n",
       "0  I`d have responded, if I were going   neutral            7        True  \n",
       "1                             Sooo SAD  negative           10        True  \n",
       "2                          bullying me  negative            5        True  \n",
       "3                       leave me alone  negative            5        True  \n",
       "4                        Sons of ****,  negative           14        True  "
      ]
     },
     "execution_count": 15,
     "metadata": {},
     "output_type": "execute_result"
    }
   ],
   "source": [
    "df.head()"
   ]
  },
  {
   "cell_type": "code",
   "execution_count": 16,
   "metadata": {},
   "outputs": [
    {
     "name": "stdout",
     "output_type": "stream",
     "text": [
      "X_train length:\n"
     ]
    },
    {
     "data": {
      "text/plain": [
       "24076"
      ]
     },
     "metadata": {},
     "output_type": "display_data"
    },
    {
     "name": "stdout",
     "output_type": "stream",
     "text": [
      "y_train:\n"
     ]
    },
    {
     "data": {
      "text/plain": [
       "{'neutral': 9633, 'positive': 7537, 'negative': 6906}"
      ]
     },
     "metadata": {},
     "output_type": "display_data"
    },
    {
     "name": "stdout",
     "output_type": "stream",
     "text": [
      "X_test length:\n"
     ]
    },
    {
     "data": {
      "text/plain": [
       "2676"
      ]
     },
     "metadata": {},
     "output_type": "display_data"
    },
    {
     "name": "stdout",
     "output_type": "stream",
     "text": [
      "y_train:\n"
     ]
    },
    {
     "data": {
      "text/plain": [
       "{'neutral': 1071, 'positive': 838, 'negative': 767}"
      ]
     },
     "metadata": {},
     "output_type": "display_data"
    }
   ],
   "source": [
    "#code here please\n",
    "X = df['text']\n",
    "y = df['sentiment']\n",
    "X_train, X_test, y_train, y_test = train_test_split(X,y, test_size = 0.1, random_state = 101, stratify = y)\n",
    "print(f'X_train length:')\n",
    "display(len(X_train))\n",
    "print(f'y_train:')\n",
    "display(y_train.value_counts().to_dict())\n",
    "print(f'X_test length:')\n",
    "display(len(X_test))\n",
    "print(f'y_train:')\n",
    "display(y_test.value_counts().to_dict())"
   ]
  },
  {
   "cell_type": "code",
   "execution_count": 22,
   "metadata": {},
   "outputs": [
    {
     "name": "stdout",
     "output_type": "stream",
     "text": [
      "saperating tweet and the sentiment....\n",
      "splitting into train and test using train_test_split()....\n",
      "(X_train) -- train data len: 24076\n",
      "(y_train) -- class distribution:  Counter({'neutral': 9633, 'positive': 7537, 'negative': 6906})\n",
      "(X_test)  -- valid data len: 2676\n",
      "(y_test)  -- class distribution:  Counter({'neutral': 1071, 'positive': 838, 'negative': 767})\n"
     ]
    }
   ],
   "source": []
  },
  {
   "cell_type": "markdown",
   "metadata": {},
   "source": [
    "**Get sequences and pad them with max_tweet_length (I am using `maxlen=36`).**\n",
    "\n",
    "`==>` Learning trick: \n",
    "\n",
    "* try different values of `maxlen` and observe the difference in the model performance and compute/training time.\n",
    "* try using list of tokens and arrays of tokens to see the difference in training."
   ]
  },
  {
   "cell_type": "code",
   "execution_count": 17,
   "metadata": {},
   "outputs": [
    {
     "data": {
      "text/plain": [
       "numpy.ndarray"
      ]
     },
     "metadata": {},
     "output_type": "display_data"
    },
    {
     "data": {
      "text/plain": [
       "numpy.ndarray"
      ]
     },
     "metadata": {},
     "output_type": "display_data"
    },
    {
     "data": {
      "text/plain": [
       "array([ 151,   83,  109,  248,  172,  135,  207, 5284,    2,  775,    0,\n",
       "          0,    0,    0,    0,    0,    0,    0,    0,    0,    0,    0,\n",
       "          0,    0,    0,    0,    0,    0,    0,    0,    0,    0,    0,\n",
       "          0,    0,    0])"
      ]
     },
     "metadata": {},
     "output_type": "display_data"
    },
    {
     "data": {
      "text/plain": [
       "36"
      ]
     },
     "execution_count": 17,
     "metadata": {},
     "output_type": "execute_result"
    }
   ],
   "source": [
    "#Code here please\n",
    "# Should I replace 36 with the actual maxlen of Xtrain?\n",
    "ps_train = pad_sequences(tokenizer.texts_to_sequences(X_train), maxlen = 36, padding = 'post')\n",
    "ps_test = pad_sequences(tokenizer.texts_to_sequences(X_test), maxlen = 36, padding = 'post')\n",
    "\n",
    "display(type(ps_train))\n",
    "display(type(ps_test))\n",
    "\n",
    "display(ps_train[0])\n",
    "len(ps_train[0])"
   ]
  },
  {
   "cell_type": "code",
   "execution_count": 24,
   "metadata": {
    "scrolled": true
   },
   "outputs": [
    {
     "name": "stdout",
     "output_type": "stream",
     "text": [
      "getting sequences for X_train and X_test, we are working with numpay arrays of tokens here....!\n",
      "\n",
      "type of training data:  <class 'numpy.ndarray'>\n",
      "type of test data    :  <class 'numpy.ndarray'>\n",
      "\n",
      "the max tweet length is: 33\n",
      "setting maxlen for padding max_tweet_len + 3 .... \n",
      "\n",
      "all sequences are padded and this is how the first tweet look like now...\n",
      "\n",
      "sequence of our first tweet from training data:\n",
      " [ 151   83  109  248  172  135  207 5284    2  775    0    0    0    0\n",
      "    0    0    0    0    0    0    0    0    0    0    0    0    0    0\n",
      "    0    0    0    0    0    0    0    0]\n",
      "lenght of the sequence is:  36\n"
     ]
    }
   ],
   "source": []
  },
  {
   "cell_type": "markdown",
   "metadata": {},
   "source": [
    "**Encode the labels/targets in appropriate format for TF.**"
   ]
  },
  {
   "cell_type": "code",
   "execution_count": 35,
   "metadata": {},
   "outputs": [
    {
     "name": "stdout",
     "output_type": "stream",
     "text": [
      "y_train Output:\n"
     ]
    },
    {
     "data": {
      "text/plain": [
       "22509    positive\n",
       "27375     neutral\n",
       "8114      neutral\n",
       "23958     neutral\n",
       "14664     neutral\n",
       "Name: sentiment, dtype: object"
      ]
     },
     "metadata": {},
     "output_type": "display_data"
    },
    {
     "data": {
      "text/plain": [
       "array([2, 1, 1, 1, 1])"
      ]
     },
     "metadata": {},
     "output_type": "display_data"
    },
    {
     "name": "stdout",
     "output_type": "stream",
     "text": [
      "y_test Output:\n"
     ]
    },
    {
     "data": {
      "text/plain": [
       "5234     positive\n",
       "840      positive\n",
       "19094     neutral\n",
       "16177    positive\n",
       "26499    negative\n",
       "Name: sentiment, dtype: object"
      ]
     },
     "metadata": {},
     "output_type": "display_data"
    },
    {
     "data": {
      "text/plain": [
       "array([2, 2, 1, 2, 0])"
      ]
     },
     "metadata": {},
     "output_type": "display_data"
    },
    {
     "name": "stdout",
     "output_type": "stream",
     "text": [
      "Binary Encoding:\n"
     ]
    },
    {
     "data": {
      "text/plain": [
       "array([[0., 0., 1.],\n",
       "       [0., 1., 0.]], dtype=float32)"
      ]
     },
     "metadata": {},
     "output_type": "display_data"
    },
    {
     "data": {
      "text/plain": [
       "array([[0., 0., 1.],\n",
       "       [0., 0., 1.]], dtype=float32)"
      ]
     },
     "metadata": {},
     "output_type": "display_data"
    }
   ],
   "source": [
    "#code here please\n",
    "\n",
    "le  = LabelEncoder()\n",
    "\n",
    "y_train_temp = y_train\n",
    "y_test_temp = y_test\n",
    "\n",
    "print(f'y_train Output:')\n",
    "display(y_train[0:5])\n",
    "y_train_temp = le.fit_transform(y_train_temp)\n",
    "display(y_train_temp[0:5])\n",
    "\n",
    "print(f'y_test Output:')\n",
    "display(y_test[0:5])\n",
    "y_test_temp = le.fit_transform(y_test_temp)\n",
    "display(y_test_temp[0:5])\n",
    "\n",
    "# Convert to arrays of binary encoding\n",
    "\n",
    "print(f'Binary Encoding:')\n",
    "y_train_temp = np.asarray(tf.keras.utils.to_categorical(y_train_temp))\n",
    "y_test_temp = np.asarray(tf.keras.utils.to_categorical(y_test_temp))\n",
    "\n",
    "# DO NOT NEED\n",
    "#binz = LabelBinarizer()\n",
    "#y_train_temp = binz.fit_transform(y_train_temp)\n",
    "#y_test_temp = binz.fit_transform(y_test_temp)\n",
    "\n",
    "display(y_train_temp[0:2])\n",
    "display(y_test_temp[0:2])\n",
    "\n",
    "y_train = y_train_temp\n",
    "y_test = y_test_temp"
   ]
  },
  {
   "cell_type": "code",
   "execution_count": 26,
   "metadata": {
    "scrolled": false
   },
   "outputs": [
    {
     "name": "stdout",
     "output_type": "stream",
     "text": [
      "y_train part\n",
      "\n",
      "first two labels look like ....\n",
      "22509    positive\n",
      "27375     neutral\n",
      "Name: sentiment, dtype: object\n",
      "\n",
      "initilizing label encoder....\n",
      "converting targets to numetic coding....\n",
      "labels are encoded:  [2 1 1 ... 1 2 1]\n",
      "converting into arrays of binary encoding -- ready for TF ....\n",
      "\n",
      "first two final labels look like....\n",
      "---------------\n",
      "y_train part \n",
      "[[0. 0. 1.]\n",
      " [0. 1. 0.]]\n",
      "---------------\n",
      "y_test part \n",
      "\n",
      "[[0. 0. 1.]\n",
      " [0. 0. 1.]]\n",
      "---------------\n",
      "\n",
      "the label order is:  ['negative', 'neutral', 'positive']\n"
     ]
    }
   ],
   "source": []
  },
  {
   "cell_type": "markdown",
   "metadata": {},
   "source": [
    "**In the above train and test encoded labels, which sentiment they are representing?**"
   ]
  },
  {
   "cell_type": "code",
   "execution_count": 27,
   "metadata": {},
   "outputs": [],
   "source": [
    "#Ans: they are representing negative, neutral, and positive"
   ]
  },
  {
   "cell_type": "markdown",
   "metadata": {},
   "source": [
    "**what is the purpose of [tf.data.Dataset.from_tensor_slices](https://www.tensorflow.org/api_docs/python/tf/data/Dataset) explore the documentation.**"
   ]
  },
  {
   "cell_type": "code",
   "execution_count": 18,
   "metadata": {},
   "outputs": [
    {
     "name": "stdout",
     "output_type": "stream",
     "text": [
      "train_ds is <class 'tensorflow.python.data.ops.dataset_ops.TensorSliceDataset'>\n",
      "test_ds is <class 'tensorflow.python.data.ops.dataset_ops.TensorSliceDataset'>\n"
     ]
    }
   ],
   "source": [
    "#code here please\n",
    "train_ds = tf.data.Dataset.from_tensor_slices(ps_train)\n",
    "test_ds  = tf.data.Dataset.from_tensor_slices(ps_test)\n",
    "print(f'train_ds is {type(train_ds)}')\n",
    "print(f'test_ds is {type(test_ds)}')"
   ]
  },
  {
   "cell_type": "code",
   "execution_count": 29,
   "metadata": {},
   "outputs": [
    {
     "name": "stdout",
     "output_type": "stream",
     "text": [
      "train_ds is  <class 'tensorflow.python.data.ops.dataset_ops.TensorSliceDataset'>\n",
      "test_ds is  <class 'tensorflow.python.data.ops.dataset_ops.TensorSliceDataset'>\n"
     ]
    }
   ],
   "source": []
  },
  {
   "cell_type": "markdown",
   "metadata": {},
   "source": [
    "**Please print first two observations in the train and test part.** \n",
    "\n",
    "*please use `for loop` with `break` statement ...*"
   ]
  },
  {
   "cell_type": "code",
   "execution_count": 19,
   "metadata": {},
   "outputs": [
    {
     "name": "stdout",
     "output_type": "stream",
     "text": [
      "-----------------\n",
      " train data part\n",
      "-----------------\n",
      "tf.Tensor(\n",
      "[ 151   83  109  248  172  135  207 5284    2  775    0    0    0    0\n",
      "    0    0    0    0    0    0    0    0    0    0    0    0    0    0\n",
      "    0    0    0    0    0    0    0    0], shape=(36,), dtype=int32)\n",
      "-----------------\n",
      " test data part\n",
      "-----------------\n",
      "tf.Tensor(\n",
      "[  34   51   11 1698 3968 1150    3 1829   22   23 2201 7643    0    0\n",
      "    0    0    0    0    0    0    0    0    0    0    0    0    0    0\n",
      "    0    0    0    0    0    0    0    0], shape=(36,), dtype=int32)\n"
     ]
    }
   ],
   "source": [
    "#code here please\n",
    "for el in train_ds:\n",
    "    print(f'-----------------\\n train data part\\n-----------------')\n",
    "    print(el)\n",
    "    break\n",
    "for el in test_ds:\n",
    "    print(f'-----------------\\n test data part\\n-----------------')\n",
    "    print(el)\n",
    "    break"
   ]
  },
  {
   "cell_type": "code",
   "execution_count": 31,
   "metadata": {
    "scrolled": false
   },
   "outputs": [
    {
     "name": "stdout",
     "output_type": "stream",
     "text": [
      "-----------------\n",
      "train data part\n",
      "-----------------\n",
      "tf.Tensor(\n",
      "[ 151   83  109  248  172  135  207 5284    2  775    0    0    0    0\n",
      "    0    0    0    0    0    0    0    0    0    0    0    0    0    0\n",
      "    0    0    0    0    0    0    0    0], shape=(36,), dtype=int32) \n",
      " tf.Tensor([0. 0. 1.], shape=(3,), dtype=float32)\n",
      "-----------------\n",
      "test data part\n",
      "-----------------\n",
      "tf.Tensor(\n",
      "[  34   51   11 1698 3968 1150    3 1829   22   23 2201 7643    0    0\n",
      "    0    0    0    0    0    0    0    0    0    0    0    0    0    0\n",
      "    0    0    0    0    0    0    0    0], shape=(36,), dtype=int32) \n",
      " tf.Tensor([0. 0. 1.], shape=(3,), dtype=float32)\n",
      "-------------------\n"
     ]
    }
   ],
   "source": []
  },
  {
   "cell_type": "markdown",
   "metadata": {},
   "source": [
    "**Create a simple CNN -- Convolutional Neural Network using [sequential API](https://www.tensorflow.org/guide/keras/sequential_model).**\n",
    "\n",
    "*(from TF documentation) A Sequential model is appropriate for a plain stack of layers where each layer has exactly one input tensor and one output tensor.*"
   ]
  },
  {
   "cell_type": "code",
   "execution_count": 20,
   "metadata": {
    "scrolled": true
   },
   "outputs": [
    {
     "name": "stdout",
     "output_type": "stream",
     "text": [
      "Model: \"sequential\"\n",
      "_________________________________________________________________\n",
      "Layer (type)                 Output Shape              Param #   \n",
      "=================================================================\n",
      "embedding (Embedding)        (None, 36, 100)           2000100   \n",
      "_________________________________________________________________\n",
      "conv1d (Conv1D)              (None, 34, 128)           38528     \n",
      "_________________________________________________________________\n",
      "global_max_pooling1d (Global (None, 128)               0         \n",
      "_________________________________________________________________\n",
      "dropout (Dropout)            (None, 128)               0         \n",
      "_________________________________________________________________\n",
      "dense (Dense)                (None, 3)                 387       \n",
      "=================================================================\n",
      "Total params: 2,039,015\n",
      "Trainable params: 2,039,015\n",
      "Non-trainable params: 0\n",
      "_________________________________________________________________\n"
     ]
    }
   ],
   "source": [
    "max_features =20000\n",
    "embedding_dim =100\n",
    "sequence_length = 36 # equal to max lenght with padding\n",
    "\n",
    "model = Sequential()\n",
    "#Embedding layer\n",
    "model.add(Embedding(max_features +1, # recall the reson of +1 from lecture\n",
    "                    embedding_dim,\n",
    "                    input_length=sequence_length,\n",
    "                    embeddings_regularizer=regularizers.l2(0.0005)))                                    \n",
    "# first Conv1D layer\n",
    "model.add(Conv1D(128,3,activation='relu',\n",
    "                 kernel_regularizer=regularizers.l2(0.0005),\n",
    "                 bias_regularizer=regularizers.l2(0.0005)))                               \n",
    "#GlobalMaxPooling1D\n",
    "model.add(GlobalMaxPooling1D())\n",
    "# dropput layer \n",
    "model.add(Dropout(0.5))\n",
    "# Dense layer\n",
    "model.add(Dense(3, activation='sigmoid',\n",
    "                kernel_regularizer=regularizers.l2(0.001),\n",
    "                bias_regularizer=regularizers.l2(0.001),))\n",
    "#Compileing model\n",
    "model.compile(loss=losses.CategoricalCrossentropy(from_logits=True),\n",
    "              optimizer='Nadam', metrics=[\"CategoricalAccuracy\"])\n",
    "model.summary()"
   ]
  },
  {
   "cell_type": "markdown",
   "metadata": {},
   "source": [
    "**can you justify the  total number of parameters in your model summary?**"
   ]
  },
  {
   "cell_type": "code",
   "execution_count": 33,
   "metadata": {},
   "outputs": [],
   "source": [
    "#Ans: Yes, "
   ]
  },
  {
   "cell_type": "markdown",
   "metadata": {},
   "source": [
    "**Train your network** Use 100 epochs, "
   ]
  },
  {
   "cell_type": "code",
   "execution_count": 123,
   "metadata": {},
   "outputs": [],
   "source": [
    "#code here please\n",
    "model.fit?"
   ]
  },
  {
   "cell_type": "code",
   "execution_count": 21,
   "metadata": {},
   "outputs": [
    {
     "name": "stdout",
     "output_type": "stream",
     "text": [
      "Epoch 1/100\n",
      "121/121 [==============================] - 5s 38ms/step - loss: 0.1357 - categorical_accuracy: 0.0000e+00 - val_loss: 0.0015 - val_categorical_accuracy: 0.0000e+00\n",
      "Epoch 2/100\n",
      "121/121 [==============================] - 5s 39ms/step - loss: 4.9067e-04 - categorical_accuracy: 0.0000e+00 - val_loss: 1.0871e-04 - val_categorical_accuracy: 0.0000e+00\n",
      "Epoch 3/100\n",
      "121/121 [==============================] - 5s 39ms/step - loss: 4.0218e-05 - categorical_accuracy: 0.0000e+00 - val_loss: 8.6106e-06 - val_categorical_accuracy: 0.0000e+00\n",
      "Epoch 4/100\n",
      "121/121 [==============================] - 5s 40ms/step - loss: 3.7783e-06 - categorical_accuracy: 0.0000e+00 - val_loss: 1.7843e-06 - val_categorical_accuracy: 0.0000e+00\n",
      "Epoch 5/100\n",
      "121/121 [==============================] - 5s 39ms/step - loss: 1.5861e-06 - categorical_accuracy: 0.0000e+00 - val_loss: 1.7043e-06 - val_categorical_accuracy: 0.0000e+00\n",
      "Epoch 6/100\n",
      "121/121 [==============================] - 5s 38ms/step - loss: 1.4189e-06 - categorical_accuracy: 0.0000e+00 - val_loss: 1.1415e-06 - val_categorical_accuracy: 0.0000e+00\n",
      "Epoch 7/100\n",
      "121/121 [==============================] - 5s 38ms/step - loss: 1.1866e-06 - categorical_accuracy: 0.0000e+00 - val_loss: 1.5102e-06 - val_categorical_accuracy: 0.0000e+00\n",
      "Epoch 8/100\n",
      "121/121 [==============================] - 5s 40ms/step - loss: 1.4076e-06 - categorical_accuracy: 0.0000e+00 - val_loss: 9.5879e-07 - val_categorical_accuracy: 0.0000e+00\n",
      "Epoch 9/100\n",
      "121/121 [==============================] - 5s 38ms/step - loss: 1.0902e-06 - categorical_accuracy: 0.0000e+00 - val_loss: 9.4484e-07 - val_categorical_accuracy: 0.0000e+00\n",
      "Epoch 10/100\n",
      "121/121 [==============================] - 5s 41ms/step - loss: 9.7920e-07 - categorical_accuracy: 0.0000e+00 - val_loss: 1.0922e-06 - val_categorical_accuracy: 0.0000e+00\n",
      "Epoch 11/100\n",
      "121/121 [==============================] - 5s 40ms/step - loss: 1.0372e-06 - categorical_accuracy: 0.0000e+00 - val_loss: 8.3492e-07 - val_categorical_accuracy: 0.0000e+00\n",
      "Epoch 12/100\n",
      "121/121 [==============================] - 5s 40ms/step - loss: 8.5258e-07 - categorical_accuracy: 0.0000e+00 - val_loss: 7.2022e-07 - val_categorical_accuracy: 0.0000e+00\n",
      "Epoch 13/100\n",
      "121/121 [==============================] - 5s 39ms/step - loss: 8.2770e-07 - categorical_accuracy: 0.0000e+00 - val_loss: 9.9214e-07 - val_categorical_accuracy: 0.0000e+00\n",
      "Epoch 14/100\n",
      "121/121 [==============================] - 5s 39ms/step - loss: 9.1543e-07 - categorical_accuracy: 0.0000e+00 - val_loss: 9.5036e-07 - val_categorical_accuracy: 0.0000e+00\n",
      "Epoch 15/100\n",
      "121/121 [==============================] - 5s 40ms/step - loss: 7.6433e-07 - categorical_accuracy: 0.0000e+00 - val_loss: 6.7269e-07 - val_categorical_accuracy: 0.0000e+00\n",
      "Epoch 16/100\n",
      "121/121 [==============================] - 5s 41ms/step - loss: 7.1999e-07 - categorical_accuracy: 0.0000e+00 - val_loss: 7.4395e-07 - val_categorical_accuracy: 0.0000e+00\n",
      "Epoch 17/100\n",
      "121/121 [==============================] - 5s 39ms/step - loss: 6.8929e-07 - categorical_accuracy: 0.0000e+00 - val_loss: 6.7104e-07 - val_categorical_accuracy: 0.0000e+00\n",
      "Epoch 18/100\n",
      "121/121 [==============================] - 5s 42ms/step - loss: 5.6318e-07 - categorical_accuracy: 0.0000e+00 - val_loss: 4.9501e-07 - val_categorical_accuracy: 0.0000e+00\n",
      "Epoch 19/100\n",
      "121/121 [==============================] - 5s 40ms/step - loss: 5.7104e-07 - categorical_accuracy: 0.0000e+00 - val_loss: 6.5179e-07 - val_categorical_accuracy: 0.0000e+00\n",
      "Epoch 20/100\n",
      "121/121 [==============================] - 5s 39ms/step - loss: 6.1113e-07 - categorical_accuracy: 0.0000e+00 - val_loss: 6.0148e-07 - val_categorical_accuracy: 0.0000e+00\n",
      "Epoch 21/100\n",
      "121/121 [==============================] - 5s 43ms/step - loss: 5.6745e-07 - categorical_accuracy: 0.0000e+00 - val_loss: 5.9721e-07 - val_categorical_accuracy: 0.0000e+00\n",
      "Epoch 22/100\n",
      "121/121 [==============================] - 5s 41ms/step - loss: 5.4781e-07 - categorical_accuracy: 0.0000e+00 - val_loss: 4.9728e-07 - val_categorical_accuracy: 0.0000e+00\n",
      "Epoch 23/100\n",
      "121/121 [==============================] - 5s 41ms/step - loss: 4.6233e-07 - categorical_accuracy: 0.0000e+00 - val_loss: 3.9996e-07 - val_categorical_accuracy: 0.0000e+00\n",
      "Epoch 24/100\n",
      "121/121 [==============================] - 5s 40ms/step - loss: 3.7822e-07 - categorical_accuracy: 0.0000e+00 - val_loss: 3.6791e-07 - val_categorical_accuracy: 0.0000e+00\n",
      "Epoch 25/100\n",
      "121/121 [==============================] - 5s 40ms/step - loss: 4.2023e-07 - categorical_accuracy: 0.0000e+00 - val_loss: 4.4544e-07 - val_categorical_accuracy: 0.0000e+00\n",
      "Epoch 26/100\n",
      "121/121 [==============================] - 5s 39ms/step - loss: 4.3031e-07 - categorical_accuracy: 0.0000e+00 - val_loss: 4.4677e-07 - val_categorical_accuracy: 0.0000e+00\n",
      "Epoch 27/100\n",
      "121/121 [==============================] - 5s 40ms/step - loss: 4.3136e-07 - categorical_accuracy: 0.0000e+00 - val_loss: 4.4290e-07 - val_categorical_accuracy: 0.0000e+00\n",
      "Epoch 28/100\n",
      "121/121 [==============================] - 5s 39ms/step - loss: 3.5455e-07 - categorical_accuracy: 0.0000e+00 - val_loss: 3.4124e-07 - val_categorical_accuracy: 0.0000e+00\n",
      "Epoch 29/100\n",
      "121/121 [==============================] - 5s 39ms/step - loss: 3.1580e-07 - categorical_accuracy: 0.0000e+00 - val_loss: 2.8138e-07 - val_categorical_accuracy: 0.0000e+00\n",
      "Epoch 30/100\n",
      "121/121 [==============================] - 5s 39ms/step - loss: 2.8964e-07 - categorical_accuracy: 0.0000e+00 - val_loss: 2.7672e-07 - val_categorical_accuracy: 0.0000e+00\n",
      "Epoch 31/100\n",
      "121/121 [==============================] - 5s 39ms/step - loss: 3.1179e-07 - categorical_accuracy: 0.0000e+00 - val_loss: 3.1728e-07 - val_categorical_accuracy: 0.0000e+00\n",
      "Epoch 32/100\n",
      "121/121 [==============================] - 5s 39ms/step - loss: 3.2518e-07 - categorical_accuracy: 0.0000e+00 - val_loss: 2.9364e-07 - val_categorical_accuracy: 0.0000e+00\n",
      "Epoch 33/100\n",
      "121/121 [==============================] - 5s 40ms/step - loss: 2.7486e-07 - categorical_accuracy: 0.0000e+00 - val_loss: 2.4007e-07 - val_categorical_accuracy: 0.0000e+00\n",
      "Epoch 34/100\n",
      "121/121 [==============================] - 5s 39ms/step - loss: 2.3884e-07 - categorical_accuracy: 0.0000e+00 - val_loss: 2.3380e-07 - val_categorical_accuracy: 0.0000e+00\n",
      "Epoch 35/100\n",
      "121/121 [==============================] - 4s 37ms/step - loss: 2.1674e-07 - categorical_accuracy: 0.0000e+00 - val_loss: 2.3874e-07 - val_categorical_accuracy: 0.0000e+00\n",
      "Epoch 36/100\n",
      "121/121 [==============================] - 5s 38ms/step - loss: 2.2572e-07 - categorical_accuracy: 0.0000e+00 - val_loss: 2.4385e-07 - val_categorical_accuracy: 0.0000e+00\n",
      "Epoch 37/100\n",
      "121/121 [==============================] - ETA: 0s - loss: 2.4753e-07 - categorical_accuracy: 0.0000e+ - 5s 39ms/step - loss: 2.4748e-07 - categorical_accuracy: 0.0000e+00 - val_loss: 2.4077e-07 - val_categorical_accuracy: 0.0000e+00\n",
      "Epoch 38/100\n",
      "121/121 [==============================] - 5s 38ms/step - loss: 2.0608e-07 - categorical_accuracy: 0.0000e+00 - val_loss: 2.0324e-07 - val_categorical_accuracy: 0.0000e+00\n",
      "Epoch 39/100\n",
      "121/121 [==============================] - 4s 37ms/step - loss: 1.7497e-07 - categorical_accuracy: 0.0000e+00 - val_loss: 1.5694e-07 - val_categorical_accuracy: 0.0000e+00\n",
      "Epoch 40/100\n",
      "121/121 [==============================] - 5s 39ms/step - loss: 1.6243e-07 - categorical_accuracy: 0.0000e+00 - val_loss: 1.6072e-07 - val_categorical_accuracy: 0.0000e+00\n",
      "Epoch 41/100\n",
      "121/121 [==============================] - 5s 38ms/step - loss: 1.7813e-07 - categorical_accuracy: 0.0000e+00 - val_loss: 1.9501e-07 - val_categorical_accuracy: 0.0000e+00\n",
      "Epoch 42/100\n",
      "121/121 [==============================] - 5s 37ms/step - loss: 1.7362e-07 - categorical_accuracy: 0.0000e+00 - val_loss: 1.6588e-07 - val_categorical_accuracy: 0.0000e+00\n",
      "Epoch 43/100\n",
      "121/121 [==============================] - 5s 37ms/step - loss: 1.4909e-07 - categorical_accuracy: 0.0000e+00 - val_loss: 1.3097e-07 - val_categorical_accuracy: 0.0000e+00\n",
      "Epoch 44/100\n",
      "121/121 [==============================] - 5s 37ms/step - loss: 1.2423e-07 - categorical_accuracy: 0.0000e+00 - val_loss: 1.1331e-07 - val_categorical_accuracy: 0.0000e+00\n",
      "Epoch 45/100\n"
     ]
    },
    {
     "name": "stdout",
     "output_type": "stream",
     "text": [
      "121/121 [==============================] - 4s 36ms/step - loss: 1.2351e-07 - categorical_accuracy: 0.0000e+00 - val_loss: 1.3182e-07 - val_categorical_accuracy: 0.0000e+00\n",
      "Epoch 46/100\n",
      "121/121 [==============================] - 4s 36ms/step - loss: 1.3941e-07 - categorical_accuracy: 0.0000e+00 - val_loss: 1.2952e-07 - val_categorical_accuracy: 0.0000e+00\n",
      "Epoch 47/100\n",
      "121/121 [==============================] - 4s 36ms/step - loss: 1.1917e-07 - categorical_accuracy: 0.0000e+00 - val_loss: 1.1247e-07 - val_categorical_accuracy: 0.0000e+00\n",
      "Epoch 48/100\n",
      "121/121 [==============================] - 4s 37ms/step - loss: 1.0196e-07 - categorical_accuracy: 0.0000e+00 - val_loss: 9.1728e-08 - val_categorical_accuracy: 0.0000e+00\n",
      "Epoch 49/100\n",
      "121/121 [==============================] - 4s 37ms/step - loss: 9.2631e-08 - categorical_accuracy: 0.0000e+00 - val_loss: 1.0036e-07 - val_categorical_accuracy: 0.0000e+00\n",
      "Epoch 50/100\n",
      "121/121 [==============================] - 4s 36ms/step - loss: 9.9953e-08 - categorical_accuracy: 0.0000e+00 - val_loss: 9.9711e-08 - val_categorical_accuracy: 0.0000e+00\n",
      "Epoch 51/100\n",
      "121/121 [==============================] - 5s 38ms/step - loss: 9.1695e-08 - categorical_accuracy: 0.0000e+00 - val_loss: 8.5777e-08 - val_categorical_accuracy: 0.0000e+00\n",
      "Epoch 52/100\n",
      "121/121 [==============================] - 4s 36ms/step - loss: 8.1849e-08 - categorical_accuracy: 0.0000e+00 - val_loss: 6.9461e-08 - val_categorical_accuracy: 0.0000e+00\n",
      "Epoch 53/100\n",
      "121/121 [==============================] - 4s 36ms/step - loss: 6.9730e-08 - categorical_accuracy: 0.0000e+00 - val_loss: 6.6771e-08 - val_categorical_accuracy: 0.0000e+00\n",
      "Epoch 54/100\n",
      "121/121 [==============================] - 5s 38ms/step - loss: 7.4078e-08 - categorical_accuracy: 0.0000e+00 - val_loss: 7.2603e-08 - val_categorical_accuracy: 0.0000e+00\n",
      "Epoch 55/100\n",
      "121/121 [==============================] - 4s 36ms/step - loss: 7.0195e-08 - categorical_accuracy: 0.0000e+00 - val_loss: 6.4864e-08 - val_categorical_accuracy: 0.0000e+00\n",
      "Epoch 56/100\n",
      "121/121 [==============================] - 4s 35ms/step - loss: 6.2346e-08 - categorical_accuracy: 0.0000e+00 - val_loss: 5.9104e-08 - val_categorical_accuracy: 0.0000e+00\n",
      "Epoch 57/100\n",
      "121/121 [==============================] - 5s 37ms/step - loss: 5.3043e-08 - categorical_accuracy: 0.0000e+00 - val_loss: 5.2581e-08 - val_categorical_accuracy: 0.0000e+00\n",
      "Epoch 58/100\n",
      "121/121 [==============================] - 5s 38ms/step - loss: 5.3069e-08 - categorical_accuracy: 0.0000e+00 - val_loss: 5.4549e-08 - val_categorical_accuracy: 0.0000e+00\n",
      "Epoch 59/100\n",
      "121/121 [==============================] - 4s 36ms/step - loss: 4.9963e-08 - categorical_accuracy: 0.0000e+00 - val_loss: 4.9253e-08 - val_categorical_accuracy: 0.0000e+00\n",
      "Epoch 60/100\n",
      "121/121 [==============================] - 5s 37ms/step - loss: 4.5890e-08 - categorical_accuracy: 0.0000e+00 - val_loss: 4.3342e-08 - val_categorical_accuracy: 0.0000e+00\n",
      "Epoch 61/100\n",
      "121/121 [==============================] - 4s 36ms/step - loss: 4.0243e-08 - categorical_accuracy: 0.0000e+00 - val_loss: 3.5844e-08 - val_categorical_accuracy: 0.0000e+00\n",
      "Epoch 62/100\n",
      "121/121 [==============================] - 5s 39ms/step - loss: 3.6717e-08 - categorical_accuracy: 0.0000e+00 - val_loss: 3.7709e-08 - val_categorical_accuracy: 0.0000e+00\n",
      "Epoch 63/100\n",
      "121/121 [==============================] - 5s 39ms/step - loss: 3.6116e-08 - categorical_accuracy: 0.0000e+00 - val_loss: 3.3399e-08 - val_categorical_accuracy: 0.0000e+00\n",
      "Epoch 64/100\n",
      "121/121 [==============================] - 5s 38ms/step - loss: 3.2622e-08 - categorical_accuracy: 0.0000e+00 - val_loss: 3.1220e-08 - val_categorical_accuracy: 0.0000e+00\n",
      "Epoch 65/100\n",
      "121/121 [==============================] - 4s 36ms/step - loss: 2.9054e-08 - categorical_accuracy: 0.0000e+00 - val_loss: 2.7027e-08 - val_categorical_accuracy: 0.0000e+00\n",
      "Epoch 66/100\n",
      "121/121 [==============================] - 4s 35ms/step - loss: 2.5316e-08 - categorical_accuracy: 0.0000e+00 - val_loss: 2.3933e-08 - val_categorical_accuracy: 0.0000e+00\n",
      "Epoch 67/100\n",
      "121/121 [==============================] - 5s 37ms/step - loss: 2.4887e-08 - categorical_accuracy: 0.0000e+00 - val_loss: 2.3565e-08 - val_categorical_accuracy: 0.0000e+00\n",
      "Epoch 68/100\n",
      "121/121 [==============================] - 5s 38ms/step - loss: 2.1846e-08 - categorical_accuracy: 0.0000e+00 - val_loss: 2.0955e-08 - val_categorical_accuracy: 0.0000e+00\n",
      "Epoch 69/100\n",
      "121/121 [==============================] - 5s 38ms/step - loss: 2.0136e-08 - categorical_accuracy: 0.0000e+00 - val_loss: 1.9347e-08 - val_categorical_accuracy: 0.0000e+00\n",
      "Epoch 70/100\n",
      "121/121 [==============================] - 4s 37ms/step - loss: 1.7301e-08 - categorical_accuracy: 0.0000e+00 - val_loss: 1.6263e-08 - val_categorical_accuracy: 0.0000e+00\n",
      "Epoch 71/100\n",
      "121/121 [==============================] - 5s 37ms/step - loss: 1.5382e-08 - categorical_accuracy: 0.0000e+00 - val_loss: 1.4354e-08 - val_categorical_accuracy: 0.0000e+00\n",
      "Epoch 72/100\n",
      "121/121 [==============================] - 5s 38ms/step - loss: 1.4479e-08 - categorical_accuracy: 0.0000e+00 - val_loss: 1.3772e-08 - val_categorical_accuracy: 0.0000e+00\n",
      "Epoch 73/100\n",
      "121/121 [==============================] - 5s 38ms/step - loss: 1.2360e-08 - categorical_accuracy: 0.0000e+00 - val_loss: 1.1823e-08 - val_categorical_accuracy: 0.0000e+00\n",
      "Epoch 74/100\n",
      "121/121 [==============================] - 4s 36ms/step - loss: 1.1166e-08 - categorical_accuracy: 0.0000e+00 - val_loss: 1.0579e-08 - val_categorical_accuracy: 0.0000e+00\n",
      "Epoch 75/100\n",
      "121/121 [==============================] - 4s 36ms/step - loss: 9.6505e-09 - categorical_accuracy: 0.0000e+00 - val_loss: 8.3925e-09 - val_categorical_accuracy: 0.0000e+00\n",
      "Epoch 76/100\n",
      "121/121 [==============================] - 4s 36ms/step - loss: 8.0203e-09 - categorical_accuracy: 0.0000e+00 - val_loss: 7.7482e-09 - val_categorical_accuracy: 0.0000e+00\n",
      "Epoch 77/100\n",
      "121/121 [==============================] - 4s 36ms/step - loss: 7.0808e-09 - categorical_accuracy: 0.0000e+00 - val_loss: 6.4744e-09 - val_categorical_accuracy: 0.0000e+00\n",
      "Epoch 78/100\n",
      "121/121 [==============================] - 4s 36ms/step - loss: 6.2393e-09 - categorical_accuracy: 0.0000e+00 - val_loss: 5.8226e-09 - val_categorical_accuracy: 0.0000e+00\n",
      "Epoch 79/100\n",
      "121/121 [==============================] - 4s 35ms/step - loss: 5.0339e-09 - categorical_accuracy: 0.0000e+00 - val_loss: 4.4415e-09 - val_categorical_accuracy: 0.0000e+00\n",
      "Epoch 80/100\n",
      "121/121 [==============================] - 5s 38ms/step - loss: 4.1807e-09 - categorical_accuracy: 0.0000e+00 - val_loss: 3.8430e-09 - val_categorical_accuracy: 0.0000e+00\n",
      "Epoch 81/100\n",
      "121/121 [==============================] - 5s 38ms/step - loss: 3.4541e-09 - categorical_accuracy: 0.0000e+00 - val_loss: 3.0738e-09 - val_categorical_accuracy: 0.0000e+00\n",
      "Epoch 82/100\n",
      "121/121 [==============================] - 4s 36ms/step - loss: 2.6698e-09 - categorical_accuracy: 0.0000e+00 - val_loss: 2.2357e-09 - val_categorical_accuracy: 0.0000e+00\n",
      "Epoch 83/100\n",
      "121/121 [==============================] - 5s 38ms/step - loss: 1.9115e-09 - categorical_accuracy: 0.0000e+00 - val_loss: 1.6746e-09 - val_categorical_accuracy: 0.0000e+00\n",
      "Epoch 84/100\n",
      "121/121 [==============================] - 5s 37ms/step - loss: 1.4822e-09 - categorical_accuracy: 0.0000e+00 - val_loss: 1.2672e-09 - val_categorical_accuracy: 0.0000e+00\n",
      "Epoch 85/100\n",
      "121/121 [==============================] - 5s 37ms/step - loss: 1.0539e-09 - categorical_accuracy: 0.0000e+00 - val_loss: 8.3859e-10 - val_categorical_accuracy: 0.0000e+00\n",
      "Epoch 86/100\n",
      "121/121 [==============================] - 5s 38ms/step - loss: 6.4375e-10 - categorical_accuracy: 0.0000e+00 - val_loss: 4.7631e-10 - val_categorical_accuracy: 0.0000e+00\n",
      "Epoch 87/100\n",
      "121/121 [==============================] - 4s 36ms/step - loss: 3.5914e-10 - categorical_accuracy: 0.0000e+00 - val_loss: 2.5167e-10 - val_categorical_accuracy: 0.0000e+00\n",
      "Epoch 88/100\n",
      "121/121 [==============================] - 4s 35ms/step - loss: 1.8159e-10 - categorical_accuracy: 0.0000e+00 - val_loss: 1.2633e-10 - val_categorical_accuracy: 0.0000e+00\n",
      "Epoch 89/100\n"
     ]
    },
    {
     "name": "stdout",
     "output_type": "stream",
     "text": [
      "121/121 [==============================] - 4s 36ms/step - loss: 8.3879e-11 - categorical_accuracy: 0.0000e+00 - val_loss: 4.9458e-11 - val_categorical_accuracy: 0.0000e+00\n",
      "Epoch 90/100\n",
      "121/121 [==============================] - 4s 35ms/step - loss: 3.7092e-11 - categorical_accuracy: 0.0000e+00 - val_loss: 2.5078e-11 - val_categorical_accuracy: 0.0000e+00\n",
      "Epoch 91/100\n",
      "121/121 [==============================] - 4s 36ms/step - loss: 1.6994e-11 - categorical_accuracy: 0.0000e+00 - val_loss: 1.7243e-11 - val_categorical_accuracy: 0.0000e+00\n",
      "Epoch 92/100\n",
      "121/121 [==============================] - 4s 35ms/step - loss: 1.5359e-11 - categorical_accuracy: 0.0000e+00 - val_loss: 1.0709e-11 - val_categorical_accuracy: 0.0000e+00\n",
      "Epoch 93/100\n",
      "121/121 [==============================] - 4s 34ms/step - loss: 1.3592e-11 - categorical_accuracy: 0.0000e+00 - val_loss: 1.5621e-11 - val_categorical_accuracy: 0.0000e+00\n",
      "Epoch 94/100\n",
      "121/121 [==============================] - 4s 36ms/step - loss: 1.2341e-11 - categorical_accuracy: 0.0000e+00 - val_loss: 1.2496e-11 - val_categorical_accuracy: 0.0000e+00\n",
      "Epoch 95/100\n",
      "121/121 [==============================] - 4s 37ms/step - loss: 1.4235e-11 - categorical_accuracy: 0.0000e+00 - val_loss: 1.1881e-11 - val_categorical_accuracy: 0.0000e+00\n",
      "Epoch 96/100\n",
      "121/121 [==============================] - 4s 37ms/step - loss: 1.1980e-11 - categorical_accuracy: 0.0000e+00 - val_loss: 1.4556e-11 - val_categorical_accuracy: 0.0000e+00\n",
      "Epoch 97/100\n",
      "121/121 [==============================] - 4s 36ms/step - loss: 1.2377e-11 - categorical_accuracy: 0.0000e+00 - val_loss: 1.0294e-11 - val_categorical_accuracy: 0.0000e+00\n",
      "Epoch 98/100\n",
      "121/121 [==============================] - 4s 35ms/step - loss: 1.2894e-11 - categorical_accuracy: 0.0000e+00 - val_loss: 1.2874e-11 - val_categorical_accuracy: 0.0000e+00\n",
      "Epoch 99/100\n",
      "121/121 [==============================] - 4s 35ms/step - loss: 1.1106e-11 - categorical_accuracy: 0.0000e+00 - val_loss: 1.2873e-11 - val_categorical_accuracy: 0.0000e+00\n",
      "Epoch 100/100\n",
      "121/121 [==============================] - 4s 37ms/step - loss: 1.2307e-11 - categorical_accuracy: 0.0000e+00 - val_loss: 9.8943e-12 - val_categorical_accuracy: 0.0000e+00\n"
     ]
    },
    {
     "data": {
      "text/plain": [
       "<tensorflow.python.keras.callbacks.History at 0x1da12307c10>"
      ]
     },
     "execution_count": 21,
     "metadata": {},
     "output_type": "execute_result"
    }
   ],
   "source": [
    "model.fit(\n",
    "    train_ds.shuffle(200).batch(200),\n",
    "    epochs=100,\n",
    "    use_multiprocessing=True,\n",
    "    validation_data=(test_ds.batch(200)),\n",
    "    verbose=1,\n",
    "    )"
   ]
  },
  {
   "cell_type": "code",
   "execution_count": 27,
   "metadata": {},
   "outputs": [
    {
     "data": {
      "text/plain": [
       "dict_keys(['loss', 'categorical_accuracy', 'val_loss', 'val_categorical_accuracy'])"
      ]
     },
     "execution_count": 27,
     "metadata": {},
     "output_type": "execute_result"
    }
   ],
   "source": [
    "#history is history object and model is trained cnn model\n",
    "model.history.history.keys()"
   ]
  },
  {
   "cell_type": "code",
   "execution_count": 37,
   "metadata": {},
   "outputs": [
    {
     "data": {
      "text/plain": [
       "dict_keys(['loss', 'categorical_accuracy', 'val_loss', 'val_categorical_accuracy'])"
      ]
     },
     "execution_count": 37,
     "metadata": {},
     "output_type": "execute_result"
    }
   ],
   "source": [
    "history.history.keys()"
   ]
  },
  {
   "cell_type": "markdown",
   "metadata": {},
   "source": [
    "**Re-create the plots below from history and explain the curves.**"
   ]
  },
  {
   "cell_type": "code",
   "execution_count": 22,
   "metadata": {},
   "outputs": [
    {
     "data": {
      "image/png": "[encoded data removed]",
      "text/plain": [
       "<Figure size 1296x432 with 1 Axes>"
      ]
     },
     "metadata": {
      "image/png": {
       "height": 386,
       "width": 1061
      },
      "needs_background": "light"
     },
     "output_type": "display_data"
    }
   ],
   "source": [
    "#code here please\n",
    "plt.figure(figsize=(18,6))\n",
    "plt.plot(model.history.history['loss'], label=' training data')\n",
    "plt.plot(model.history.history['val_loss'], label='validation data)')\n",
    "plt.title('Loss for Text Classification')\n",
    "plt.ylabel('Loss value')\n",
    "plt.xlabel('No. epoch')\n",
    "plt.legend(loc=\"upper left\");"
   ]
  },
  {
   "cell_type": "code",
   "execution_count": 39,
   "metadata": {
    "scrolled": false
   },
   "outputs": [
    {
     "data": {
      "image/png": "[encoded data removed]",
      "text/plain": [
       "<Figure size 1296x432 with 1 Axes>"
      ]
     },
     "metadata": {
      "image/png": {
       "height": 386,
       "width": 1055
      },
      "needs_background": "light"
     },
     "output_type": "display_data"
    }
   ],
   "source": [
    "plt.figure(figsize=(18,6))\n",
    "plt.plot(history.history['loss'], label=' training data')\n",
    "plt.plot(history.history['val_loss'], label='validation data)')\n",
    "plt.title('Loss for Text Classification')\n",
    "plt.ylabel('Loss value')\n",
    "plt.xlabel('No. epoch')\n",
    "plt.legend(loc=\"upper left\");"
   ]
  },
  {
   "cell_type": "code",
   "execution_count": 29,
   "metadata": {},
   "outputs": [
    {
     "data": {
      "image/png": "[encoded data removed]",
      "text/plain": [
       "<Figure size 1296x432 with 1 Axes>"
      ]
     },
     "metadata": {
      "image/png": {
       "height": 386,
       "width": 1045
      },
      "needs_background": "light"
     },
     "output_type": "display_data"
    }
   ],
   "source": [
    "#code here please\n",
    "plt.figure(figsize=(18,6))\n",
    "plt.plot(model.history.history['loss'], label=' training data')\n",
    "plt.plot(model.history.history['categorical_accuracy'], label='CategoricalCrossentropy)')\n",
    "plt.title('Loss for Text Classification')\n",
    "plt.ylabel('Categorical Accuracy Value')\n",
    "plt.xlabel('No. epoch')\n",
    "plt.legend(loc=\"upper left\");"
   ]
  },
  {
   "cell_type": "code",
   "execution_count": 41,
   "metadata": {},
   "outputs": [
    {
     "data": {
      "image/png": "[encoded data removed]",
      "text/plain": [
       "<Figure size 1296x432 with 1 Axes>"
      ]
     },
     "metadata": {
      "image/png": {
       "height": 386,
       "width": 1055
      },
      "needs_background": "light"
     },
     "output_type": "display_data"
    }
   ],
   "source": []
  },
  {
   "cell_type": "markdown",
   "metadata": {},
   "source": [
    "**Save your trained model and the tokenizer** \n",
    "\n",
    "*use model.save module and convert tokenizer into json before saving -- import jason!*"
   ]
  },
  {
   "cell_type": "code",
   "execution_count": 44,
   "metadata": {},
   "outputs": [
    {
     "name": "stdout",
     "output_type": "stream",
     "text": [
      "INFO:tensorflow:Assets written to: tensorModel\\assets\n"
     ]
    }
   ],
   "source": [
    "#code here please\n",
    "model.save('tensorModel')\n",
    "import pickle\n",
    "token = tokenizer.to_json()\n",
    "with open('tokenizer.pickle','wb') as handle:\n",
    "    pickle.dump(token,handle)"
   ]
  },
  {
   "cell_type": "code",
   "execution_count": 43,
   "metadata": {},
   "outputs": [
    {
     "name": "stdout",
     "output_type": "stream",
     "text": [
      "saving model....\n",
      "INFO:tensorflow:Assets written to: ./saved_models_tweet_sentiment/tf_cnn_model/assets\n",
      "model saved at './saved_models_tweet_sentiment/tf_cnn_model'\n",
      "converting tokenizer to json....\n",
      "saviing tokenizer.....\n",
      "tokenizer saved at './saved_models_tweet_sentiment/tokenizer.json'\n",
      "\n",
      "saved model and tokenizer is ready for future use....\n"
     ]
    }
   ],
   "source": []
  },
  {
   "cell_type": "markdown",
   "metadata": {},
   "source": [
    "`==>`learning trick: open the saved tokenizer.json and look for some word, what do you see for unknown?"
   ]
  },
  {
   "cell_type": "markdown",
   "metadata": {},
   "source": [
    "------------\n",
    "------------\n",
    "------------\n",
    "## Here the test data comes in -- your 2nd file"
   ]
  },
  {
   "cell_type": "code",
   "execution_count": 24,
   "metadata": {},
   "outputs": [],
   "source": [
    "test_url=\"\"\"https://raw.githubusercontent.com/junaidqazi/\\\n",
    "DataSets_Practice_ScienceAcademy/master/Tweets_Sentiment_Analysis/test.csv\"\"\"\n",
    "df2 = pd.read_csv(test_url)"
   ]
  },
  {
   "cell_type": "code",
   "execution_count": 49,
   "metadata": {},
   "outputs": [
    {
     "data": {
      "text/html": [
       "<div>\n",
       "<style scoped>\n",
       "    .dataframe tbody tr th:only-of-type {\n",
       "        vertical-align: middle;\n",
       "    }\n",
       "\n",
       "    .dataframe tbody tr th {\n",
       "        vertical-align: top;\n",
       "    }\n",
       "\n",
       "    .dataframe thead th {\n",
       "        text-align: right;\n",
       "    }\n",
       "</style>\n",
       "<table border=\"1\" class=\"dataframe\">\n",
       "  <thead>\n",
       "    <tr style=\"text-align: right;\">\n",
       "      <th></th>\n",
       "      <th>textID</th>\n",
       "      <th>text</th>\n",
       "      <th>sentiment</th>\n",
       "    </tr>\n",
       "  </thead>\n",
       "  <tbody>\n",
       "    <tr>\n",
       "      <th>0</th>\n",
       "      <td>f87dea47db</td>\n",
       "      <td>Last session of the day  http://twitpic.com/67ezh</td>\n",
       "      <td>neutral</td>\n",
       "    </tr>\n",
       "    <tr>\n",
       "      <th>1</th>\n",
       "      <td>96d74cb729</td>\n",
       "      <td>Shanghai is also really exciting (precisely -...</td>\n",
       "      <td>positive</td>\n",
       "    </tr>\n",
       "    <tr>\n",
       "      <th>2</th>\n",
       "      <td>eee518ae67</td>\n",
       "      <td>Recession hit Veronique Branquinho, she has to...</td>\n",
       "      <td>negative</td>\n",
       "    </tr>\n",
       "    <tr>\n",
       "      <th>3</th>\n",
       "      <td>01082688c6</td>\n",
       "      <td>happy bday!</td>\n",
       "      <td>positive</td>\n",
       "    </tr>\n",
       "    <tr>\n",
       "      <th>4</th>\n",
       "      <td>33987a8ee5</td>\n",
       "      <td>http://twitpic.com/4w75p - I like it!!</td>\n",
       "      <td>positive</td>\n",
       "    </tr>\n",
       "  </tbody>\n",
       "</table>\n",
       "</div>"
      ],
      "text/plain": [
       "       textID                                               text sentiment\n",
       "0  f87dea47db  Last session of the day  http://twitpic.com/67ezh   neutral\n",
       "1  96d74cb729   Shanghai is also really exciting (precisely -...  positive\n",
       "2  eee518ae67  Recession hit Veronique Branquinho, she has to...  negative\n",
       "3  01082688c6                                        happy bday!  positive\n",
       "4  33987a8ee5             http://twitpic.com/4w75p - I like it!!  positive"
      ]
     },
     "execution_count": 49,
     "metadata": {},
     "output_type": "execute_result"
    }
   ],
   "source": [
    "df2.head()"
   ]
  },
  {
   "cell_type": "markdown",
   "metadata": {},
   "source": [
    "**Repeat all the above steps that you have performed on the above dataset.**"
   ]
  },
  {
   "cell_type": "code",
   "execution_count": 25,
   "metadata": {},
   "outputs": [
    {
     "name": "stdout",
     "output_type": "stream",
     "text": [
      "Num of tweets in test data: 3534\n",
      "Droping NaN values: \n"
     ]
    },
    {
     "data": {
      "text/plain": [
       "textID       0\n",
       "text         0\n",
       "sentiment    0\n",
       "dtype: int64"
      ]
     },
     "metadata": {},
     "output_type": "display_data"
    },
    {
     "name": "stdout",
     "output_type": "stream",
     "text": [
      "Min Tweet length: 1\n",
      "Max Tweet length: 32\n",
      "Number of tweets having more than 2 words: True    3434\n",
      "Name: Greater_two, dtype: int64\n",
      "Class Count\n"
     ]
    },
    {
     "data": {
      "text/plain": [
       "neutral     1376\n",
       "positive    1075\n",
       "negative     983\n",
       "Name: sentiment, dtype: int64"
      ]
     },
     "metadata": {},
     "output_type": "display_data"
    },
    {
     "name": "stdout",
     "output_type": "stream",
     "text": [
      "training data -- removing emoji....\n",
      "training data -- removing urls....\n",
      "training data -- cleaning text....\n"
     ]
    },
    {
     "data": {
      "text/html": [
       "<div>\n",
       "<style scoped>\n",
       "    .dataframe tbody tr th:only-of-type {\n",
       "        vertical-align: middle;\n",
       "    }\n",
       "\n",
       "    .dataframe tbody tr th {\n",
       "        vertical-align: top;\n",
       "    }\n",
       "\n",
       "    .dataframe thead th {\n",
       "        text-align: right;\n",
       "    }\n",
       "</style>\n",
       "<table border=\"1\" class=\"dataframe\">\n",
       "  <thead>\n",
       "    <tr style=\"text-align: right;\">\n",
       "      <th></th>\n",
       "      <th>textID</th>\n",
       "      <th>text</th>\n",
       "      <th>sentiment</th>\n",
       "      <th>tweetLength</th>\n",
       "      <th>Greater_two</th>\n",
       "    </tr>\n",
       "  </thead>\n",
       "  <tbody>\n",
       "    <tr>\n",
       "      <th>0</th>\n",
       "      <td>f87dea47db</td>\n",
       "      <td>last session the day</td>\n",
       "      <td>neutral</td>\n",
       "      <td>6</td>\n",
       "      <td>True</td>\n",
       "    </tr>\n",
       "  </tbody>\n",
       "</table>\n",
       "</div>"
      ],
      "text/plain": [
       "       textID                  text sentiment  tweetLength Greater_two\n",
       "0  f87dea47db  last session the day   neutral            6        True"
      ]
     },
     "execution_count": 25,
     "metadata": {},
     "output_type": "execute_result"
    }
   ],
   "source": [
    "# code here please \n",
    "\n",
    "# Number of tweets in test data\n",
    "print(f'Num of tweets in test data: {len(df2)}')\n",
    "# Any NaN values?\n",
    "print(f'Droping NaN values: ')\n",
    "display(df2.isnull().sum().sort_values(ascending=False))\n",
    "# Checking Min and Max Tweets\n",
    "df2['tweetLength'] = df2['text'].str.split().str.len()\n",
    "min = df2['tweetLength'].min()\n",
    "max = df2['tweetLength'].max()\n",
    "print(f'Min Tweet length: {min}')\n",
    "print(f'Max Tweet length: {max}')\n",
    "# removing all that are less than two words\n",
    "df2['Greater_two'] = df2['tweetLength'] > 2\n",
    "df2['Greater_two'] = df2['Greater_two'].replace(False, np.NAN)\n",
    "df2.dropna(inplace=True)\n",
    "output = df2['Greater_two'].value_counts()\n",
    "print(f'Number of tweets having more than 2 words: {output}')\n",
    "# Print num of tweets greater than 2\n",
    "print(f'Class Count')\n",
    "display(df2['sentiment'].value_counts())\n",
    "\n",
    "# Run Functions\n",
    "df2['text'] = df2['text'].apply(remove_emoji)\n",
    "print(f'training data -- removing emoji....')\n",
    "df2['text'] = df2['text'].apply(remove_url)\n",
    "print(f'training data -- removing urls....')\n",
    "df2['text'] = df2['text'].apply(clean_text)\n",
    "print(f'training data -- cleaning text....')\n",
    "df2.head(1)"
   ]
  },
  {
   "cell_type": "code",
   "execution_count": 46,
   "metadata": {
    "scrolled": true
   },
   "outputs": [
    {
     "name": "stdout",
     "output_type": "stream",
     "text": [
      "working with test data...\n",
      "\n",
      "number of tweets in test data: 3534\n",
      "dropping the possible rows with null value....\n",
      "no missing data found, nothing to drop...\n",
      "min tweet lenght:  1\n",
      "max tweet lenght:  32\n",
      "removing all the tweets with less than two word count....\n",
      "number of tweets having more than 2 words:  3434\n",
      "class count:\n",
      "neutral     1376\n",
      "positive    1075\n",
      "negative     983\n",
      "Name: sentiment, dtype: int64\n",
      "test data -- removing emoji....\n",
      "test data -- removing urls....\n",
      "test data -- cleaning text....\n",
      "test data -- Done!\n"
     ]
    }
   ],
   "source": []
  },
  {
   "cell_type": "markdown",
   "metadata": {},
   "source": [
    "**separate data to features and labels and then transform labels into appropriate format.** "
   ]
  },
  {
   "cell_type": "code",
   "execution_count": 47,
   "metadata": {},
   "outputs": [],
   "source": [
    "#code here please\n",
    "X_train"
   ]
  },
  {
   "cell_type": "code",
   "execution_count": 48,
   "metadata": {
    "scrolled": false
   },
   "outputs": [
    {
     "name": "stdout",
     "output_type": "stream",
     "text": [
      "categorical numeric labels: [1 2 0 2 2]\n",
      "binary coded:\n",
      "[[0. 1. 0.]\n",
      " [0. 0. 1.]\n",
      " [1. 0. 0.]\n",
      " [0. 0. 1.]\n",
      " [0. 0. 1.]]\n"
     ]
    }
   ],
   "source": []
  },
  {
   "cell_type": "markdown",
   "metadata": {},
   "source": [
    "**load tokenizer and get the sequences and pad them with to maxlen=36, same as above**"
   ]
  },
  {
   "cell_type": "code",
   "execution_count": 49,
   "metadata": {},
   "outputs": [],
   "source": [
    "#code here please"
   ]
  },
  {
   "cell_type": "code",
   "execution_count": 50,
   "metadata": {},
   "outputs": [
    {
     "name": "stdout",
     "output_type": "stream",
     "text": [
      "loading saved tokenizer....\n",
      "saved tokenizer is loaded....\n",
      "getting sequences for the test data and adding padding accordingly....\n",
      "All done, data is ready for predictions.....\n"
     ]
    }
   ],
   "source": []
  },
  {
   "cell_type": "markdown",
   "metadata": {},
   "source": [
    "**Load the saved model and get predictions for the test data**"
   ]
  },
  {
   "cell_type": "code",
   "execution_count": 51,
   "metadata": {},
   "outputs": [],
   "source": [
    "#code here please"
   ]
  },
  {
   "cell_type": "code",
   "execution_count": 52,
   "metadata": {
    "scrolled": false
   },
   "outputs": [
    {
     "name": "stdout",
     "output_type": "stream",
     "text": [
      "Model: \"sequential\"\n",
      "_________________________________________________________________\n",
      "Layer (type)                 Output Shape              Param #   \n",
      "=================================================================\n",
      "embedding (Embedding)        (None, 36, 100)           2000100   \n",
      "_________________________________________________________________\n",
      "conv1d (Conv1D)              (None, 34, 128)           38528     \n",
      "_________________________________________________________________\n",
      "global_max_pooling1d (Global (None, 128)               0         \n",
      "_________________________________________________________________\n",
      "dropout (Dropout)            (None, 128)               0         \n",
      "_________________________________________________________________\n",
      "dense (Dense)                (None, 3)                 387       \n",
      "=================================================================\n",
      "Total params: 2,039,015\n",
      "Trainable params: 2,039,015\n",
      "Non-trainable params: 0\n",
      "_________________________________________________________________\n"
     ]
    }
   ],
   "source": []
  },
  {
   "cell_type": "markdown",
   "metadata": {},
   "source": [
    "**Generate predictions (probabilities -- the output of the last layer) on test  data using `predict`**"
   ]
  },
  {
   "cell_type": "code",
   "execution_count": 53,
   "metadata": {},
   "outputs": [],
   "source": [
    "#code here please"
   ]
  },
  {
   "cell_type": "code",
   "execution_count": 54,
   "metadata": {},
   "outputs": [
    {
     "name": "stdout",
     "output_type": "stream",
     "text": [
      "Generate predictions for all samples\n",
      "first 5 prediction are:\n",
      "[[0.1491861  0.718873   0.6773205 ]\n",
      " [0.07649285 0.5513598  0.90449154]\n",
      " [0.9775305  0.8275697  0.00450569]\n",
      " [0.4055374  0.653259   0.42463613]\n",
      " [0.00399935 0.4435264  0.99665725]]\n",
      "first 5 predicted results are: [1 2 0 1 2]\n"
     ]
    }
   ],
   "source": []
  },
  {
   "cell_type": "markdown",
   "metadata": {},
   "source": [
    "**Can you think about creating classification report and confusion matrix for the predictions?**"
   ]
  },
  {
   "cell_type": "code",
   "execution_count": 55,
   "metadata": {},
   "outputs": [],
   "source": [
    "#code here please"
   ]
  },
  {
   "cell_type": "code",
   "execution_count": 56,
   "metadata": {},
   "outputs": [],
   "source": []
  },
  {
   "cell_type": "code",
   "execution_count": 57,
   "metadata": {},
   "outputs": [
    {
     "name": "stdout",
     "output_type": "stream",
     "text": [
      "              precision    recall  f1-score   support\n",
      "\n",
      "    positive       0.77      0.71      0.74      1075\n",
      "    negative       0.67      0.67      0.67       983\n",
      "     neutral       0.63      0.67      0.65      1376\n",
      "\n",
      "    accuracy                           0.68      3434\n",
      "   macro avg       0.69      0.68      0.68      3434\n",
      "weighted avg       0.68      0.68      0.68      3434\n",
      "\n"
     ]
    }
   ],
   "source": []
  },
  {
   "cell_type": "code",
   "execution_count": 58,
   "metadata": {},
   "outputs": [],
   "source": [
    "#code here please"
   ]
  },
  {
   "cell_type": "code",
   "execution_count": 59,
   "metadata": {},
   "outputs": [
    {
     "data": {
      "text/plain": [
       "array([[763,  58, 254],\n",
       "       [ 36, 659, 288],\n",
       "       [187, 273, 916]])"
      ]
     },
     "execution_count": 59,
     "metadata": {},
     "output_type": "execute_result"
    }
   ],
   "source": []
  },
  {
   "cell_type": "markdown",
   "metadata": {},
   "source": [
    "## To Do:\n",
    "\n",
    "* Think about improving the model, what can be done?\n",
    "* Build LSTM network and compare the performance."
   ]
  },
  {
   "cell_type": "markdown",
   "metadata": {},
   "source": [
    "*Note: see the extension of your saved model in the folder, where you have saved the model. The`.pb` extension stands for protobuf ([protocol buffers](https://developers.google.com/protocol-buffers/)). Protocol buffers are a language-neutral, platform-neutral extensible mechanism for serializing structured data. In TensorFlow, the `.pb` is all you need to be able to run a given trained model.* "
   ]
  },
  {
   "cell_type": "markdown",
   "metadata": {},
   "source": [
    "## License{-}\n",
    "\n",
    "Author: [___Dr. Junaid Qazi___](https://www.linkedin.com/in/jqazi/)\n",
    "\n",
    "Twitter: [***@JunaidSQazi***](https://twitter.com/JunaidSQazi)\n",
    "\n",
    "Copyright 2021\n",
    "\n",
    "Licensed under the [Apache License, Version 2.0](http://www.apache.org/licenses/LICENSE-2.0) (the \"License\").<br>you may not use this file except in compliance with the License.\n",
    "You may obtain a copy of the License at http://www.apache.org/licenses/LICENSE-2.0\n",
    "\n",
    "*Unless required by applicable law or agreed to in writing, software distributed under the License is distributed on an \"AS IS\" BASIS, WITHOUT WARRANTIES OR CONDITIONS OF ANY KIND, either express or implied. Please see the License for the specific language governing permissions and limitations under the License.*\n",
    "\n",
    "\n",
    "*This is not an official product but sample code provided for an educational purpose.*\n",
    "\n",
    "***Acknowledgement is requested***"
   ]
  },
  {
   "cell_type": "markdown",
   "metadata": {},
   "source": [
    "\\pagebreak"
   ]
  }
 ],
 "metadata": {
  "kernelspec": {
   "display_name": "Python 3",
   "language": "python",
   "name": "python3"
  },
  "language_info": {
   "codemirror_mode": {
    "name": "ipython",
    "version": 3
   },
   "file_extension": ".py",
   "mimetype": "text/x-python",
   "name": "python",
   "nbconvert_exporter": "python",
   "pygments_lexer": "ipython3",
   "version": "3.8.8"
  }
 },
 "nbformat": 4,
 "nbformat_minor": 4
}
