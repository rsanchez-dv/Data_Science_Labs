{
 "cells": [
  {
   "cell_type": "markdown",
   "metadata": {},
   "source": [
    "<a href='https://www.moh.gov.sa/en/Pages/Default.aspx'> <img style=\"float: left;height:70px\" src=\"http://scienceacademy.ca/wp-content/uploads/2018/12/Logo_SA.png\"></a>"
   ]
  },
  {
   "cell_type": "markdown",
   "metadata": {},
   "source": [
    "Instructor and author: [_Dr. Junaid Qazi_](https://www.linkedin.com/in/jqazi/)"
   ]
  },
  {
   "cell_type": "markdown",
   "metadata": {},
   "source": [
    "Hello guys, \n",
    "\n",
    "Having twitter account is a common practice in this era of social media, and many individuals express their feeling via their twitter accounts. This might be a good idea to see how Neural Networks can help us to extract or classify tweets for certain sentiment. \n",
    "\n",
    "`==>` *Tweets data is available at [kaggle](https://www.kaggle.com/c/tweet-sentiment-extraction/overview) and there is a prize money for the winners!*\n",
    "\n",
    "At this stage, we all know that that [TensorFlow](https://www.tensorflow.org/) is a wonderful end-to-end open source platform for machine learning. Let's use this amazing platform to train a simple Convolutional Neural Network -- CNN and see if we can classify tweets into \"`positive`\",\"`negative`\" and \"`neutral`\" sentiment! \n",
    "\n",
    ">Please note, I expect all of you to print message to update the status and progress of the process in this exercise. You can see several messages in the output to lead the user.....!"
   ]
  },
  {
   "cell_type": "code",
   "execution_count": 177,
   "metadata": {},
   "outputs": [],
   "source": [
    "# Starting with the required imports\n",
    "import pandas as pd\n",
    "import numpy as np\n",
    "import matplotlib.pyplot as plt\n",
    "%matplotlib inline\n",
    "from collections import Counter\n",
    "\n",
    "# sklearn imports\n",
    "from sklearn.preprocessing import LabelEncoder, LabelBinarizer\n",
    "from sklearn.model_selection import train_test_split\n",
    "from sklearn.metrics import classification_report,confusion_matrix\n",
    "\n",
    "# some tensorflow imports\n",
    "from tensorflow.keras.preprocessing.text import Tokenizer\n",
    "from tensorflow.keras.preprocessing.sequence import pad_sequences\n",
    "from tensorflow.keras import Sequential,regularizers,losses\n",
    "from tensorflow.keras.layers import Embedding,Conv1D,GlobalMaxPooling1D,Dropout,Dense\n",
    "\n",
    "#Setting display format to retina in matplotlib to see better quality images.\n",
    "from IPython.display import set_matplotlib_formats\n",
    "set_matplotlib_formats('retina')\n",
    "\n",
    "# just to ignore warnings\n",
    "import warnings; warnings.filterwarnings('ignore')"
   ]
  },
  {
   "cell_type": "markdown",
   "metadata": {},
   "source": [
    "In the cell below, I am importing some custom functions that I have placed in a directory name `custom_funcs` inside the current working directory. *Recall your python lecture on functions, where we learned to do this!*"
   ]
  },
  {
   "cell_type": "code",
   "execution_count": 34,
   "metadata": {},
   "outputs": [],
   "source": [
    "# importing custom function from working directory\n",
    "from custom_funcs.remove_emoji import remove_emoji \n",
    "from custom_funcs.remove_urls import remove_url\n",
    "from custom_funcs.clean_tweet_text import clean_text"
   ]
  },
  {
   "cell_type": "code",
   "execution_count": 35,
   "metadata": {},
   "outputs": [
    {
     "name": "stdout",
     "output_type": "stream",
     "text": [
      "the current tensorflow version in use is:  2.5.0\n"
     ]
    }
   ],
   "source": [
    "# Just making sure we are working with TF-2\n",
    "import tensorflow as tf\n",
    "print(\"the current tensorflow version in use is: \",tf.__version__)"
   ]
  },
  {
   "cell_type": "markdown",
   "metadata": {},
   "source": [
    "**reading the data from git.** *(you can download the file for off-line usage.)* "
   ]
  },
  {
   "cell_type": "code",
   "execution_count": 144,
   "metadata": {},
   "outputs": [],
   "source": [
    "train_url=\"\"\"https://raw.githubusercontent.com/junaidqazi/\\\n",
    "DataSets_Practice_ScienceAcademy/master/Tweets_Sentiment_Analysis/train.csv\"\"\"\n",
    "df= pd.read_csv(train_url)"
   ]
  },
  {
   "cell_type": "markdown",
   "metadata": {},
   "source": [
    "**the data overview using `.info()`.** "
   ]
  },
  {
   "cell_type": "code",
   "execution_count": 145,
   "metadata": {},
   "outputs": [
    {
     "name": "stdout",
     "output_type": "stream",
     "text": [
      "<class 'pandas.core.frame.DataFrame'>\n",
      "RangeIndex: 27481 entries, 0 to 27480\n",
      "Data columns (total 4 columns):\n",
      " #   Column         Non-Null Count  Dtype \n",
      "---  ------         --------------  ----- \n",
      " 0   textID         27481 non-null  object\n",
      " 1   text           27480 non-null  object\n",
      " 2   selected_text  27480 non-null  object\n",
      " 3   sentiment      27481 non-null  object\n",
      "dtypes: object(4)\n",
      "memory usage: 858.9+ KB\n"
     ]
    }
   ],
   "source": [
    "df.info()"
   ]
  },
  {
   "cell_type": "markdown",
   "metadata": {},
   "source": [
    "**looks like there is some missing data (only one tweet), let's drop it!**\n",
    "\n",
    "*by the way, what would be your strategy if a small fraction is missing?*"
   ]
  },
  {
   "cell_type": "code",
   "execution_count": 146,
   "metadata": {
    "scrolled": true
   },
   "outputs": [
    {
     "data": {
      "text/plain": [
       "text             1\n",
       "selected_text    1\n",
       "textID           0\n",
       "sentiment        0\n",
       "dtype: int64"
      ]
     },
     "execution_count": 146,
     "metadata": {},
     "output_type": "execute_result"
    }
   ],
   "source": [
    "#code here please\n",
    "df.isnull().sum().sort_values(ascending=False)"
   ]
  },
  {
   "cell_type": "code",
   "execution_count": 147,
   "metadata": {},
   "outputs": [
    {
     "name": "stdout",
     "output_type": "stream",
     "text": [
      "<class 'pandas.core.frame.DataFrame'>\n",
      "Int64Index: 27480 entries, 0 to 27480\n",
      "Data columns (total 4 columns):\n",
      " #   Column         Non-Null Count  Dtype \n",
      "---  ------         --------------  ----- \n",
      " 0   textID         27480 non-null  object\n",
      " 1   text           27480 non-null  object\n",
      " 2   selected_text  27480 non-null  object\n",
      " 3   sentiment      27480 non-null  object\n",
      "dtypes: object(4)\n",
      "memory usage: 1.0+ MB\n"
     ]
    }
   ],
   "source": [
    "df.dropna(inplace=True)\n",
    "df.info()"
   ]
  },
  {
   "cell_type": "code",
   "execution_count": 7,
   "metadata": {},
   "outputs": [
    {
     "name": "stdout",
     "output_type": "stream",
     "text": [
      "<class 'pandas.core.frame.DataFrame'>\n",
      "Int64Index: 27480 entries, 0 to 27480\n",
      "Data columns (total 4 columns):\n",
      " #   Column         Non-Null Count  Dtype \n",
      "---  ------         --------------  ----- \n",
      " 0   textID         27480 non-null  object\n",
      " 1   text           27480 non-null  object\n",
      " 2   selected_text  27480 non-null  object\n",
      " 3   sentiment      27480 non-null  object\n",
      "dtypes: object(4)\n",
      "memory usage: 1.0+ MB\n"
     ]
    }
   ],
   "source": []
  },
  {
   "cell_type": "markdown",
   "metadata": {},
   "source": [
    "**What is the minimum and maximum length (how many words) of a single tweet?** "
   ]
  },
  {
   "cell_type": "code",
   "execution_count": 148,
   "metadata": {},
   "outputs": [
    {
     "name": "stdout",
     "output_type": "stream",
     "text": [
      "Min Tweet length: 1\n",
      "Max Tweet length: 33\n"
     ]
    }
   ],
   "source": [
    "#code here please\n",
    "df['tweetLength'] = df['text'].str.split().str.len()\n",
    "min = df['tweetLength'].min()\n",
    "max = df['tweetLength'].max()\n",
    "print(f'Min Tweet length: {min}')\n",
    "print(f'Max Tweet length: {max}')"
   ]
  },
  {
   "cell_type": "code",
   "execution_count": 9,
   "metadata": {},
   "outputs": [
    {
     "name": "stdout",
     "output_type": "stream",
     "text": [
      "Min tweet lenght:  1\n",
      "Max tweet lenght:  33\n"
     ]
    }
   ],
   "source": []
  },
  {
   "cell_type": "markdown",
   "metadata": {},
   "source": [
    "**Select only the tweets that are more than 2 words long.** *(recall masking from dataframes lecture)*"
   ]
  },
  {
   "cell_type": "code",
   "execution_count": 48,
   "metadata": {},
   "outputs": [
    {
     "data": {
      "text/html": [
       "<div>\n",
       "<style scoped>\n",
       "    .dataframe tbody tr th:only-of-type {\n",
       "        vertical-align: middle;\n",
       "    }\n",
       "\n",
       "    .dataframe tbody tr th {\n",
       "        vertical-align: top;\n",
       "    }\n",
       "\n",
       "    .dataframe thead th {\n",
       "        text-align: right;\n",
       "    }\n",
       "</style>\n",
       "<table border=\"1\" class=\"dataframe\">\n",
       "  <thead>\n",
       "    <tr style=\"text-align: right;\">\n",
       "      <th></th>\n",
       "      <th>textID</th>\n",
       "      <th>text</th>\n",
       "      <th>selected_text</th>\n",
       "      <th>sentiment</th>\n",
       "      <th>tweetLength</th>\n",
       "    </tr>\n",
       "  </thead>\n",
       "  <tbody>\n",
       "    <tr>\n",
       "      <th>0</th>\n",
       "      <td>cb774db0d1</td>\n",
       "      <td>I`d have responded, if I were going</td>\n",
       "      <td>I`d have responded, if I were going</td>\n",
       "      <td>neutral</td>\n",
       "      <td>7</td>\n",
       "    </tr>\n",
       "    <tr>\n",
       "      <th>1</th>\n",
       "      <td>549e992a42</td>\n",
       "      <td>Sooo SAD I will miss you here in San Diego!!!</td>\n",
       "      <td>Sooo SAD</td>\n",
       "      <td>negative</td>\n",
       "      <td>2</td>\n",
       "    </tr>\n",
       "    <tr>\n",
       "      <th>2</th>\n",
       "      <td>088c60f138</td>\n",
       "      <td>my boss is bullying me...</td>\n",
       "      <td>bullying me</td>\n",
       "      <td>negative</td>\n",
       "      <td>2</td>\n",
       "    </tr>\n",
       "    <tr>\n",
       "      <th>3</th>\n",
       "      <td>9642c003ef</td>\n",
       "      <td>what interview! leave me alone</td>\n",
       "      <td>leave me alone</td>\n",
       "      <td>negative</td>\n",
       "      <td>3</td>\n",
       "    </tr>\n",
       "    <tr>\n",
       "      <th>4</th>\n",
       "      <td>358bd9e861</td>\n",
       "      <td>Sons of ****, why couldn`t they put them on t...</td>\n",
       "      <td>Sons of ****,</td>\n",
       "      <td>negative</td>\n",
       "      <td>3</td>\n",
       "    </tr>\n",
       "  </tbody>\n",
       "</table>\n",
       "</div>"
      ],
      "text/plain": [
       "       textID                                               text  \\\n",
       "0  cb774db0d1                I`d have responded, if I were going   \n",
       "1  549e992a42      Sooo SAD I will miss you here in San Diego!!!   \n",
       "2  088c60f138                          my boss is bullying me...   \n",
       "3  9642c003ef                     what interview! leave me alone   \n",
       "4  358bd9e861   Sons of ****, why couldn`t they put them on t...   \n",
       "\n",
       "                         selected_text sentiment  tweetLength  \n",
       "0  I`d have responded, if I were going   neutral            7  \n",
       "1                             Sooo SAD  negative            2  \n",
       "2                          bullying me  negative            2  \n",
       "3                       leave me alone  negative            3  \n",
       "4                        Sons of ****,  negative            3  "
      ]
     },
     "execution_count": 48,
     "metadata": {},
     "output_type": "execute_result"
    }
   ],
   "source": [
    "df.head()"
   ]
  },
  {
   "cell_type": "code",
   "execution_count": 150,
   "metadata": {},
   "outputs": [
    {
     "name": "stdout",
     "output_type": "stream",
     "text": [
      "Training dataset:\n",
      "Number of tweets having more than 2 words: True    26752\n",
      "Name: Greater_two, dtype: int64\n",
      "Class count:\n",
      "neutral     10704\n",
      "positive     8375\n",
      "negative     7673\n",
      "Name: sentiment, dtype: int64\n"
     ]
    }
   ],
   "source": [
    "df['Greater_two'] = df['tweetLength'] > 2\n",
    "df['Greater_two'] = df['Greater_two'].replace(False, np.NAN)\n",
    "df.dropna(inplace=True)\n",
    "g2 = df['Greater_two'].value_counts()\n",
    "print('Training dataset:')\n",
    "print(f'Number of tweets having more than 2 words: {g2}')\n",
    "g3 = df['sentiment'].value_counts()\n",
    "print(f'Class count:\\n{g3}')"
   ]
  },
  {
   "cell_type": "code",
   "execution_count": 11,
   "metadata": {},
   "outputs": [
    {
     "name": "stdout",
     "output_type": "stream",
     "text": [
      "Training dataset:\n",
      "Number of tweets having more than 2 words:  26752\n",
      "Class count:\n",
      "neutral     10704\n",
      "positive     8375\n",
      "negative     7673\n",
      "Name: sentiment, dtype: int64\n"
     ]
    }
   ],
   "source": []
  },
  {
   "cell_type": "markdown",
   "metadata": {},
   "source": [
    "**Clean the data please.**\n",
    "* remove emoji\n",
    "* remove urls\n",
    "* clean the text "
   ]
  },
  {
   "cell_type": "code",
   "execution_count": 151,
   "metadata": {},
   "outputs": [
    {
     "name": "stdout",
     "output_type": "stream",
     "text": [
      "training data -- removing emoji....\n",
      "training data -- removing urls....\n",
      "training data -- cleaning text....\n"
     ]
    },
    {
     "data": {
      "text/html": [
       "<div>\n",
       "<style scoped>\n",
       "    .dataframe tbody tr th:only-of-type {\n",
       "        vertical-align: middle;\n",
       "    }\n",
       "\n",
       "    .dataframe tbody tr th {\n",
       "        vertical-align: top;\n",
       "    }\n",
       "\n",
       "    .dataframe thead th {\n",
       "        text-align: right;\n",
       "    }\n",
       "</style>\n",
       "<table border=\"1\" class=\"dataframe\">\n",
       "  <thead>\n",
       "    <tr style=\"text-align: right;\">\n",
       "      <th></th>\n",
       "      <th>textID</th>\n",
       "      <th>text</th>\n",
       "      <th>selected_text</th>\n",
       "      <th>sentiment</th>\n",
       "      <th>tweetLength</th>\n",
       "      <th>Greater_two</th>\n",
       "    </tr>\n",
       "  </thead>\n",
       "  <tbody>\n",
       "    <tr>\n",
       "      <th>0</th>\n",
       "      <td>cb774db0d1</td>\n",
       "      <td>have responded were going</td>\n",
       "      <td>I`d have responded, if I were going</td>\n",
       "      <td>neutral</td>\n",
       "      <td>7</td>\n",
       "      <td>True</td>\n",
       "    </tr>\n",
       "  </tbody>\n",
       "</table>\n",
       "</div>"
      ],
      "text/plain": [
       "       textID                       text                        selected_text  \\\n",
       "0  cb774db0d1  have responded were going  I`d have responded, if I were going   \n",
       "\n",
       "  sentiment  tweetLength  Greater_two  \n",
       "0   neutral            7         True  "
      ]
     },
     "execution_count": 151,
     "metadata": {},
     "output_type": "execute_result"
    }
   ],
   "source": [
    "#code here please\n",
    "df['text'] = df['text'].apply(remove_emoji)\n",
    "print(f'training data -- removing emoji....')\n",
    "df['text'] = df['text'].apply(remove_url)\n",
    "print(f'training data -- removing urls....')\n",
    "df['text'] = df['text'].apply(clean_text)\n",
    "print(f'training data -- cleaning text....')\n",
    "df.head(1)"
   ]
  },
  {
   "cell_type": "code",
   "execution_count": 13,
   "metadata": {},
   "outputs": [
    {
     "name": "stdout",
     "output_type": "stream",
     "text": [
      "training data -- removing emoji....\n",
      "training data -- removing urls....\n",
      "training data -- cleaning text....\n",
      "training data -- Done!\n"
     ]
    }
   ],
   "source": []
  },
  {
   "cell_type": "markdown",
   "metadata": {},
   "source": [
    "*A quick question to see if you are still with me! Why the number in n_words is different than the word count in text column?*"
   ]
  },
  {
   "cell_type": "markdown",
   "metadata": {},
   "source": [
    "#### Working with the train part of the data.\n",
    "\n",
    "Let us split the training data into train and validation datasets\n",
    "Let us convert our training,validation and test data into the format accepted by tensorflow"
   ]
  },
  {
   "cell_type": "markdown",
   "metadata": {},
   "source": [
    "**Initialize the [tokenizer](https://www.tensorflow.org/api_docs/python/tf/keras/preprocessing/text/Tokenizer) and fit to the text column.**\n",
    "\n",
    "*(from TF documentation) This class allows to vectorize a text corpus, by turning each text into either a sequence of integers (each integer being the index of a token in a dictionary) or into a vector where the coefficient for each token could be binary, based on word count, based on tf-idf...*\n",
    "\n",
    "***please set `oov_token='unknown'` while creating `Tokenizer` instances, can you explain this parameter?*** *(hint: out-of-vocabulary)*"
   ]
  },
  {
   "cell_type": "code",
   "execution_count": 152,
   "metadata": {},
   "outputs": [
    {
     "name": "stdout",
     "output_type": "stream",
     "text": [
      "Max words to keep: 20000\n",
      "token initilized....\n",
      "fitting on tweets...\n",
      "Done!\n"
     ]
    }
   ],
   "source": [
    "#code here please\n",
    "print(f'Max words to keep: 20000')\n",
    "tokenizer = Tokenizer(num_words=20000, oov_token='unknown')\n",
    "print(f'token initilized....')\n",
    "tokenizer.fit_on_texts(df['text'])\n",
    "print(f'fitting on tweets...')\n",
    "print(f'Done!')"
   ]
  },
  {
   "cell_type": "code",
   "execution_count": 16,
   "metadata": {},
   "outputs": [
    {
     "name": "stdout",
     "output_type": "stream",
     "text": [
      "max words to keep: 20000\n",
      "tokenizer initilized....\n",
      "fitting on tweets ....\n",
      "Done!\n"
     ]
    }
   ],
   "source": []
  },
  {
   "cell_type": "markdown",
   "metadata": {},
   "source": [
    "**please check the index of 'unknown'**"
   ]
  },
  {
   "cell_type": "code",
   "execution_count": 153,
   "metadata": {},
   "outputs": [
    {
     "name": "stdout",
     "output_type": "stream",
     "text": [
      "Index of word 'unknown' is 5284\n"
     ]
    }
   ],
   "source": [
    "#code here please\n",
    "index = tokenizer.word_index['unknown']\n",
    "print(f'Index of word \\'unknown\\' is {index}')"
   ]
  },
  {
   "cell_type": "code",
   "execution_count": 18,
   "metadata": {},
   "outputs": [
    {
     "name": "stdout",
     "output_type": "stream",
     "text": [
      "index of word 'unknown' is: 5284\n"
     ]
    }
   ],
   "source": []
  },
  {
   "cell_type": "markdown",
   "metadata": {},
   "source": [
    "**(extra learning question) Get the sequence for `'I am Junaid; xyz how are you -- unknown'`**\n",
    "\n",
    "*What do you see, explain the reason to have same number for several words?*"
   ]
  },
  {
   "cell_type": "code",
   "execution_count": 154,
   "metadata": {},
   "outputs": [
    {
     "data": {
      "text/plain": [
       "[[5284, 5284, 5284, 5284, 5284, 21, 4, 5284]]"
      ]
     },
     "execution_count": 154,
     "metadata": {},
     "output_type": "execute_result"
    }
   ],
   "source": [
    "#code here please\n",
    "tokenizer.texts_to_sequences(['I am Juaid; xyz hhow are you -- unknown'])"
   ]
  },
  {
   "cell_type": "code",
   "execution_count": 20,
   "metadata": {},
   "outputs": [
    {
     "name": "stdout",
     "output_type": "stream",
     "text": [
      "[[5284, 5284, 5284, 5284, 58, 21, 4, 5284]]\n"
     ]
    }
   ],
   "source": []
  },
  {
   "cell_type": "markdown",
   "metadata": {},
   "source": [
    "**Split the data into train and test part.**\n",
    "\n",
    "Class is imbalanced, how will you handle this without re-sampling? "
   ]
  },
  {
   "cell_type": "code",
   "execution_count": 60,
   "metadata": {},
   "outputs": [
    {
     "data": {
      "text/html": [
       "<div>\n",
       "<style scoped>\n",
       "    .dataframe tbody tr th:only-of-type {\n",
       "        vertical-align: middle;\n",
       "    }\n",
       "\n",
       "    .dataframe tbody tr th {\n",
       "        vertical-align: top;\n",
       "    }\n",
       "\n",
       "    .dataframe thead th {\n",
       "        text-align: right;\n",
       "    }\n",
       "</style>\n",
       "<table border=\"1\" class=\"dataframe\">\n",
       "  <thead>\n",
       "    <tr style=\"text-align: right;\">\n",
       "      <th></th>\n",
       "      <th>textID</th>\n",
       "      <th>text</th>\n",
       "      <th>selected_text</th>\n",
       "      <th>sentiment</th>\n",
       "      <th>tweetLength</th>\n",
       "    </tr>\n",
       "  </thead>\n",
       "  <tbody>\n",
       "    <tr>\n",
       "      <th>0</th>\n",
       "      <td>cb774db0d1</td>\n",
       "      <td>have responded were going</td>\n",
       "      <td>I`d have responded, if I were going</td>\n",
       "      <td>neutral</td>\n",
       "      <td>7</td>\n",
       "    </tr>\n",
       "    <tr>\n",
       "      <th>1</th>\n",
       "      <td>549e992a42</td>\n",
       "      <td>sooo sad will miss you here san diego</td>\n",
       "      <td>Sooo SAD</td>\n",
       "      <td>negative</td>\n",
       "      <td>10</td>\n",
       "    </tr>\n",
       "    <tr>\n",
       "      <th>2</th>\n",
       "      <td>088c60f138</td>\n",
       "      <td>boss bullying</td>\n",
       "      <td>bullying me</td>\n",
       "      <td>negative</td>\n",
       "      <td>5</td>\n",
       "    </tr>\n",
       "    <tr>\n",
       "      <th>3</th>\n",
       "      <td>9642c003ef</td>\n",
       "      <td>what interview leave alone</td>\n",
       "      <td>leave me alone</td>\n",
       "      <td>negative</td>\n",
       "      <td>5</td>\n",
       "    </tr>\n",
       "    <tr>\n",
       "      <th>4</th>\n",
       "      <td>358bd9e861</td>\n",
       "      <td>sons why couldnt they put them the releases al...</td>\n",
       "      <td>Sons of ****,</td>\n",
       "      <td>negative</td>\n",
       "      <td>14</td>\n",
       "    </tr>\n",
       "  </tbody>\n",
       "</table>\n",
       "</div>"
      ],
      "text/plain": [
       "       textID                                               text  \\\n",
       "0  cb774db0d1                          have responded were going   \n",
       "1  549e992a42              sooo sad will miss you here san diego   \n",
       "2  088c60f138                                      boss bullying   \n",
       "3  9642c003ef                         what interview leave alone   \n",
       "4  358bd9e861  sons why couldnt they put them the releases al...   \n",
       "\n",
       "                         selected_text sentiment  tweetLength  \n",
       "0  I`d have responded, if I were going   neutral            7  \n",
       "1                             Sooo SAD  negative           10  \n",
       "2                          bullying me  negative            5  \n",
       "3                       leave me alone  negative            5  \n",
       "4                        Sons of ****,  negative           14  "
      ]
     },
     "execution_count": 60,
     "metadata": {},
     "output_type": "execute_result"
    }
   ],
   "source": [
    "df.head()"
   ]
  },
  {
   "cell_type": "code",
   "execution_count": 167,
   "metadata": {},
   "outputs": [
    {
     "name": "stdout",
     "output_type": "stream",
     "text": [
      "X_train length:\n"
     ]
    },
    {
     "data": {
      "text/plain": [
       "17923"
      ]
     },
     "metadata": {},
     "output_type": "display_data"
    },
    {
     "name": "stdout",
     "output_type": "stream",
     "text": [
      "y_train:\n"
     ]
    },
    {
     "data": {
      "text/plain": [
       "{'neutral': 7171, 'positive': 5611, 'negative': 5141}"
      ]
     },
     "metadata": {},
     "output_type": "display_data"
    },
    {
     "name": "stdout",
     "output_type": "stream",
     "text": [
      "X_test length:\n"
     ]
    },
    {
     "data": {
      "text/plain": [
       "8829"
      ]
     },
     "metadata": {},
     "output_type": "display_data"
    },
    {
     "name": "stdout",
     "output_type": "stream",
     "text": [
      "y_train:\n"
     ]
    },
    {
     "data": {
      "text/plain": [
       "{'neutral': 3533, 'positive': 2764, 'negative': 2532}"
      ]
     },
     "metadata": {},
     "output_type": "display_data"
    }
   ],
   "source": [
    "#code here please\n",
    "# ¯\\_(ツ)_/¯ Not sure to pass through tokenizer\n",
    "X = df['text']\n",
    "y = df['sentiment']\n",
    "X_train, X_test, y_train, y_test = train_test_split(X,y, test_size = 0.33, random_state = 42, stratify = y)\n",
    "print(f'X_train length:')\n",
    "display(len(X_train))\n",
    "print(f'y_train:')\n",
    "display(y_train.value_counts().to_dict())\n",
    "print(f'X_test length:')\n",
    "display(len(X_test))\n",
    "print(f'y_train:')\n",
    "display(y_test.value_counts().to_dict())"
   ]
  },
  {
   "cell_type": "code",
   "execution_count": 22,
   "metadata": {},
   "outputs": [
    {
     "name": "stdout",
     "output_type": "stream",
     "text": [
      "saperating tweet and the sentiment....\n",
      "splitting into train and test using train_test_split()....\n",
      "(X_train) -- train data len: 24076\n",
      "(y_train) -- class distribution:  Counter({'neutral': 9633, 'positive': 7537, 'negative': 6906})\n",
      "(X_test)  -- valid data len: 2676\n",
      "(y_test)  -- class distribution:  Counter({'neutral': 1071, 'positive': 838, 'negative': 767})\n"
     ]
    }
   ],
   "source": []
  },
  {
   "cell_type": "markdown",
   "metadata": {},
   "source": [
    "**Get sequences and pad them with max_tweet_length (I am using `maxlen=36`).**\n",
    "\n",
    "`==>` Learning trick: \n",
    "\n",
    "* try different values of `maxlen` and observe the difference in the model performance and compute/training time.\n",
    "* try using list of tokens and arrays of tokens to see the difference in training."
   ]
  },
  {
   "cell_type": "code",
   "execution_count": 168,
   "metadata": {},
   "outputs": [
    {
     "data": {
      "text/plain": [
       "numpy.ndarray"
      ]
     },
     "metadata": {},
     "output_type": "display_data"
    },
    {
     "data": {
      "text/plain": [
       "numpy.ndarray"
      ]
     },
     "metadata": {},
     "output_type": "display_data"
    },
    {
     "data": {
      "text/plain": [
       "array([ 158,    2, 2470, 1543, 6109,   21, 1101,    0,    0,    0,    0,\n",
       "          0,    0,    0,    0,    0,    0,    0,    0,    0,    0,    0,\n",
       "          0,    0,    0,    0,    0,    0,    0,    0,    0,    0,    0,\n",
       "          0,    0,    0])"
      ]
     },
     "metadata": {},
     "output_type": "display_data"
    },
    {
     "data": {
      "text/plain": [
       "36"
      ]
     },
     "execution_count": 168,
     "metadata": {},
     "output_type": "execute_result"
    }
   ],
   "source": [
    "#Code here please\n",
    "# Should I replace 36 with the actual maxlen of Xtrain?\n",
    "ps_train = pad_sequences(tokenizer.texts_to_sequences(X_train), maxlen = 36, padding = 'post')\n",
    "ps_test = pad_sequences(tokenizer.texts_to_sequences(X_test), maxlen = 36, padding = 'post')\n",
    "\n",
    "display(type(ps_train))\n",
    "display(type(ps_test))\n",
    "\n",
    "display(ps_train[0])\n",
    "len(ps_train[0])"
   ]
  },
  {
   "cell_type": "code",
   "execution_count": 24,
   "metadata": {
    "scrolled": true
   },
   "outputs": [
    {
     "name": "stdout",
     "output_type": "stream",
     "text": [
      "getting sequences for X_train and X_test, we are working with numpay arrays of tokens here....!\n",
      "\n",
      "type of training data:  <class 'numpy.ndarray'>\n",
      "type of test data    :  <class 'numpy.ndarray'>\n",
      "\n",
      "the max tweet length is: 33\n",
      "setting maxlen for padding max_tweet_len + 3 .... \n",
      "\n",
      "all sequences are padded and this is how the first tweet look like now...\n",
      "\n",
      "sequence of our first tweet from training data:\n",
      " [ 151   83  109  248  172  135  207 5284    2  775    0    0    0    0\n",
      "    0    0    0    0    0    0    0    0    0    0    0    0    0    0\n",
      "    0    0    0    0    0    0    0    0]\n",
      "lenght of the sequence is:  36\n"
     ]
    }
   ],
   "source": []
  },
  {
   "cell_type": "markdown",
   "metadata": {},
   "source": [
    "**Encode the labels/targets in appropriate format for TF.**"
   ]
  },
  {
   "cell_type": "code",
   "execution_count": 178,
   "metadata": {},
   "outputs": [
    {
     "data": {
      "text/plain": [
       "array([0, 0, 1, 0, 2], dtype=int64)"
      ]
     },
     "metadata": {},
     "output_type": "display_data"
    },
    {
     "data": {
      "text/plain": [
       "array([0, 0, 1, 0, 2], dtype=int64)"
      ]
     },
     "metadata": {},
     "output_type": "display_data"
    },
    {
     "data": {
      "text/plain": [
       "array([1, 1, 1, 1, 2], dtype=int64)"
      ]
     },
     "metadata": {},
     "output_type": "display_data"
    },
    {
     "data": {
      "text/plain": [
       "array([1, 1, 1, 1, 2], dtype=int64)"
      ]
     },
     "metadata": {},
     "output_type": "display_data"
    },
    {
     "data": {
      "text/plain": [
       "array([[1, 0, 0],\n",
       "       [1, 0, 0],\n",
       "       [0, 1, 0],\n",
       "       ...,\n",
       "       [1, 0, 0],\n",
       "       [0, 0, 1],\n",
       "       [1, 0, 0]])"
      ]
     },
     "metadata": {},
     "output_type": "display_data"
    }
   ],
   "source": [
    "#code here please\n",
    "le  = LabelEncoder()\n",
    "\n",
    "display(y_train[0:5])\n",
    "y_train = le.fit_transform(y_train)\n",
    "display(y_train[0:5])\n",
    "\n",
    "display(y_test[0:5])\n",
    "y_test = le.fit_transform(y_test)\n",
    "display(y_test[0:5])\n",
    "\n",
    "# Convert to arrays of binary encoding\n",
    "binzr = LabelBinarizer()\n",
    "display(binzr.fit_transform(y_train))"
   ]
  },
  {
   "cell_type": "code",
   "execution_count": 26,
   "metadata": {
    "scrolled": false
   },
   "outputs": [
    {
     "name": "stdout",
     "output_type": "stream",
     "text": [
      "y_train part\n",
      "\n",
      "first two labels look like ....\n",
      "22509    positive\n",
      "27375     neutral\n",
      "Name: sentiment, dtype: object\n",
      "\n",
      "initilizing label encoder....\n",
      "converting targets to numetic coding....\n",
      "labels are encoded:  [2 1 1 ... 1 2 1]\n",
      "converting into arrays of binary encoding -- ready for TF ....\n",
      "\n",
      "first two final labels look like....\n",
      "---------------\n",
      "y_train part \n",
      "[[0. 0. 1.]\n",
      " [0. 1. 0.]]\n",
      "---------------\n",
      "y_test part \n",
      "\n",
      "[[0. 0. 1.]\n",
      " [0. 0. 1.]]\n",
      "---------------\n",
      "\n",
      "the label order is:  ['negative', 'neutral', 'positive']\n"
     ]
    }
   ],
   "source": []
  },
  {
   "cell_type": "markdown",
   "metadata": {},
   "source": [
    "**In the above train and test encoded labels, which sentiment they are representing?**"
   ]
  },
  {
   "cell_type": "code",
   "execution_count": 27,
   "metadata": {},
   "outputs": [],
   "source": [
    "#Ans: they are representing negative, neutral, and positive"
   ]
  },
  {
   "cell_type": "markdown",
   "metadata": {},
   "source": [
    "**what is the purpose of [tf.data.Dataset.from_tensor_slices](https://www.tensorflow.org/api_docs/python/tf/data/Dataset) explore the documentation.**"
   ]
  },
  {
   "cell_type": "code",
   "execution_count": 28,
   "metadata": {},
   "outputs": [],
   "source": [
    "#code here please\n"
   ]
  },
  {
   "cell_type": "code",
   "execution_count": 29,
   "metadata": {},
   "outputs": [
    {
     "name": "stdout",
     "output_type": "stream",
     "text": [
      "train_ds is  <class 'tensorflow.python.data.ops.dataset_ops.TensorSliceDataset'>\n",
      "test_ds is  <class 'tensorflow.python.data.ops.dataset_ops.TensorSliceDataset'>\n"
     ]
    }
   ],
   "source": []
  },
  {
   "cell_type": "markdown",
   "metadata": {},
   "source": [
    "**Please print first two observations in the train and test part.** \n",
    "\n",
    "*please use `for loop` with `break` statement ...*"
   ]
  },
  {
   "cell_type": "code",
   "execution_count": 30,
   "metadata": {},
   "outputs": [],
   "source": [
    "#code here please"
   ]
  },
  {
   "cell_type": "code",
   "execution_count": 31,
   "metadata": {
    "scrolled": false
   },
   "outputs": [
    {
     "name": "stdout",
     "output_type": "stream",
     "text": [
      "-----------------\n",
      "train data part\n",
      "-----------------\n",
      "tf.Tensor(\n",
      "[ 151   83  109  248  172  135  207 5284    2  775    0    0    0    0\n",
      "    0    0    0    0    0    0    0    0    0    0    0    0    0    0\n",
      "    0    0    0    0    0    0    0    0], shape=(36,), dtype=int32) \n",
      " tf.Tensor([0. 0. 1.], shape=(3,), dtype=float32)\n",
      "-----------------\n",
      "test data part\n",
      "-----------------\n",
      "tf.Tensor(\n",
      "[  34   51   11 1698 3968 1150    3 1829   22   23 2201 7643    0    0\n",
      "    0    0    0    0    0    0    0    0    0    0    0    0    0    0\n",
      "    0    0    0    0    0    0    0    0], shape=(36,), dtype=int32) \n",
      " tf.Tensor([0. 0. 1.], shape=(3,), dtype=float32)\n",
      "-------------------\n"
     ]
    }
   ],
   "source": []
  },
  {
   "cell_type": "markdown",
   "metadata": {},
   "source": [
    "**Create a simple CNN -- Convolutional Neural Network using [sequential API](https://www.tensorflow.org/guide/keras/sequential_model).**\n",
    "\n",
    "*(from TF documentation) A Sequential model is appropriate for a plain stack of layers where each layer has exactly one input tensor and one output tensor.*"
   ]
  },
  {
   "cell_type": "code",
   "execution_count": 32,
   "metadata": {
    "scrolled": true
   },
   "outputs": [
    {
     "name": "stdout",
     "output_type": "stream",
     "text": [
      "Model: \"sequential\"\n",
      "_________________________________________________________________\n",
      "Layer (type)                 Output Shape              Param #   \n",
      "=================================================================\n",
      "embedding (Embedding)        (None, 36, 100)           2000100   \n",
      "_________________________________________________________________\n",
      "conv1d (Conv1D)              (None, 34, 128)           38528     \n",
      "_________________________________________________________________\n",
      "global_max_pooling1d (Global (None, 128)               0         \n",
      "_________________________________________________________________\n",
      "dropout (Dropout)            (None, 128)               0         \n",
      "_________________________________________________________________\n",
      "dense (Dense)                (None, 3)                 387       \n",
      "=================================================================\n",
      "Total params: 2,039,015\n",
      "Trainable params: 2,039,015\n",
      "Non-trainable params: 0\n",
      "_________________________________________________________________\n"
     ]
    }
   ],
   "source": [
    "max_features =20000\n",
    "embedding_dim =100\n",
    "sequence_length = 36 # equal to max lenght with padding\n",
    "\n",
    "model = Sequential()\n",
    "#Embedding layer\n",
    "model.add(Embedding(max_features +1, # recall the reson of +1 from lecture\n",
    "                    embedding_dim,\n",
    "                    input_length=sequence_length,\n",
    "                    embeddings_regularizer=regularizers.l2(0.0005)))                                    \n",
    "# first Conv1D layer\n",
    "model.add(Conv1D(128,3,activation='relu',\n",
    "                 kernel_regularizer=regularizers.l2(0.0005),\n",
    "                 bias_regularizer=regularizers.l2(0.0005)))                               \n",
    "#GlobalMaxPooling1D\n",
    "model.add(GlobalMaxPooling1D())\n",
    "# dropput layer \n",
    "model.add(Dropout(0.5))\n",
    "# Dense layer\n",
    "model.add(Dense(3, activation='sigmoid',\n",
    "                kernel_regularizer=regularizers.l2(0.001),\n",
    "                bias_regularizer=regularizers.l2(0.001),))\n",
    "#Compileing model\n",
    "model.compile(loss=losses.CategoricalCrossentropy(from_logits=True),\n",
    "              optimizer='Nadam', metrics=[\"CategoricalAccuracy\"])\n",
    "model.summary()"
   ]
  },
  {
   "cell_type": "markdown",
   "metadata": {},
   "source": [
    "**can you justify the  total number of parameters in your model summary?**"
   ]
  },
  {
   "cell_type": "code",
   "execution_count": 33,
   "metadata": {},
   "outputs": [],
   "source": [
    "#Ans:"
   ]
  },
  {
   "cell_type": "markdown",
   "metadata": {},
   "source": [
    "**Train your network** Use 100 epochs, "
   ]
  },
  {
   "cell_type": "code",
   "execution_count": 34,
   "metadata": {},
   "outputs": [],
   "source": [
    "#code here please"
   ]
  },
  {
   "cell_type": "code",
   "execution_count": 35,
   "metadata": {
    "scrolled": true
   },
   "outputs": [
    {
     "name": "stdout",
     "output_type": "stream",
     "text": [
      "Epoch 1/100\n",
      "121/121 [==============================] - 10s 75ms/step - loss: 1.1636 - categorical_accuracy: 0.5343 - val_loss: 0.8609 - val_categorical_accuracy: 0.6674\n",
      "Epoch 2/100\n",
      "121/121 [==============================] - 9s 72ms/step - loss: 0.8105 - categorical_accuracy: 0.7008 - val_loss: 0.8183 - val_categorical_accuracy: 0.6988\n",
      "Epoch 3/100\n",
      "121/121 [==============================] - 9s 74ms/step - loss: 0.7671 - categorical_accuracy: 0.7262 - val_loss: 0.8204 - val_categorical_accuracy: 0.7048\n",
      "Epoch 4/100\n",
      "121/121 [==============================] - 9s 73ms/step - loss: 0.7430 - categorical_accuracy: 0.7431 - val_loss: 0.8354 - val_categorical_accuracy: 0.7055\n",
      "Epoch 5/100\n",
      "121/121 [==============================] - 9s 72ms/step - loss: 0.7250 - categorical_accuracy: 0.7568 - val_loss: 0.8501 - val_categorical_accuracy: 0.7089\n",
      "Epoch 6/100\n",
      "121/121 [==============================] - 9s 72ms/step - loss: 0.7113 - categorical_accuracy: 0.7728 - val_loss: 0.8730 - val_categorical_accuracy: 0.7070\n",
      "Epoch 7/100\n",
      "121/121 [==============================] - 9s 72ms/step - loss: 0.6969 - categorical_accuracy: 0.7868 - val_loss: 0.8899 - val_categorical_accuracy: 0.7085\n",
      "Epoch 8/100\n",
      "121/121 [==============================] - 9s 72ms/step - loss: 0.6881 - categorical_accuracy: 0.7970 - val_loss: 0.9092 - val_categorical_accuracy: 0.7100\n",
      "Epoch 9/100\n",
      "121/121 [==============================] - 9s 72ms/step - loss: 0.6750 - categorical_accuracy: 0.8162 - val_loss: 0.9285 - val_categorical_accuracy: 0.7010\n",
      "Epoch 10/100\n",
      "121/121 [==============================] - 9s 71ms/step - loss: 0.6636 - categorical_accuracy: 0.8236 - val_loss: 0.9420 - val_categorical_accuracy: 0.7037\n",
      "Epoch 11/100\n",
      "121/121 [==============================] - 9s 71ms/step - loss: 0.6507 - categorical_accuracy: 0.8372 - val_loss: 0.9604 - val_categorical_accuracy: 0.7096\n",
      "Epoch 12/100\n",
      "121/121 [==============================] - 9s 72ms/step - loss: 0.6410 - categorical_accuracy: 0.8468 - val_loss: 0.9748 - val_categorical_accuracy: 0.7055\n",
      "Epoch 13/100\n",
      "121/121 [==============================] - 9s 71ms/step - loss: 0.6305 - categorical_accuracy: 0.8569 - val_loss: 0.9955 - val_categorical_accuracy: 0.6996\n",
      "Epoch 14/100\n",
      "121/121 [==============================] - 9s 73ms/step - loss: 0.6241 - categorical_accuracy: 0.8614 - val_loss: 1.0122 - val_categorical_accuracy: 0.6966\n",
      "Epoch 15/100\n",
      "121/121 [==============================] - 9s 71ms/step - loss: 0.6150 - categorical_accuracy: 0.8687 - val_loss: 1.0273 - val_categorical_accuracy: 0.6966\n",
      "Epoch 16/100\n",
      "121/121 [==============================] - 9s 73ms/step - loss: 0.6066 - categorical_accuracy: 0.8744 - val_loss: 1.0379 - val_categorical_accuracy: 0.6939\n",
      "Epoch 17/100\n",
      "121/121 [==============================] - 9s 75ms/step - loss: 0.5972 - categorical_accuracy: 0.8813 - val_loss: 1.0481 - val_categorical_accuracy: 0.6943\n",
      "Epoch 18/100\n",
      "121/121 [==============================] - 9s 72ms/step - loss: 0.5942 - categorical_accuracy: 0.8833 - val_loss: 1.0636 - val_categorical_accuracy: 0.6902\n",
      "Epoch 19/100\n",
      "121/121 [==============================] - 9s 75ms/step - loss: 0.5856 - categorical_accuracy: 0.8878 - val_loss: 1.0790 - val_categorical_accuracy: 0.6876\n",
      "Epoch 20/100\n",
      "121/121 [==============================] - 9s 74ms/step - loss: 0.5806 - categorical_accuracy: 0.8949 - val_loss: 1.0808 - val_categorical_accuracy: 0.6943\n",
      "Epoch 21/100\n",
      "121/121 [==============================] - 9s 75ms/step - loss: 0.5778 - categorical_accuracy: 0.8965 - val_loss: 1.0851 - val_categorical_accuracy: 0.6906\n",
      "Epoch 22/100\n",
      "121/121 [==============================] - 9s 78ms/step - loss: 0.5683 - categorical_accuracy: 0.9019 - val_loss: 1.0938 - val_categorical_accuracy: 0.6895\n",
      "Epoch 23/100\n",
      "121/121 [==============================] - 9s 78ms/step - loss: 0.5674 - categorical_accuracy: 0.9018 - val_loss: 1.1095 - val_categorical_accuracy: 0.6902\n",
      "Epoch 24/100\n",
      "121/121 [==============================] - 9s 76ms/step - loss: 0.5607 - categorical_accuracy: 0.9063 - val_loss: 1.1000 - val_categorical_accuracy: 0.6842\n",
      "Epoch 25/100\n",
      "121/121 [==============================] - 9s 77ms/step - loss: 0.5586 - categorical_accuracy: 0.9088 - val_loss: 1.1090 - val_categorical_accuracy: 0.6910\n",
      "Epoch 26/100\n",
      "121/121 [==============================] - 9s 76ms/step - loss: 0.5558 - categorical_accuracy: 0.9104 - val_loss: 1.1137 - val_categorical_accuracy: 0.6868\n",
      "Epoch 27/100\n",
      "121/121 [==============================] - 9s 77ms/step - loss: 0.5489 - categorical_accuracy: 0.9123 - val_loss: 1.1312 - val_categorical_accuracy: 0.6827\n",
      "Epoch 28/100\n",
      "121/121 [==============================] - 9s 77ms/step - loss: 0.5478 - categorical_accuracy: 0.9123 - val_loss: 1.1226 - val_categorical_accuracy: 0.6805\n",
      "Epoch 29/100\n",
      "121/121 [==============================] - 9s 77ms/step - loss: 0.5429 - categorical_accuracy: 0.9170 - val_loss: 1.1248 - val_categorical_accuracy: 0.6846\n",
      "Epoch 30/100\n",
      "121/121 [==============================] - 9s 77ms/step - loss: 0.5423 - categorical_accuracy: 0.9176 - val_loss: 1.1263 - val_categorical_accuracy: 0.6872\n",
      "Epoch 31/100\n",
      "121/121 [==============================] - 9s 76ms/step - loss: 0.5393 - categorical_accuracy: 0.9173 - val_loss: 1.1282 - val_categorical_accuracy: 0.6865\n",
      "Epoch 32/100\n",
      "121/121 [==============================] - 9s 76ms/step - loss: 0.5313 - categorical_accuracy: 0.9236 - val_loss: 1.1286 - val_categorical_accuracy: 0.6887\n",
      "Epoch 33/100\n",
      "121/121 [==============================] - 9s 76ms/step - loss: 0.5314 - categorical_accuracy: 0.9232 - val_loss: 1.1253 - val_categorical_accuracy: 0.6895\n",
      "Epoch 34/100\n",
      "121/121 [==============================] - 9s 72ms/step - loss: 0.5284 - categorical_accuracy: 0.9249 - val_loss: 1.1422 - val_categorical_accuracy: 0.6839\n",
      "Epoch 35/100\n",
      "121/121 [==============================] - 8s 69ms/step - loss: 0.5286 - categorical_accuracy: 0.9248 - val_loss: 1.1336 - val_categorical_accuracy: 0.6842\n",
      "Epoch 36/100\n",
      "121/121 [==============================] - 8s 69ms/step - loss: 0.5202 - categorical_accuracy: 0.9293 - val_loss: 1.1429 - val_categorical_accuracy: 0.6839\n",
      "Epoch 37/100\n",
      "121/121 [==============================] - 8s 68ms/step - loss: 0.5202 - categorical_accuracy: 0.9289 - val_loss: 1.1378 - val_categorical_accuracy: 0.6857\n",
      "Epoch 38/100\n",
      "121/121 [==============================] - 8s 68ms/step - loss: 0.5189 - categorical_accuracy: 0.9289 - val_loss: 1.1430 - val_categorical_accuracy: 0.6865\n",
      "Epoch 39/100\n",
      "121/121 [==============================] - 8s 69ms/step - loss: 0.5161 - categorical_accuracy: 0.9298 - val_loss: 1.1595 - val_categorical_accuracy: 0.6801\n",
      "Epoch 40/100\n",
      "121/121 [==============================] - 8s 68ms/step - loss: 0.5124 - categorical_accuracy: 0.9308 - val_loss: 1.1652 - val_categorical_accuracy: 0.6768\n",
      "Epoch 41/100\n",
      "121/121 [==============================] - 389s 3s/step - loss: 0.5125 - categorical_accuracy: 0.9331 - val_loss: 1.1588 - val_categorical_accuracy: 0.6812\n",
      "Epoch 42/100\n",
      "121/121 [==============================] - 18s 149ms/step - loss: 0.5117 - categorical_accuracy: 0.9314 - val_loss: 1.1565 - val_categorical_accuracy: 0.6846\n",
      "Epoch 43/100\n",
      "121/121 [==============================] - 13s 104ms/step - loss: 0.5058 - categorical_accuracy: 0.9337 - val_loss: 1.1648 - val_categorical_accuracy: 0.6734\n",
      "Epoch 44/100\n",
      "121/121 [==============================] - 9s 78ms/step - loss: 0.5063 - categorical_accuracy: 0.9340 - val_loss: 1.1577 - val_categorical_accuracy: 0.6771\n",
      "Epoch 45/100\n",
      "121/121 [==============================] - 9s 76ms/step - loss: 0.5017 - categorical_accuracy: 0.9371 - val_loss: 1.1570 - val_categorical_accuracy: 0.6753\n",
      "Epoch 46/100\n",
      "121/121 [==============================] - 9s 77ms/step - loss: 0.5028 - categorical_accuracy: 0.9367 - val_loss: 1.1551 - val_categorical_accuracy: 0.6786\n",
      "Epoch 47/100\n",
      "121/121 [==============================] - 9s 74ms/step - loss: 0.4998 - categorical_accuracy: 0.9369 - val_loss: 1.1694 - val_categorical_accuracy: 0.6790\n",
      "Epoch 48/100\n",
      "121/121 [==============================] - 9s 73ms/step - loss: 0.5025 - categorical_accuracy: 0.9357 - val_loss: 1.1606 - val_categorical_accuracy: 0.6779\n",
      "Epoch 49/100\n",
      "121/121 [==============================] - 9s 72ms/step - loss: 0.4984 - categorical_accuracy: 0.9381 - val_loss: 1.1752 - val_categorical_accuracy: 0.6712\n",
      "Epoch 50/100\n",
      "121/121 [==============================] - 9s 72ms/step - loss: 0.4983 - categorical_accuracy: 0.9376 - val_loss: 1.1617 - val_categorical_accuracy: 0.6697\n",
      "Epoch 51/100\n",
      "121/121 [==============================] - 9s 73ms/step - loss: 0.4958 - categorical_accuracy: 0.9389 - val_loss: 1.1784 - val_categorical_accuracy: 0.6719\n",
      "Epoch 52/100\n",
      "121/121 [==============================] - 9s 72ms/step - loss: 0.4921 - categorical_accuracy: 0.9411 - val_loss: 1.1687 - val_categorical_accuracy: 0.6726\n",
      "Epoch 53/100\n",
      "121/121 [==============================] - 9s 73ms/step - loss: 0.4909 - categorical_accuracy: 0.9422 - val_loss: 1.1796 - val_categorical_accuracy: 0.6678\n",
      "Epoch 54/100\n",
      "121/121 [==============================] - 9s 73ms/step - loss: 0.4913 - categorical_accuracy: 0.9410 - val_loss: 1.1816 - val_categorical_accuracy: 0.6693\n",
      "Epoch 55/100\n",
      "121/121 [==============================] - 9s 71ms/step - loss: 0.4902 - categorical_accuracy: 0.9405 - val_loss: 1.1781 - val_categorical_accuracy: 0.6697\n",
      "Epoch 56/100\n",
      "121/121 [==============================] - 8s 68ms/step - loss: 0.4899 - categorical_accuracy: 0.9407 - val_loss: 1.1849 - val_categorical_accuracy: 0.6689\n",
      "Epoch 57/100\n",
      "121/121 [==============================] - 8s 70ms/step - loss: 0.4854 - categorical_accuracy: 0.9430 - val_loss: 1.1750 - val_categorical_accuracy: 0.6801\n",
      "Epoch 58/100\n",
      "121/121 [==============================] - 8s 69ms/step - loss: 0.4864 - categorical_accuracy: 0.9426 - val_loss: 1.1784 - val_categorical_accuracy: 0.6726\n",
      "Epoch 59/100\n",
      "121/121 [==============================] - 8s 69ms/step - loss: 0.4837 - categorical_accuracy: 0.9436 - val_loss: 1.1796 - val_categorical_accuracy: 0.6693\n",
      "Epoch 60/100\n",
      "121/121 [==============================] - 8s 69ms/step - loss: 0.4856 - categorical_accuracy: 0.9436 - val_loss: 1.1844 - val_categorical_accuracy: 0.6749\n",
      "Epoch 61/100\n",
      "121/121 [==============================] - 8s 69ms/step - loss: 0.4832 - categorical_accuracy: 0.9445 - val_loss: 1.1766 - val_categorical_accuracy: 0.6745\n",
      "Epoch 62/100\n",
      "121/121 [==============================] - 8s 69ms/step - loss: 0.4819 - categorical_accuracy: 0.9443 - val_loss: 1.1802 - val_categorical_accuracy: 0.6648\n",
      "Epoch 63/100\n",
      "121/121 [==============================] - 8s 69ms/step - loss: 0.4809 - categorical_accuracy: 0.9440 - val_loss: 1.1722 - val_categorical_accuracy: 0.6682\n",
      "Epoch 64/100\n",
      "121/121 [==============================] - 8s 70ms/step - loss: 0.4818 - categorical_accuracy: 0.9450 - val_loss: 1.1698 - val_categorical_accuracy: 0.6644\n",
      "Epoch 65/100\n",
      "121/121 [==============================] - 8s 69ms/step - loss: 0.4802 - categorical_accuracy: 0.9454 - val_loss: 1.1825 - val_categorical_accuracy: 0.6652\n",
      "Epoch 66/100\n",
      "121/121 [==============================] - 8s 69ms/step - loss: 0.4782 - categorical_accuracy: 0.9460 - val_loss: 1.1795 - val_categorical_accuracy: 0.6704\n",
      "Epoch 67/100\n",
      "121/121 [==============================] - 8s 69ms/step - loss: 0.4775 - categorical_accuracy: 0.9462 - val_loss: 1.1848 - val_categorical_accuracy: 0.6685\n",
      "Epoch 68/100\n",
      "121/121 [==============================] - 9s 70ms/step - loss: 0.4789 - categorical_accuracy: 0.9462 - val_loss: 1.1792 - val_categorical_accuracy: 0.6644\n",
      "Epoch 69/100\n",
      "121/121 [==============================] - 9s 73ms/step - loss: 0.4745 - categorical_accuracy: 0.9480 - val_loss: 1.1817 - val_categorical_accuracy: 0.6633\n",
      "Epoch 70/100\n",
      "121/121 [==============================] - 8s 70ms/step - loss: 0.4738 - categorical_accuracy: 0.9465 - val_loss: 1.1873 - val_categorical_accuracy: 0.6678\n",
      "Epoch 71/100\n",
      "121/121 [==============================] - 8s 69ms/step - loss: 0.4762 - categorical_accuracy: 0.9481 - val_loss: 1.1816 - val_categorical_accuracy: 0.6682\n",
      "Epoch 72/100\n",
      "121/121 [==============================] - 8s 69ms/step - loss: 0.4735 - categorical_accuracy: 0.9478 - val_loss: 1.1840 - val_categorical_accuracy: 0.6626\n",
      "Epoch 73/100\n",
      "121/121 [==============================] - 8s 69ms/step - loss: 0.4707 - categorical_accuracy: 0.9501 - val_loss: 1.1908 - val_categorical_accuracy: 0.6633\n",
      "Epoch 74/100\n",
      "121/121 [==============================] - 8s 69ms/step - loss: 0.4731 - categorical_accuracy: 0.9466 - val_loss: 1.1857 - val_categorical_accuracy: 0.6618\n",
      "Epoch 75/100\n",
      "121/121 [==============================] - 8s 69ms/step - loss: 0.4722 - categorical_accuracy: 0.9484 - val_loss: 1.1720 - val_categorical_accuracy: 0.6670\n",
      "Epoch 76/100\n",
      "121/121 [==============================] - 8s 69ms/step - loss: 0.4706 - categorical_accuracy: 0.9492 - val_loss: 1.1805 - val_categorical_accuracy: 0.6629\n",
      "Epoch 77/100\n",
      "121/121 [==============================] - 8s 69ms/step - loss: 0.4725 - categorical_accuracy: 0.9477 - val_loss: 1.1775 - val_categorical_accuracy: 0.6599\n",
      "Epoch 78/100\n",
      "121/121 [==============================] - 9s 71ms/step - loss: 0.4696 - categorical_accuracy: 0.9496 - val_loss: 1.1896 - val_categorical_accuracy: 0.6629\n",
      "Epoch 79/100\n",
      "121/121 [==============================] - 8s 70ms/step - loss: 0.4692 - categorical_accuracy: 0.9501 - val_loss: 1.1894 - val_categorical_accuracy: 0.6633\n",
      "Epoch 80/100\n",
      "121/121 [==============================] - 8s 69ms/step - loss: 0.4692 - categorical_accuracy: 0.9496 - val_loss: 1.1911 - val_categorical_accuracy: 0.6644\n",
      "Epoch 81/100\n",
      "121/121 [==============================] - 8s 70ms/step - loss: 0.4693 - categorical_accuracy: 0.9491 - val_loss: 1.1884 - val_categorical_accuracy: 0.6592\n",
      "Epoch 82/100\n",
      "121/121 [==============================] - 9s 71ms/step - loss: 0.4663 - categorical_accuracy: 0.9504 - val_loss: 1.1877 - val_categorical_accuracy: 0.6607\n",
      "Epoch 83/100\n",
      "121/121 [==============================] - 9s 72ms/step - loss: 0.4654 - categorical_accuracy: 0.9509 - val_loss: 1.1945 - val_categorical_accuracy: 0.6644\n",
      "Epoch 84/100\n",
      "121/121 [==============================] - 8s 70ms/step - loss: 0.4673 - categorical_accuracy: 0.9509 - val_loss: 1.1874 - val_categorical_accuracy: 0.6622\n",
      "Epoch 85/100\n",
      "121/121 [==============================] - 9s 70ms/step - loss: 0.4633 - categorical_accuracy: 0.9513 - val_loss: 1.1932 - val_categorical_accuracy: 0.6581\n",
      "Epoch 86/100\n",
      "121/121 [==============================] - 9s 70ms/step - loss: 0.4633 - categorical_accuracy: 0.9514 - val_loss: 1.1950 - val_categorical_accuracy: 0.6633\n",
      "Epoch 87/100\n",
      "121/121 [==============================] - 8s 70ms/step - loss: 0.4629 - categorical_accuracy: 0.9519 - val_loss: 1.1884 - val_categorical_accuracy: 0.6603\n",
      "Epoch 88/100\n",
      "121/121 [==============================] - 8s 69ms/step - loss: 0.4641 - categorical_accuracy: 0.9514 - val_loss: 1.1891 - val_categorical_accuracy: 0.6584\n",
      "Epoch 89/100\n",
      "121/121 [==============================] - 8s 69ms/step - loss: 0.4624 - categorical_accuracy: 0.9505 - val_loss: 1.1931 - val_categorical_accuracy: 0.6622\n",
      "Epoch 90/100\n",
      "121/121 [==============================] - 8s 70ms/step - loss: 0.4634 - categorical_accuracy: 0.9496 - val_loss: 1.1772 - val_categorical_accuracy: 0.6584\n",
      "Epoch 91/100\n",
      "121/121 [==============================] - 8s 70ms/step - loss: 0.4618 - categorical_accuracy: 0.9513 - val_loss: 1.1836 - val_categorical_accuracy: 0.6622\n",
      "Epoch 92/100\n",
      "121/121 [==============================] - 8s 70ms/step - loss: 0.4613 - categorical_accuracy: 0.9517 - val_loss: 1.1848 - val_categorical_accuracy: 0.6573\n",
      "Epoch 93/100\n",
      "121/121 [==============================] - 8s 70ms/step - loss: 0.4600 - categorical_accuracy: 0.9535 - val_loss: 1.1918 - val_categorical_accuracy: 0.6592\n",
      "Epoch 94/100\n",
      "121/121 [==============================] - 9s 70ms/step - loss: 0.4602 - categorical_accuracy: 0.9532 - val_loss: 1.1957 - val_categorical_accuracy: 0.6584\n",
      "Epoch 95/100\n",
      "121/121 [==============================] - 8s 70ms/step - loss: 0.4579 - categorical_accuracy: 0.9528 - val_loss: 1.1943 - val_categorical_accuracy: 0.6566\n",
      "Epoch 96/100\n",
      "121/121 [==============================] - 9s 72ms/step - loss: 0.4581 - categorical_accuracy: 0.9529 - val_loss: 1.1949 - val_categorical_accuracy: 0.6603\n",
      "Epoch 97/100\n"
     ]
    },
    {
     "name": "stdout",
     "output_type": "stream",
     "text": [
      "121/121 [==============================] - 9s 70ms/step - loss: 0.4573 - categorical_accuracy: 0.9547 - val_loss: 1.2025 - val_categorical_accuracy: 0.6562\n",
      "Epoch 98/100\n",
      "121/121 [==============================] - 8s 70ms/step - loss: 0.4575 - categorical_accuracy: 0.9537 - val_loss: 1.1989 - val_categorical_accuracy: 0.6622\n",
      "Epoch 99/100\n",
      "121/121 [==============================] - 9s 70ms/step - loss: 0.4580 - categorical_accuracy: 0.9534 - val_loss: 1.1986 - val_categorical_accuracy: 0.6584\n",
      "Epoch 100/100\n",
      "121/121 [==============================] - 8s 69ms/step - loss: 0.4554 - categorical_accuracy: 0.9543 - val_loss: 1.1912 - val_categorical_accuracy: 0.6584\n",
      "\n",
      "training time: 1279.292358160019\n",
      "epochs: 100\n"
     ]
    }
   ],
   "source": []
  },
  {
   "cell_type": "code",
   "execution_count": 36,
   "metadata": {},
   "outputs": [],
   "source": [
    "#history is history object and model is trained cnn model"
   ]
  },
  {
   "cell_type": "code",
   "execution_count": 37,
   "metadata": {},
   "outputs": [
    {
     "data": {
      "text/plain": [
       "dict_keys(['loss', 'categorical_accuracy', 'val_loss', 'val_categorical_accuracy'])"
      ]
     },
     "execution_count": 37,
     "metadata": {},
     "output_type": "execute_result"
    }
   ],
   "source": [
    "history.history.keys()"
   ]
  },
  {
   "cell_type": "markdown",
   "metadata": {},
   "source": [
    "**Re-create the plots below from history and explain the curves.**"
   ]
  },
  {
   "cell_type": "code",
   "execution_count": 38,
   "metadata": {},
   "outputs": [],
   "source": [
    "#code here please"
   ]
  },
  {
   "cell_type": "code",
   "execution_count": 39,
   "metadata": {
    "scrolled": false
   },
   "outputs": [
    {
     "data": {
      "image/png": "[encoded data removed]",
      "text/plain": [
       "<Figure size 1296x432 with 1 Axes>"
      ]
     },
     "metadata": {
      "image/png": {
       "height": 386,
       "width": 1055
      },
      "needs_background": "light"
     },
     "output_type": "display_data"
    }
   ],
   "source": [
    "plt.figure(figsize=(18,6))\n",
    "plt.plot(history.history['loss'], label=' training data')\n",
    "plt.plot(history.history['val_loss'], label='validation data)')\n",
    "plt.title('Loss for Text Classification')\n",
    "plt.ylabel('Loss value')\n",
    "plt.xlabel('No. epoch')\n",
    "plt.legend(loc=\"upper left\");"
   ]
  },
  {
   "cell_type": "code",
   "execution_count": 40,
   "metadata": {},
   "outputs": [],
   "source": [
    "#code here please"
   ]
  },
  {
   "cell_type": "code",
   "execution_count": 41,
   "metadata": {},
   "outputs": [
    {
     "data": {
      "image/png": "[encoded data removed]",
      "text/plain": [
       "<Figure size 1296x432 with 1 Axes>"
      ]
     },
     "metadata": {
      "image/png": {
       "height": 386,
       "width": 1055
      },
      "needs_background": "light"
     },
     "output_type": "display_data"
    }
   ],
   "source": []
  },
  {
   "cell_type": "markdown",
   "metadata": {},
   "source": [
    "**Save your trained model and the tokenizer** \n",
    "\n",
    "*use model.save module and convert tokenizer into json before saving -- import jason!*"
   ]
  },
  {
   "cell_type": "code",
   "execution_count": 42,
   "metadata": {},
   "outputs": [],
   "source": [
    "#code here please"
   ]
  },
  {
   "cell_type": "code",
   "execution_count": 43,
   "metadata": {},
   "outputs": [
    {
     "name": "stdout",
     "output_type": "stream",
     "text": [
      "saving model....\n",
      "INFO:tensorflow:Assets written to: ./saved_models_tweet_sentiment/tf_cnn_model/assets\n",
      "model saved at './saved_models_tweet_sentiment/tf_cnn_model'\n",
      "converting tokenizer to json....\n",
      "saviing tokenizer.....\n",
      "tokenizer saved at './saved_models_tweet_sentiment/tokenizer.json'\n",
      "\n",
      "saved model and tokenizer is ready for future use....\n"
     ]
    }
   ],
   "source": []
  },
  {
   "cell_type": "markdown",
   "metadata": {},
   "source": [
    "`==>`learning trick: open the saved tokenizer.json and look for some word, what do you see for unknown?"
   ]
  },
  {
   "cell_type": "markdown",
   "metadata": {},
   "source": [
    "------------\n",
    "------------\n",
    "------------\n",
    "## Here the test data comes in -- your 2nd file"
   ]
  },
  {
   "cell_type": "code",
   "execution_count": 44,
   "metadata": {},
   "outputs": [],
   "source": [
    "test_url=\"\"\"https://raw.githubusercontent.com/junaidqazi/\\\n",
    "DataSets_Practice_ScienceAcademy/master/Tweets_Sentiment_Analysis/test.csv\"\"\"\n",
    "test_data= pd.read_csv(test_url)"
   ]
  },
  {
   "cell_type": "markdown",
   "metadata": {},
   "source": [
    "**Repeat all the above steps that you have performed on the above dataset.**"
   ]
  },
  {
   "cell_type": "code",
   "execution_count": 45,
   "metadata": {},
   "outputs": [],
   "source": [
    "#code here please "
   ]
  },
  {
   "cell_type": "code",
   "execution_count": 46,
   "metadata": {
    "scrolled": true
   },
   "outputs": [
    {
     "name": "stdout",
     "output_type": "stream",
     "text": [
      "working with test data...\n",
      "\n",
      "number of tweets in test data: 3534\n",
      "dropping the possible rows with null value....\n",
      "no missing data found, nothing to drop...\n",
      "min tweet lenght:  1\n",
      "max tweet lenght:  32\n",
      "removing all the tweets with less than two word count....\n",
      "number of tweets having more than 2 words:  3434\n",
      "class count:\n",
      "neutral     1376\n",
      "positive    1075\n",
      "negative     983\n",
      "Name: sentiment, dtype: int64\n",
      "test data -- removing emoji....\n",
      "test data -- removing urls....\n",
      "test data -- cleaning text....\n",
      "test data -- Done!\n"
     ]
    }
   ],
   "source": []
  },
  {
   "cell_type": "markdown",
   "metadata": {},
   "source": [
    "**separate data to features and labels and then transform labels into appropriate format.** "
   ]
  },
  {
   "cell_type": "code",
   "execution_count": 47,
   "metadata": {},
   "outputs": [],
   "source": [
    "#code here please"
   ]
  },
  {
   "cell_type": "code",
   "execution_count": 48,
   "metadata": {
    "scrolled": false
   },
   "outputs": [
    {
     "name": "stdout",
     "output_type": "stream",
     "text": [
      "categorical numeric labels: [1 2 0 2 2]\n",
      "binary coded:\n",
      "[[0. 1. 0.]\n",
      " [0. 0. 1.]\n",
      " [1. 0. 0.]\n",
      " [0. 0. 1.]\n",
      " [0. 0. 1.]]\n"
     ]
    }
   ],
   "source": []
  },
  {
   "cell_type": "markdown",
   "metadata": {},
   "source": [
    "**load tokenizer and get the sequences and pad them with to maxlen=36, same as above**"
   ]
  },
  {
   "cell_type": "code",
   "execution_count": 49,
   "metadata": {},
   "outputs": [],
   "source": [
    "#code here please"
   ]
  },
  {
   "cell_type": "code",
   "execution_count": 50,
   "metadata": {},
   "outputs": [
    {
     "name": "stdout",
     "output_type": "stream",
     "text": [
      "loading saved tokenizer....\n",
      "saved tokenizer is loaded....\n",
      "getting sequences for the test data and adding padding accordingly....\n",
      "All done, data is ready for predictions.....\n"
     ]
    }
   ],
   "source": []
  },
  {
   "cell_type": "markdown",
   "metadata": {},
   "source": [
    "**Load the saved model and get predictions for the test data**"
   ]
  },
  {
   "cell_type": "code",
   "execution_count": 51,
   "metadata": {},
   "outputs": [],
   "source": [
    "#code here please"
   ]
  },
  {
   "cell_type": "code",
   "execution_count": 52,
   "metadata": {
    "scrolled": false
   },
   "outputs": [
    {
     "name": "stdout",
     "output_type": "stream",
     "text": [
      "Model: \"sequential\"\n",
      "_________________________________________________________________\n",
      "Layer (type)                 Output Shape              Param #   \n",
      "=================================================================\n",
      "embedding (Embedding)        (None, 36, 100)           2000100   \n",
      "_________________________________________________________________\n",
      "conv1d (Conv1D)              (None, 34, 128)           38528     \n",
      "_________________________________________________________________\n",
      "global_max_pooling1d (Global (None, 128)               0         \n",
      "_________________________________________________________________\n",
      "dropout (Dropout)            (None, 128)               0         \n",
      "_________________________________________________________________\n",
      "dense (Dense)                (None, 3)                 387       \n",
      "=================================================================\n",
      "Total params: 2,039,015\n",
      "Trainable params: 2,039,015\n",
      "Non-trainable params: 0\n",
      "_________________________________________________________________\n"
     ]
    }
   ],
   "source": []
  },
  {
   "cell_type": "markdown",
   "metadata": {},
   "source": [
    "**Generate predictions (probabilities -- the output of the last layer) on test  data using `predict`**"
   ]
  },
  {
   "cell_type": "code",
   "execution_count": 53,
   "metadata": {},
   "outputs": [],
   "source": [
    "#code here please"
   ]
  },
  {
   "cell_type": "code",
   "execution_count": 54,
   "metadata": {},
   "outputs": [
    {
     "name": "stdout",
     "output_type": "stream",
     "text": [
      "Generate predictions for all samples\n",
      "first 5 prediction are:\n",
      "[[0.1491861  0.718873   0.6773205 ]\n",
      " [0.07649285 0.5513598  0.90449154]\n",
      " [0.9775305  0.8275697  0.00450569]\n",
      " [0.4055374  0.653259   0.42463613]\n",
      " [0.00399935 0.4435264  0.99665725]]\n",
      "first 5 predicted results are: [1 2 0 1 2]\n"
     ]
    }
   ],
   "source": []
  },
  {
   "cell_type": "markdown",
   "metadata": {},
   "source": [
    "**Can you think about creating classification report and confusion matrix for the predictions?**"
   ]
  },
  {
   "cell_type": "code",
   "execution_count": 55,
   "metadata": {},
   "outputs": [],
   "source": [
    "#code here please"
   ]
  },
  {
   "cell_type": "code",
   "execution_count": 56,
   "metadata": {},
   "outputs": [],
   "source": []
  },
  {
   "cell_type": "code",
   "execution_count": 57,
   "metadata": {},
   "outputs": [
    {
     "name": "stdout",
     "output_type": "stream",
     "text": [
      "              precision    recall  f1-score   support\n",
      "\n",
      "    positive       0.77      0.71      0.74      1075\n",
      "    negative       0.67      0.67      0.67       983\n",
      "     neutral       0.63      0.67      0.65      1376\n",
      "\n",
      "    accuracy                           0.68      3434\n",
      "   macro avg       0.69      0.68      0.68      3434\n",
      "weighted avg       0.68      0.68      0.68      3434\n",
      "\n"
     ]
    }
   ],
   "source": []
  },
  {
   "cell_type": "code",
   "execution_count": 58,
   "metadata": {},
   "outputs": [],
   "source": [
    "#code here please"
   ]
  },
  {
   "cell_type": "code",
   "execution_count": 59,
   "metadata": {},
   "outputs": [
    {
     "data": {
      "text/plain": [
       "array([[763,  58, 254],\n",
       "       [ 36, 659, 288],\n",
       "       [187, 273, 916]])"
      ]
     },
     "execution_count": 59,
     "metadata": {},
     "output_type": "execute_result"
    }
   ],
   "source": []
  },
  {
   "cell_type": "markdown",
   "metadata": {},
   "source": [
    "## To Do:\n",
    "\n",
    "* Think about improving the model, what can be done?\n",
    "* Build LSTM network and compare the performance."
   ]
  },
  {
   "cell_type": "markdown",
   "metadata": {},
   "source": [
    "*Note: see the extension of your saved model in the folder, where you have saved the model. The`.pb` extension stands for protobuf ([protocol buffers](https://developers.google.com/protocol-buffers/)). Protocol buffers are a language-neutral, platform-neutral extensible mechanism for serializing structured data. In TensorFlow, the `.pb` is all you need to be able to run a given trained model.* "
   ]
  },
  {
   "cell_type": "markdown",
   "metadata": {},
   "source": [
    "## License{-}\n",
    "\n",
    "Author: [___Dr. Junaid Qazi___](https://www.linkedin.com/in/jqazi/)\n",
    "\n",
    "Twitter: [***@JunaidSQazi***](https://twitter.com/JunaidSQazi)\n",
    "\n",
    "Copyright 2021\n",
    "\n",
    "Licensed under the [Apache License, Version 2.0](http://www.apache.org/licenses/LICENSE-2.0) (the \"License\").<br>you may not use this file except in compliance with the License.\n",
    "You may obtain a copy of the License at http://www.apache.org/licenses/LICENSE-2.0\n",
    "\n",
    "*Unless required by applicable law or agreed to in writing, software distributed under the License is distributed on an \"AS IS\" BASIS, WITHOUT WARRANTIES OR CONDITIONS OF ANY KIND, either express or implied. Please see the License for the specific language governing permissions and limitations under the License.*\n",
    "\n",
    "\n",
    "*This is not an official product but sample code provided for an educational purpose.*\n",
    "\n",
    "***Acknowledgement is requested***"
   ]
  },
  {
   "cell_type": "markdown",
   "metadata": {},
   "source": [
    "\\pagebreak"
   ]
  }
 ],
 "metadata": {
  "kernelspec": {
   "display_name": "Python 3",
   "language": "python",
   "name": "python3"
  },
  "language_info": {
   "codemirror_mode": {
    "name": "ipython",
    "version": 3
   },
   "file_extension": ".py",
   "mimetype": "text/x-python",
   "name": "python",
   "nbconvert_exporter": "python",
   "pygments_lexer": "ipython3",
   "version": "3.8.8"
  }
 },
 "nbformat": 4,
 "nbformat_minor": 4
}
