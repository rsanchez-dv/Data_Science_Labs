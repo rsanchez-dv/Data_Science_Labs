{
 "cells": [
  {
   "cell_type": "markdown",
   "id": "0f322e1a",
   "metadata": {},
   "source": [
    "# Lab 5"
   ]
  },
  {
   "cell_type": "markdown",
   "id": "0c1163d9",
   "metadata": {},
   "source": [
    "## This lab will begin with lecture 5-specific material, and we will then move on to doing a review of all of the material for this course. "
   ]
  },
  {
   "cell_type": "markdown",
   "id": "4492694d",
   "metadata": {},
   "source": [
    "### Let's start by importing the data set. For this lab, we are going to continue working with the marketing data set that we started working with in the last lab. Use .head() to remind yourself of the columns and data. \n",
    "\n",
    "### Also, make sure that you make the same modifications to the income variable, to be sure that you can work easily with the numbres. "
   ]
  },
  {
   "cell_type": "code",
   "execution_count": 134,
   "id": "61d8fd49",
   "metadata": {},
   "outputs": [
    {
     "data": {
      "text/html": [
       "<div>\n",
       "<style scoped>\n",
       "    .dataframe tbody tr th:only-of-type {\n",
       "        vertical-align: middle;\n",
       "    }\n",
       "\n",
       "    .dataframe tbody tr th {\n",
       "        vertical-align: top;\n",
       "    }\n",
       "\n",
       "    .dataframe thead th {\n",
       "        text-align: right;\n",
       "    }\n",
       "</style>\n",
       "<table border=\"1\" class=\"dataframe\">\n",
       "  <thead>\n",
       "    <tr style=\"text-align: right;\">\n",
       "      <th></th>\n",
       "      <th>ID</th>\n",
       "      <th>Year_Birth</th>\n",
       "      <th>Education</th>\n",
       "      <th>Marital_Status</th>\n",
       "      <th>Income</th>\n",
       "      <th>Kidhome</th>\n",
       "      <th>Teenhome</th>\n",
       "      <th>Dt_Customer</th>\n",
       "      <th>Recency</th>\n",
       "      <th>MntWines</th>\n",
       "      <th>...</th>\n",
       "      <th>NumStorePurchases</th>\n",
       "      <th>NumWebVisitsMonth</th>\n",
       "      <th>AcceptedCmp3</th>\n",
       "      <th>AcceptedCmp4</th>\n",
       "      <th>AcceptedCmp5</th>\n",
       "      <th>AcceptedCmp1</th>\n",
       "      <th>AcceptedCmp2</th>\n",
       "      <th>Response</th>\n",
       "      <th>Complain</th>\n",
       "      <th>Country</th>\n",
       "    </tr>\n",
       "  </thead>\n",
       "  <tbody>\n",
       "    <tr>\n",
       "      <th>0</th>\n",
       "      <td>1826</td>\n",
       "      <td>1970</td>\n",
       "      <td>Graduation</td>\n",
       "      <td>Divorced</td>\n",
       "      <td>$84,835.00</td>\n",
       "      <td>0</td>\n",
       "      <td>0</td>\n",
       "      <td>6/16/14</td>\n",
       "      <td>0</td>\n",
       "      <td>189</td>\n",
       "      <td>...</td>\n",
       "      <td>6</td>\n",
       "      <td>1</td>\n",
       "      <td>0</td>\n",
       "      <td>0</td>\n",
       "      <td>0</td>\n",
       "      <td>0</td>\n",
       "      <td>0</td>\n",
       "      <td>1</td>\n",
       "      <td>0</td>\n",
       "      <td>SP</td>\n",
       "    </tr>\n",
       "    <tr>\n",
       "      <th>1</th>\n",
       "      <td>1</td>\n",
       "      <td>1961</td>\n",
       "      <td>Graduation</td>\n",
       "      <td>Single</td>\n",
       "      <td>$57,091.00</td>\n",
       "      <td>0</td>\n",
       "      <td>0</td>\n",
       "      <td>6/15/14</td>\n",
       "      <td>0</td>\n",
       "      <td>464</td>\n",
       "      <td>...</td>\n",
       "      <td>7</td>\n",
       "      <td>5</td>\n",
       "      <td>0</td>\n",
       "      <td>0</td>\n",
       "      <td>0</td>\n",
       "      <td>0</td>\n",
       "      <td>1</td>\n",
       "      <td>1</td>\n",
       "      <td>0</td>\n",
       "      <td>CA</td>\n",
       "    </tr>\n",
       "    <tr>\n",
       "      <th>2</th>\n",
       "      <td>10476</td>\n",
       "      <td>1958</td>\n",
       "      <td>Graduation</td>\n",
       "      <td>Married</td>\n",
       "      <td>$67,267.00</td>\n",
       "      <td>0</td>\n",
       "      <td>1</td>\n",
       "      <td>5/13/14</td>\n",
       "      <td>0</td>\n",
       "      <td>134</td>\n",
       "      <td>...</td>\n",
       "      <td>5</td>\n",
       "      <td>2</td>\n",
       "      <td>0</td>\n",
       "      <td>0</td>\n",
       "      <td>0</td>\n",
       "      <td>0</td>\n",
       "      <td>0</td>\n",
       "      <td>0</td>\n",
       "      <td>0</td>\n",
       "      <td>US</td>\n",
       "    </tr>\n",
       "    <tr>\n",
       "      <th>3</th>\n",
       "      <td>1386</td>\n",
       "      <td>1967</td>\n",
       "      <td>Graduation</td>\n",
       "      <td>Together</td>\n",
       "      <td>$32,474.00</td>\n",
       "      <td>1</td>\n",
       "      <td>1</td>\n",
       "      <td>5/11/14</td>\n",
       "      <td>0</td>\n",
       "      <td>10</td>\n",
       "      <td>...</td>\n",
       "      <td>2</td>\n",
       "      <td>7</td>\n",
       "      <td>0</td>\n",
       "      <td>0</td>\n",
       "      <td>0</td>\n",
       "      <td>0</td>\n",
       "      <td>0</td>\n",
       "      <td>0</td>\n",
       "      <td>0</td>\n",
       "      <td>AUS</td>\n",
       "    </tr>\n",
       "    <tr>\n",
       "      <th>4</th>\n",
       "      <td>5371</td>\n",
       "      <td>1989</td>\n",
       "      <td>Graduation</td>\n",
       "      <td>Single</td>\n",
       "      <td>$21,474.00</td>\n",
       "      <td>1</td>\n",
       "      <td>0</td>\n",
       "      <td>4/8/14</td>\n",
       "      <td>0</td>\n",
       "      <td>6</td>\n",
       "      <td>...</td>\n",
       "      <td>2</td>\n",
       "      <td>7</td>\n",
       "      <td>1</td>\n",
       "      <td>0</td>\n",
       "      <td>0</td>\n",
       "      <td>0</td>\n",
       "      <td>0</td>\n",
       "      <td>1</td>\n",
       "      <td>0</td>\n",
       "      <td>SP</td>\n",
       "    </tr>\n",
       "  </tbody>\n",
       "</table>\n",
       "<p>5 rows × 28 columns</p>\n",
       "</div>"
      ],
      "text/plain": [
       "      ID  Year_Birth   Education Marital_Status      Income   Kidhome  \\\n",
       "0   1826        1970  Graduation       Divorced  $84,835.00         0   \n",
       "1      1        1961  Graduation         Single  $57,091.00         0   \n",
       "2  10476        1958  Graduation        Married  $67,267.00         0   \n",
       "3   1386        1967  Graduation       Together  $32,474.00         1   \n",
       "4   5371        1989  Graduation         Single  $21,474.00         1   \n",
       "\n",
       "   Teenhome Dt_Customer  Recency  MntWines  ...  NumStorePurchases  \\\n",
       "0         0     6/16/14        0       189  ...                  6   \n",
       "1         0     6/15/14        0       464  ...                  7   \n",
       "2         1     5/13/14        0       134  ...                  5   \n",
       "3         1     5/11/14        0        10  ...                  2   \n",
       "4         0      4/8/14        0         6  ...                  2   \n",
       "\n",
       "   NumWebVisitsMonth  AcceptedCmp3  AcceptedCmp4  AcceptedCmp5  AcceptedCmp1  \\\n",
       "0                  1             0             0             0             0   \n",
       "1                  5             0             0             0             0   \n",
       "2                  2             0             0             0             0   \n",
       "3                  7             0             0             0             0   \n",
       "4                  7             1             0             0             0   \n",
       "\n",
       "   AcceptedCmp2  Response  Complain  Country  \n",
       "0             0         1         0       SP  \n",
       "1             1         1         0       CA  \n",
       "2             0         0         0       US  \n",
       "3             0         0         0      AUS  \n",
       "4             0         1         0       SP  \n",
       "\n",
       "[5 rows x 28 columns]"
      ]
     },
     "execution_count": 134,
     "metadata": {},
     "output_type": "execute_result"
    }
   ],
   "source": [
    "import pandas as pd\n",
    "df = pd.read_csv ('marketing_data.csv')\n",
    "\n",
    "df.head()"
   ]
  },
  {
   "cell_type": "markdown",
   "id": "9ddcc16d",
   "metadata": {},
   "source": [
    "#### Now, let's try to practice creating graphical representations of the data."
   ]
  },
  {
   "cell_type": "markdown",
   "id": "e3db422e",
   "metadata": {},
   "source": [
    "##### What kind of graph would you use if you wanted to plot the distribution of the incomes? Make sure to explain what would be on the x axis and on the y axis. "
   ]
  },
  {
   "cell_type": "markdown",
   "id": "805d1c7c",
   "metadata": {},
   "source": [
    "To plot the distribution of income I went with a histogram. The x axis represent the income level and the y axis represent the amount of individuals who make that amount."
   ]
  },
  {
   "cell_type": "markdown",
   "id": "0b77d4dd",
   "metadata": {},
   "source": [
    "##### Now, create the graph. Be sure to import the correct packages if you haven't already. "
   ]
  },
  {
   "cell_type": "code",
   "execution_count": 138,
   "id": "542913ac",
   "metadata": {},
   "outputs": [
    {
     "name": "stdout",
     "output_type": "stream",
     "text": [
      "666666.0\n"
     ]
    },
    {
     "data": {
      "text/plain": [
       "Text(0.5, 1.0, 'Histogram of Income')"
      ]
     },
     "execution_count": 138,
     "metadata": {},
     "output_type": "execute_result"
    },
    {
     "data": {
      "image/png": "[encoded data removed]",
      "text/plain": [
       "<Figure size 432x288 with 1 Axes>"
      ]
     },
     "metadata": {
      "needs_background": "light"
     },
     "output_type": "display_data"
    }
   ],
   "source": [
    "import matplotlib.pyplot as plt\n",
    "import numpy as np\n",
    "\n",
    "income = df[' Income '].replace('[\\$,]', '', regex=True).astype(float)\n",
    "income = [x for x in income if math.isnan(x) == False]\n",
    "\n",
    "# Removing strange value 666666.0\n",
    "income.remove(max(income))\n",
    "\n",
    "plt.hist(income,bins=60);\n",
    "plt.ylabel(\"Amount of people\")\n",
    "plt.xlabel(\"Income\")\n",
    "plt.title(\"Histogram of Income\")"
   ]
  },
  {
   "cell_type": "markdown",
   "id": "bcf29078",
   "metadata": {},
   "source": [
    "##### How would you show the relationship between the customer's income (independent variable) and the customer's number of purchases (dependent variable)? Make sure to explain what would be on the x axis and on the y axis. "
   ]
  },
  {
   "cell_type": "markdown",
   "id": "2667382d",
   "metadata": {},
   "source": [
    "What we can use is a scatter plot chart. On the x axis we would have the income of the customers and on the y axis we would have the number of purchases."
   ]
  },
  {
   "cell_type": "markdown",
   "id": "911756fe",
   "metadata": {},
   "source": [
    "##### Now, create the plot that you described above. "
   ]
  },
  {
   "cell_type": "code",
   "execution_count": 151,
   "id": "960bbac5",
   "metadata": {},
   "outputs": [
    {
     "data": {
      "image/png": "[encoded data removed]",
      "text/plain": [
       "<Figure size 432x288 with 1 Axes>"
      ]
     },
     "metadata": {
      "needs_background": "light"
     },
     "output_type": "display_data"
    }
   ],
   "source": [
    "import math\n",
    "\n",
    "# Cleaning up data by removing NAN\n",
    "customer_purchases = df['NumStorePurchases'].replace('[\\$,]', '', regex=True).astype(int)\n",
    "income = [x for x in income if math.isnan(x) == False]\n",
    "# There is a mismatch in size. I trimmed off the last 24 items off of customer_purchases\n",
    "customer_purchases = customer_purchases[:2215]\n",
    "# Plotting chart\n",
    "plt.scatter(income,customer_purchases);\n",
    "plt.ylabel(\"Amount of Purchases\")\n",
    "plt.xlabel(\"Income Level\")\n",
    "plt.title(\"The relationship between Income vs Amount Purchases\");\n",
    "# Data needs to be transformed to make it linear"
   ]
  },
  {
   "cell_type": "markdown",
   "id": "450868b8",
   "metadata": {},
   "source": [
    "##### Now, calculate the z scores for each variable using list comprehension. Then, use the z scores to calculate the correlation coefficient. \n",
    "##### Note: you may need to remove nan values from your zproduct list. Make sure to do this before calculating the correlation coefficient! "
   ]
  },
  {
   "cell_type": "code",
   "execution_count": 179,
   "id": "b717fa3f",
   "metadata": {},
   "outputs": [
    {
     "name": "stdout",
     "output_type": "stream",
     "text": [
      "Mean: 52247.25135379061 STD: 25173.0766609014\n",
      "Mean: 5.790178571428571 STD: 3.2509581456744203\n"
     ]
    },
    {
     "data": {
      "text/plain": [
       "array([[1.        , 0.03176677],\n",
       "       [0.03176677, 1.        ]])"
      ]
     },
     "execution_count": 179,
     "metadata": {},
     "output_type": "execute_result"
    }
   ],
   "source": [
    "from scipy.stats import pearsonr\n",
    "\n",
    "# Calculating Z-Score\n",
    "income2 = df[' Income '].replace('[\\$,]', '', regex=True).astype(float)\n",
    "customer_purchases2 = df['NumStorePurchases'].replace('[\\$,]', '', regex=True).astype(int)\n",
    "\n",
    "x_income = income2.mean()\n",
    "s_income = income2.std()\n",
    "\n",
    "x_purchase = customer_purchases2.mean()\n",
    "s_purchase = customer_purchases2.std()\n",
    "\n",
    "# Printing nums:\n",
    "print(f\"Mean: {x_income} STD: {s_income}\")\n",
    "print(f\"Mean: {x_purchase} STD: {s_purchase}\")\n",
    "\n",
    "# Calculate Z Score\n",
    "\n",
    "\n",
    "#Correlation coefficient\n",
    "np.corrcoef(income, customer_purchases)\n"
   ]
  },
  {
   "cell_type": "markdown",
   "id": "180692ec",
   "metadata": {},
   "source": [
    "##### Is this a strong correlation coefficient? How would you interpret the relationship between income and number of purchased items? "
   ]
  },
  {
   "cell_type": "code",
   "execution_count": null,
   "id": "fe7dc0a0",
   "metadata": {},
   "outputs": [],
   "source": [
    "This looks like a low correlation based on the value 0.04"
   ]
  },
  {
   "cell_type": "markdown",
   "id": "2f85e511",
   "metadata": {},
   "source": [
    "##### Create the same graph and perform the same calculations for income vs MntWines. How do you interpret that R^2 value? "
   ]
  },
  {
   "cell_type": "code",
   "execution_count": 154,
   "id": "ac1aa6fc",
   "metadata": {},
   "outputs": [
    {
     "data": {
      "image/png": "[encoded data removed]",
      "text/plain": [
       "<Figure size 432x288 with 1 Axes>"
      ]
     },
     "metadata": {
      "needs_background": "light"
     },
     "output_type": "display_data"
    }
   ],
   "source": [
    "mnt_wines = df['MntWines']\n",
    "mnt_wines = mnt_wines[:2215]\n",
    "plt.scatter(income,mnt_wines);\n",
    "plt.ylabel(\"Mnt Wines\");\n",
    "plt.xlabel(\"Income Level\");\n",
    "plt.title(\"The relationship between Income vs Mnt Wines\");"
   ]
  },
  {
   "cell_type": "code",
   "execution_count": null,
   "id": "6f96a6c9",
   "metadata": {},
   "outputs": [],
   "source": [
    "There is no corelation between income level and mnt wines."
   ]
  },
  {
   "cell_type": "markdown",
   "id": "c23c6dae",
   "metadata": {},
   "source": [
    "# Regression Practice 1"
   ]
  },
  {
   "cell_type": "markdown",
   "id": "073a1843",
   "metadata": {},
   "source": [
    "In the examples used in class, we used the Numpy method polyfit to create our regression.\n",
    "You can continue doing this, or try with the scikit learn libary. Scikit learn is a VERY popular\n",
    "library in the data science world so it might be helpful to get used to it.\n",
    "You can follow this tutorial if you want to try with the scikit learn library: \n",
    "https://realpython.com/linear-regression-in-python/\n",
    "\n"
   ]
  },
  {
   "cell_type": "markdown",
   "id": "4835ac28",
   "metadata": {},
   "source": [
    "Let's say your company hypothesizes that a customer's household income impacts the total number of purchases they make.\n",
    "Start by creating the total_purchases column, which should be the sum of the 'NumDealsPurchases', 'NumWebPurchases',\n",
    "'NumCatalogPurchases', and 'NumStorePurchases' columns."
   ]
  },
  {
   "cell_type": "code",
   "execution_count": 118,
   "id": "fa5ccb6f",
   "metadata": {},
   "outputs": [
    {
     "data": {
      "text/plain": [
       "0       29\n",
       "1       35\n",
       "2       21\n",
       "3        7\n",
       "4       14\n",
       "        ..\n",
       "2235    38\n",
       "2236     9\n",
       "2237    26\n",
       "2238    39\n",
       "2239    35\n",
       "Name: NumDealsPurchases, Length: 2240, dtype: int64"
      ]
     },
     "execution_count": 118,
     "metadata": {},
     "output_type": "execute_result"
    }
   ],
   "source": [
    "# Cop\n",
    "df['NumDealsPurchases'] = df['NumDealsPurchases'] + df['NumWebPurchases'] + df['NumCatalogPurchases'] + df['NumStorePurchases']\n",
    "df['NumDealsPurchases']"
   ]
  },
  {
   "cell_type": "markdown",
   "id": "ae3c78a2",
   "metadata": {},
   "source": [
    "Now, create a scatterplot to see what we're working with:"
   ]
  },
  {
   "cell_type": "code",
   "execution_count": 124,
   "id": "b0c4585e",
   "metadata": {},
   "outputs": [
    {
     "data": {
      "image/png": "[encoded data removed]",
      "text/plain": [
       "<Figure size 432x288 with 1 Axes>"
      ]
     },
     "metadata": {
      "needs_background": "light"
     },
     "output_type": "display_data"
    }
   ],
   "source": [
    "num_deals_purchases = df['NumDealsPurchases']\n",
    "income_level = df[' Income '].replace('[\\$,]', '', regex=True).astype(float)\n",
    "plt.scatter(income_level,num_deals_purchases);\n",
    "plt.ylabel(\"Number of Deals Purchased\");\n",
    "plt.xlabel(\"Income\");\n",
    "plt.title(\"The relationship between Income vs Number of Deals Purchased\");"
   ]
  },
  {
   "cell_type": "markdown",
   "id": "228ddd67",
   "metadata": {},
   "source": [
    "Filter the dataframe to users with income less than $100,000 to remove outliers.\n",
    "Re-create your total_purchases column in this new dataframe."
   ]
  },
  {
   "cell_type": "code",
   "execution_count": 169,
   "id": "afcce610",
   "metadata": {},
   "outputs": [
    {
     "name": "stderr",
     "output_type": "stream",
     "text": [
      "<ipython-input-169-26b1f11fcb28>:4: SettingWithCopyWarning: \n",
      "A value is trying to be set on a copy of a slice from a DataFrame.\n",
      "Try using .loc[row_indexer,col_indexer] = value instead\n",
      "\n",
      "See the caveats in the documentation: https://pandas.pydata.org/pandas-docs/stable/user_guide/indexing.html#returning-a-view-versus-a-copy\n",
      "  df_new[' Income '] = df_new[' Income '].replace('[\\$,]', '', regex=True).astype(float)\n"
     ]
    },
    {
     "data": {
      "text/plain": [
       "0       15\n",
       "1       18\n",
       "2       11\n",
       "3        4\n",
       "4        8\n",
       "        ..\n",
       "2235    20\n",
       "2236     5\n",
       "2237    14\n",
       "2238    20\n",
       "2239    18\n",
       "Name: NumDealsPurchases, Length: 2203, dtype: int64"
      ]
     },
     "execution_count": 169,
     "metadata": {},
     "output_type": "execute_result"
    }
   ],
   "source": [
    "# Drop NaNs\n",
    "df_new = df.dropna()\n",
    "# Convert all income with floats\n",
    "df_new[' Income '] = df_new[' Income '].replace('[\\$,]', '', regex=True).astype(float)\n",
    "# Filter out all that make less than 100000\n",
    "df_new = df_new[df_new[' Income '] < 100000.0]\n",
    "df_new['NumDealsPurchases'] = df_new['NumDealsPurchases'] + df_new['NumWebPurchases'] + df_new['NumCatalogPurchases'] + df_new['NumStorePurchases']\n",
    "df_new['NumDealsPurchases']"
   ]
  },
  {
   "cell_type": "markdown",
   "id": "065d9091",
   "metadata": {},
   "source": [
    "Re-draw the plot"
   ]
  },
  {
   "cell_type": "code",
   "execution_count": 170,
   "id": "9fbfc4af",
   "metadata": {},
   "outputs": [
    {
     "data": {
      "image/png": "[encoded data removed]",
      "text/plain": [
       "<Figure size 432x288 with 1 Axes>"
      ]
     },
     "metadata": {
      "needs_background": "light"
     },
     "output_type": "display_data"
    }
   ],
   "source": [
    "num_deals_purchases = df_new['NumDealsPurchases']\n",
    "income_level = df_new[' Income ']\n",
    "\n",
    "plt.scatter(income_level,num_deals_purchases);\n",
    "plt.ylabel(\"Number of Deals Purchased\");\n",
    "plt.xlabel(\"Income\");\n",
    "plt.title(\"The relationship between Income vs Number of Deals Purchased\");"
   ]
  },
  {
   "cell_type": "markdown",
   "id": "66ade70b",
   "metadata": {},
   "source": [
    "Much better! Now run the regression. Decide if you think it's linear or needs to be transformed."
   ]
  },
  {
   "cell_type": "code",
   "execution_count": 177,
   "id": "af289d69",
   "metadata": {},
   "outputs": [
    {
     "name": "stdout",
     "output_type": "stream",
     "text": [
      "y = 0.0x + 1.56\n"
     ]
    }
   ],
   "source": [
    "m,b = np.polyfit(income_level, num_deals_purchases,1)\n",
    "print(f\"y = {round(m,2)}x + {round(b,2)}\")"
   ]
  },
  {
   "cell_type": "code",
   "execution_count": null,
   "id": "32945a45",
   "metadata": {},
   "outputs": [],
   "source": []
  },
  {
   "cell_type": "code",
   "execution_count": null,
   "id": "a30996a7",
   "metadata": {},
   "outputs": [],
   "source": []
  },
  {
   "cell_type": "code",
   "execution_count": null,
   "id": "3d8f045d",
   "metadata": {},
   "outputs": [],
   "source": []
  },
  {
   "cell_type": "code",
   "execution_count": null,
   "id": "3c5f4ca0",
   "metadata": {},
   "outputs": [],
   "source": []
  },
  {
   "cell_type": "markdown",
   "id": "e96140f9",
   "metadata": {},
   "source": [
    "# Regression Practice 2"
   ]
  },
  {
   "cell_type": "code",
   "execution_count": null,
   "id": "33ac32d0",
   "metadata": {},
   "outputs": [],
   "source": [
    "# Let's say we now hypothesize that the customer's income level impacts just web purchases.\n",
    "# Display the scatterplot\n",
    "\n",
    "plt.scatter(income_level,num_deals_purchases);\n",
    "plt.ylabel(\"Number of Deals Purchased\");\n",
    "plt.xlabel(\"Income\");\n",
    "plt.title(\"The relationship between Income vs Number of Deals Purchased\");"
   ]
  },
  {
   "cell_type": "code",
   "execution_count": null,
   "id": "648cab2e",
   "metadata": {},
   "outputs": [],
   "source": [
    "# Let's remove some outliers; restrict to incomes less than 100,000, and web purchases less than 15.\n",
    "# Then redraw the scatterplot.\n"
   ]
  },
  {
   "cell_type": "markdown",
   "id": "055db54a",
   "metadata": {},
   "source": [
    "Is this curved or straight? Hard to tell, right? (If you're not sure, run it both ways! Great practice!)"
   ]
  },
  {
   "cell_type": "code",
   "execution_count": 45,
   "id": "8880f06f",
   "metadata": {},
   "outputs": [],
   "source": [
    "# Hard to tell, but it seems to be curved. Here's running it both ways though:"
   ]
  },
  {
   "cell_type": "code",
   "execution_count": null,
   "id": "ae26ed9f",
   "metadata": {},
   "outputs": [],
   "source": [
    "# Run the linear regression\n"
   ]
  },
  {
   "cell_type": "code",
   "execution_count": null,
   "id": "8a39614a",
   "metadata": {},
   "outputs": [],
   "source": [
    "#Print some of the model features\n"
   ]
  },
  {
   "cell_type": "code",
   "execution_count": null,
   "id": "78b4452e",
   "metadata": {},
   "outputs": [],
   "source": [
    "# Establish the line\n"
   ]
  },
  {
   "cell_type": "code",
   "execution_count": null,
   "id": "2415f9fb",
   "metadata": {},
   "outputs": [],
   "source": [
    "#Visualize the results\n"
   ]
  },
  {
   "cell_type": "markdown",
   "id": "001be76d",
   "metadata": {},
   "source": [
    "Is this an ideal model? No, of course not. We can tell from the scatterplot it doesn't really look linear.\n",
    "The R-Squared value isn't great either.\n",
    "Unforutnately this will be the majority of data you encounter in the real world.\n",
    "There will be very few circumstances where the scatterplot looks nice and neat like in fake examples\n",
    "you may have seen in school. R-squared values above .9 are also relatively rare to come across."
   ]
  },
  {
   "cell_type": "code",
   "execution_count": null,
   "id": "44d92393",
   "metadata": {},
   "outputs": [],
   "source": [
    "# Regression with Log:\n",
    "\n"
   ]
  },
  {
   "cell_type": "code",
   "execution_count": null,
   "id": "c593c3d6",
   "metadata": {},
   "outputs": [],
   "source": [
    "#Print some of the model features\n"
   ]
  },
  {
   "cell_type": "code",
   "execution_count": null,
   "id": "6a5443ac",
   "metadata": {},
   "outputs": [],
   "source": [
    "# Establish the line\n"
   ]
  },
  {
   "cell_type": "code",
   "execution_count": null,
   "id": "91f70868",
   "metadata": {},
   "outputs": [],
   "source": [
    "#Visualize the results\n"
   ]
  },
  {
   "cell_type": "markdown",
   "id": "7790dbb9",
   "metadata": {},
   "source": [
    "# Class Review"
   ]
  },
  {
   "cell_type": "markdown",
   "id": "afa18933",
   "metadata": {},
   "source": [
    "### Now, let's do a review of the full course material! We will use the fundamentals data set for this section. Start by using  the .head() function. "
   ]
  },
  {
   "cell_type": "code",
   "execution_count": 83,
   "id": "d7b4699f",
   "metadata": {},
   "outputs": [
    {
     "data": {
      "text/html": [
       "<div>\n",
       "<style scoped>\n",
       "    .dataframe tbody tr th:only-of-type {\n",
       "        vertical-align: middle;\n",
       "    }\n",
       "\n",
       "    .dataframe tbody tr th {\n",
       "        vertical-align: top;\n",
       "    }\n",
       "\n",
       "    .dataframe thead th {\n",
       "        text-align: right;\n",
       "    }\n",
       "</style>\n",
       "<table border=\"1\" class=\"dataframe\">\n",
       "  <thead>\n",
       "    <tr style=\"text-align: right;\">\n",
       "      <th></th>\n",
       "      <th>Unnamed: 0</th>\n",
       "      <th>Ticker Symbol</th>\n",
       "      <th>Period Ending</th>\n",
       "      <th>Accounts Payable</th>\n",
       "      <th>Accounts Receivable</th>\n",
       "      <th>Add'l income/expense items</th>\n",
       "      <th>After Tax ROE</th>\n",
       "      <th>Capital Expenditures</th>\n",
       "      <th>Capital Surplus</th>\n",
       "      <th>Cash Ratio</th>\n",
       "      <th>...</th>\n",
       "      <th>Total Current Assets</th>\n",
       "      <th>Total Current Liabilities</th>\n",
       "      <th>Total Equity</th>\n",
       "      <th>Total Liabilities</th>\n",
       "      <th>Total Liabilities &amp; Equity</th>\n",
       "      <th>Total Revenue</th>\n",
       "      <th>Treasury Stock</th>\n",
       "      <th>For Year</th>\n",
       "      <th>Earnings Per Share</th>\n",
       "      <th>Estimated Shares Outstanding</th>\n",
       "    </tr>\n",
       "  </thead>\n",
       "  <tbody>\n",
       "    <tr>\n",
       "      <th>0</th>\n",
       "      <td>0</td>\n",
       "      <td>AAL</td>\n",
       "      <td>2012-12-31</td>\n",
       "      <td>3.068000e+09</td>\n",
       "      <td>-222000000.0</td>\n",
       "      <td>-1.961000e+09</td>\n",
       "      <td>23.0</td>\n",
       "      <td>-1.888000e+09</td>\n",
       "      <td>4.695000e+09</td>\n",
       "      <td>53.0</td>\n",
       "      <td>...</td>\n",
       "      <td>7.072000e+09</td>\n",
       "      <td>9.011000e+09</td>\n",
       "      <td>-7.987000e+09</td>\n",
       "      <td>2.489100e+10</td>\n",
       "      <td>1.690400e+10</td>\n",
       "      <td>2.485500e+10</td>\n",
       "      <td>-367000000.0</td>\n",
       "      <td>2012.0</td>\n",
       "      <td>-5.60</td>\n",
       "      <td>3.350000e+08</td>\n",
       "    </tr>\n",
       "    <tr>\n",
       "      <th>1</th>\n",
       "      <td>1</td>\n",
       "      <td>AAL</td>\n",
       "      <td>2013-12-31</td>\n",
       "      <td>4.975000e+09</td>\n",
       "      <td>-93000000.0</td>\n",
       "      <td>-2.723000e+09</td>\n",
       "      <td>67.0</td>\n",
       "      <td>-3.114000e+09</td>\n",
       "      <td>1.059200e+10</td>\n",
       "      <td>75.0</td>\n",
       "      <td>...</td>\n",
       "      <td>1.432300e+10</td>\n",
       "      <td>1.380600e+10</td>\n",
       "      <td>-2.731000e+09</td>\n",
       "      <td>4.500900e+10</td>\n",
       "      <td>4.227800e+10</td>\n",
       "      <td>2.674300e+10</td>\n",
       "      <td>0.0</td>\n",
       "      <td>2013.0</td>\n",
       "      <td>-11.25</td>\n",
       "      <td>1.630222e+08</td>\n",
       "    </tr>\n",
       "    <tr>\n",
       "      <th>2</th>\n",
       "      <td>2</td>\n",
       "      <td>AAL</td>\n",
       "      <td>2014-12-31</td>\n",
       "      <td>4.668000e+09</td>\n",
       "      <td>-160000000.0</td>\n",
       "      <td>-1.500000e+08</td>\n",
       "      <td>143.0</td>\n",
       "      <td>-5.311000e+09</td>\n",
       "      <td>1.513500e+10</td>\n",
       "      <td>60.0</td>\n",
       "      <td>...</td>\n",
       "      <td>1.175000e+10</td>\n",
       "      <td>1.340400e+10</td>\n",
       "      <td>2.021000e+09</td>\n",
       "      <td>4.120400e+10</td>\n",
       "      <td>4.322500e+10</td>\n",
       "      <td>4.265000e+10</td>\n",
       "      <td>0.0</td>\n",
       "      <td>2014.0</td>\n",
       "      <td>4.02</td>\n",
       "      <td>7.169154e+08</td>\n",
       "    </tr>\n",
       "    <tr>\n",
       "      <th>3</th>\n",
       "      <td>3</td>\n",
       "      <td>AAL</td>\n",
       "      <td>2015-12-31</td>\n",
       "      <td>5.102000e+09</td>\n",
       "      <td>352000000.0</td>\n",
       "      <td>-7.080000e+08</td>\n",
       "      <td>135.0</td>\n",
       "      <td>-6.151000e+09</td>\n",
       "      <td>1.159100e+10</td>\n",
       "      <td>51.0</td>\n",
       "      <td>...</td>\n",
       "      <td>9.985000e+09</td>\n",
       "      <td>1.360500e+10</td>\n",
       "      <td>5.635000e+09</td>\n",
       "      <td>4.278000e+10</td>\n",
       "      <td>4.841500e+10</td>\n",
       "      <td>4.099000e+10</td>\n",
       "      <td>0.0</td>\n",
       "      <td>2015.0</td>\n",
       "      <td>11.39</td>\n",
       "      <td>6.681299e+08</td>\n",
       "    </tr>\n",
       "    <tr>\n",
       "      <th>4</th>\n",
       "      <td>4</td>\n",
       "      <td>AAP</td>\n",
       "      <td>2012-12-29</td>\n",
       "      <td>2.409453e+09</td>\n",
       "      <td>-89482000.0</td>\n",
       "      <td>6.000000e+05</td>\n",
       "      <td>32.0</td>\n",
       "      <td>-2.711820e+08</td>\n",
       "      <td>5.202150e+08</td>\n",
       "      <td>23.0</td>\n",
       "      <td>...</td>\n",
       "      <td>3.184200e+09</td>\n",
       "      <td>2.559638e+09</td>\n",
       "      <td>1.210694e+09</td>\n",
       "      <td>3.403120e+09</td>\n",
       "      <td>4.613814e+09</td>\n",
       "      <td>6.205003e+09</td>\n",
       "      <td>-27095000.0</td>\n",
       "      <td>2012.0</td>\n",
       "      <td>5.29</td>\n",
       "      <td>7.328355e+07</td>\n",
       "    </tr>\n",
       "  </tbody>\n",
       "</table>\n",
       "<p>5 rows × 79 columns</p>\n",
       "</div>"
      ],
      "text/plain": [
       "   Unnamed: 0 Ticker Symbol Period Ending  Accounts Payable  \\\n",
       "0           0           AAL    2012-12-31      3.068000e+09   \n",
       "1           1           AAL    2013-12-31      4.975000e+09   \n",
       "2           2           AAL    2014-12-31      4.668000e+09   \n",
       "3           3           AAL    2015-12-31      5.102000e+09   \n",
       "4           4           AAP    2012-12-29      2.409453e+09   \n",
       "\n",
       "   Accounts Receivable  Add'l income/expense items  After Tax ROE  \\\n",
       "0         -222000000.0               -1.961000e+09           23.0   \n",
       "1          -93000000.0               -2.723000e+09           67.0   \n",
       "2         -160000000.0               -1.500000e+08          143.0   \n",
       "3          352000000.0               -7.080000e+08          135.0   \n",
       "4          -89482000.0                6.000000e+05           32.0   \n",
       "\n",
       "   Capital Expenditures  Capital Surplus  Cash Ratio  ...  \\\n",
       "0         -1.888000e+09     4.695000e+09        53.0  ...   \n",
       "1         -3.114000e+09     1.059200e+10        75.0  ...   \n",
       "2         -5.311000e+09     1.513500e+10        60.0  ...   \n",
       "3         -6.151000e+09     1.159100e+10        51.0  ...   \n",
       "4         -2.711820e+08     5.202150e+08        23.0  ...   \n",
       "\n",
       "   Total Current Assets  Total Current Liabilities  Total Equity  \\\n",
       "0          7.072000e+09               9.011000e+09 -7.987000e+09   \n",
       "1          1.432300e+10               1.380600e+10 -2.731000e+09   \n",
       "2          1.175000e+10               1.340400e+10  2.021000e+09   \n",
       "3          9.985000e+09               1.360500e+10  5.635000e+09   \n",
       "4          3.184200e+09               2.559638e+09  1.210694e+09   \n",
       "\n",
       "   Total Liabilities  Total Liabilities & Equity  Total Revenue  \\\n",
       "0       2.489100e+10                1.690400e+10   2.485500e+10   \n",
       "1       4.500900e+10                4.227800e+10   2.674300e+10   \n",
       "2       4.120400e+10                4.322500e+10   4.265000e+10   \n",
       "3       4.278000e+10                4.841500e+10   4.099000e+10   \n",
       "4       3.403120e+09                4.613814e+09   6.205003e+09   \n",
       "\n",
       "   Treasury Stock  For Year  Earnings Per Share  Estimated Shares Outstanding  \n",
       "0    -367000000.0    2012.0               -5.60                  3.350000e+08  \n",
       "1             0.0    2013.0              -11.25                  1.630222e+08  \n",
       "2             0.0    2014.0                4.02                  7.169154e+08  \n",
       "3             0.0    2015.0               11.39                  6.681299e+08  \n",
       "4     -27095000.0    2012.0                5.29                  7.328355e+07  \n",
       "\n",
       "[5 rows x 79 columns]"
      ]
     },
     "execution_count": 83,
     "metadata": {},
     "output_type": "execute_result"
    }
   ],
   "source": [
    "df2 = pd.read_csv ('fundamentals.csv')\n",
    "df2.head()"
   ]
  },
  {
   "cell_type": "markdown",
   "id": "90b4e7e7",
   "metadata": {},
   "source": [
    "Let's start by doing exploratory data analysis on the After Tax ROE variable. Calculate the mean, median, mode, range and standard deviation of this variable. "
   ]
  },
  {
   "cell_type": "code",
   "execution_count": 101,
   "id": "ec0deae3",
   "metadata": {},
   "outputs": [
    {
     "name": "stdout",
     "output_type": "stream",
     "text": [
      "Mean  : 43.6 Median: 16.0 Mode  : 0    10.0\n",
      "dtype: float64 Range : 5789.0 Std: 233.92\n"
     ]
    }
   ],
   "source": [
    "after_tax_roe = df2['After Tax ROE']\n",
    "print(f\"Mean  : {round(after_tax_roe.mean(),2)} Median: {after_tax_roe.median()} Mode  : {after_tax_roe.mode()} Range : {after_tax_roe.max() - after_tax_roe.min()} Std: {round(after_tax_roe.std(),2)}\")\n"
   ]
  },
  {
   "cell_type": "markdown",
   "id": "f03563d5",
   "metadata": {},
   "source": [
    "Now, create a histogram of the Cash Ratio. "
   ]
  },
  {
   "cell_type": "code",
   "execution_count": 105,
   "id": "c9e43b45",
   "metadata": {},
   "outputs": [
    {
     "data": {
      "text/plain": [
       "Text(0.5, 1.0, 'Histogram of Cash Ratio')"
      ]
     },
     "execution_count": 105,
     "metadata": {},
     "output_type": "execute_result"
    },
    {
     "data": {
      "image/png": "[encoded data removed]",
      "text/plain": [
       "<Figure size 432x288 with 1 Axes>"
      ]
     },
     "metadata": {
      "needs_background": "light"
     },
     "output_type": "display_data"
    }
   ],
   "source": [
    "cash_ratio = df2['Cash Ratio']\n",
    "plt.hist(cash_ratio,bins=60);\n",
    "plt.ylabel(\"Amount of people\")\n",
    "plt.xlabel(\"Cash Ratio\")\n",
    "plt.title(\"Histogram of Cash Ratio\")"
   ]
  },
  {
   "cell_type": "markdown",
   "id": "da38697d",
   "metadata": {},
   "source": [
    "Describe the shape, center and spread of the distribution. "
   ]
  },
  {
   "cell_type": "code",
   "execution_count": null,
   "id": "1e1d87f6",
   "metadata": {},
   "outputs": [],
   "source": [
    "The distribution is skewed right with a center around 100, and a spread of 0-1100"
   ]
  },
  {
   "cell_type": "code",
   "execution_count": null,
   "id": "b370f521",
   "metadata": {},
   "outputs": [],
   "source": []
  },
  {
   "cell_type": "markdown",
   "id": "a00d2139",
   "metadata": {},
   "source": [
    "Say that you wanted to survey a subset of the dataset. How many people would you want to sample? "
   ]
  },
  {
   "cell_type": "code",
   "execution_count": 112,
   "id": "3ffe0fa8",
   "metadata": {},
   "outputs": [
    {
     "name": "stdout",
     "output_type": "stream",
     "text": [
      "195.91\n"
     ]
    }
   ],
   "source": [
    "data_set_size = len(df2['Cash Ratio'])\n",
    "print(data_set_size * .11)"
   ]
  },
  {
   "cell_type": "markdown",
   "id": "ee90b5cd",
   "metadata": {},
   "source": [
    "Now, use .sample to sample your choice of rows of the fundamentals data set. "
   ]
  },
  {
   "cell_type": "code",
   "execution_count": 115,
   "id": "ff64e51e",
   "metadata": {},
   "outputs": [
    {
     "data": {
      "text/plain": [
       "514      70.0\n",
       "320       NaN\n",
       "1103     13.0\n",
       "186      30.0\n",
       "862     428.0\n",
       "1180     57.0\n",
       "1417      NaN\n",
       "1328     17.0\n",
       "1058      3.0\n",
       "231      22.0\n",
       "Name: Cash Ratio, dtype: float64"
      ]
     },
     "execution_count": 115,
     "metadata": {},
     "output_type": "execute_result"
    }
   ],
   "source": [
    "df2['Cash Ratio'].sample(10)"
   ]
  },
  {
   "cell_type": "markdown",
   "id": "0300bc68",
   "metadata": {},
   "source": [
    "Now calculate the mean and standard deviation Cash Ratio of your sample. "
   ]
  },
  {
   "cell_type": "code",
   "execution_count": 116,
   "id": "5574f4a9",
   "metadata": {},
   "outputs": [
    {
     "data": {
      "text/plain": [
       "count    1482.000000\n",
       "mean       74.457490\n",
       "std       102.298374\n",
       "min         0.000000\n",
       "25%        17.000000\n",
       "50%        41.000000\n",
       "75%        90.000000\n",
       "max      1041.000000\n",
       "Name: Cash Ratio, dtype: float64"
      ]
     },
     "execution_count": 116,
     "metadata": {},
     "output_type": "execute_result"
    }
   ],
   "source": [
    "df2['Cash Ratio'].describe()"
   ]
  },
  {
   "cell_type": "markdown",
   "id": "2774b815",
   "metadata": {},
   "source": [
    "Use the appropriate hypothesis test to determine whether the difference in mean between your sample and the full data set is statistically significant at the 5% level. Make sure to remove any nan values before running your test! "
   ]
  },
  {
   "cell_type": "code",
   "execution_count": 176,
   "id": "4d344481",
   "metadata": {},
   "outputs": [
    {
     "ename": "NameError",
     "evalue": "name 'null_hypothesis' is not defined",
     "output_type": "error",
     "traceback": [
      "\u001b[0;31m---------------------------------------------------------------------------\u001b[0m",
      "\u001b[0;31mNameError\u001b[0m                                 Traceback (most recent call last)",
      "\u001b[0;32m<ipython-input-176-3d6d9ed052d2>\u001b[0m in \u001b[0;36m<module>\u001b[0;34m\u001b[0m\n\u001b[1;32m      7\u001b[0m \u001b[0malpha\u001b[0m \u001b[0;34m=\u001b[0m \u001b[0;36m0.05\u001b[0m\u001b[0;34m\u001b[0m\u001b[0;34m\u001b[0m\u001b[0m\n\u001b[1;32m      8\u001b[0m \u001b[0;31m# for ha != ho use alternative = 'two-sided'\u001b[0m\u001b[0;34m\u001b[0m\u001b[0;34m\u001b[0m\u001b[0;34m\u001b[0m\u001b[0m\n\u001b[0;32m----> 9\u001b[0;31m \u001b[0mproportions_ztest\u001b[0m\u001b[0;34m(\u001b[0m\u001b[0mcount\u001b[0m\u001b[0;34m=\u001b[0m\u001b[0msample_success\u001b[0m\u001b[0;34m,\u001b[0m \u001b[0mnobs\u001b[0m\u001b[0;34m=\u001b[0m\u001b[0msample_size\u001b[0m\u001b[0;34m,\u001b[0m \u001b[0mvalue\u001b[0m\u001b[0;34m=\u001b[0m\u001b[0mnull_hypothesis\u001b[0m\u001b[0;34m,\u001b[0m \u001b[0malternative\u001b[0m\u001b[0;34m=\u001b[0m\u001b[0;34m'two-sided'\u001b[0m\u001b[0;34m)\u001b[0m\u001b[0;34m\u001b[0m\u001b[0;34m\u001b[0m\u001b[0m\n\u001b[0m",
      "\u001b[0;31mNameError\u001b[0m: name 'null_hypothesis' is not defined"
     ]
    }
   ],
   "source": [
    "cash_ratio = df2['Cash Ratio']\n",
    "cash_ratio.dropna()\n",
    "\n",
    "from statsmodels.stats.proportion import proportions_ztest\n",
    "sample_success = \n",
    "sample_size = len(cash_ratio)\n",
    "null_hypothesis = .5\n",
    "# for ha != ho use alternative = 'two-sided'\n",
    "proportions_ztest(count=sample_success, nobs=sample_size, value=null_hypothesis, alternative='two-sided')"
   ]
  },
  {
   "cell_type": "markdown",
   "id": "efdc9e78",
   "metadata": {},
   "source": [
    "Based on your hypothesis test, what can you conclude? "
   ]
  },
  {
   "cell_type": "code",
   "execution_count": null,
   "id": "adf86adc",
   "metadata": {},
   "outputs": [],
   "source": []
  }
 ],
 "metadata": {
  "kernelspec": {
   "display_name": "Python 3",
   "language": "python",
   "name": "python3"
  },
  "language_info": {
   "codemirror_mode": {
    "name": "ipython",
    "version": 3
   },
   "file_extension": ".py",
   "mimetype": "text/x-python",
   "name": "python",
   "nbconvert_exporter": "python",
   "pygments_lexer": "ipython3",
   "version": "3.8.8"
  }
 },
 "nbformat": 4,
 "nbformat_minor": 5
}
