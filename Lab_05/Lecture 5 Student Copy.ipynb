{
 "cells": [
  {
   "cell_type": "markdown",
   "id": "d3fd43bb",
   "metadata": {},
   "source": [
    "# Lecture 5: Answers"
   ]
  },
  {
   "cell_type": "code",
   "execution_count": null,
   "id": "18e77e5c",
   "metadata": {},
   "outputs": [],
   "source": [
    "# Your company reports that 210 of the 361 human resources employees identify as female, where 34 of the 86 IT. Employees identifgy as women. Establish 95% confidence interval estimate the difference in proportions of women in human resorucews and IT."
   ]
  },
  {
   "cell_type": "code",
   "execution_count": 2,
   "id": "9ad0f742",
   "metadata": {},
   "outputs": [
    {
     "data": {
      "text/plain": [
       "(0.06882054818931503, 0.2951435063392648)"
      ]
     },
     "execution_count": 2,
     "metadata": {},
     "output_type": "execute_result"
    }
   ],
   "source": [
    "import statsmodels.stats.proportion as smp\n",
    "smp.confint_proportions_2indep(210,361,34,86,compare='diff', alpha=0.05)"
   ]
  },
  {
   "cell_type": "markdown",
   "id": "194a6d32",
   "metadata": {},
   "source": [
    "## Teacher Copy Slide 44"
   ]
  },
  {
   "cell_type": "markdown",
   "id": "7283efde",
   "metadata": {},
   "source": [
    "Use Python to calculate the correlation coefficient between the two variables for the following example."
   ]
  },
  {
   "cell_type": "markdown",
   "id": "d5500948",
   "metadata": {},
   "source": [
    "1) Start by importing the necessary packages: "
   ]
  },
  {
   "cell_type": "code",
   "execution_count": 6,
   "id": "11b3d750",
   "metadata": {},
   "outputs": [
    {
     "data": {
      "text/plain": [
       "array([[1.        , 0.92010195],\n",
       "       [0.92010195, 1.        ]])"
      ]
     },
     "execution_count": 6,
     "metadata": {},
     "output_type": "execute_result"
    }
   ],
   "source": [
    "import numpy as np \n",
    "from scipy.stats.stats import pearsonr\n",
    "\n",
    "arr1 = [2.3,5.7,4.8,7.3,5.9,6.2]\n",
    "arr2 = [77,105, 96,118,102,95]\n",
    "\n",
    "np.corrcoef(arr1,arr2)\n",
    "#pearsonr(arr1,arr2)"
   ]
  },
  {
   "cell_type": "markdown",
   "id": "5db38909",
   "metadata": {},
   "source": [
    "2) Start by importing the data. Also, calculate the number of elements in the list. "
   ]
  },
  {
   "cell_type": "code",
   "execution_count": null,
   "id": "892e5e06",
   "metadata": {},
   "outputs": [],
   "source": []
  },
  {
   "cell_type": "markdown",
   "id": "b5cc14e8",
   "metadata": {},
   "source": [
    "3) Calculate the z-scores for each value of x (marketing) and y (orders). We can use list comprehension below"
   ]
  },
  {
   "cell_type": "code",
   "execution_count": null,
   "id": "1e874e6c",
   "metadata": {},
   "outputs": [],
   "source": []
  },
  {
   "cell_type": "markdown",
   "id": "fe37cfe6",
   "metadata": {},
   "source": [
    "4) Use the z-scores to calculate the correlation coefficient. "
   ]
  },
  {
   "cell_type": "code",
   "execution_count": null,
   "id": "fba8d393",
   "metadata": {},
   "outputs": [],
   "source": []
  },
  {
   "cell_type": "markdown",
   "id": "88d746a4",
   "metadata": {},
   "source": [
    "5) Calculate the regression line (intercept and slope) in Python"
   ]
  },
  {
   "cell_type": "code",
   "execution_count": null,
   "id": "b3d9b056",
   "metadata": {},
   "outputs": [],
   "source": []
  },
  {
   "cell_type": "markdown",
   "id": "6c19ceeb",
   "metadata": {},
   "source": [
    "6) What if 100,000 is spent on marketing? "
   ]
  },
  {
   "cell_type": "code",
   "execution_count": null,
   "id": "f073e8ce",
   "metadata": {},
   "outputs": [],
   "source": []
  },
  {
   "cell_type": "markdown",
   "id": "d0e451c4",
   "metadata": {},
   "source": [
    "## Teacher Copy Slide 65"
   ]
  },
  {
   "cell_type": "markdown",
   "id": "01023011",
   "metadata": {},
   "source": [
    "1) Start by importing the data. Also, calculate the number of elements in the list. "
   ]
  },
  {
   "cell_type": "code",
   "execution_count": null,
   "id": "c82484d2",
   "metadata": {},
   "outputs": [],
   "source": [
    "marketingArr = [2.3,5.7,4.8,7.3,5.9,62.2]"
   ]
  },
  {
   "cell_type": "markdown",
   "id": "c4177bb1",
   "metadata": {},
   "source": [
    "2) Calculate the regression line (intercept and slope). You can use the np.polyfit() function. "
   ]
  },
  {
   "cell_type": "code",
   "execution_count": 10,
   "id": "87d19ff1",
   "metadata": {},
   "outputs": [
    {
     "name": "stdout",
     "output_type": "stream",
     "text": [
      "y= 7.3x + 59.68\n"
     ]
    }
   ],
   "source": [
    "m,b = np.polyfit(arr1, arr2,1)\n",
    "print(f\"y= {round(m,2)}x + {round(b,2)}\")"
   ]
  },
  {
   "cell_type": "markdown",
   "id": "a6f974a6",
   "metadata": {},
   "source": [
    "3) Predict the total orders if \\$5000 is spent on marketing. "
   ]
  },
  {
   "cell_type": "code",
   "execution_count": 17,
   "id": "94664720",
   "metadata": {},
   "outputs": [
    {
     "name": "stdout",
     "output_type": "stream",
     "text": [
      "424.68\n"
     ]
    }
   ],
   "source": [
    "print(50*7.3 + 59.68) # WE passing numbers as thousands\n",
    "# The slope of the line teslls use the extra 50k on marketing 424 orders are expected"
   ]
  },
  {
   "cell_type": "markdown",
   "id": "fb708288",
   "metadata": {},
   "source": [
    "4) Predict the total orders if \\$100,000 is spent on marketing. "
   ]
  },
  {
   "cell_type": "code",
   "execution_count": 19,
   "id": "724e02e6",
   "metadata": {},
   "outputs": [
    {
     "name": "stdout",
     "output_type": "stream",
     "text": [
      "789.68\n"
     ]
    }
   ],
   "source": [
    "print(100*7.3 + 59.68)\n",
    "# Should we be confident in this anseer?\n",
    "# no, we are trying to predict values far outside the range we used to calculate the regression line. This is called extrapolation."
   ]
  },
  {
   "cell_type": "markdown",
   "id": "cced3b63",
   "metadata": {},
   "source": [
    "## Teacher Copy Slide 79"
   ]
  },
  {
   "cell_type": "markdown",
   "id": "4e5f4e6d",
   "metadata": {},
   "source": [
    "\n",
    "Use plt.scatter to make a scatterplot with the data. Make sure to have a proper title and axis labels. "
   ]
  },
  {
   "cell_type": "code",
   "execution_count": 27,
   "id": "b16394f6",
   "metadata": {},
   "outputs": [
    {
     "data": {
      "image/png": "[encoded data removed]",
      "text/plain": [
       "<Figure size 432x288 with 1 Axes>"
      ]
     },
     "metadata": {
      "needs_background": "light"
     },
     "output_type": "display_data"
    }
   ],
   "source": [
    "# Correleation R\n",
    "num_softwareUpdates = [1,2,3,4,5,6,7]\n",
    "money_spent = [0.5,2,7,25,73,180,300]\n",
    "\n",
    "import matplotlib.pyplot as plt\n",
    "\n",
    "plt.scatter(num_softwareUpdates, money_spent, c='b', label='data')\n",
    "plt.xlabel('Software Updates')\n",
    "plt.ylabel('Money Wasted')\n",
    "plt.title('Software Updates vs Money Wasted')\n",
    "plt.show()"
   ]
  },
  {
   "cell_type": "code",
   "execution_count": null,
   "id": "a0d1e8a3",
   "metadata": {},
   "outputs": [],
   "source": [
    "# Transforming data to make it linear\n"
   ]
  },
  {
   "cell_type": "markdown",
   "id": "23ef8dff",
   "metadata": {},
   "source": [
    "## Teacher Copy Slide 81"
   ]
  },
  {
   "cell_type": "code",
   "execution_count": null,
   "id": "a1946a29",
   "metadata": {},
   "outputs": [],
   "source": []
  },
  {
   "cell_type": "markdown",
   "id": "77519bc7",
   "metadata": {},
   "source": [
    "Add a line of best fit to your plot. "
   ]
  },
  {
   "cell_type": "code",
   "execution_count": null,
   "id": "d6a8b852",
   "metadata": {},
   "outputs": [],
   "source": []
  },
  {
   "cell_type": "markdown",
   "id": "c0350c1e",
   "metadata": {},
   "source": [
    "## Teacher Copy Slide 83"
   ]
  },
  {
   "cell_type": "markdown",
   "id": "a725e97b",
   "metadata": {},
   "source": [
    "Use a log adjustment and create a new scatterplot with with log adjusted y and an adjusted line of best fit. "
   ]
  },
  {
   "cell_type": "code",
   "execution_count": null,
   "id": "0a935bcf",
   "metadata": {},
   "outputs": [],
   "source": []
  },
  {
   "cell_type": "markdown",
   "id": "f32baa11",
   "metadata": {},
   "source": [
    "## Teacher Copy Slide 92"
   ]
  },
  {
   "cell_type": "markdown",
   "id": "1b092245",
   "metadata": {},
   "source": [
    "Try looking at the VIF between market spending, new hires and product development:\n",
    " \n",
    "make a pandas dataframe of the table\n",
    "use the code on the next slide  (or provided) to calculate the VIF\n",
    "Determine if the the VIF is significant and if there is multicollinearity \n"
   ]
  },
  {
   "cell_type": "code",
   "execution_count": null,
   "id": "c83bbef1",
   "metadata": {},
   "outputs": [],
   "source": []
  },
  {
   "cell_type": "markdown",
   "id": "a0c89737",
   "metadata": {},
   "source": [
    "## Teacher Copy Slide 92"
   ]
  },
  {
   "cell_type": "markdown",
   "id": "0ad65225",
   "metadata": {},
   "source": [
    "Try looking at the VIF between market spending, new hires and product development:\n",
    " \n",
    "make a pandas dataframe of the table\n",
    "use the code on the next slide  (or provided) to calculate the VIF\n",
    "Determine if the the VIF is significant and if there is multicollinearity \n"
   ]
  },
  {
   "cell_type": "code",
   "execution_count": null,
   "id": "3bd96aba",
   "metadata": {},
   "outputs": [],
   "source": []
  },
  {
   "cell_type": "code",
   "execution_count": null,
   "id": "eaa305bb",
   "metadata": {},
   "outputs": [],
   "source": []
  }
 ],
 "metadata": {
  "kernelspec": {
   "display_name": "Python 3",
   "language": "python",
   "name": "python3"
  },
  "language_info": {
   "codemirror_mode": {
    "name": "ipython",
    "version": 3
   },
   "file_extension": ".py",
   "mimetype": "text/x-python",
   "name": "python",
   "nbconvert_exporter": "python",
   "pygments_lexer": "ipython3",
   "version": "3.8.8"
  }
 },
 "nbformat": 4,
 "nbformat_minor": 5
}
