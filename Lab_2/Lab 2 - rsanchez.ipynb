{
 "cells": [
  {
   "cell_type": "markdown",
   "id": "f001669b",
   "metadata": {},
   "source": [
    "# Welcome to lab 2, the sampling lab! "
   ]
  },
  {
   "cell_type": "markdown",
   "id": "876c509a",
   "metadata": {},
   "source": [
    "Let's start by putting together our survey. For this lab, we will be using trying to understand our the well-being and work-life balance of our company's analytics department. The variables that we are curious about are their education, their satisfaction with the work environment, their job involvement, their job satistfaction, their performance rating, their relationship satisfaction (with their boss), and their work life balance. Your department has 15000 people.\n",
    "\n",
    "1) In the cell below, write out how you would choose your sample. Make sure to describe what kind of sampling you are using, and how many people you would survey.  "
   ]
  },
  {
   "cell_type": "markdown",
   "id": "37c1d6f4",
   "metadata": {},
   "source": [
    "In this scenario we are focusing on the company's analytics dept. Within that department we can use Multistage sampling to get people from different groups within the department (gender, age, years of experience) to see if those variables affect our satisfaction survey. Then within each group we can randomly select a smaller groups to be given the survey. I would take 1500 individuals from the department to survey to meet the max 10% of sample size which would be (based on the three groups) 500 individuals from each group\n"
   ]
  },
  {
   "cell_type": "markdown",
   "id": "fef31ac2",
   "metadata": {},
   "source": [
    "2) Next, please describe your survey questions. What questions would you ask in order to understand their feelings about these variables? Remember that it is often better to try to quantify their ratings (maybe use a scale of 1-5?) in order to make any future tests and analyses easier.  "
   ]
  },
  {
   "cell_type": "markdown",
   "id": "fd677448",
   "metadata": {},
   "source": [
    "1. What is ths highest education that you have completed? \n",
    "(1- General Education, 2 - Associates, 3 - Bachlores, 4 - Masters, 5 - PHD) [This is assuming they graduated within the United States]\n",
    "2. How satisified are you with your current work enviroment? \n",
    "(1 - Bad, 2 - Could use minor improvements, 3 - Ok, 4 - Pretty Good, 5 - Excellent)\n",
    "3. Job Involvement\n",
    "4. How satisfied are you with your job satisfaction?\n",
    "(1- Very Not Satisfied, 2 - Not Satisfied, 3- Ok, 4 - Pretty Satisfied, 5 - Very Satisfied)\n",
    "5. How would you rank your job performance within the last year at this department?\n",
    "(1 - Poor, 2 - Improvement Needed, 3 - Average, 4 - Above Average, 5 - Excellent)\n",
    "6. How would you rate your relationship with your superiors? \n",
    "(1- Poor, 2 - Not good,3-Ok, 4-Good, 5-Excellent)\n",
    "7. How would you rate your work life balance?\n",
    "(1 - My job is my life, 2 - Frequent Overtime , 3- occasional overtime ,4- Busy ,5-Perfect)"
   ]
  },
  {
   "cell_type": "markdown",
   "id": "d13f27c6",
   "metadata": {},
   "source": [
    "Another one of your coworkers also ran the survey, and gathered data. The file should be in Google Classroom. If you can't find it, you can also download an HR dataset from here: https://www.kaggle.com/pavansubhasht/ibm-hr-analytics-attrition-dataset\"\n"
   ]
  },
  {
   "cell_type": "markdown",
   "id": "74e71a76",
   "metadata": {},
   "source": [
    "3) Start by downloading and importing the data set. After you import it, use the .head() function to check that the data set imported correctly. "
   ]
  },
  {
   "cell_type": "code",
   "execution_count": 12,
   "id": "5a75d098",
   "metadata": {},
   "outputs": [
    {
     "data": {
      "text/html": [
       "<div>\n",
       "<style scoped>\n",
       "    .dataframe tbody tr th:only-of-type {\n",
       "        vertical-align: middle;\n",
       "    }\n",
       "\n",
       "    .dataframe tbody tr th {\n",
       "        vertical-align: top;\n",
       "    }\n",
       "\n",
       "    .dataframe thead th {\n",
       "        text-align: right;\n",
       "    }\n",
       "</style>\n",
       "<table border=\"1\" class=\"dataframe\">\n",
       "  <thead>\n",
       "    <tr style=\"text-align: right;\">\n",
       "      <th></th>\n",
       "      <th>Age</th>\n",
       "      <th>Attrition</th>\n",
       "      <th>BusinessTravel</th>\n",
       "      <th>DailyRate</th>\n",
       "      <th>Department</th>\n",
       "      <th>DistanceFromHome</th>\n",
       "      <th>Education</th>\n",
       "      <th>EducationField</th>\n",
       "      <th>EmployeeCount</th>\n",
       "      <th>EmployeeNumber</th>\n",
       "      <th>...</th>\n",
       "      <th>RelationshipSatisfaction</th>\n",
       "      <th>StandardHours</th>\n",
       "      <th>StockOptionLevel</th>\n",
       "      <th>TotalWorkingYears</th>\n",
       "      <th>TrainingTimesLastYear</th>\n",
       "      <th>WorkLifeBalance</th>\n",
       "      <th>YearsAtCompany</th>\n",
       "      <th>YearsInCurrentRole</th>\n",
       "      <th>YearsSinceLastPromotion</th>\n",
       "      <th>YearsWithCurrManager</th>\n",
       "    </tr>\n",
       "  </thead>\n",
       "  <tbody>\n",
       "    <tr>\n",
       "      <th>0</th>\n",
       "      <td>41</td>\n",
       "      <td>Yes</td>\n",
       "      <td>Travel_Rarely</td>\n",
       "      <td>1102</td>\n",
       "      <td>Sales</td>\n",
       "      <td>1</td>\n",
       "      <td>2</td>\n",
       "      <td>Life Sciences</td>\n",
       "      <td>1</td>\n",
       "      <td>1</td>\n",
       "      <td>...</td>\n",
       "      <td>1</td>\n",
       "      <td>80</td>\n",
       "      <td>0</td>\n",
       "      <td>8</td>\n",
       "      <td>0</td>\n",
       "      <td>1</td>\n",
       "      <td>6</td>\n",
       "      <td>4</td>\n",
       "      <td>0</td>\n",
       "      <td>5</td>\n",
       "    </tr>\n",
       "    <tr>\n",
       "      <th>1</th>\n",
       "      <td>49</td>\n",
       "      <td>No</td>\n",
       "      <td>Travel_Frequently</td>\n",
       "      <td>279</td>\n",
       "      <td>Research &amp; Development</td>\n",
       "      <td>8</td>\n",
       "      <td>1</td>\n",
       "      <td>Life Sciences</td>\n",
       "      <td>1</td>\n",
       "      <td>2</td>\n",
       "      <td>...</td>\n",
       "      <td>4</td>\n",
       "      <td>80</td>\n",
       "      <td>1</td>\n",
       "      <td>10</td>\n",
       "      <td>3</td>\n",
       "      <td>3</td>\n",
       "      <td>10</td>\n",
       "      <td>7</td>\n",
       "      <td>1</td>\n",
       "      <td>7</td>\n",
       "    </tr>\n",
       "    <tr>\n",
       "      <th>2</th>\n",
       "      <td>37</td>\n",
       "      <td>Yes</td>\n",
       "      <td>Travel_Rarely</td>\n",
       "      <td>1373</td>\n",
       "      <td>Research &amp; Development</td>\n",
       "      <td>2</td>\n",
       "      <td>2</td>\n",
       "      <td>Other</td>\n",
       "      <td>1</td>\n",
       "      <td>4</td>\n",
       "      <td>...</td>\n",
       "      <td>2</td>\n",
       "      <td>80</td>\n",
       "      <td>0</td>\n",
       "      <td>7</td>\n",
       "      <td>3</td>\n",
       "      <td>3</td>\n",
       "      <td>0</td>\n",
       "      <td>0</td>\n",
       "      <td>0</td>\n",
       "      <td>0</td>\n",
       "    </tr>\n",
       "    <tr>\n",
       "      <th>3</th>\n",
       "      <td>33</td>\n",
       "      <td>No</td>\n",
       "      <td>Travel_Frequently</td>\n",
       "      <td>1392</td>\n",
       "      <td>Research &amp; Development</td>\n",
       "      <td>3</td>\n",
       "      <td>4</td>\n",
       "      <td>Life Sciences</td>\n",
       "      <td>1</td>\n",
       "      <td>5</td>\n",
       "      <td>...</td>\n",
       "      <td>3</td>\n",
       "      <td>80</td>\n",
       "      <td>0</td>\n",
       "      <td>8</td>\n",
       "      <td>3</td>\n",
       "      <td>3</td>\n",
       "      <td>8</td>\n",
       "      <td>7</td>\n",
       "      <td>3</td>\n",
       "      <td>0</td>\n",
       "    </tr>\n",
       "    <tr>\n",
       "      <th>4</th>\n",
       "      <td>27</td>\n",
       "      <td>No</td>\n",
       "      <td>Travel_Rarely</td>\n",
       "      <td>591</td>\n",
       "      <td>Research &amp; Development</td>\n",
       "      <td>2</td>\n",
       "      <td>1</td>\n",
       "      <td>Medical</td>\n",
       "      <td>1</td>\n",
       "      <td>7</td>\n",
       "      <td>...</td>\n",
       "      <td>4</td>\n",
       "      <td>80</td>\n",
       "      <td>1</td>\n",
       "      <td>6</td>\n",
       "      <td>3</td>\n",
       "      <td>3</td>\n",
       "      <td>2</td>\n",
       "      <td>2</td>\n",
       "      <td>2</td>\n",
       "      <td>2</td>\n",
       "    </tr>\n",
       "    <tr>\n",
       "      <th>...</th>\n",
       "      <td>...</td>\n",
       "      <td>...</td>\n",
       "      <td>...</td>\n",
       "      <td>...</td>\n",
       "      <td>...</td>\n",
       "      <td>...</td>\n",
       "      <td>...</td>\n",
       "      <td>...</td>\n",
       "      <td>...</td>\n",
       "      <td>...</td>\n",
       "      <td>...</td>\n",
       "      <td>...</td>\n",
       "      <td>...</td>\n",
       "      <td>...</td>\n",
       "      <td>...</td>\n",
       "      <td>...</td>\n",
       "      <td>...</td>\n",
       "      <td>...</td>\n",
       "      <td>...</td>\n",
       "      <td>...</td>\n",
       "      <td>...</td>\n",
       "    </tr>\n",
       "    <tr>\n",
       "      <th>1465</th>\n",
       "      <td>36</td>\n",
       "      <td>No</td>\n",
       "      <td>Travel_Frequently</td>\n",
       "      <td>884</td>\n",
       "      <td>Research &amp; Development</td>\n",
       "      <td>23</td>\n",
       "      <td>2</td>\n",
       "      <td>Medical</td>\n",
       "      <td>1</td>\n",
       "      <td>2061</td>\n",
       "      <td>...</td>\n",
       "      <td>3</td>\n",
       "      <td>80</td>\n",
       "      <td>1</td>\n",
       "      <td>17</td>\n",
       "      <td>3</td>\n",
       "      <td>3</td>\n",
       "      <td>5</td>\n",
       "      <td>2</td>\n",
       "      <td>0</td>\n",
       "      <td>3</td>\n",
       "    </tr>\n",
       "    <tr>\n",
       "      <th>1466</th>\n",
       "      <td>39</td>\n",
       "      <td>No</td>\n",
       "      <td>Travel_Rarely</td>\n",
       "      <td>613</td>\n",
       "      <td>Research &amp; Development</td>\n",
       "      <td>6</td>\n",
       "      <td>1</td>\n",
       "      <td>Medical</td>\n",
       "      <td>1</td>\n",
       "      <td>2062</td>\n",
       "      <td>...</td>\n",
       "      <td>1</td>\n",
       "      <td>80</td>\n",
       "      <td>1</td>\n",
       "      <td>9</td>\n",
       "      <td>5</td>\n",
       "      <td>3</td>\n",
       "      <td>7</td>\n",
       "      <td>7</td>\n",
       "      <td>1</td>\n",
       "      <td>7</td>\n",
       "    </tr>\n",
       "    <tr>\n",
       "      <th>1467</th>\n",
       "      <td>27</td>\n",
       "      <td>No</td>\n",
       "      <td>Travel_Rarely</td>\n",
       "      <td>155</td>\n",
       "      <td>Research &amp; Development</td>\n",
       "      <td>4</td>\n",
       "      <td>3</td>\n",
       "      <td>Life Sciences</td>\n",
       "      <td>1</td>\n",
       "      <td>2064</td>\n",
       "      <td>...</td>\n",
       "      <td>2</td>\n",
       "      <td>80</td>\n",
       "      <td>1</td>\n",
       "      <td>6</td>\n",
       "      <td>0</td>\n",
       "      <td>3</td>\n",
       "      <td>6</td>\n",
       "      <td>2</td>\n",
       "      <td>0</td>\n",
       "      <td>3</td>\n",
       "    </tr>\n",
       "    <tr>\n",
       "      <th>1468</th>\n",
       "      <td>49</td>\n",
       "      <td>No</td>\n",
       "      <td>Travel_Frequently</td>\n",
       "      <td>1023</td>\n",
       "      <td>Sales</td>\n",
       "      <td>2</td>\n",
       "      <td>3</td>\n",
       "      <td>Medical</td>\n",
       "      <td>1</td>\n",
       "      <td>2065</td>\n",
       "      <td>...</td>\n",
       "      <td>4</td>\n",
       "      <td>80</td>\n",
       "      <td>0</td>\n",
       "      <td>17</td>\n",
       "      <td>3</td>\n",
       "      <td>2</td>\n",
       "      <td>9</td>\n",
       "      <td>6</td>\n",
       "      <td>0</td>\n",
       "      <td>8</td>\n",
       "    </tr>\n",
       "    <tr>\n",
       "      <th>1469</th>\n",
       "      <td>34</td>\n",
       "      <td>No</td>\n",
       "      <td>Travel_Rarely</td>\n",
       "      <td>628</td>\n",
       "      <td>Research &amp; Development</td>\n",
       "      <td>8</td>\n",
       "      <td>3</td>\n",
       "      <td>Medical</td>\n",
       "      <td>1</td>\n",
       "      <td>2068</td>\n",
       "      <td>...</td>\n",
       "      <td>1</td>\n",
       "      <td>80</td>\n",
       "      <td>0</td>\n",
       "      <td>6</td>\n",
       "      <td>3</td>\n",
       "      <td>4</td>\n",
       "      <td>4</td>\n",
       "      <td>3</td>\n",
       "      <td>1</td>\n",
       "      <td>2</td>\n",
       "    </tr>\n",
       "  </tbody>\n",
       "</table>\n",
       "<p>1470 rows × 35 columns</p>\n",
       "</div>"
      ],
      "text/plain": [
       "      Age Attrition     BusinessTravel  DailyRate              Department  \\\n",
       "0      41       Yes      Travel_Rarely       1102                   Sales   \n",
       "1      49        No  Travel_Frequently        279  Research & Development   \n",
       "2      37       Yes      Travel_Rarely       1373  Research & Development   \n",
       "3      33        No  Travel_Frequently       1392  Research & Development   \n",
       "4      27        No      Travel_Rarely        591  Research & Development   \n",
       "...   ...       ...                ...        ...                     ...   \n",
       "1465   36        No  Travel_Frequently        884  Research & Development   \n",
       "1466   39        No      Travel_Rarely        613  Research & Development   \n",
       "1467   27        No      Travel_Rarely        155  Research & Development   \n",
       "1468   49        No  Travel_Frequently       1023                   Sales   \n",
       "1469   34        No      Travel_Rarely        628  Research & Development   \n",
       "\n",
       "      DistanceFromHome  Education EducationField  EmployeeCount  \\\n",
       "0                    1          2  Life Sciences              1   \n",
       "1                    8          1  Life Sciences              1   \n",
       "2                    2          2          Other              1   \n",
       "3                    3          4  Life Sciences              1   \n",
       "4                    2          1        Medical              1   \n",
       "...                ...        ...            ...            ...   \n",
       "1465                23          2        Medical              1   \n",
       "1466                 6          1        Medical              1   \n",
       "1467                 4          3  Life Sciences              1   \n",
       "1468                 2          3        Medical              1   \n",
       "1469                 8          3        Medical              1   \n",
       "\n",
       "      EmployeeNumber  ...  RelationshipSatisfaction StandardHours  \\\n",
       "0                  1  ...                         1            80   \n",
       "1                  2  ...                         4            80   \n",
       "2                  4  ...                         2            80   \n",
       "3                  5  ...                         3            80   \n",
       "4                  7  ...                         4            80   \n",
       "...              ...  ...                       ...           ...   \n",
       "1465            2061  ...                         3            80   \n",
       "1466            2062  ...                         1            80   \n",
       "1467            2064  ...                         2            80   \n",
       "1468            2065  ...                         4            80   \n",
       "1469            2068  ...                         1            80   \n",
       "\n",
       "      StockOptionLevel  TotalWorkingYears  TrainingTimesLastYear  \\\n",
       "0                    0                  8                      0   \n",
       "1                    1                 10                      3   \n",
       "2                    0                  7                      3   \n",
       "3                    0                  8                      3   \n",
       "4                    1                  6                      3   \n",
       "...                ...                ...                    ...   \n",
       "1465                 1                 17                      3   \n",
       "1466                 1                  9                      5   \n",
       "1467                 1                  6                      0   \n",
       "1468                 0                 17                      3   \n",
       "1469                 0                  6                      3   \n",
       "\n",
       "     WorkLifeBalance  YearsAtCompany YearsInCurrentRole  \\\n",
       "0                  1               6                  4   \n",
       "1                  3              10                  7   \n",
       "2                  3               0                  0   \n",
       "3                  3               8                  7   \n",
       "4                  3               2                  2   \n",
       "...              ...             ...                ...   \n",
       "1465               3               5                  2   \n",
       "1466               3               7                  7   \n",
       "1467               3               6                  2   \n",
       "1468               2               9                  6   \n",
       "1469               4               4                  3   \n",
       "\n",
       "      YearsSinceLastPromotion  YearsWithCurrManager  \n",
       "0                           0                     5  \n",
       "1                           1                     7  \n",
       "2                           0                     0  \n",
       "3                           3                     0  \n",
       "4                           2                     2  \n",
       "...                       ...                   ...  \n",
       "1465                        0                     3  \n",
       "1466                        1                     7  \n",
       "1467                        0                     3  \n",
       "1468                        0                     8  \n",
       "1469                        1                     2  \n",
       "\n",
       "[1470 rows x 35 columns]"
      ]
     },
     "execution_count": 12,
     "metadata": {},
     "output_type": "execute_result"
    }
   ],
   "source": [
    "import pandas as pd\n",
    "\n",
    "df = pd.read_csv ('WA_Fn-UseC_-HR-Employee-Attrition.csv')\n",
    "df"
   ]
  },
  {
   "cell_type": "markdown",
   "id": "e14a77cc",
   "metadata": {},
   "source": [
    "4) Get a count of how many employees studied each EducationField. "
   ]
  },
  {
   "cell_type": "code",
   "execution_count": 18,
   "id": "a59dc924",
   "metadata": {
    "scrolled": true
   },
   "outputs": [
    {
     "data": {
      "text/plain": [
       "EducationField\n",
       "Human Resources      27\n",
       "Life Sciences       606\n",
       "Marketing           159\n",
       "Medical             464\n",
       "Other                82\n",
       "Technical Degree    132\n",
       "Name: count, dtype: int64"
      ]
     },
     "execution_count": 18,
     "metadata": {},
     "output_type": "execute_result"
    }
   ],
   "source": [
    "df.groupby(['EducationField']).count()['count']"
   ]
  },
  {
   "cell_type": "markdown",
   "id": "2709c3e7",
   "metadata": {},
   "source": [
    "5) Imagine that you are trying to calculate the margin of error for your survey. Use the following calculator to find the margin of error with a 99% confidence rate. \n",
    "\n",
    "https://www.surveymonkey.com/mp/margin-of-error-calculator/"
   ]
  },
  {
   "cell_type": "markdown",
   "id": "e3fed8a9",
   "metadata": {},
   "source": [
    "With a population size of 15000 at a 99% confidence level and sample size of 500 we get a 6% margin of error"
   ]
  },
  {
   "cell_type": "markdown",
   "id": "fc1e5402",
   "metadata": {},
   "source": [
    " 6) As a review from the previous lab, create a histogram showing the distribution of each of the Age responses. "
   ]
  },
  {
   "cell_type": "code",
   "execution_count": 53,
   "id": "c4895fc9",
   "metadata": {},
   "outputs": [
    {
     "data": {
      "text/plain": [
       "Text(0.5, 1.0, 'Age Histogram')"
      ]
     },
     "execution_count": 53,
     "metadata": {},
     "output_type": "execute_result"
    },
    {
     "data": {
      "image/png": "[encoded data removed]",
      "text/plain": [
       "<Figure size 576x432 with 1 Axes>"
      ]
     },
     "metadata": {
      "needs_background": "light"
     },
     "output_type": "display_data"
    }
   ],
   "source": [
    "import pandas as pd\n",
    "import numpy as np\n",
    "import matplotlib.pyplot as plt\n",
    "\n",
    "# set the plots to display in the Jupyter notebook\n",
    "%matplotlib inline\n",
    "\n",
    "# Increase default figure and font sizes for easier viewing.\n",
    "plt.rcParams['figure.figsize'] = (8, 6)\n",
    "plt.rcParams['font.size'] = 14\n",
    "\n",
    "df['Age'].plot(kind='hist', bins=20);\n",
    "plt.ylabel('Number of people')\n",
    "plt.xlabel('Age')\n",
    "plt.title('Age Histogram')"
   ]
  },
  {
   "cell_type": "markdown",
   "id": "04bf1f52",
   "metadata": {},
   "source": [
    "7) Describe the center, shape, and spread of the histogram."
   ]
  },
  {
   "cell_type": "code",
   "execution_count": null,
   "id": "bb0fc6ef",
   "metadata": {},
   "outputs": [],
   "source": [
    "The shape looks almost like a normal distribution however there seems to be a drop around ~40 with a center around 35 and a spread of 20-60."
   ]
  },
  {
   "cell_type": "markdown",
   "id": "478c46c0",
   "metadata": {},
   "source": [
    "8) Using functions learned in lab 1, calculate the mean, median, mode, range and standard deviation for the age variable. "
   ]
  },
  {
   "cell_type": "code",
   "execution_count": 26,
   "id": "820ac1ee",
   "metadata": {},
   "outputs": [
    {
     "data": {
      "text/plain": [
       "count    1470.000000\n",
       "mean       36.923810\n",
       "std         9.135373\n",
       "min        18.000000\n",
       "25%        30.000000\n",
       "50%        36.000000\n",
       "75%        43.000000\n",
       "max        60.000000\n",
       "Name: Age, dtype: float64"
      ]
     },
     "execution_count": 26,
     "metadata": {},
     "output_type": "execute_result"
    }
   ],
   "source": [
    "df['Age'].describe()"
   ]
  },
  {
   "cell_type": "code",
   "execution_count": 27,
   "id": "057ea459",
   "metadata": {},
   "outputs": [
    {
     "data": {
      "text/plain": [
       "0    35\n",
       "dtype: int64"
      ]
     },
     "execution_count": 27,
     "metadata": {},
     "output_type": "execute_result"
    }
   ],
   "source": [
    "df['Age'].mode()"
   ]
  },
  {
   "cell_type": "code",
   "execution_count": 28,
   "id": "f653a882",
   "metadata": {},
   "outputs": [
    {
     "data": {
      "text/plain": [
       "42"
      ]
     },
     "execution_count": 28,
     "metadata": {},
     "output_type": "execute_result"
    }
   ],
   "source": [
    "df['Age'].max() - df['Age'].min()"
   ]
  },
  {
   "cell_type": "markdown",
   "id": "754e40b7",
   "metadata": {},
   "source": [
    "9) Which quantitative variable in the data set do you expect to have the strongest correlation with age? Why?"
   ]
  },
  {
   "cell_type": "markdown",
   "id": "eb349ec5",
   "metadata": {},
   "source": [
    "The strongest quantitative variable that has the strongest correlation with age is how many years at the company. The older one is the possibilty of them being at the company the longest is high."
   ]
  },
  {
   "cell_type": "markdown",
   "id": "347f6f30",
   "metadata": {},
   "source": [
    "10) Create a scatterplot that shows the true correlation between those variables. "
   ]
  },
  {
   "cell_type": "code",
   "execution_count": 61,
   "id": "baf782fa",
   "metadata": {},
   "outputs": [
    {
     "data": {
      "text/plain": [
       "<AxesSubplot:xlabel='Age', ylabel='YearsAtCompany'>"
      ]
     },
     "execution_count": 61,
     "metadata": {},
     "output_type": "execute_result"
    },
    {
     "data": {
      "image/png": "[encoded data removed]",
      "text/plain": [
       "<Figure size 720x288 with 1 Axes>"
      ]
     },
     "metadata": {
      "needs_background": "light"
     },
     "output_type": "display_data"
    }
   ],
   "source": [
    "df.plot(kind='scatter', x='Age', y='YearsAtCompany', color='dodgerblue', figsize=(10,4), s=10,alpha=0.5)"
   ]
  },
  {
   "cell_type": "markdown",
   "id": "22cd8beb",
   "metadata": {},
   "source": [
    "11) Was your prediction correct? Describe the correlation. "
   ]
  },
  {
   "cell_type": "code",
   "execution_count": null,
   "id": "d7fdd31d",
   "metadata": {},
   "outputs": [],
   "source": [
    "No, most people at the company are below around 15 years. In the older group, most people have less than 10 years."
   ]
  },
  {
   "cell_type": "markdown",
   "id": "0ccf3f24",
   "metadata": {},
   "source": [
    "12) Now, try creating a scatterplot with a variable that you do not expect will have a correlation with age. "
   ]
  },
  {
   "cell_type": "code",
   "execution_count": 70,
   "id": "43b5f483",
   "metadata": {},
   "outputs": [
    {
     "data": {
      "text/plain": [
       "<AxesSubplot:xlabel='Age', ylabel='YearsSinceLastPromotion'>"
      ]
     },
     "execution_count": 70,
     "metadata": {},
     "output_type": "execute_result"
    },
    {
     "data": {
      "image/png": "[encoded data removed]",
      "text/plain": [
       "<Figure size 720x288 with 1 Axes>"
      ]
     },
     "metadata": {
      "needs_background": "light"
     },
     "output_type": "display_data"
    }
   ],
   "source": [
    "df.plot(kind='scatter', x='Age', y='YearsSinceLastPromotion', figsize=(10,4), s=10,alpha=0.5)"
   ]
  },
  {
   "cell_type": "markdown",
   "id": "e6625c97",
   "metadata": {},
   "source": [
    "13) Was your prediction correct? Describe the correlation (or lack thereof). "
   ]
  },
  {
   "cell_type": "markdown",
   "id": "23b31412",
   "metadata": {},
   "source": [
    "Not sure, there does not seem like a correlation between age and years since last promotion. I think there might be a positive correlation as one ages the longer they wait for a promotion? "
   ]
  },
  {
   "cell_type": "markdown",
   "id": "7b20b59f",
   "metadata": {},
   "source": [
    "14) Based on a survey of 4113 U.S. adults; researchers at Stanford University concluded that Internet use leads\n",
    "to increased social isolation. The survey was conducted by an Internet-based polling company that selected\n",
    "its samples from a pool of 35,000 potential respondents, all of whom had been given free Internet access\n",
    "and Web TV hardware in exchange for agreeing to regularly participate in surveys conducted by the polling\n",
    "company. Two criticisms of this study were expressed in an article that appeared in the San Luis Obispo\n",
    "Tribune (Feb. 28, 2000). The first criticism was that increased social isolation was measured by asking\n",
    "respondents if they were talking less to family and friends on the phone. The second criticism was that the\n",
    "sample was selected only from a group that was induced to participate by the offer of free Internet service,\n",
    "yet the results were generalized to all U.S. adults. Each of these criticisms is describing a type of bias. For\n",
    "each one, indicate what type of bias is being described and why it might make you question the conclusio n\n",
    "drawn by the researchers."
   ]
  },
  {
   "cell_type": "markdown",
   "id": "92eb0d91",
   "metadata": {},
   "source": [
    "1) Wording / Response Bias - They were ask if they socialized less via the phone not taking into account some might meet up with people in person.\n",
    "2) Friendliness Bias - They were attracted to do the survey to get free stuff regardless if they socialized or not."
   ]
  },
  {
   "cell_type": "markdown",
   "id": "8828e152",
   "metadata": {},
   "source": [
    "15) To find the percentage of households in a town who own more than one motor vehicle, a survey will ask the next 100 drivers at a popular gas station if there is more than one motor vehicle in their household. Is this survey biased and if so, what is the main type of bias?"
   ]
  },
  {
   "cell_type": "markdown",
   "id": "b5056b0c",
   "metadata": {},
   "source": [
    "This is undercoverage bias since they are limiting them selves to one gas station on a street and not asking at other random points in the town."
   ]
  },
  {
   "cell_type": "markdown",
   "id": "9995b199",
   "metadata": {},
   "source": [
    "16) Identify the type of bias:\n",
    "\n",
    "A researcher wants to know what proportion of coffee drinkers would pay more than $5 for a coffee drink. The researcher asks the following question:\n",
    "\"Do you agree that 5 dollars is way too much to pay for a simple coffee\""
   ]
  },
  {
   "cell_type": "markdown",
   "id": "ea724311",
   "metadata": {},
   "source": [
    "This is wording/response bias, since it is not defining what 'simple coffee' means. Is this instant coffee? Premium coffee just brewed from artisan roasters?"
   ]
  },
  {
   "cell_type": "markdown",
   "id": "de0e99d2",
   "metadata": {},
   "source": [
    "17) You have been asked to investigate the attitudes of employees in your company about the new CEO's leadership style. You only have enough time and resources to contact 50 employees. Describe your sample design clearly. Comment on any practical difficulties that you anticipate."
   ]
  },
  {
   "cell_type": "markdown",
   "id": "9e3318e8",
   "metadata": {},
   "source": [
    "This would depend on how many people are at the company. If there are significantly more people it can not be a representative of the whole population. Regardless if I manage to get 1-5 people from different demographics/job position."
   ]
  },
  {
   "cell_type": "markdown",
   "id": "7078ebc8",
   "metadata": {},
   "source": [
    "18) A cable company plans to survey potential sutomers in a small city currently served by satellite dishes. The following sampling method is being considered. \n",
    "Randomly select a sample of families from each of the five natural neighborhoods making up the city. \n",
    "\n",
    "\n",
    "what is the statistical name for the sampling technique, and what is a possible reason for using it rather than an SRS? "
   ]
  },
  {
   "cell_type": "markdown",
   "id": "b5a3ad9f",
   "metadata": {},
   "source": [
    "They are using Stratified Sampling to get thier sample of families to survey. Simple Random Sampling might not get enough people from certain neighborhoods. There is a possibility of just getting one family from one neighborhood and multiple families from another. With Stratified Sampling we can make sure we have suffient samples from all neighborhoods"
   ]
  },
  {
   "cell_type": "markdown",
   "id": "3cbb388f",
   "metadata": {},
   "source": [
    "19) A large corporation wants to find out which benefits plan its employees would prefer. Which procedure\n",
    "would be most likely to obtain a statistically unbiased sample? Describe why you chose the answer you did. \n",
    "a. survey a random sample of employees from a list of all employees\n",
    "b. invite all employees to indicate their choices by e-mail\n",
    "c. place suggestion boxes at random locations in the company’s plant and offices\n",
    "d. assemble a group with one member from each department and record the preferences\n",
    "of these employees"
   ]
  },
  {
   "cell_type": "markdown",
   "id": "4f880e23",
   "metadata": {},
   "source": [
    "I am going with a because i would get an random number of people throughout the company where as inviting all employees via email might cause create nonresponse bias since some might not respond to the email. Placing a suggestion box will also cause undercoverage bias since some might not pass through and see it. Choosing one employee from each department will also caused undercoverage bias since they might not be representative of thier department."
   ]
  },
  {
   "cell_type": "markdown",
   "id": "8be4c376",
   "metadata": {},
   "source": [
    "## Python Random Library"
   ]
  },
  {
   "cell_type": "markdown",
   "id": "97900b67",
   "metadata": {},
   "source": [
    "The Python Standard Library bundles many common modules, so we can just import them.\n",
    "\n",
    "Let’s look at the random module! This module can be used to generate random numbers. "
   ]
  },
  {
   "cell_type": "code",
   "execution_count": 1,
   "id": "88d50848",
   "metadata": {},
   "outputs": [
    {
     "name": "stdout",
     "output_type": "stream",
     "text": [
      "2\n"
     ]
    }
   ],
   "source": [
    "import random\n",
    "# Done! Now we can use any functions in the random module!\n",
    "\n",
    "# randint is a function in the random module\n",
    "my_random_number = random.randint(2,8)\n",
    "\n",
    "# This could be 2, 3, 4, 5, 6, 7, or 8\n",
    "print(my_random_number)"
   ]
  },
  {
   "cell_type": "markdown",
   "id": "36a86039",
   "metadata": {},
   "source": [
    "20) Now, try generating a random number between 1 and 100. "
   ]
  },
  {
   "cell_type": "code",
   "execution_count": 74,
   "id": "25fafb71",
   "metadata": {},
   "outputs": [
    {
     "name": "stdout",
     "output_type": "stream",
     "text": [
      "94\n"
     ]
    }
   ],
   "source": [
    "another_random_num = random.randint(1,100)\n",
    "print(another_random_num)"
   ]
  },
  {
   "cell_type": "markdown",
   "id": "abac5ff0",
   "metadata": {},
   "source": [
    "21) Try running your function four times. Do you get the same number every time? Why do you think this is useful? "
   ]
  },
  {
   "cell_type": "markdown",
   "id": "03945921",
   "metadata": {},
   "source": [
    "I did not get the same number after rerunning four times. This is useful for selecting random data from an array. The issue currently is that they are not unique. There is a possibliity of getting the same random number which could affect our interpertation."
   ]
  },
  {
   "cell_type": "markdown",
   "id": "f303cd9b",
   "metadata": {},
   "source": [
    "22) How could you pick a random row from a data frame? Python has a function called .sample(). Try using it to select a random row from the IBM dataset. "
   ]
  },
  {
   "cell_type": "code",
   "execution_count": 21,
   "id": "30980460",
   "metadata": {},
   "outputs": [
    {
     "data": {
      "text/html": [
       "<div>\n",
       "<style scoped>\n",
       "    .dataframe tbody tr th:only-of-type {\n",
       "        vertical-align: middle;\n",
       "    }\n",
       "\n",
       "    .dataframe tbody tr th {\n",
       "        vertical-align: top;\n",
       "    }\n",
       "\n",
       "    .dataframe thead th {\n",
       "        text-align: right;\n",
       "    }\n",
       "</style>\n",
       "<table border=\"1\" class=\"dataframe\">\n",
       "  <thead>\n",
       "    <tr style=\"text-align: right;\">\n",
       "      <th></th>\n",
       "      <th>Age</th>\n",
       "      <th>Attrition</th>\n",
       "      <th>BusinessTravel</th>\n",
       "      <th>DailyRate</th>\n",
       "      <th>Department</th>\n",
       "      <th>DistanceFromHome</th>\n",
       "      <th>Education</th>\n",
       "      <th>EducationField</th>\n",
       "      <th>EmployeeCount</th>\n",
       "      <th>EmployeeNumber</th>\n",
       "      <th>...</th>\n",
       "      <th>StandardHours</th>\n",
       "      <th>StockOptionLevel</th>\n",
       "      <th>TotalWorkingYears</th>\n",
       "      <th>TrainingTimesLastYear</th>\n",
       "      <th>WorkLifeBalance</th>\n",
       "      <th>YearsAtCompany</th>\n",
       "      <th>YearsInCurrentRole</th>\n",
       "      <th>YearsSinceLastPromotion</th>\n",
       "      <th>YearsWithCurrManager</th>\n",
       "      <th>count</th>\n",
       "    </tr>\n",
       "  </thead>\n",
       "  <tbody>\n",
       "    <tr>\n",
       "      <th>1270</th>\n",
       "      <td>34</td>\n",
       "      <td>No</td>\n",
       "      <td>Travel_Rarely</td>\n",
       "      <td>511</td>\n",
       "      <td>Sales</td>\n",
       "      <td>3</td>\n",
       "      <td>2</td>\n",
       "      <td>Life Sciences</td>\n",
       "      <td>1</td>\n",
       "      <td>1779</td>\n",
       "      <td>...</td>\n",
       "      <td>80</td>\n",
       "      <td>0</td>\n",
       "      <td>6</td>\n",
       "      <td>3</td>\n",
       "      <td>3</td>\n",
       "      <td>2</td>\n",
       "      <td>2</td>\n",
       "      <td>2</td>\n",
       "      <td>2</td>\n",
       "      <td>1</td>\n",
       "    </tr>\n",
       "  </tbody>\n",
       "</table>\n",
       "<p>1 rows × 36 columns</p>\n",
       "</div>"
      ],
      "text/plain": [
       "      Age Attrition BusinessTravel  DailyRate Department  DistanceFromHome  \\\n",
       "1270   34        No  Travel_Rarely        511      Sales                 3   \n",
       "\n",
       "      Education EducationField  EmployeeCount  EmployeeNumber  ...  \\\n",
       "1270          2  Life Sciences              1            1779  ...   \n",
       "\n",
       "      StandardHours StockOptionLevel  TotalWorkingYears  \\\n",
       "1270             80                0                  6   \n",
       "\n",
       "      TrainingTimesLastYear  WorkLifeBalance YearsAtCompany  \\\n",
       "1270                      3                3              2   \n",
       "\n",
       "      YearsInCurrentRole YearsSinceLastPromotion  YearsWithCurrManager  count  \n",
       "1270                   2                       2                     2      1  \n",
       "\n",
       "[1 rows x 36 columns]"
      ]
     },
     "execution_count": 21,
     "metadata": {},
     "output_type": "execute_result"
    }
   ],
   "source": [
    "df.sample()\n"
   ]
  },
  {
   "cell_type": "markdown",
   "id": "4004cd30",
   "metadata": {},
   "source": [
    "23) You can also use .sample(n=c) to randomly sample c rows. Try using this function to sample 15 people from our IBM dataset. "
   ]
  },
  {
   "cell_type": "code",
   "execution_count": 22,
   "id": "d572c138",
   "metadata": {},
   "outputs": [
    {
     "data": {
      "text/html": [
       "<div>\n",
       "<style scoped>\n",
       "    .dataframe tbody tr th:only-of-type {\n",
       "        vertical-align: middle;\n",
       "    }\n",
       "\n",
       "    .dataframe tbody tr th {\n",
       "        vertical-align: top;\n",
       "    }\n",
       "\n",
       "    .dataframe thead th {\n",
       "        text-align: right;\n",
       "    }\n",
       "</style>\n",
       "<table border=\"1\" class=\"dataframe\">\n",
       "  <thead>\n",
       "    <tr style=\"text-align: right;\">\n",
       "      <th></th>\n",
       "      <th>Age</th>\n",
       "      <th>Attrition</th>\n",
       "      <th>BusinessTravel</th>\n",
       "      <th>DailyRate</th>\n",
       "      <th>Department</th>\n",
       "      <th>DistanceFromHome</th>\n",
       "      <th>Education</th>\n",
       "      <th>EducationField</th>\n",
       "      <th>EmployeeCount</th>\n",
       "      <th>EmployeeNumber</th>\n",
       "      <th>...</th>\n",
       "      <th>StandardHours</th>\n",
       "      <th>StockOptionLevel</th>\n",
       "      <th>TotalWorkingYears</th>\n",
       "      <th>TrainingTimesLastYear</th>\n",
       "      <th>WorkLifeBalance</th>\n",
       "      <th>YearsAtCompany</th>\n",
       "      <th>YearsInCurrentRole</th>\n",
       "      <th>YearsSinceLastPromotion</th>\n",
       "      <th>YearsWithCurrManager</th>\n",
       "      <th>count</th>\n",
       "    </tr>\n",
       "  </thead>\n",
       "  <tbody>\n",
       "    <tr>\n",
       "      <th>1191</th>\n",
       "      <td>31</td>\n",
       "      <td>No</td>\n",
       "      <td>Travel_Rarely</td>\n",
       "      <td>1112</td>\n",
       "      <td>Sales</td>\n",
       "      <td>5</td>\n",
       "      <td>4</td>\n",
       "      <td>Life Sciences</td>\n",
       "      <td>1</td>\n",
       "      <td>1673</td>\n",
       "      <td>...</td>\n",
       "      <td>80</td>\n",
       "      <td>2</td>\n",
       "      <td>10</td>\n",
       "      <td>2</td>\n",
       "      <td>3</td>\n",
       "      <td>10</td>\n",
       "      <td>0</td>\n",
       "      <td>0</td>\n",
       "      <td>2</td>\n",
       "      <td>1</td>\n",
       "    </tr>\n",
       "    <tr>\n",
       "      <th>1449</th>\n",
       "      <td>32</td>\n",
       "      <td>No</td>\n",
       "      <td>Travel_Rarely</td>\n",
       "      <td>529</td>\n",
       "      <td>Research &amp; Development</td>\n",
       "      <td>2</td>\n",
       "      <td>3</td>\n",
       "      <td>Technical Degree</td>\n",
       "      <td>1</td>\n",
       "      <td>2038</td>\n",
       "      <td>...</td>\n",
       "      <td>80</td>\n",
       "      <td>0</td>\n",
       "      <td>4</td>\n",
       "      <td>4</td>\n",
       "      <td>3</td>\n",
       "      <td>4</td>\n",
       "      <td>2</td>\n",
       "      <td>1</td>\n",
       "      <td>2</td>\n",
       "      <td>1</td>\n",
       "    </tr>\n",
       "    <tr>\n",
       "      <th>609</th>\n",
       "      <td>43</td>\n",
       "      <td>No</td>\n",
       "      <td>Travel_Rarely</td>\n",
       "      <td>589</td>\n",
       "      <td>Research &amp; Development</td>\n",
       "      <td>14</td>\n",
       "      <td>2</td>\n",
       "      <td>Life Sciences</td>\n",
       "      <td>1</td>\n",
       "      <td>843</td>\n",
       "      <td>...</td>\n",
       "      <td>80</td>\n",
       "      <td>1</td>\n",
       "      <td>22</td>\n",
       "      <td>3</td>\n",
       "      <td>3</td>\n",
       "      <td>4</td>\n",
       "      <td>1</td>\n",
       "      <td>1</td>\n",
       "      <td>0</td>\n",
       "      <td>1</td>\n",
       "    </tr>\n",
       "    <tr>\n",
       "      <th>764</th>\n",
       "      <td>28</td>\n",
       "      <td>No</td>\n",
       "      <td>Travel_Rarely</td>\n",
       "      <td>1144</td>\n",
       "      <td>Sales</td>\n",
       "      <td>10</td>\n",
       "      <td>1</td>\n",
       "      <td>Medical</td>\n",
       "      <td>1</td>\n",
       "      <td>1056</td>\n",
       "      <td>...</td>\n",
       "      <td>80</td>\n",
       "      <td>0</td>\n",
       "      <td>1</td>\n",
       "      <td>5</td>\n",
       "      <td>3</td>\n",
       "      <td>1</td>\n",
       "      <td>0</td>\n",
       "      <td>0</td>\n",
       "      <td>0</td>\n",
       "      <td>1</td>\n",
       "    </tr>\n",
       "    <tr>\n",
       "      <th>1119</th>\n",
       "      <td>38</td>\n",
       "      <td>No</td>\n",
       "      <td>Travel_Rarely</td>\n",
       "      <td>1245</td>\n",
       "      <td>Sales</td>\n",
       "      <td>14</td>\n",
       "      <td>3</td>\n",
       "      <td>Life Sciences</td>\n",
       "      <td>1</td>\n",
       "      <td>1582</td>\n",
       "      <td>...</td>\n",
       "      <td>80</td>\n",
       "      <td>1</td>\n",
       "      <td>10</td>\n",
       "      <td>3</td>\n",
       "      <td>3</td>\n",
       "      <td>9</td>\n",
       "      <td>8</td>\n",
       "      <td>7</td>\n",
       "      <td>7</td>\n",
       "      <td>1</td>\n",
       "    </tr>\n",
       "    <tr>\n",
       "      <th>276</th>\n",
       "      <td>35</td>\n",
       "      <td>No</td>\n",
       "      <td>Travel_Rarely</td>\n",
       "      <td>1315</td>\n",
       "      <td>Research &amp; Development</td>\n",
       "      <td>22</td>\n",
       "      <td>3</td>\n",
       "      <td>Life Sciences</td>\n",
       "      <td>1</td>\n",
       "      <td>381</td>\n",
       "      <td>...</td>\n",
       "      <td>80</td>\n",
       "      <td>1</td>\n",
       "      <td>10</td>\n",
       "      <td>6</td>\n",
       "      <td>2</td>\n",
       "      <td>7</td>\n",
       "      <td>7</td>\n",
       "      <td>6</td>\n",
       "      <td>2</td>\n",
       "      <td>1</td>\n",
       "    </tr>\n",
       "    <tr>\n",
       "      <th>1106</th>\n",
       "      <td>30</td>\n",
       "      <td>Yes</td>\n",
       "      <td>Travel_Rarely</td>\n",
       "      <td>740</td>\n",
       "      <td>Sales</td>\n",
       "      <td>1</td>\n",
       "      <td>3</td>\n",
       "      <td>Life Sciences</td>\n",
       "      <td>1</td>\n",
       "      <td>1562</td>\n",
       "      <td>...</td>\n",
       "      <td>80</td>\n",
       "      <td>1</td>\n",
       "      <td>10</td>\n",
       "      <td>4</td>\n",
       "      <td>3</td>\n",
       "      <td>10</td>\n",
       "      <td>8</td>\n",
       "      <td>6</td>\n",
       "      <td>7</td>\n",
       "      <td>1</td>\n",
       "    </tr>\n",
       "    <tr>\n",
       "      <th>444</th>\n",
       "      <td>48</td>\n",
       "      <td>No</td>\n",
       "      <td>Travel_Rarely</td>\n",
       "      <td>163</td>\n",
       "      <td>Sales</td>\n",
       "      <td>2</td>\n",
       "      <td>5</td>\n",
       "      <td>Marketing</td>\n",
       "      <td>1</td>\n",
       "      <td>595</td>\n",
       "      <td>...</td>\n",
       "      <td>80</td>\n",
       "      <td>1</td>\n",
       "      <td>14</td>\n",
       "      <td>2</td>\n",
       "      <td>3</td>\n",
       "      <td>9</td>\n",
       "      <td>7</td>\n",
       "      <td>6</td>\n",
       "      <td>7</td>\n",
       "      <td>1</td>\n",
       "    </tr>\n",
       "    <tr>\n",
       "      <th>425</th>\n",
       "      <td>50</td>\n",
       "      <td>No</td>\n",
       "      <td>Travel_Rarely</td>\n",
       "      <td>1099</td>\n",
       "      <td>Research &amp; Development</td>\n",
       "      <td>29</td>\n",
       "      <td>4</td>\n",
       "      <td>Life Sciences</td>\n",
       "      <td>1</td>\n",
       "      <td>569</td>\n",
       "      <td>...</td>\n",
       "      <td>80</td>\n",
       "      <td>1</td>\n",
       "      <td>28</td>\n",
       "      <td>2</td>\n",
       "      <td>3</td>\n",
       "      <td>27</td>\n",
       "      <td>10</td>\n",
       "      <td>15</td>\n",
       "      <td>7</td>\n",
       "      <td>1</td>\n",
       "    </tr>\n",
       "    <tr>\n",
       "      <th>302</th>\n",
       "      <td>28</td>\n",
       "      <td>No</td>\n",
       "      <td>Travel_Rarely</td>\n",
       "      <td>1476</td>\n",
       "      <td>Research &amp; Development</td>\n",
       "      <td>16</td>\n",
       "      <td>2</td>\n",
       "      <td>Medical</td>\n",
       "      <td>1</td>\n",
       "      <td>412</td>\n",
       "      <td>...</td>\n",
       "      <td>80</td>\n",
       "      <td>0</td>\n",
       "      <td>9</td>\n",
       "      <td>2</td>\n",
       "      <td>3</td>\n",
       "      <td>8</td>\n",
       "      <td>3</td>\n",
       "      <td>0</td>\n",
       "      <td>7</td>\n",
       "      <td>1</td>\n",
       "    </tr>\n",
       "    <tr>\n",
       "      <th>598</th>\n",
       "      <td>28</td>\n",
       "      <td>Yes</td>\n",
       "      <td>Travel_Rarely</td>\n",
       "      <td>890</td>\n",
       "      <td>Research &amp; Development</td>\n",
       "      <td>2</td>\n",
       "      <td>4</td>\n",
       "      <td>Medical</td>\n",
       "      <td>1</td>\n",
       "      <td>828</td>\n",
       "      <td>...</td>\n",
       "      <td>80</td>\n",
       "      <td>0</td>\n",
       "      <td>5</td>\n",
       "      <td>3</td>\n",
       "      <td>2</td>\n",
       "      <td>2</td>\n",
       "      <td>2</td>\n",
       "      <td>2</td>\n",
       "      <td>1</td>\n",
       "      <td>1</td>\n",
       "    </tr>\n",
       "    <tr>\n",
       "      <th>1438</th>\n",
       "      <td>23</td>\n",
       "      <td>Yes</td>\n",
       "      <td>Travel_Frequently</td>\n",
       "      <td>638</td>\n",
       "      <td>Sales</td>\n",
       "      <td>9</td>\n",
       "      <td>3</td>\n",
       "      <td>Marketing</td>\n",
       "      <td>1</td>\n",
       "      <td>2023</td>\n",
       "      <td>...</td>\n",
       "      <td>80</td>\n",
       "      <td>1</td>\n",
       "      <td>1</td>\n",
       "      <td>3</td>\n",
       "      <td>2</td>\n",
       "      <td>1</td>\n",
       "      <td>0</td>\n",
       "      <td>1</td>\n",
       "      <td>0</td>\n",
       "      <td>1</td>\n",
       "    </tr>\n",
       "    <tr>\n",
       "      <th>388</th>\n",
       "      <td>42</td>\n",
       "      <td>No</td>\n",
       "      <td>Travel_Rarely</td>\n",
       "      <td>201</td>\n",
       "      <td>Research &amp; Development</td>\n",
       "      <td>1</td>\n",
       "      <td>4</td>\n",
       "      <td>Life Sciences</td>\n",
       "      <td>1</td>\n",
       "      <td>517</td>\n",
       "      <td>...</td>\n",
       "      <td>80</td>\n",
       "      <td>1</td>\n",
       "      <td>8</td>\n",
       "      <td>5</td>\n",
       "      <td>3</td>\n",
       "      <td>5</td>\n",
       "      <td>2</td>\n",
       "      <td>1</td>\n",
       "      <td>2</td>\n",
       "      <td>1</td>\n",
       "    </tr>\n",
       "    <tr>\n",
       "      <th>195</th>\n",
       "      <td>37</td>\n",
       "      <td>No</td>\n",
       "      <td>Travel_Rarely</td>\n",
       "      <td>290</td>\n",
       "      <td>Research &amp; Development</td>\n",
       "      <td>21</td>\n",
       "      <td>3</td>\n",
       "      <td>Life Sciences</td>\n",
       "      <td>1</td>\n",
       "      <td>267</td>\n",
       "      <td>...</td>\n",
       "      <td>80</td>\n",
       "      <td>1</td>\n",
       "      <td>8</td>\n",
       "      <td>3</td>\n",
       "      <td>2</td>\n",
       "      <td>8</td>\n",
       "      <td>7</td>\n",
       "      <td>1</td>\n",
       "      <td>7</td>\n",
       "      <td>1</td>\n",
       "    </tr>\n",
       "    <tr>\n",
       "      <th>1065</th>\n",
       "      <td>55</td>\n",
       "      <td>No</td>\n",
       "      <td>Travel_Rarely</td>\n",
       "      <td>1229</td>\n",
       "      <td>Research &amp; Development</td>\n",
       "      <td>4</td>\n",
       "      <td>4</td>\n",
       "      <td>Life Sciences</td>\n",
       "      <td>1</td>\n",
       "      <td>1501</td>\n",
       "      <td>...</td>\n",
       "      <td>80</td>\n",
       "      <td>0</td>\n",
       "      <td>4</td>\n",
       "      <td>2</td>\n",
       "      <td>3</td>\n",
       "      <td>3</td>\n",
       "      <td>2</td>\n",
       "      <td>1</td>\n",
       "      <td>2</td>\n",
       "      <td>1</td>\n",
       "    </tr>\n",
       "  </tbody>\n",
       "</table>\n",
       "<p>15 rows × 36 columns</p>\n",
       "</div>"
      ],
      "text/plain": [
       "      Age Attrition     BusinessTravel  DailyRate              Department  \\\n",
       "1191   31        No      Travel_Rarely       1112                   Sales   \n",
       "1449   32        No      Travel_Rarely        529  Research & Development   \n",
       "609    43        No      Travel_Rarely        589  Research & Development   \n",
       "764    28        No      Travel_Rarely       1144                   Sales   \n",
       "1119   38        No      Travel_Rarely       1245                   Sales   \n",
       "276    35        No      Travel_Rarely       1315  Research & Development   \n",
       "1106   30       Yes      Travel_Rarely        740                   Sales   \n",
       "444    48        No      Travel_Rarely        163                   Sales   \n",
       "425    50        No      Travel_Rarely       1099  Research & Development   \n",
       "302    28        No      Travel_Rarely       1476  Research & Development   \n",
       "598    28       Yes      Travel_Rarely        890  Research & Development   \n",
       "1438   23       Yes  Travel_Frequently        638                   Sales   \n",
       "388    42        No      Travel_Rarely        201  Research & Development   \n",
       "195    37        No      Travel_Rarely        290  Research & Development   \n",
       "1065   55        No      Travel_Rarely       1229  Research & Development   \n",
       "\n",
       "      DistanceFromHome  Education    EducationField  EmployeeCount  \\\n",
       "1191                 5          4     Life Sciences              1   \n",
       "1449                 2          3  Technical Degree              1   \n",
       "609                 14          2     Life Sciences              1   \n",
       "764                 10          1           Medical              1   \n",
       "1119                14          3     Life Sciences              1   \n",
       "276                 22          3     Life Sciences              1   \n",
       "1106                 1          3     Life Sciences              1   \n",
       "444                  2          5         Marketing              1   \n",
       "425                 29          4     Life Sciences              1   \n",
       "302                 16          2           Medical              1   \n",
       "598                  2          4           Medical              1   \n",
       "1438                 9          3         Marketing              1   \n",
       "388                  1          4     Life Sciences              1   \n",
       "195                 21          3     Life Sciences              1   \n",
       "1065                 4          4     Life Sciences              1   \n",
       "\n",
       "      EmployeeNumber  ...  StandardHours StockOptionLevel  TotalWorkingYears  \\\n",
       "1191            1673  ...             80                2                 10   \n",
       "1449            2038  ...             80                0                  4   \n",
       "609              843  ...             80                1                 22   \n",
       "764             1056  ...             80                0                  1   \n",
       "1119            1582  ...             80                1                 10   \n",
       "276              381  ...             80                1                 10   \n",
       "1106            1562  ...             80                1                 10   \n",
       "444              595  ...             80                1                 14   \n",
       "425              569  ...             80                1                 28   \n",
       "302              412  ...             80                0                  9   \n",
       "598              828  ...             80                0                  5   \n",
       "1438            2023  ...             80                1                  1   \n",
       "388              517  ...             80                1                  8   \n",
       "195              267  ...             80                1                  8   \n",
       "1065            1501  ...             80                0                  4   \n",
       "\n",
       "      TrainingTimesLastYear  WorkLifeBalance YearsAtCompany  \\\n",
       "1191                      2                3             10   \n",
       "1449                      4                3              4   \n",
       "609                       3                3              4   \n",
       "764                       5                3              1   \n",
       "1119                      3                3              9   \n",
       "276                       6                2              7   \n",
       "1106                      4                3             10   \n",
       "444                       2                3              9   \n",
       "425                       2                3             27   \n",
       "302                       2                3              8   \n",
       "598                       3                2              2   \n",
       "1438                      3                2              1   \n",
       "388                       5                3              5   \n",
       "195                       3                2              8   \n",
       "1065                      2                3              3   \n",
       "\n",
       "      YearsInCurrentRole YearsSinceLastPromotion  YearsWithCurrManager  count  \n",
       "1191                   0                       0                     2      1  \n",
       "1449                   2                       1                     2      1  \n",
       "609                    1                       1                     0      1  \n",
       "764                    0                       0                     0      1  \n",
       "1119                   8                       7                     7      1  \n",
       "276                    7                       6                     2      1  \n",
       "1106                   8                       6                     7      1  \n",
       "444                    7                       6                     7      1  \n",
       "425                   10                      15                     7      1  \n",
       "302                    3                       0                     7      1  \n",
       "598                    2                       2                     1      1  \n",
       "1438                   0                       1                     0      1  \n",
       "388                    2                       1                     2      1  \n",
       "195                    7                       1                     7      1  \n",
       "1065                   2                       1                     2      1  \n",
       "\n",
       "[15 rows x 36 columns]"
      ]
     },
     "execution_count": 22,
     "metadata": {},
     "output_type": "execute_result"
    }
   ],
   "source": [
    "df.sample(n=15)"
   ]
  },
  {
   "cell_type": "code",
   "execution_count": null,
   "id": "10b8aad5",
   "metadata": {},
   "outputs": [],
   "source": []
  }
 ],
 "metadata": {
  "kernelspec": {
   "display_name": "Python 3",
   "language": "python",
   "name": "python3"
  },
  "language_info": {
   "codemirror_mode": {
    "name": "ipython",
    "version": 3
   },
   "file_extension": ".py",
   "mimetype": "text/x-python",
   "name": "python",
   "nbconvert_exporter": "python",
   "pygments_lexer": "ipython3",
   "version": "3.8.8"
  }
 },
 "nbformat": 4,
 "nbformat_minor": 5
}
