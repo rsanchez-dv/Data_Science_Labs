{
 "cells": [
  {
   "cell_type": "markdown",
   "id": "448b6654",
   "metadata": {},
   "source": [
    "# Welcome to lab 4!\n",
    "\n"
   ]
  },
  {
   "cell_type": "markdown",
   "id": "89cffea7",
   "metadata": {},
   "source": [
    "In this lab, we will start with a couple of confidence interval problems, and then we will have a large challenge section. In this section, we will give you some problems but not tell you which test or technique to use to solve them. Try to figure it out yourself! "
   ]
  },
  {
   "cell_type": "markdown",
   "id": "4fe91138",
   "metadata": {},
   "source": [
    "Start by importing the data set that we used in the last lab. You should be able to find the file on your google drive. If not, here is a link to download it https://www.kaggle.com/aungpyaeap/supermarket-sales. "
   ]
  },
  {
   "cell_type": "code",
   "execution_count": 69,
   "id": "c8e84c0d",
   "metadata": {},
   "outputs": [
    {
     "data": {
      "text/html": [
       "<div>\n",
       "<style scoped>\n",
       "    .dataframe tbody tr th:only-of-type {\n",
       "        vertical-align: middle;\n",
       "    }\n",
       "\n",
       "    .dataframe tbody tr th {\n",
       "        vertical-align: top;\n",
       "    }\n",
       "\n",
       "    .dataframe thead th {\n",
       "        text-align: right;\n",
       "    }\n",
       "</style>\n",
       "<table border=\"1\" class=\"dataframe\">\n",
       "  <thead>\n",
       "    <tr style=\"text-align: right;\">\n",
       "      <th></th>\n",
       "      <th>Invoice ID</th>\n",
       "      <th>Branch</th>\n",
       "      <th>City</th>\n",
       "      <th>Customer type</th>\n",
       "      <th>Gender</th>\n",
       "      <th>Product line</th>\n",
       "      <th>Unit price</th>\n",
       "      <th>Quantity</th>\n",
       "      <th>Tax 5%</th>\n",
       "      <th>Total</th>\n",
       "      <th>Date</th>\n",
       "      <th>Time</th>\n",
       "      <th>Payment</th>\n",
       "      <th>cogs</th>\n",
       "      <th>gross margin percentage</th>\n",
       "      <th>gross income</th>\n",
       "      <th>Rating</th>\n",
       "    </tr>\n",
       "  </thead>\n",
       "  <tbody>\n",
       "    <tr>\n",
       "      <th>0</th>\n",
       "      <td>750-67-8428</td>\n",
       "      <td>A</td>\n",
       "      <td>Yangon</td>\n",
       "      <td>Member</td>\n",
       "      <td>Female</td>\n",
       "      <td>Health and beauty</td>\n",
       "      <td>74.69</td>\n",
       "      <td>7</td>\n",
       "      <td>26.1415</td>\n",
       "      <td>548.9715</td>\n",
       "      <td>1/5/2019</td>\n",
       "      <td>13:08</td>\n",
       "      <td>Ewallet</td>\n",
       "      <td>522.83</td>\n",
       "      <td>4.761905</td>\n",
       "      <td>26.1415</td>\n",
       "      <td>9.1</td>\n",
       "    </tr>\n",
       "    <tr>\n",
       "      <th>1</th>\n",
       "      <td>226-31-3081</td>\n",
       "      <td>C</td>\n",
       "      <td>Naypyitaw</td>\n",
       "      <td>Normal</td>\n",
       "      <td>Female</td>\n",
       "      <td>Electronic accessories</td>\n",
       "      <td>15.28</td>\n",
       "      <td>5</td>\n",
       "      <td>3.8200</td>\n",
       "      <td>80.2200</td>\n",
       "      <td>3/8/2019</td>\n",
       "      <td>10:29</td>\n",
       "      <td>Cash</td>\n",
       "      <td>76.40</td>\n",
       "      <td>4.761905</td>\n",
       "      <td>3.8200</td>\n",
       "      <td>9.6</td>\n",
       "    </tr>\n",
       "    <tr>\n",
       "      <th>2</th>\n",
       "      <td>631-41-3108</td>\n",
       "      <td>A</td>\n",
       "      <td>Yangon</td>\n",
       "      <td>Normal</td>\n",
       "      <td>Male</td>\n",
       "      <td>Home and lifestyle</td>\n",
       "      <td>46.33</td>\n",
       "      <td>7</td>\n",
       "      <td>16.2155</td>\n",
       "      <td>340.5255</td>\n",
       "      <td>3/3/2019</td>\n",
       "      <td>13:23</td>\n",
       "      <td>Credit card</td>\n",
       "      <td>324.31</td>\n",
       "      <td>4.761905</td>\n",
       "      <td>16.2155</td>\n",
       "      <td>7.4</td>\n",
       "    </tr>\n",
       "    <tr>\n",
       "      <th>3</th>\n",
       "      <td>123-19-1176</td>\n",
       "      <td>A</td>\n",
       "      <td>Yangon</td>\n",
       "      <td>Member</td>\n",
       "      <td>Male</td>\n",
       "      <td>Health and beauty</td>\n",
       "      <td>58.22</td>\n",
       "      <td>8</td>\n",
       "      <td>23.2880</td>\n",
       "      <td>489.0480</td>\n",
       "      <td>1/27/2019</td>\n",
       "      <td>20:33</td>\n",
       "      <td>Ewallet</td>\n",
       "      <td>465.76</td>\n",
       "      <td>4.761905</td>\n",
       "      <td>23.2880</td>\n",
       "      <td>8.4</td>\n",
       "    </tr>\n",
       "    <tr>\n",
       "      <th>4</th>\n",
       "      <td>373-73-7910</td>\n",
       "      <td>A</td>\n",
       "      <td>Yangon</td>\n",
       "      <td>Normal</td>\n",
       "      <td>Male</td>\n",
       "      <td>Sports and travel</td>\n",
       "      <td>86.31</td>\n",
       "      <td>7</td>\n",
       "      <td>30.2085</td>\n",
       "      <td>634.3785</td>\n",
       "      <td>2/8/2019</td>\n",
       "      <td>10:37</td>\n",
       "      <td>Ewallet</td>\n",
       "      <td>604.17</td>\n",
       "      <td>4.761905</td>\n",
       "      <td>30.2085</td>\n",
       "      <td>5.3</td>\n",
       "    </tr>\n",
       "  </tbody>\n",
       "</table>\n",
       "</div>"
      ],
      "text/plain": [
       "    Invoice ID Branch       City Customer type  Gender  \\\n",
       "0  750-67-8428      A     Yangon        Member  Female   \n",
       "1  226-31-3081      C  Naypyitaw        Normal  Female   \n",
       "2  631-41-3108      A     Yangon        Normal    Male   \n",
       "3  123-19-1176      A     Yangon        Member    Male   \n",
       "4  373-73-7910      A     Yangon        Normal    Male   \n",
       "\n",
       "             Product line  Unit price  Quantity   Tax 5%     Total       Date  \\\n",
       "0       Health and beauty       74.69         7  26.1415  548.9715   1/5/2019   \n",
       "1  Electronic accessories       15.28         5   3.8200   80.2200   3/8/2019   \n",
       "2      Home and lifestyle       46.33         7  16.2155  340.5255   3/3/2019   \n",
       "3       Health and beauty       58.22         8  23.2880  489.0480  1/27/2019   \n",
       "4       Sports and travel       86.31         7  30.2085  634.3785   2/8/2019   \n",
       "\n",
       "    Time      Payment    cogs  gross margin percentage  gross income  Rating  \n",
       "0  13:08      Ewallet  522.83                 4.761905       26.1415     9.1  \n",
       "1  10:29         Cash   76.40                 4.761905        3.8200     9.6  \n",
       "2  13:23  Credit card  324.31                 4.761905       16.2155     7.4  \n",
       "3  20:33      Ewallet  465.76                 4.761905       23.2880     8.4  \n",
       "4  10:37      Ewallet  604.17                 4.761905       30.2085     5.3  "
      ]
     },
     "execution_count": 69,
     "metadata": {},
     "output_type": "execute_result"
    }
   ],
   "source": [
    "import pandas as pd\n",
    "\n",
    "df = pd.read_csv ('supermarket_sales - Sheet1.csv')\n",
    "\n",
    "df.head()"
   ]
  },
  {
   "cell_type": "markdown",
   "id": "1d3481e3",
   "metadata": {},
   "source": [
    "### One proportion confidence interval "
   ]
  },
  {
   "cell_type": "markdown",
   "id": "6e6a463d",
   "metadata": {},
   "source": [
    "\n",
    "#### Create a 95% confidence interval of the the proportion of people who primarily buy health and beauty products. "
   ]
  },
  {
   "cell_type": "code",
   "execution_count": 235,
   "id": "df1145bf",
   "metadata": {},
   "outputs": [
    {
     "name": "stdout",
     "output_type": "stream",
     "text": [
      "Lower: 0.12974806354152094 and Upper: 0.17425193645847906\n"
     ]
    }
   ],
   "source": [
    "import statsmodels.stats.proportion as smp\n",
    "\n",
    "sample_size = len(df)\n",
    "people_bought_items = len(df.query(\"`Product line` == 'Health and beauty'\"))\n",
    "\n",
    "lower, upper = smp.proportion_confint(people_bought_items, sample_size, alpha=0.05, method='normal')\n",
    "print(f'Lower: {lower} and Upper: {upper}')"
   ]
  },
  {
   "cell_type": "markdown",
   "id": "013b69fa",
   "metadata": {},
   "source": [
    "### Two proportion confidence interval "
   ]
  },
  {
   "cell_type": "markdown",
   "id": "90d2897d",
   "metadata": {},
   "source": [
    "#### Create a 90% confidence interval of the difference between the proportion of people who primarily buy health and beauty products and the proportion who buy sports and travel."
   ]
  },
  {
   "cell_type": "code",
   "execution_count": 119,
   "id": "22ca21c5",
   "metadata": {},
   "outputs": [
    {
     "data": {
      "text/plain": [
       "(-0.040917343413215915, 0.01292450294733441)"
      ]
     },
     "execution_count": 119,
     "metadata": {},
     "output_type": "execute_result"
    }
   ],
   "source": [
    "'''\n",
    "The difference between the proportion of people who bought health and beauty vs who bought sports and travel\n",
    "'''\n",
    "# Those who bought health and beauty\n",
    "affected_size1 = len(df.query(\"`Product line` == 'Health and beauty'\"))\n",
    "sample_size1 = len(df) \n",
    "\n",
    "# Those who bought sports and travel\n",
    "affected_size2 = len(df.query(\"`Product line` == 'Sports and travel'\"))\n",
    "sample_size2 = len(df)\n",
    "\n",
    "smp.confint_proportions_2indep(affected_size1,sample_size1,affected_size2,sample_size2,compare='diff', alpha=0.1)\n"
   ]
  },
  {
   "cell_type": "markdown",
   "id": "65298eef",
   "metadata": {},
   "source": [
    "### One mean confidence interval"
   ]
  },
  {
   "cell_type": "markdown",
   "id": "e0a51128",
   "metadata": {},
   "source": [
    "Create a 95% confidence interval for the mean Total for the people who buy health and beauty products."
   ]
  },
  {
   "cell_type": "code",
   "execution_count": 120,
   "id": "3a553515",
   "metadata": {},
   "outputs": [
    {
     "data": {
      "text/plain": [
       "(293.7859835148532, 353.50005595883124)"
      ]
     },
     "execution_count": 120,
     "metadata": {},
     "output_type": "execute_result"
    }
   ],
   "source": [
    "import numpy as np\n",
    "import scipy.stats as st\n",
    "\n",
    "degrees_of_freedom = len(df) - 1\n",
    "average = 323.64301973684223 #df.query(\"`Product line` == 'Health and beauty'\").Total.mean()\n",
    "std = 237.538815 #df.query(\"`Product line` == 'Health and beauty'\").Total.std()\n",
    "\n",
    "st.t.interval(alpha=0.1, df=degrees_of_freedom,loc=average, scale=std)\n"
   ]
  },
  {
   "cell_type": "markdown",
   "id": "16718a0b",
   "metadata": {},
   "source": [
    "### Two mean confidence interval"
   ]
  },
  {
   "cell_type": "markdown",
   "id": "fa923008",
   "metadata": {},
   "source": [
    "#### Create a 99% confidence interval for the difference between the mean Total for people who buy health and beauty products, and those who buy Sports and travel products. "
   ]
  },
  {
   "cell_type": "code",
   "execution_count": 237,
   "id": "2adf94b9",
   "metadata": {},
   "outputs": [
    {
     "name": "stdout",
     "output_type": "stream",
     "text": [
      "(-62.04709679329891, 45.202696507947046)\n"
     ]
    }
   ],
   "source": [
    "import statsmodels.stats.api as sms\n",
    "\n",
    "df1 = df.query(\"`Product line` == 'Health and beauty'\").Total\n",
    "df2 = df.query(\"`Product line` == 'Sports and travel'\").Total\n",
    "\n",
    "cm = sms.CompareMeans(sms.DescrStatsW(df1),sms.DescrStatsW(df2))\n",
    "#m = sms.CompareMeans(df1, df2)\n",
    "# Change alpha value\n",
    "print(cm.tconfint_diff(usevar='unequal'))"
   ]
  },
  {
   "cell_type": "markdown",
   "id": "f2fa40b0",
   "metadata": {},
   "source": [
    "## Now, let's move on to the challenge problems! "
   ]
  },
  {
   "cell_type": "markdown",
   "id": "e8abf10e",
   "metadata": {},
   "source": [
    "Start by importing the amrkeing data set. You should be able to find this data set on the class google drive, but if not, you can find a link to download it here: https://www.kaggle.com/jackdaoud/marketing-data. Use df.head() to make sure you can view the data set. "
   ]
  },
  {
   "cell_type": "code",
   "execution_count": 239,
   "id": "9a469cbe",
   "metadata": {},
   "outputs": [
    {
     "data": {
      "text/html": [
       "<div>\n",
       "<style scoped>\n",
       "    .dataframe tbody tr th:only-of-type {\n",
       "        vertical-align: middle;\n",
       "    }\n",
       "\n",
       "    .dataframe tbody tr th {\n",
       "        vertical-align: top;\n",
       "    }\n",
       "\n",
       "    .dataframe thead th {\n",
       "        text-align: right;\n",
       "    }\n",
       "</style>\n",
       "<table border=\"1\" class=\"dataframe\">\n",
       "  <thead>\n",
       "    <tr style=\"text-align: right;\">\n",
       "      <th></th>\n",
       "      <th>ID</th>\n",
       "      <th>Year_Birth</th>\n",
       "      <th>Education</th>\n",
       "      <th>Marital_Status</th>\n",
       "      <th>Income</th>\n",
       "      <th>Kidhome</th>\n",
       "      <th>Teenhome</th>\n",
       "      <th>Dt_Customer</th>\n",
       "      <th>Recency</th>\n",
       "      <th>MntWines</th>\n",
       "      <th>...</th>\n",
       "      <th>NumStorePurchases</th>\n",
       "      <th>NumWebVisitsMonth</th>\n",
       "      <th>AcceptedCmp3</th>\n",
       "      <th>AcceptedCmp4</th>\n",
       "      <th>AcceptedCmp5</th>\n",
       "      <th>AcceptedCmp1</th>\n",
       "      <th>AcceptedCmp2</th>\n",
       "      <th>Response</th>\n",
       "      <th>Complain</th>\n",
       "      <th>Country</th>\n",
       "    </tr>\n",
       "  </thead>\n",
       "  <tbody>\n",
       "    <tr>\n",
       "      <th>0</th>\n",
       "      <td>1826</td>\n",
       "      <td>1970</td>\n",
       "      <td>Graduation</td>\n",
       "      <td>Divorced</td>\n",
       "      <td>$84,835.00</td>\n",
       "      <td>0</td>\n",
       "      <td>0</td>\n",
       "      <td>6/16/14</td>\n",
       "      <td>0</td>\n",
       "      <td>189</td>\n",
       "      <td>...</td>\n",
       "      <td>6</td>\n",
       "      <td>1</td>\n",
       "      <td>0</td>\n",
       "      <td>0</td>\n",
       "      <td>0</td>\n",
       "      <td>0</td>\n",
       "      <td>0</td>\n",
       "      <td>1</td>\n",
       "      <td>0</td>\n",
       "      <td>SP</td>\n",
       "    </tr>\n",
       "    <tr>\n",
       "      <th>1</th>\n",
       "      <td>1</td>\n",
       "      <td>1961</td>\n",
       "      <td>Graduation</td>\n",
       "      <td>Single</td>\n",
       "      <td>$57,091.00</td>\n",
       "      <td>0</td>\n",
       "      <td>0</td>\n",
       "      <td>6/15/14</td>\n",
       "      <td>0</td>\n",
       "      <td>464</td>\n",
       "      <td>...</td>\n",
       "      <td>7</td>\n",
       "      <td>5</td>\n",
       "      <td>0</td>\n",
       "      <td>0</td>\n",
       "      <td>0</td>\n",
       "      <td>0</td>\n",
       "      <td>1</td>\n",
       "      <td>1</td>\n",
       "      <td>0</td>\n",
       "      <td>CA</td>\n",
       "    </tr>\n",
       "    <tr>\n",
       "      <th>2</th>\n",
       "      <td>10476</td>\n",
       "      <td>1958</td>\n",
       "      <td>Graduation</td>\n",
       "      <td>Married</td>\n",
       "      <td>$67,267.00</td>\n",
       "      <td>0</td>\n",
       "      <td>1</td>\n",
       "      <td>5/13/14</td>\n",
       "      <td>0</td>\n",
       "      <td>134</td>\n",
       "      <td>...</td>\n",
       "      <td>5</td>\n",
       "      <td>2</td>\n",
       "      <td>0</td>\n",
       "      <td>0</td>\n",
       "      <td>0</td>\n",
       "      <td>0</td>\n",
       "      <td>0</td>\n",
       "      <td>0</td>\n",
       "      <td>0</td>\n",
       "      <td>US</td>\n",
       "    </tr>\n",
       "    <tr>\n",
       "      <th>3</th>\n",
       "      <td>1386</td>\n",
       "      <td>1967</td>\n",
       "      <td>Graduation</td>\n",
       "      <td>Together</td>\n",
       "      <td>$32,474.00</td>\n",
       "      <td>1</td>\n",
       "      <td>1</td>\n",
       "      <td>5/11/14</td>\n",
       "      <td>0</td>\n",
       "      <td>10</td>\n",
       "      <td>...</td>\n",
       "      <td>2</td>\n",
       "      <td>7</td>\n",
       "      <td>0</td>\n",
       "      <td>0</td>\n",
       "      <td>0</td>\n",
       "      <td>0</td>\n",
       "      <td>0</td>\n",
       "      <td>0</td>\n",
       "      <td>0</td>\n",
       "      <td>AUS</td>\n",
       "    </tr>\n",
       "    <tr>\n",
       "      <th>4</th>\n",
       "      <td>5371</td>\n",
       "      <td>1989</td>\n",
       "      <td>Graduation</td>\n",
       "      <td>Single</td>\n",
       "      <td>$21,474.00</td>\n",
       "      <td>1</td>\n",
       "      <td>0</td>\n",
       "      <td>4/8/14</td>\n",
       "      <td>0</td>\n",
       "      <td>6</td>\n",
       "      <td>...</td>\n",
       "      <td>2</td>\n",
       "      <td>7</td>\n",
       "      <td>1</td>\n",
       "      <td>0</td>\n",
       "      <td>0</td>\n",
       "      <td>0</td>\n",
       "      <td>0</td>\n",
       "      <td>1</td>\n",
       "      <td>0</td>\n",
       "      <td>SP</td>\n",
       "    </tr>\n",
       "  </tbody>\n",
       "</table>\n",
       "<p>5 rows × 28 columns</p>\n",
       "</div>"
      ],
      "text/plain": [
       "      ID  Year_Birth   Education Marital_Status      Income   Kidhome  \\\n",
       "0   1826        1970  Graduation       Divorced  $84,835.00         0   \n",
       "1      1        1961  Graduation         Single  $57,091.00         0   \n",
       "2  10476        1958  Graduation        Married  $67,267.00         0   \n",
       "3   1386        1967  Graduation       Together  $32,474.00         1   \n",
       "4   5371        1989  Graduation         Single  $21,474.00         1   \n",
       "\n",
       "   Teenhome Dt_Customer  Recency  MntWines  ...  NumStorePurchases  \\\n",
       "0         0     6/16/14        0       189  ...                  6   \n",
       "1         0     6/15/14        0       464  ...                  7   \n",
       "2         1     5/13/14        0       134  ...                  5   \n",
       "3         1     5/11/14        0        10  ...                  2   \n",
       "4         0      4/8/14        0         6  ...                  2   \n",
       "\n",
       "   NumWebVisitsMonth  AcceptedCmp3  AcceptedCmp4  AcceptedCmp5  AcceptedCmp1  \\\n",
       "0                  1             0             0             0             0   \n",
       "1                  5             0             0             0             0   \n",
       "2                  2             0             0             0             0   \n",
       "3                  7             0             0             0             0   \n",
       "4                  7             1             0             0             0   \n",
       "\n",
       "   AcceptedCmp2  Response  Complain  Country  \n",
       "0             0         1         0       SP  \n",
       "1             1         1         0       CA  \n",
       "2             0         0         0       US  \n",
       "3             0         0         0      AUS  \n",
       "4             0         1         0       SP  \n",
       "\n",
       "[5 rows x 28 columns]"
      ]
     },
     "execution_count": 239,
     "metadata": {},
     "output_type": "execute_result"
    }
   ],
   "source": [
    "df2 = pd.read_csv ('marketing_data.csv')\n",
    "\n",
    "df2.head()"
   ]
  },
  {
   "cell_type": "markdown",
   "id": "733ed3e6",
   "metadata": {},
   "source": [
    "#### We are going to be working a lot with the income variable. Do you notice any problems with the way in which the data is presented that might be problematic for us? How could we solve that problem? "
   ]
  },
  {
   "cell_type": "code",
   "execution_count": 154,
   "id": "79058c74",
   "metadata": {},
   "outputs": [
    {
     "data": {
      "text/plain": [
       "ID                      int64\n",
       "Year_Birth              int64\n",
       "Education              object\n",
       "Marital_Status         object\n",
       " Income                object\n",
       "Kidhome                 int64\n",
       "Teenhome                int64\n",
       "Dt_Customer            object\n",
       "Recency                 int64\n",
       "MntWines                int64\n",
       "MntFruits               int64\n",
       "MntMeatProducts         int64\n",
       "MntFishProducts         int64\n",
       "MntSweetProducts        int64\n",
       "MntGoldProds            int64\n",
       "NumDealsPurchases       int64\n",
       "NumWebPurchases         int64\n",
       "NumCatalogPurchases     int64\n",
       "NumStorePurchases       int64\n",
       "NumWebVisitsMonth       int64\n",
       "AcceptedCmp3            int64\n",
       "AcceptedCmp4            int64\n",
       "AcceptedCmp5            int64\n",
       "AcceptedCmp1            int64\n",
       "AcceptedCmp2            int64\n",
       "Response                int64\n",
       "Complain                int64\n",
       "Country                object\n",
       "dtype: object"
      ]
     },
     "execution_count": 154,
     "metadata": {},
     "output_type": "execute_result"
    }
   ],
   "source": [
    "# The data is in a currency format. We need to convert to float values in order to do calculations\n",
    "# Also there is a space infront and in the back of Income which is not clear when we printed it out\n",
    "# Also there are extra spacing in each number\n",
    "df2.dtypes"
   ]
  },
  {
   "cell_type": "code",
   "execution_count": 155,
   "id": "583b4b1a",
   "metadata": {},
   "outputs": [
    {
     "data": {
      "text/plain": [
       "0       $84,835.00 \n",
       "1       $57,091.00 \n",
       "2       $67,267.00 \n",
       "3       $32,474.00 \n",
       "4       $21,474.00 \n",
       "           ...     \n",
       "2235    $66,476.00 \n",
       "2236    $31,056.00 \n",
       "2237    $46,310.00 \n",
       "2238    $65,819.00 \n",
       "2239    $94,871.00 \n",
       "Name:  Income , Length: 2240, dtype: object"
      ]
     },
     "execution_count": 155,
     "metadata": {},
     "output_type": "execute_result"
    }
   ],
   "source": [
    "df2[' Income ']"
   ]
  },
  {
   "cell_type": "markdown",
   "id": "f73f5565",
   "metadata": {},
   "source": [
    "#### Now, solve it! You can use the function .columns to get the names of all of the columns. "
   ]
  },
  {
   "cell_type": "code",
   "execution_count": 156,
   "id": "dffc394f",
   "metadata": {},
   "outputs": [
    {
     "data": {
      "text/plain": [
       "Index(['ID', 'Year_Birth', 'Education', 'Marital_Status', ' Income ',\n",
       "       'Kidhome', 'Teenhome', 'Dt_Customer', 'Recency', 'MntWines',\n",
       "       'MntFruits', 'MntMeatProducts', 'MntFishProducts', 'MntSweetProducts',\n",
       "       'MntGoldProds', 'NumDealsPurchases', 'NumWebPurchases',\n",
       "       'NumCatalogPurchases', 'NumStorePurchases', 'NumWebVisitsMonth',\n",
       "       'AcceptedCmp3', 'AcceptedCmp4', 'AcceptedCmp5', 'AcceptedCmp1',\n",
       "       'AcceptedCmp2', 'Response', 'Complain', 'Country'],\n",
       "      dtype='object')"
      ]
     },
     "execution_count": 156,
     "metadata": {},
     "output_type": "execute_result"
    }
   ],
   "source": [
    "df2.columns"
   ]
  },
  {
   "cell_type": "code",
   "execution_count": 240,
   "id": "5490b000",
   "metadata": {},
   "outputs": [
    {
     "data": {
      "text/plain": [
       "Index(['ID', 'Year_Birth', 'Education', 'Marital_Status', 'Income', 'Kidhome',\n",
       "       'Teenhome', 'Dt_Customer', 'Recency', 'MntWines', 'MntFruits',\n",
       "       'MntMeatProducts', 'MntFishProducts', 'MntSweetProducts',\n",
       "       'MntGoldProds', 'NumDealsPurchases', 'NumWebPurchases',\n",
       "       'NumCatalogPurchases', 'NumStorePurchases', 'NumWebVisitsMonth',\n",
       "       'AcceptedCmp3', 'AcceptedCmp4', 'AcceptedCmp5', 'AcceptedCmp1',\n",
       "       'AcceptedCmp2', 'Response', 'Complain', 'Country'],\n",
       "      dtype='object')"
      ]
     },
     "execution_count": 240,
     "metadata": {},
     "output_type": "execute_result"
    }
   ],
   "source": [
    "df2 = df2.rename(columns={\" Income \": \"Income\"})\n",
    "df2.columns"
   ]
  },
  {
   "cell_type": "code",
   "execution_count": 202,
   "id": "1723fa31",
   "metadata": {
    "scrolled": true
   },
   "outputs": [
    {
     "data": {
      "text/plain": [
       "0       84835.0\n",
       "1       57091.0\n",
       "2       67267.0\n",
       "3       32474.0\n",
       "4       21474.0\n",
       "         ...   \n",
       "2235    66476.0\n",
       "2236    31056.0\n",
       "2237    46310.0\n",
       "2238    65819.0\n",
       "2239    94871.0\n",
       "Name: Income, Length: 2240, dtype: float64"
      ]
     },
     "execution_count": 202,
     "metadata": {},
     "output_type": "execute_result"
    }
   ],
   "source": [
    "# Converting all values to floats\n",
    "df2['Income'].replace('[\\$,]', '', regex=True).astype(float)"
   ]
  },
  {
   "cell_type": "markdown",
   "id": "51e014c9",
   "metadata": {},
   "source": [
    "#### Use your marketing data to find whether the proportion of people born after 1975 is less than 0.25, at a 5% signifiance level. "
   ]
  },
  {
   "cell_type": "code",
   "execution_count": 184,
   "id": "a7b52453",
   "metadata": {},
   "outputs": [
    {
     "name": "stdout",
     "output_type": "stream",
     "text": [
      "Lower: 0.291110627393249 Upper: 0.3294250868924653\n"
     ]
    }
   ],
   "source": [
    "# Should of used hypo test\n",
    "\n",
    "# Find that less than 25% are born after 1975\n",
    "num_born_after_75 = len(df2.query(\"`Year_Birth` > 1975\"))\n",
    "sig_lvl = .05\n",
    "sample_size = len(df2)\n",
    "\n",
    "lower, upper = smp.proportion_confint (num_born_after_75,sample_size,alpha= sig_lvl, method='normal')\n",
    "print(f'Lower: {lower} Upper: {upper}')\n"
   ]
  },
  {
   "cell_type": "markdown",
   "id": "41fd8330",
   "metadata": {},
   "source": [
    "#### Use the marketing data to find whether the proportion of people who are divorced is significantly different from the proportion of people who are Married. "
   ]
  },
  {
   "cell_type": "code",
   "execution_count": 191,
   "id": "6c516414",
   "metadata": {},
   "outputs": [
    {
     "name": "stdout",
     "output_type": "stream",
     "text": [
      "232 people who are divorced compared to 864 who are married out of 2240 total\n"
     ]
    }
   ],
   "source": [
    "people_divorced = len(df2.query(\"`Marital_Status` == 'Divorced'\"))\n",
    "people_married = len(df2.query(\"`Marital_Status` == 'Married'\"))\n",
    "sample_size = len(df2)\n",
    "print(f'{people_divorced} people who are divorced compared to {people_married} who are married out of {sample_size} total')\n",
    "# Hypothesis Test? \n",
    "'''\n",
    "H_o = p_1 - p_2 != 0\n",
    "H_a = p_1 - p_2 == 0\n",
    "alpha = .10\n",
    "'''\n",
    "sample_sucess\n",
    "from statsmodels.stats.proportion import proportions_ztest\n",
    "proportions_ztest(count= )"
   ]
  },
  {
   "cell_type": "markdown",
   "id": "e1280eda",
   "metadata": {},
   "source": [
    "#### Create a 95% confidence interval to estimate mean Income for your clients. "
   ]
  },
  {
   "cell_type": "code",
   "execution_count": 241,
   "id": "027339a9",
   "metadata": {},
   "outputs": [
    {
     "data": {
      "text/plain": [
       "(50668.551948304164, 53825.95075927706)"
      ]
     },
     "execution_count": 241,
     "metadata": {},
     "output_type": "execute_result"
    }
   ],
   "source": [
    "import numpy as np\n",
    "import scipy.stats as st\n",
    "\n",
    "income = df2['Income'].replace('[\\$,]', '', regex=True).astype(float)\n",
    "\n",
    "mean_income = income.mean()\n",
    "std_income = income.std()\n",
    "\n",
    "st.t.interval(alpha=0.05, df=len(df2), loc=mean_income, scale=std_income)"
   ]
  },
  {
   "cell_type": "markdown",
   "id": "ffb1cb54",
   "metadata": {},
   "source": [
    "#### On average, do single people spend more than married people on wine? Use a significance level of .05. "
   ]
  },
  {
   "cell_type": "code",
   "execution_count": 234,
   "id": "6d68a56d",
   "metadata": {},
   "outputs": [
    {
     "name": "stdout",
     "output_type": "stream",
     "text": [
      "Samples: 480 864 std: 3.254881645054463 3.254881645054463\n",
      "(-0.5747142622081507, 0.15249203998592814)\n"
     ]
    }
   ],
   "source": [
    "# Single people one wine\n",
    "\n",
    "alpha = .05\n",
    "\n",
    "single_people_wine_avg = df2.query(\"`Marital_Status` == 'Single'\").NumStorePurchases\n",
    "married_people_wine_avg = df2.query(\"`Marital_Status` == 'Married'\").NumStorePurchases\n",
    "\n",
    "num_single = df2.query(\"`Marital_Status` == 'Single'\").NumStorePurchases.count()\n",
    "num_married = df2.query(\"`Marital_Status` == 'Married'\").NumStorePurchases.count()\n",
    "\n",
    "std_single = df2.query(\"`Marital_Status` == 'Single'\").NumStorePurchases.std()\n",
    "std_married = df2.query(\"`Marital_Status` == 'Married'\").NumStorePurchases.std()\n",
    "print(f'Samples: {num_single} {num_married} std: {std_single} {std_single}')\n",
    "\n",
    "\n",
    "cm = sms.CompareMeans(sms.DescrStatsW(single_people_wine_avg), sms.DescrStatsW(married_people_wine_avg))\n",
    "print(cm.tconfint_diff(usevar='unequal'))\n",
    "\n"
   ]
  },
  {
   "cell_type": "markdown",
   "id": "a3812607",
   "metadata": {},
   "source": [
    "#### Is the mean number of store purchases greater than 6? Check with a significance level of 10%. "
   ]
  },
  {
   "cell_type": "code",
   "execution_count": null,
   "id": "b555d17d",
   "metadata": {},
   "outputs": [],
   "source": []
  },
  {
   "cell_type": "markdown",
   "id": "5ecb8024",
   "metadata": {},
   "source": [
    "#### Create a 95% confidence interval for the mean income of Divorced people. "
   ]
  },
  {
   "cell_type": "code",
   "execution_count": null,
   "id": "feecd606",
   "metadata": {},
   "outputs": [],
   "source": []
  }
 ],
 "metadata": {
  "kernelspec": {
   "display_name": "Python 3",
   "language": "python",
   "name": "python3"
  },
  "language_info": {
   "codemirror_mode": {
    "name": "ipython",
    "version": 3
   },
   "file_extension": ".py",
   "mimetype": "text/x-python",
   "name": "python",
   "nbconvert_exporter": "python",
   "pygments_lexer": "ipython3",
   "version": "3.8.8"
  }
 },
 "nbformat": 4,
 "nbformat_minor": 5
}
