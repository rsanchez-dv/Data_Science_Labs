{
 "cells": [
  {
   "cell_type": "code",
   "execution_count": 1,
   "id": "075cf04c",
   "metadata": {
    "scrolled": true
   },
   "outputs": [
    {
     "name": "stdout",
     "output_type": "stream",
     "text": [
      "[35, 37, 5, 34, 21, 49, 34, 1, 14, 8, 5, 29, 19, 31, 36, 43, 1, 46, 48, 47, 43, 20, 18, 32, 49, 1, 14, 21, 19, 49, 24, 3, 44, 32, 43, 28, 50, 11, 35, 47, 49, 43, 22, 17, 10, 7, 35, 14, 19]\n",
      "Min: 1 Max 50\n",
      "[0.69, 0.73, 0.08, 0.67, 0.41, 0.98, 0.67, 0.0, 0.27, 0.14, 0.08, 0.57, 0.37, 0.61, 0.71, 0.86, 0.0, 0.92, 0.96, 0.94, 0.86, 0.39, 0.35, 0.63, 0.98, 0.0, 0.27, 0.41, 0.37, 0.98, 0.47, 0.04, 0.88, 0.63, 0.86, 0.55, 1.0, 0.2, 0.69, 0.94, 0.98, 0.86, 0.43, 0.33, 0.18, 0.12, 0.69, 0.27, 0.37]\n"
     ]
    }
   ],
   "source": [
    "from random import randint\n",
    "import numpy as np\n",
    "\n",
    "# Min - Max Scaling\n",
    "arr = []\n",
    "# Generating Data\n",
    "for x in range(1,50):\n",
    "    arr.append(randint(1,50))\n",
    "print(arr)\n",
    "\n",
    "arr_min = np.min(arr)\n",
    "arr_max = np.max(arr)\n",
    "\n",
    "print(f\"Min: {arr_min} Max {arr_max}\")\n",
    "\n",
    "arr2 = []\n",
    "\n",
    "for x in arr:\n",
    "    arr2.append(round((x - arr_min) /(arr_max - arr_min),2))\n",
    "\n",
    "print(arr2)"
   ]
  },
  {
   "cell_type": "code",
   "execution_count": 2,
   "id": "011a4be1",
   "metadata": {},
   "outputs": [
    {
     "name": "stdout",
     "output_type": "stream",
     "text": [
      "Mean: 27.39 STD: 15.54\n",
      "[0.49, 0.62, -1.44, 0.43, -0.41, 1.39, 0.43, -1.7, -0.86, -1.25, -1.44, 0.1, -0.54, 0.23, 0.55, 1.0, -1.7, 1.2, 1.33, 1.26, 1.0, -0.48, -0.6, 0.3, 1.39, -1.7, -0.86, -0.41, -0.54, 1.39, -0.22, -1.57, 1.07, 0.3, 1.0, 0.04, 1.46, -1.05, 0.49, 1.26, 1.39, 1.0, -0.35, -0.67, -1.12, -1.31, 0.49, -0.86, -0.54]\n"
     ]
    }
   ],
   "source": [
    "# Standardization\n",
    "\n",
    "# Get our mean and standard deviation\n",
    "mean = np.mean(arr)\n",
    "std = np.std(arr)\n",
    "print(f\"Mean: {round(mean,2)} STD: {round(std,2)}\")\n",
    "arr3 = []\n",
    "\n",
    "for x in arr:\n",
    "    arr3.append(round((x - mean)/std,2))\n",
    "print(arr3)"
   ]
  },
  {
   "cell_type": "code",
   "execution_count": null,
   "id": "017e60fd",
   "metadata": {},
   "outputs": [],
   "source": []
  }
 ],
 "metadata": {
  "kernelspec": {
   "display_name": "Python 3",
   "language": "python",
   "name": "python3"
  },
  "language_info": {
   "codemirror_mode": {
    "name": "ipython",
    "version": 3
   },
   "file_extension": ".py",
   "mimetype": "text/x-python",
   "name": "python",
   "nbconvert_exporter": "python",
   "pygments_lexer": "ipython3",
   "version": "3.8.8"
  }
 },
 "nbformat": 4,
 "nbformat_minor": 5
}
