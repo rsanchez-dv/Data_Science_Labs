{
 "cells": [
  {
   "cell_type": "markdown",
   "id": "b65c0e4d",
   "metadata": {},
   "source": [
    "# Lab 3: Answers\n",
    "\n"
   ]
  },
  {
   "cell_type": "markdown",
   "id": "9d0f6e0d",
   "metadata": {},
   "source": [
    "## Let's begin with some review problems from the previous lab"
   ]
  },
  {
   "cell_type": "markdown",
   "id": "871051d2",
   "metadata": {},
   "source": [
    "1) Start by importing the sales dataset. It should be on the google drive, but if you can't find it or want more information, you can find a link to it here: https://www.kaggle.com/aungpyaeap/supermarket-sales\n",
    "\n",
    "Use the head() function to view the columns and first five rows of the data set. "
   ]
  },
  {
   "cell_type": "code",
   "execution_count": 2,
   "id": "116c8fa1",
   "metadata": {},
   "outputs": [
    {
     "data": {
      "text/html": [
       "<div>\n",
       "<style scoped>\n",
       "    .dataframe tbody tr th:only-of-type {\n",
       "        vertical-align: middle;\n",
       "    }\n",
       "\n",
       "    .dataframe tbody tr th {\n",
       "        vertical-align: top;\n",
       "    }\n",
       "\n",
       "    .dataframe thead th {\n",
       "        text-align: right;\n",
       "    }\n",
       "</style>\n",
       "<table border=\"1\" class=\"dataframe\">\n",
       "  <thead>\n",
       "    <tr style=\"text-align: right;\">\n",
       "      <th></th>\n",
       "      <th>Invoice ID</th>\n",
       "      <th>Branch</th>\n",
       "      <th>City</th>\n",
       "      <th>Customer type</th>\n",
       "      <th>Gender</th>\n",
       "      <th>Product line</th>\n",
       "      <th>Unit price</th>\n",
       "      <th>Quantity</th>\n",
       "      <th>Tax 5%</th>\n",
       "      <th>Total</th>\n",
       "      <th>Date</th>\n",
       "      <th>Time</th>\n",
       "      <th>Payment</th>\n",
       "      <th>cogs</th>\n",
       "      <th>gross margin percentage</th>\n",
       "      <th>gross income</th>\n",
       "      <th>Rating</th>\n",
       "    </tr>\n",
       "  </thead>\n",
       "  <tbody>\n",
       "    <tr>\n",
       "      <th>0</th>\n",
       "      <td>750-67-8428</td>\n",
       "      <td>A</td>\n",
       "      <td>Yangon</td>\n",
       "      <td>Member</td>\n",
       "      <td>Female</td>\n",
       "      <td>Health and beauty</td>\n",
       "      <td>74.69</td>\n",
       "      <td>7</td>\n",
       "      <td>26.1415</td>\n",
       "      <td>548.9715</td>\n",
       "      <td>1/5/2019</td>\n",
       "      <td>13:08</td>\n",
       "      <td>Ewallet</td>\n",
       "      <td>522.83</td>\n",
       "      <td>4.761905</td>\n",
       "      <td>26.1415</td>\n",
       "      <td>9.1</td>\n",
       "    </tr>\n",
       "    <tr>\n",
       "      <th>1</th>\n",
       "      <td>226-31-3081</td>\n",
       "      <td>C</td>\n",
       "      <td>Naypyitaw</td>\n",
       "      <td>Normal</td>\n",
       "      <td>Female</td>\n",
       "      <td>Electronic accessories</td>\n",
       "      <td>15.28</td>\n",
       "      <td>5</td>\n",
       "      <td>3.8200</td>\n",
       "      <td>80.2200</td>\n",
       "      <td>3/8/2019</td>\n",
       "      <td>10:29</td>\n",
       "      <td>Cash</td>\n",
       "      <td>76.40</td>\n",
       "      <td>4.761905</td>\n",
       "      <td>3.8200</td>\n",
       "      <td>9.6</td>\n",
       "    </tr>\n",
       "    <tr>\n",
       "      <th>2</th>\n",
       "      <td>631-41-3108</td>\n",
       "      <td>A</td>\n",
       "      <td>Yangon</td>\n",
       "      <td>Normal</td>\n",
       "      <td>Male</td>\n",
       "      <td>Home and lifestyle</td>\n",
       "      <td>46.33</td>\n",
       "      <td>7</td>\n",
       "      <td>16.2155</td>\n",
       "      <td>340.5255</td>\n",
       "      <td>3/3/2019</td>\n",
       "      <td>13:23</td>\n",
       "      <td>Credit card</td>\n",
       "      <td>324.31</td>\n",
       "      <td>4.761905</td>\n",
       "      <td>16.2155</td>\n",
       "      <td>7.4</td>\n",
       "    </tr>\n",
       "    <tr>\n",
       "      <th>3</th>\n",
       "      <td>123-19-1176</td>\n",
       "      <td>A</td>\n",
       "      <td>Yangon</td>\n",
       "      <td>Member</td>\n",
       "      <td>Male</td>\n",
       "      <td>Health and beauty</td>\n",
       "      <td>58.22</td>\n",
       "      <td>8</td>\n",
       "      <td>23.2880</td>\n",
       "      <td>489.0480</td>\n",
       "      <td>1/27/2019</td>\n",
       "      <td>20:33</td>\n",
       "      <td>Ewallet</td>\n",
       "      <td>465.76</td>\n",
       "      <td>4.761905</td>\n",
       "      <td>23.2880</td>\n",
       "      <td>8.4</td>\n",
       "    </tr>\n",
       "    <tr>\n",
       "      <th>4</th>\n",
       "      <td>373-73-7910</td>\n",
       "      <td>A</td>\n",
       "      <td>Yangon</td>\n",
       "      <td>Normal</td>\n",
       "      <td>Male</td>\n",
       "      <td>Sports and travel</td>\n",
       "      <td>86.31</td>\n",
       "      <td>7</td>\n",
       "      <td>30.2085</td>\n",
       "      <td>634.3785</td>\n",
       "      <td>2/8/2019</td>\n",
       "      <td>10:37</td>\n",
       "      <td>Ewallet</td>\n",
       "      <td>604.17</td>\n",
       "      <td>4.761905</td>\n",
       "      <td>30.2085</td>\n",
       "      <td>5.3</td>\n",
       "    </tr>\n",
       "  </tbody>\n",
       "</table>\n",
       "</div>"
      ],
      "text/plain": [
       "    Invoice ID Branch       City Customer type  Gender  \\\n",
       "0  750-67-8428      A     Yangon        Member  Female   \n",
       "1  226-31-3081      C  Naypyitaw        Normal  Female   \n",
       "2  631-41-3108      A     Yangon        Normal    Male   \n",
       "3  123-19-1176      A     Yangon        Member    Male   \n",
       "4  373-73-7910      A     Yangon        Normal    Male   \n",
       "\n",
       "             Product line  Unit price  Quantity   Tax 5%     Total       Date  \\\n",
       "0       Health and beauty       74.69         7  26.1415  548.9715   1/5/2019   \n",
       "1  Electronic accessories       15.28         5   3.8200   80.2200   3/8/2019   \n",
       "2      Home and lifestyle       46.33         7  16.2155  340.5255   3/3/2019   \n",
       "3       Health and beauty       58.22         8  23.2880  489.0480  1/27/2019   \n",
       "4       Sports and travel       86.31         7  30.2085  634.3785   2/8/2019   \n",
       "\n",
       "    Time      Payment    cogs  gross margin percentage  gross income  Rating  \n",
       "0  13:08      Ewallet  522.83                 4.761905       26.1415     9.1  \n",
       "1  10:29         Cash   76.40                 4.761905        3.8200     9.6  \n",
       "2  13:23  Credit card  324.31                 4.761905       16.2155     7.4  \n",
       "3  20:33      Ewallet  465.76                 4.761905       23.2880     8.4  \n",
       "4  10:37      Ewallet  604.17                 4.761905       30.2085     5.3  "
      ]
     },
     "execution_count": 2,
     "metadata": {},
     "output_type": "execute_result"
    }
   ],
   "source": [
    "import pandas as pd\n",
    "\n",
    "df = pd.read_csv ('supermarket_sales - Sheet1.csv')\n",
    "\n",
    "df.head()"
   ]
  },
  {
   "cell_type": "markdown",
   "id": "02983863",
   "metadata": {},
   "source": [
    "2) Which variables are quantitative? Which are qualitative?"
   ]
  },
  {
   "cell_type": "code",
   "execution_count": null,
   "id": "788b6e7d",
   "metadata": {},
   "outputs": [],
   "source": [
    "\n",
    "Quantitative - Quantity, Tax 5%, Total Unit Price, Quantity, Tax, total, date, time, cogs, Gross Margin Percentage, gorss income, ratings\n",
    "Qualitative - Customer Type, Gender, Product Line, Payment, Branch \n"
   ]
  },
  {
   "cell_type": "markdown",
   "id": "869f434f",
   "metadata": {},
   "source": [
    "3) Create a histogram of the Unit Price variable. Make sure to have proper axis labels and a title. "
   ]
  },
  {
   "cell_type": "code",
   "execution_count": 8,
   "id": "59857b70",
   "metadata": {},
   "outputs": [
    {
     "data": {
      "text/plain": [
       "Text(0.5, 1.0, 'Unit Price Histogram')"
      ]
     },
     "execution_count": 8,
     "metadata": {},
     "output_type": "execute_result"
    },
    {
     "data": {
      "image/png": "[encoded data removed]",
      "text/plain": [
       "<Figure size 576x432 with 1 Axes>"
      ]
     },
     "metadata": {
      "needs_background": "light"
     },
     "output_type": "display_data"
    }
   ],
   "source": [
    "import pandas as pd\n",
    "import numpy as np\n",
    "import matplotlib.pyplot as plt\n",
    "\n",
    "# set the plots to display in the Jupyter notebook\n",
    "%matplotlib inline\n",
    "\n",
    "# Increase default figure and font sizes for easier viewing.\n",
    "plt.rcParams['figure.figsize'] = (8, 6)\n",
    "plt.rcParams['font.size'] = 14\n",
    "\n",
    "df['Unit price'].plot(kind='hist', bins=20);\n",
    "plt.ylabel('Frequency')\n",
    "plt.xlabel('Unit Price')\n",
    "plt.title('Unit Price Histogram')"
   ]
  },
  {
   "cell_type": "markdown",
   "id": "6a7685c4",
   "metadata": {},
   "source": [
    "4) Describe the histogram that you've created. What kind of distribution does it appear to be? Remember to describe the shape, center, and spread. "
   ]
  },
  {
   "cell_type": "markdown",
   "id": "14c4aa9a",
   "metadata": {},
   "source": [
    "Center is located around 55.\n",
    "There is no unsual things on this plot.\n",
    "This looks like a uniform shape.\n",
    "The spread looks like ~10-100"
   ]
  },
  {
   "cell_type": "markdown",
   "id": "0d9e63f4",
   "metadata": {},
   "source": [
    "## One-proportion hypothesis testing practice"
   ]
  },
  {
   "cell_type": "markdown",
   "id": "16826d84",
   "metadata": {},
   "source": [
    "5) Say that your boss says that 50% of the sampled people who come to the stores are men. Test his hypothesis using the one-proportion hypothesis test. Start by importing the necessary packages, then set the variables for the sample size, the sample success and the null hypothesis. Lastly, run the hypothesis test using the proportions_ztest function from the imported library. Run this test at the 5% confidence interval. "
   ]
  },
  {
   "cell_type": "code",
   "execution_count": 27,
   "id": "264c854c",
   "metadata": {},
   "outputs": [
    {
     "data": {
      "text/html": [
       "<div>\n",
       "<style scoped>\n",
       "    .dataframe tbody tr th:only-of-type {\n",
       "        vertical-align: middle;\n",
       "    }\n",
       "\n",
       "    .dataframe tbody tr th {\n",
       "        vertical-align: top;\n",
       "    }\n",
       "\n",
       "    .dataframe thead th {\n",
       "        text-align: right;\n",
       "    }\n",
       "</style>\n",
       "<table border=\"1\" class=\"dataframe\">\n",
       "  <thead>\n",
       "    <tr style=\"text-align: right;\">\n",
       "      <th></th>\n",
       "      <th>Invoice ID</th>\n",
       "      <th>Branch</th>\n",
       "      <th>City</th>\n",
       "      <th>Customer type</th>\n",
       "      <th>Product line</th>\n",
       "      <th>Unit price</th>\n",
       "      <th>Quantity</th>\n",
       "      <th>Tax 5%</th>\n",
       "      <th>Total</th>\n",
       "      <th>Date</th>\n",
       "      <th>Time</th>\n",
       "      <th>Payment</th>\n",
       "      <th>cogs</th>\n",
       "      <th>gross margin percentage</th>\n",
       "      <th>gross income</th>\n",
       "      <th>Rating</th>\n",
       "    </tr>\n",
       "    <tr>\n",
       "      <th>Gender</th>\n",
       "      <th></th>\n",
       "      <th></th>\n",
       "      <th></th>\n",
       "      <th></th>\n",
       "      <th></th>\n",
       "      <th></th>\n",
       "      <th></th>\n",
       "      <th></th>\n",
       "      <th></th>\n",
       "      <th></th>\n",
       "      <th></th>\n",
       "      <th></th>\n",
       "      <th></th>\n",
       "      <th></th>\n",
       "      <th></th>\n",
       "      <th></th>\n",
       "    </tr>\n",
       "  </thead>\n",
       "  <tbody>\n",
       "    <tr>\n",
       "      <th>Female</th>\n",
       "      <td>501</td>\n",
       "      <td>501</td>\n",
       "      <td>501</td>\n",
       "      <td>501</td>\n",
       "      <td>501</td>\n",
       "      <td>501</td>\n",
       "      <td>501</td>\n",
       "      <td>501</td>\n",
       "      <td>501</td>\n",
       "      <td>501</td>\n",
       "      <td>501</td>\n",
       "      <td>501</td>\n",
       "      <td>501</td>\n",
       "      <td>501</td>\n",
       "      <td>501</td>\n",
       "      <td>501</td>\n",
       "    </tr>\n",
       "    <tr>\n",
       "      <th>Male</th>\n",
       "      <td>499</td>\n",
       "      <td>499</td>\n",
       "      <td>499</td>\n",
       "      <td>499</td>\n",
       "      <td>499</td>\n",
       "      <td>499</td>\n",
       "      <td>499</td>\n",
       "      <td>499</td>\n",
       "      <td>499</td>\n",
       "      <td>499</td>\n",
       "      <td>499</td>\n",
       "      <td>499</td>\n",
       "      <td>499</td>\n",
       "      <td>499</td>\n",
       "      <td>499</td>\n",
       "      <td>499</td>\n",
       "    </tr>\n",
       "  </tbody>\n",
       "</table>\n",
       "</div>"
      ],
      "text/plain": [
       "        Invoice ID  Branch  City  Customer type  Product line  Unit price  \\\n",
       "Gender                                                                      \n",
       "Female         501     501   501            501           501         501   \n",
       "Male           499     499   499            499           499         499   \n",
       "\n",
       "        Quantity  Tax 5%  Total  Date  Time  Payment  cogs  \\\n",
       "Gender                                                       \n",
       "Female       501     501    501   501   501      501   501   \n",
       "Male         499     499    499   499   499      499   499   \n",
       "\n",
       "        gross margin percentage  gross income  Rating  \n",
       "Gender                                                 \n",
       "Female                      501           501     501  \n",
       "Male                        499           499     499  "
      ]
     },
     "execution_count": 27,
     "metadata": {},
     "output_type": "execute_result"
    }
   ],
   "source": [
    "df.groupby(['Gender']).count()"
   ]
  },
  {
   "cell_type": "code",
   "execution_count": 91,
   "id": "96f38da3",
   "metadata": {},
   "outputs": [
    {
     "data": {
      "text/plain": [
       "(0.0, 1.0)"
      ]
     },
     "execution_count": 91,
     "metadata": {},
     "output_type": "execute_result"
    }
   ],
   "source": [
    "from statsmodels.stats.proportion import proportions_ztest\n",
    "# Based on the data on the csv file there are 1000 people. We want to make sure 500 of them are male.\n",
    "sample_success = 500\n",
    "sample_size = 1000\n",
    "null_hypothesis = .5\n",
    "# for ha != ho use alternative = 'two-sided'\n",
    "proportions_ztest(count=sample_success, nobs=sample_size, value=null_hypothesis, alternative='two-sided')"
   ]
  },
  {
   "cell_type": "markdown",
   "id": "13191f04",
   "metadata": {},
   "source": [
    "6) Interpret your results in the context of the problem. "
   ]
  },
  {
   "cell_type": "markdown",
   "id": "eb39aa4a",
   "metadata": {},
   "source": [
    "Based on this P value we see that it greater than our $\\alpha$. We failed to reject the null hypothesis that 50% of the sampled people who come to the stores are men."
   ]
  },
  {
   "cell_type": "markdown",
   "id": "8be19a2a",
   "metadata": {},
   "source": [
    "## Two-proportion hypothesis testing practice"
   ]
  },
  {
   "cell_type": "markdown",
   "id": "1773420b",
   "metadata": {},
   "source": [
    "7) A competing company tells you that 400 out of their total 1000 sales were from males. Compare this value to the proportion of males that in your store. "
   ]
  },
  {
   "cell_type": "markdown",
   "id": "b78cb4d0",
   "metadata": {},
   "source": [
    "These are 499/1000=0.499 people at our store who are male vs 400/1000=0.4"
   ]
  },
  {
   "cell_type": "markdown",
   "id": "26a24741",
   "metadata": {},
   "source": [
    "8) Interpret your p value in the context of the problem. "
   ]
  },
  {
   "cell_type": "code",
   "execution_count": 4,
   "id": "2477f91b",
   "metadata": {},
   "outputs": [
    {
     "data": {
      "text/plain": [
       "(4.4501708749605955, 8.580199341948195e-06)"
      ]
     },
     "execution_count": 4,
     "metadata": {},
     "output_type": "execute_result"
    }
   ],
   "source": [
    "from statsmodels.stats.proportion import proportions_ztest\n",
    "import numpy as np\n",
    "sample_success_a, sample_size_a = (499, 1000)\n",
    "sample_success_b, sample_size_b = (400, 1000)\n",
    "# check our sample against Ho for Ha != Ho\n",
    "successes = np.array([sample_success_a, sample_success_b])\n",
    "samples = np.array([sample_size_a, sample_size_b])\n",
    "proportions_ztest(count=successes, nobs=samples,  alternative='two-sided')"
   ]
  },
  {
   "cell_type": "markdown",
   "id": "1aefffcf",
   "metadata": {},
   "source": [
    "We get a P-Value of 0.00000858. which means we can reject the null hypothesis."
   ]
  },
  {
   "cell_type": "markdown",
   "id": "5d877557",
   "metadata": {},
   "source": [
    "## One mean hypothesis testing practice"
   ]
  },
  {
   "cell_type": "markdown",
   "id": "aea06ae5",
   "metadata": {},
   "source": [
    "\n",
    "9) Your company wants to know if the mean for 'Total price' is greater than 325 dollars. Use a hypothesis test with a 5% confidence level to calculate the appropriate p value. "
   ]
  },
  {
   "cell_type": "code",
   "execution_count": 8,
   "id": "e953c4f0",
   "metadata": {},
   "outputs": [
    {
     "name": "stdout",
     "output_type": "stream",
     "text": [
      "t_stat: -2.523, p_value: 0.994\n"
     ]
    }
   ],
   "source": [
    "from scipy.stats import truncnorm\n",
    "from statsmodels.stats.weightstats import DescrStatsW as stats\n",
    "\n",
    "sig = .05\n",
    "null_hypo = 325\n",
    "# find sample mean\n",
    "\n",
    "sample_mean_a = df['Total'].mean()\n",
    "sample_dev_a = df['Total'].std()\n",
    "sample_size_a = len(df)\n",
    "\n",
    "sample_a = np.random.normal(loc=sample_mean_a, scale=sample_dev_a, size=sample_size_a)\n",
    "'''\n",
    "ho: Total Price is greater than 325\n",
    "ha: Total Price is less than 325?\n",
    "ha < ho => smaller? No,larger\n",
    "'''\n",
    "(t_stat, p_value, degree_of_freedom) = stats(sample_a).ttest_mean(null_hypo, 'larger')\n",
    "\n",
    "print('t_stat: %0.3f, p_value: %0.3f' % (t_stat, p_value))\n",
    "\n"
   ]
  },
  {
   "cell_type": "markdown",
   "id": "3bf2ec18",
   "metadata": {},
   "source": [
    "10) Interpret your p value in context. "
   ]
  },
  {
   "cell_type": "markdown",
   "id": "970d4cd0",
   "metadata": {},
   "source": [
    "The calculated P-Value is 0.184 is greater than $\\alpha$ = 0.05. We can fail to reject the null hypothesis and say the result is significant.\n"
   ]
  },
  {
   "cell_type": "markdown",
   "id": "be6c6578",
   "metadata": {},
   "source": [
    "## Two mean hypothesis testing practice"
   ]
  },
  {
   "cell_type": "markdown",
   "id": "57c79db6",
   "metadata": {},
   "source": [
    "11) Your boss believes that, on average, women spend more money than men. Check his hypothesis using the sales data set and a 10% significance value. "
   ]
  },
  {
   "cell_type": "code",
   "execution_count": 9,
   "id": "28e7d605",
   "metadata": {},
   "outputs": [
    {
     "name": "stdout",
     "output_type": "stream",
     "text": [
      "t_stat: 1.564, p_value: 0.059\n"
     ]
    }
   ],
   "source": [
    "'''\n",
    "Test that on average: women spend more than men.\n",
    "Sig = .1\n",
    "'''\n",
    "from scipy.stats import truncnorm\n",
    "from statsmodels.stats.weightstats import ttest_ind\n",
    "\n",
    "significance = 0.1\n",
    "'''\n",
    "    on average, women\n",
    "'''\n",
    "# Get means of total spend by gender\n",
    "new_df = df.groupby('Gender', as_index=False).Total.mean()\n",
    "# Creates a new df with female and male with thier mean total spending\n",
    "\n",
    "avg_spending_female = new_df['Total'][0]\n",
    "avg_spending_male = new_df['Total'][1]\n",
    "\n",
    "# we are checking if women spend more than males\n",
    "# ho_Females > 310.79\n",
    "null_hypothesis = 310\n",
    "\n",
    "# Calculated from the dataset\n",
    "min, max = (10.6785, 1042.65)\n",
    "\n",
    "# Are we supposed to take a sample of the dataset?\n",
    "f_dev = df.loc[df['Gender']=='Female'].Total.std()\n",
    "f_mean = df.loc[df['Gender']=='Female'].Total.mean()\n",
    "f_size =len(df.loc[df['Gender']=='Female'].Total.index)\n",
    "\n",
    "m_dev = df.loc[df['Gender']=='Male'].Total.std()\n",
    "m_mean = df.loc[df['Gender']=='Male'].Total.mean()\n",
    "m_size =len(df.loc[df['Gender']=='Male'].Total.index)\n",
    "\n",
    "sample_mean_v1, sample_dev_v1, sample_size_v1 = (f_mean, f_dev, f_size)\n",
    "sample_mean_v2, sample_dev_v2, sample_size_v2 = (m_mean, m_dev, m_size)\n",
    "\n",
    "# Get samples\n",
    "sample_v1 = df.loc[df['Gender']=='Male'].Total\n",
    "sample_v2 = df.loc[df['Gender']=='Female'].Total\n",
    "\n",
    "(t_stat, p_value, degree_of_freedom) = ttest_ind(sample_v2, sample_v1, alternative='larger')\n",
    "# report\n",
    "print('t_stat: %0.3f, p_value: %0.3f' % (t_stat, p_value))"
   ]
  },
  {
   "cell_type": "markdown",
   "id": "907c95ab",
   "metadata": {},
   "source": [
    "12) Interpret your p value in context. "
   ]
  },
  {
   "cell_type": "markdown",
   "id": "a05aa29f",
   "metadata": {},
   "source": [
    "We got a p_value = 0.059 which is less than $\\alpha$ = 0.1 there for we can conclude that we can reject the null hypothesis. "
   ]
  },
  {
   "cell_type": "markdown",
   "id": "1af16b86",
   "metadata": {},
   "source": [
    "## Hypothesis testing Challenge Problems"
   ]
  },
  {
   "cell_type": "markdown",
   "id": "2e862460",
   "metadata": {},
   "source": [
    "In the last few problems, we will not tell you which hypothesis test to use. Try to figure it out yourself! \n",
    "\n",
    "As we did for the problems earlier in the lab, use the sales data set for the following problems. "
   ]
  },
  {
   "cell_type": "markdown",
   "id": "3f9cb3e6",
   "metadata": {},
   "source": [
    "#### Challenge problem 1"
   ]
  },
  {
   "cell_type": "markdown",
   "id": "cbab30a8",
   "metadata": {},
   "source": [
    "Is there a statistically significant difference between the average Total for people who paid with credit card versus the people who paid with cash? Calculate the p value at the 5% significance level. "
   ]
  },
  {
   "cell_type": "code",
   "execution_count": null,
   "id": "85b42b17",
   "metadata": {},
   "outputs": [],
   "source": [
    "# Two Mean\n",
    "# find if there is a significant difference between average total for paid in credit card vs cash\n",
    "# Sig lv = .05\n",
    "\n"
   ]
  },
  {
   "cell_type": "markdown",
   "id": "e56511d4",
   "metadata": {},
   "source": [
    "#### Challenge problem 2"
   ]
  },
  {
   "cell_type": "markdown",
   "id": "1b4cc0a8",
   "metadata": {},
   "source": [
    "At the 10% significance level, test the hypothesis that the gross income is, on average, higher in branch A than in branch C. "
   ]
  },
  {
   "cell_type": "code",
   "execution_count": null,
   "id": "954a21e0",
   "metadata": {},
   "outputs": [],
   "source": [
    "# Two means"
   ]
  },
  {
   "cell_type": "markdown",
   "id": "7fcd2088",
   "metadata": {},
   "source": [
    "#### Challenge problem 3"
   ]
  },
  {
   "cell_type": "markdown",
   "id": "4a0c512c",
   "metadata": {},
   "source": [
    "At the 5% significance level, test the hypothesis that the mean gross income in Yangon is greater than 30. "
   ]
  },
  {
   "cell_type": "code",
   "execution_count": null,
   "id": "9ecb4ccf",
   "metadata": {},
   "outputs": [],
   "source": [
    "# Single Mean"
   ]
  },
  {
   "cell_type": "markdown",
   "id": "e6ef5cb4",
   "metadata": {},
   "source": [
    "#### Challenge problem 4"
   ]
  },
  {
   "cell_type": "markdown",
   "id": "c353226e",
   "metadata": {},
   "source": [
    "At the 10% significance level, test the hypothesis that half of the COGS (Cost of goods sold) is greater than 400. "
   ]
  },
  {
   "cell_type": "code",
   "execution_count": null,
   "id": "90ab7c05",
   "metadata": {},
   "outputs": [],
   "source": [
    "# single Proportion"
   ]
  },
  {
   "cell_type": "markdown",
   "id": "0657e75b",
   "metadata": {},
   "source": [
    "#### Challenge problem 5"
   ]
  },
  {
   "cell_type": "markdown",
   "id": "1509dde2",
   "metadata": {},
   "source": [
    "First, find the mean number of products bought (using the quantity variable)"
   ]
  },
  {
   "cell_type": "code",
   "execution_count": null,
   "id": "9fc0f963",
   "metadata": {},
   "outputs": [],
   "source": [
    "# Single Mean"
   ]
  },
  {
   "cell_type": "markdown",
   "id": "6a0b922f",
   "metadata": {},
   "source": [
    "A competitor has an average of 9.2 products bought. Is your store's average statistically significantly different? "
   ]
  },
  {
   "cell_type": "code",
   "execution_count": null,
   "id": "8fb6f19c",
   "metadata": {},
   "outputs": [],
   "source": []
  }
 ],
 "metadata": {
  "kernelspec": {
   "display_name": "Python 3",
   "language": "python",
   "name": "python3"
  },
  "language_info": {
   "codemirror_mode": {
    "name": "ipython",
    "version": 3
   },
   "file_extension": ".py",
   "mimetype": "text/x-python",
   "name": "python",
   "nbconvert_exporter": "python",
   "pygments_lexer": "ipython3",
   "version": "3.8.8"
  }
 },
 "nbformat": 4,
 "nbformat_minor": 5
}
