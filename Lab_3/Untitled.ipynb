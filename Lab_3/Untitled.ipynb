{
 "cells": [
  {
   "cell_type": "code",
   "execution_count": 8,
   "id": "7ad2a3b8",
   "metadata": {},
   "outputs": [
    {
     "data": {
      "text/plain": [
       "(0.1783912849524498, 0.381812924001219)"
      ]
     },
     "execution_count": 8,
     "metadata": {},
     "output_type": "execute_result"
    }
   ],
   "source": [
    "import statsmodels.stats.proportion as smp\n",
    "smp.confint_proportions_2indep(37,92,10,85, compare='diff', alpha=0.1)"
   ]
  },
  {
   "cell_type": "code",
   "execution_count": 17,
   "id": "d02606e4",
   "metadata": {},
   "outputs": [
    {
     "data": {
      "text/plain": [
       "(12.312149320719543, 12.387850679280456)"
      ]
     },
     "execution_count": 17,
     "metadata": {},
     "output_type": "execute_result"
    }
   ],
   "source": [
    "import numpy as np\n",
    "import scipy.stats as st\n",
    "\n",
    "st.t.interval(alpha=.1,df=64-1,loc=12.35,scale=.3)"
   ]
  },
  {
   "cell_type": "code",
   "execution_count": 16,
   "id": "80a0b5c7",
   "metadata": {},
   "outputs": [
    {
     "data": {
      "text/plain": [
       "(12.312204765825332, 12.387795234174668)"
      ]
     },
     "execution_count": 16,
     "metadata": {},
     "output_type": "execute_result"
    }
   ],
   "source": [
    "st.t.interval(alpha=.1,df=100-1,loc=12.35,scale=.3)"
   ]
  },
  {
   "cell_type": "code",
   "execution_count": 18,
   "id": "e42d7c70",
   "metadata": {},
   "outputs": [
    {
     "data": {
      "text/plain": [
       "(0.5016729639604056, 0.5183270360395944)"
      ]
     },
     "execution_count": 18,
     "metadata": {},
     "output_type": "execute_result"
    }
   ],
   "source": [
    "st.t.interval(alpha=.1,df=5,loc=.51,scale=.063)"
   ]
  },
  {
   "cell_type": "code",
   "execution_count": null,
   "id": "4d4b7f7a",
   "metadata": {},
   "outputs": [],
   "source": [
    "import numpy as np\n",
    "import statsmodels.stats.api as sms\n",
    "\n"
   ]
  }
 ],
 "metadata": {
  "kernelspec": {
   "display_name": "Python 3",
   "language": "python",
   "name": "python3"
  },
  "language_info": {
   "codemirror_mode": {
    "name": "ipython",
    "version": 3
   },
   "file_extension": ".py",
   "mimetype": "text/x-python",
   "name": "python",
   "nbconvert_exporter": "python",
   "pygments_lexer": "ipython3",
   "version": "3.8.8"
  }
 },
 "nbformat": 4,
 "nbformat_minor": 5
}
