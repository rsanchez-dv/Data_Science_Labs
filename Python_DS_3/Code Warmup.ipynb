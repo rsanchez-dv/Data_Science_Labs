{
 "cells": [
  {
   "cell_type": "markdown",
   "metadata": {},
   "source": [
    "## Add up the Numbers from a Single Number\n",
    "\n",
    "Create a function that takes a number as an argument. Add up all the numbers from 1 to the number you passed to the function. For example, if the input is 4 then your function should return 10 because 1 + 2 + 3 + 4 = 10.\n",
    "\n",
    "> add_up(4) ➞ 10  \n",
    "> add_up(13) ➞ 91  \n",
    "> add_up(600) ➞ 180300"
   ]
  },
  {
   "cell_type": "code",
   "execution_count": 23,
   "metadata": {},
   "outputs": [],
   "source": [
    "def add_up(x):\n",
    "    total = (x*(x+1))/2\n",
    "    return total"
   ]
  },
  {
   "cell_type": "code",
   "execution_count": 24,
   "metadata": {},
   "outputs": [
    {
     "name": "stdout",
     "output_type": "stream",
     "text": [
      "Test 1 >> Passed\n",
      "Desired Output: 10\n",
      "Your Output: 10.0\n",
      "\n",
      "Test 2 >> Passed\n",
      "Desired Output: 91\n",
      "Your Output: 91.0\n",
      "\n",
      "Test 3 >> Passed\n",
      "Desired Output: 180300\n",
      "Your Output: 180300.0\n"
     ]
    }
   ],
   "source": [
    "# Function Tester -- Do Not Change >> Run to Verify Answers\n",
    "\n",
    "test1 = add_up(4)\n",
    "answer = 10\n",
    "print('Test 1 >> {}\\nDesired Output: {}\\nYour Output: {}'.format('Passed' if answer == test1 else 'Failed', answer, test1))\n",
    "\n",
    "print()\n",
    "\n",
    "test2 = add_up(13)\n",
    "answer = 91\n",
    "print('Test 2 >> {}\\nDesired Output: {}\\nYour Output: {}'.format('Passed' if answer == test2 else 'Failed', answer, test2))\n",
    "\n",
    "print()\n",
    "\n",
    "test3 = add_up(600)\n",
    "answer = 180300\n",
    "print('Test 3 >> {}\\nDesired Output: {}\\nYour Output: {}'.format('Passed' if answer == test3 else 'Failed', answer, test3))\n"
   ]
  },
  {
   "cell_type": "markdown",
   "metadata": {},
   "source": [
    "## Return the Duplicate Number\n",
    "Given a list nums where each integer is between 1 and 100, return the number that is a duplicate from the given nums list.\n",
    "> duplicate_nums([1, 2, 3, 4, 3, 5, 6]) ➞ 3  \n",
    "> duplicate_nums([81, 72, 43, 72, 99, 100, 12, 54]) ➞ 72  \n",
    "> duplicate_nums([1, 2, 3, 4, 5, 6, 7, 8, 9, 10]) ➞ None  "
   ]
  },
  {
   "cell_type": "code",
   "execution_count": 36,
   "metadata": {},
   "outputs": [],
   "source": [
    "def duplicate_nums(numLst):\n",
    "    tracker = {}\n",
    "    for x in numLst:\n",
    "        if(not str(x) in tracker):\n",
    "            tracker[str(x)] = 1\n",
    "        else:\n",
    "            tracker[str(x)] += 1\n",
    "    for x in tracker:\n",
    "        if tracker[str(x)] > 1:\n",
    "            return int(x)"
   ]
  },
  {
   "cell_type": "code",
   "execution_count": 37,
   "metadata": {},
   "outputs": [
    {
     "name": "stdout",
     "output_type": "stream",
     "text": [
      "Test 1 >> Passed\n",
      "Desired Output: 3\n",
      "Your Output: 3\n",
      "\n",
      "Test 2 >> Passed\n",
      "Desired Output: 72\n",
      "Your Output: 72\n",
      "\n",
      "Test 3 >> Passed\n",
      "Desired Output: None\n",
      "Your Output: None\n"
     ]
    }
   ],
   "source": [
    "# Function Tester -- Do Not Change >> Run to Verify Answers\n",
    "\n",
    "test1 = duplicate_nums([1, 2, 3, 4, 3, 5, 6]) \n",
    "answer = 3\n",
    "print('Test 1 >> {}\\nDesired Output: {}\\nYour Output: {}'.format('Passed' if answer == test1 else 'Failed', answer, test1))\n",
    "\n",
    "print()\n",
    "\n",
    "test2 = duplicate_nums([81, 72, 43, 72, 99, 100, 12, 54]) \n",
    "answer = 72\n",
    "print('Test 2 >> {}\\nDesired Output: {}\\nYour Output: {}'.format('Passed' if answer == test2 else 'Failed', answer, test2))\n",
    "\n",
    "print()\n",
    "\n",
    "test3 = duplicate_nums([1, 2, 3, 4, 5, 6, 7, 8, 9, 10])\n",
    "answer = None\n",
    "print('Test 3 >> {}\\nDesired Output: {}\\nYour Output: {}'.format('Passed' if answer == test3 else 'Failed', answer, test3))\n"
   ]
  },
  {
   "cell_type": "code",
   "execution_count": null,
   "metadata": {},
   "outputs": [],
   "source": []
  }
 ],
 "metadata": {
  "kernelspec": {
   "display_name": "Python 3",
   "language": "python",
   "name": "python3"
  },
  "language_info": {
   "codemirror_mode": {
    "name": "ipython",
    "version": 3
   },
   "file_extension": ".py",
   "mimetype": "text/x-python",
   "name": "python",
   "nbconvert_exporter": "python",
   "pygments_lexer": "ipython3",
   "version": "3.8.8"
  }
 },
 "nbformat": 4,
 "nbformat_minor": 4
}
