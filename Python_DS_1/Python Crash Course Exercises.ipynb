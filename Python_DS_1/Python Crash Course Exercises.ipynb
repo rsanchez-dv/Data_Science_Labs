{
 "cells": [
  {
   "cell_type": "markdown",
   "metadata": {},
   "source": [
    "# Python Crash Course Part Two: Exercises\n",
    "\n",
    "This is an exercise to refresh your Python Basics and Challenge you at the end. If you find this extremely challenging, then you probably are not ready for the rest of this course yet and don't have enough programming experience to continue. I would suggest you take another course more geared towards complete beginners, such as [Complete Python Bootcamp](https://www.udemy.com/complete-python-bootcamp/?couponCode=PY20)"
   ]
  },
  {
   "cell_type": "markdown",
   "metadata": {},
   "source": [
    "<hr>\n",
    "\n",
    "## Testing The Connection\n",
    "\n",
    "To verify that everything is working as it should, please create the following output:<br>\n",
    "\n",
    "> ``Hello World!``"
   ]
  },
  {
   "cell_type": "code",
   "execution_count": 2,
   "metadata": {},
   "outputs": [
    {
     "data": {
      "text/plain": [
       "'Hello World'"
      ]
     },
     "execution_count": 2,
     "metadata": {},
     "output_type": "execute_result"
    }
   ],
   "source": [
    "p = 'Hello World'\n",
    "# Your solution goes here\n",
    "p"
   ]
  },
  {
   "cell_type": "markdown",
   "metadata": {},
   "source": [
    "To execute a cell, you can select the cell and click the Run button that is in the row of buttons along the top. It’s towards the middle. \n",
    "<br>If you prefer using your keyboard, you can just press: \n",
    "> <b> Shift + Enter </b> or <b> CTRL + Enter</b>"
   ]
  },
  {
   "cell_type": "markdown",
   "metadata": {},
   "source": [
    "## Exercises\n",
    "\n",
    "Answer the questions or complete the tasks outlined in bold below, use the specific method described if applicable."
   ]
  },
  {
   "cell_type": "markdown",
   "metadata": {},
   "source": [
    "<b> Q1: What is 7 to the power of 4?</b>\n",
    "> Desired Output: ``2401``"
   ]
  },
  {
   "cell_type": "code",
   "execution_count": 3,
   "metadata": {},
   "outputs": [
    {
     "data": {
      "text/plain": [
       "2401"
      ]
     },
     "execution_count": 3,
     "metadata": {},
     "output_type": "execute_result"
    }
   ],
   "source": [
    "7**4"
   ]
  },
  {
   "cell_type": "markdown",
   "metadata": {},
   "source": [
    "<b> Q2: Split the given string into a list</b>\n",
    "\n",
    "> Desired Output: ``['Hi', 'there', 'dad!']``"
   ]
  },
  {
   "cell_type": "code",
   "execution_count": 6,
   "metadata": {},
   "outputs": [
    {
     "data": {
      "text/plain": [
       "['Hi', 'there', 'Sam!']"
      ]
     },
     "execution_count": 6,
     "metadata": {},
     "output_type": "execute_result"
    }
   ],
   "source": [
    "s = 'Hi there Sam!'\n",
    "# Your solution goes here\n",
    "arr = s.split()\n",
    "arr"
   ]
  },
  {
   "cell_type": "markdown",
   "metadata": {},
   "source": [
    "<b> Q3: Use .format() to print the following string: </b>\n",
    "\n",
    "> ``The diameter of Earth is 12742 kilometers.``"
   ]
  },
  {
   "cell_type": "code",
   "execution_count": 7,
   "metadata": {},
   "outputs": [
    {
     "name": "stdout",
     "output_type": "stream",
     "text": [
      "The diameter of Earth is 12742 kilometers.\n"
     ]
    }
   ],
   "source": [
    "# Given variables\n",
    "planet = \"Earth\"\n",
    "diameter = 12742\n",
    "# Your solution goes here\n",
    "print(f\"The diameter of {planet} is {diameter} kilometers.\")"
   ]
  },
  {
   "cell_type": "markdown",
   "metadata": {},
   "source": [
    "<b>Q4: Given this nested list, use <i><u>Indexing</u> to grab the word \"hello\" </b>\n",
    "> Desired Output: ``'hello'``"
   ]
  },
  {
   "cell_type": "code",
   "execution_count": 14,
   "metadata": {},
   "outputs": [
    {
     "data": {
      "text/plain": [
       "'hello'"
      ]
     },
     "execution_count": 14,
     "metadata": {},
     "output_type": "execute_result"
    }
   ],
   "source": [
    "# Given variables\n",
    "lst = [1,2,[3,4],[5,[100,200,['hello']],23,11],1,7]\n",
    "# Your solution goes here\n",
    "lst[3][1][2][0]"
   ]
  },
  {
   "cell_type": "markdown",
   "metadata": {},
   "source": [
    "<b>Q5: Given the nested dictionary grab the word \"hello\"</b>\n",
    "> Desired Output: ``'hello'``  \n",
    "\n",
    "Be prepared, this will be annoying/tricky "
   ]
  },
  {
   "cell_type": "code",
   "execution_count": 20,
   "metadata": {},
   "outputs": [
    {
     "data": {
      "text/plain": [
       "'hello'"
      ]
     },
     "execution_count": 20,
     "metadata": {},
     "output_type": "execute_result"
    }
   ],
   "source": [
    "# Given variables\n",
    "d = {\n",
    "    'k1':[1,2,3,{\n",
    "                    'tricky':['oh','man','inception',\n",
    "                              {'target':[1,2,3,'hello']\n",
    "                              }\n",
    "                             ]\n",
    "                }\n",
    "         ]\n",
    "    }\n",
    "# Your solution goes here\n",
    "d['k1'][3]['tricky'][3]['target'][3]"
   ]
  },
  {
   "cell_type": "markdown",
   "metadata": {},
   "source": [
    "<b> Q6: What is the main difference between a tuple and a list? </b> <br>\n",
    "\n",
    "Tuple are immutable while lists are not\n",
    "\n",
    "Double click on this cell to edit it, run this Markdown cell to save\n",
    "<br>"
   ]
  },
  {
   "cell_type": "markdown",
   "metadata": {},
   "source": [
    "<b> Q7: Create a function that grabs the email domain from a string</b>\n",
    "> Example Input: ``user@domain.com``\n",
    "  \n",
    "> Example Output: ``domain.com``"
   ]
  },
  {
   "cell_type": "code",
   "execution_count": 21,
   "metadata": {},
   "outputs": [],
   "source": [
    "def domainGet(email):\n",
    "    # Get index of the '@' character, go up one more and take everything after\n",
    "    return email[email.index('@') + 1:]"
   ]
  },
  {
   "cell_type": "code",
   "execution_count": 22,
   "metadata": {},
   "outputs": [
    {
     "name": "stdout",
     "output_type": "stream",
     "text": [
      "Test 1 >> Passed\n",
      "Desired Output: domain.com\n",
      "Your Output: domain.com\n",
      "\n",
      "Test 2 >> Passed\n",
      "Desired Output: gmail.com\n",
      "Your Output: gmail.com\n"
     ]
    }
   ],
   "source": [
    "# Function Tester -- Do Not Change >> Run to Verify Answers\n",
    "\n",
    "test1 = domainGet('user@domain.com')\n",
    "answer = 'domain.com'\n",
    "print('Test 1 >> {}\\nDesired Output: {}\\nYour Output: {}'.format('Passed' if answer == test1 else 'Failed', answer, test1))\n",
    "\n",
    "print()\n",
    "\n",
    "test2 = domainGet('person@gmail.com')\n",
    "answer = 'gmail.com'\n",
    "print('Test 2 >> {}\\nDesired Output: {}\\nYour Output: {}'.format('Passed' if answer == test2 else 'Failed', answer, test2))"
   ]
  },
  {
   "cell_type": "markdown",
   "metadata": {},
   "source": [
    "<b> Q8: Create a basic function that returns True if the word 'dog' is contained in the input string.</b>\n",
    "    \n",
    "Don't worry about edge cases like a punctuation being attached to the word dog, but do account for capitalization."
   ]
  },
  {
   "cell_type": "code",
   "execution_count": 32,
   "metadata": {},
   "outputs": [],
   "source": [
    "def findDog(st):\n",
    "    return str('dog' in st)"
   ]
  },
  {
   "cell_type": "code",
   "execution_count": 33,
   "metadata": {},
   "outputs": [
    {
     "name": "stdout",
     "output_type": "stream",
     "text": [
      "Test 1 >> Passed\n",
      "Desired Output: True\n",
      "Your Output: True\n",
      "\n",
      "Test 2 >> Passed\n",
      "Desired Output: False\n",
      "Your Output: False\n"
     ]
    }
   ],
   "source": [
    "# Function Tester -- Do Not Change >> Run to Verify Answers\n",
    "\n",
    "test1 = findDog('Is there a dog here?')\n",
    "answer = 'True'\n",
    "print('Test 1 >> {}\\nDesired Output: {}\\nYour Output: {}'.format('Passed' if answer == test1 else 'Failed', answer, test1))\n",
    "\n",
    "print()\n",
    "\n",
    "test2 = findDog('There are no puppies here.')\n",
    "answer = 'False'\n",
    "print('Test 2 >> {}\\nDesired Output: {}\\nYour Output: {}'.format('Passed' if answer == test2 else 'Failed', answer, test2))"
   ]
  },
  {
   "cell_type": "markdown",
   "metadata": {},
   "source": [
    "** Create a function that counts the number of times the word \"dog\" occurs in a string. Again ignore edge cases. **"
   ]
  },
  {
   "cell_type": "code",
   "execution_count": 30,
   "metadata": {},
   "outputs": [],
   "source": [
    "def countDog(st):\n",
    "    return str(st.count('dog'))"
   ]
  },
  {
   "cell_type": "code",
   "execution_count": 31,
   "metadata": {},
   "outputs": [
    {
     "name": "stdout",
     "output_type": "stream",
     "text": [
      "Test 1 >> Passed\n",
      "Desired Output: 2\n",
      "Your Output: 2\n",
      "\n",
      "Test 2 >> Passed\n",
      "Desired Output: 1\n",
      "Your Output: 1\n"
     ]
    }
   ],
   "source": [
    "# Function Tester -- Do Not Change >> Run to Verify Answers\n",
    "\n",
    "test1 = countDog('This dog runs faster than the other dog dude!')\n",
    "answer = '2'\n",
    "print('Test 1 >> {}\\nDesired Output: {}\\nYour Output: {}'.format('Passed' if answer == test1 else 'Failed', answer, test1))\n",
    "\n",
    "print()\n",
    "\n",
    "test2 = countDog('While I prefer cats, I enjoy throwing a ball for a dog.')\n",
    "answer = '1'\n",
    "print('Test 2 >> {}\\nDesired Output: {}\\nYour Output: {}'.format('Passed' if answer == test2 else 'Failed', answer, test2))"
   ]
  },
  {
   "cell_type": "markdown",
   "metadata": {},
   "source": [
    "<b> Q10: Use lambda expressions and the filter() function to filter out words from a list that don't start with the letter 's' </b>\n",
    "> Given: ``['soup','dog','salad','cat','great']``\n",
    "\n",
    "> Filtered: ``['soup','salad']``\n",
    "\n",
    "Lambda Expressions can take some time to understand, do not worry too much about this question"
   ]
  },
  {
   "cell_type": "code",
   "execution_count": 117,
   "metadata": {},
   "outputs": [
    {
     "data": {
      "text/plain": [
       "['soup', 'salad']"
      ]
     },
     "execution_count": 117,
     "metadata": {},
     "output_type": "execute_result"
    }
   ],
   "source": [
    "# Given variables\n",
    "seq = ['soup','dog','salad','cat','great']\n",
    "# Your solution goes here\n",
    "new_seq = filter((lambda x: x[0] == 's'),seq)\n",
    "filtered = list(new_seq)\n",
    "filtered"
   ]
  },
  {
   "cell_type": "markdown",
   "metadata": {},
   "source": [
    "## Challenge Problems\n",
    "\n",
    "### Speeding Tickets\n",
    "You are driving a little too fast, and a police officer stops you. Write a function to return one of 3 possible results: \"No ticket\", \"Small ticket\", or \"Big Ticket\". If your speed is 60 or less, the result is \"No Ticket\". If speed is between 61 and 80 inclusive, the result is \"Small Ticket\". If speed is 81 or more, the result is \"Big    Ticket\". Unless it is your birthday (encoded as a boolean value in the parameters of the function) -- on your birthday, your speed can be 5 higher in all cases. "
   ]
  },
  {
   "cell_type": "code",
   "execution_count": 122,
   "metadata": {},
   "outputs": [],
   "source": [
    "def caught_speeding(speed, is_birthday):\n",
    "    if is_birthday:\n",
    "        extra = 5\n",
    "    else:\n",
    "        extra = 0\n",
    "        \n",
    "    result = ''\n",
    "    if speed < 60 + extra:\n",
    "        result = 'No Ticket'\n",
    "    elif speed >= 61 + extra and speed <= 80 + extra:\n",
    "        result = 'Small Ticket'\n",
    "    else:\n",
    "        result =  'Big Ticket'\n",
    "    return result"
   ]
  },
  {
   "cell_type": "code",
   "execution_count": 123,
   "metadata": {},
   "outputs": [
    {
     "name": "stdout",
     "output_type": "stream",
     "text": [
      "Test 1 >> Passed\n",
      "Desired Output: Small Ticket\n",
      "Your Output: Small Ticket\n",
      "\n",
      "Test 2 >> Passed\n",
      "Desired Output: Big Ticket\n",
      "Your Output: Big Ticket\n"
     ]
    }
   ],
   "source": [
    "# Function Tester -- Do Not Change >> Run to Verify Answers\n",
    "\n",
    "test1 = caught_speeding(81,True)\n",
    "answer = 'Small Ticket'\n",
    "print('Test 1 >> {}\\nDesired Output: {}\\nYour Output: {}'.format('Passed' if answer == test1 else 'Failed', answer, test1))\n",
    "\n",
    "print()\n",
    "\n",
    "test2 = caught_speeding(81,False)\n",
    "answer = 'Big Ticket'\n",
    "print('Test 2 >> {}\\nDesired Output: {}\\nYour Output: {}'.format('Passed' if answer == test2 else 'Failed', answer, test2))"
   ]
  },
  {
   "cell_type": "markdown",
   "metadata": {},
   "source": [
    "### Intersecting Intervals\n",
    "\n",
    "Create a function that takes in a list of intervals and returns how many intervals overlap with a given point.\n",
    "\n",
    "An interval overlaps a particular point if the point exists inside the interval, or on the interval's boundary. For example the point 3 overlaps with the interval [2, 4] (it is inside) and [2, 3] (it is on the boundary).\n",
    "\n",
    "> count_overlapping([[1, 2], [2, 3], [1, 3], [4, 5], [0, 1]], 2) ➞ 3  \n",
    "\n",
    "Since [1, 2], [2, 3] and [1, 3] all overlap with point 2\n",
    "\n",
    "#### Notes  \n",
    "- Each interval is represented as a list with a start point and an endpoint.  \n",
    "- Intervals count as intersecting even if they only intersect at one point, i.e. [2, 3] and [3, 4] both intersect at point 3.  \n",
    "- If it's helpful, you can draw these intervals on a line on a piece of paper."
   ]
  },
  {
   "cell_type": "code",
   "execution_count": 113,
   "metadata": {},
   "outputs": [],
   "source": [
    "def count_overlapping(intervals, point):\n",
    "    counter = 0\n",
    "    for x in intervals:\n",
    "        if point > x[0] and point < x[1]:\n",
    "            counter += 1\n",
    "        elif point == x[0] or point == x[1]:\n",
    "            counter += 1\n",
    "    return counter"
   ]
  },
  {
   "cell_type": "code",
   "execution_count": 114,
   "metadata": {},
   "outputs": [
    {
     "name": "stdout",
     "output_type": "stream",
     "text": [
      "Test 1 >> Passed\n",
      "Desired Output: 0\n",
      "Your Output: 0\n",
      "\n",
      "Test 2 >> Passed\n",
      "Desired Output: 2\n",
      "Your Output: 2\n"
     ]
    }
   ],
   "source": [
    "# Function Tester -- Do Not Change >> Run to Verify Answers\n",
    "\n",
    "test1 = count_overlapping([[1, 2], [2, 3], [3, 4]], 5)\n",
    "answer = 0\n",
    "print('Test 1 >> {}\\nDesired Output: {}\\nYour Output: {}'.format('Passed' if answer == test1 else 'Failed', answer, test1))\n",
    "\n",
    "print()\n",
    "\n",
    "test2 = count_overlapping([[1, 2], [5, 6], [5, 7]], 5)\n",
    "answer = 2\n",
    "print('Test 2 >> {}\\nDesired Output: {}\\nYour Output: {}'.format('Passed' if answer == test2 else 'Failed', answer, test2))"
   ]
  },
  {
   "cell_type": "markdown",
   "metadata": {},
   "source": [
    "### Multiplication Tables\n",
    "<b>Print the two-dimensional list mult_table by row and column. Hint: Use nested loops.</b>\n",
    "\n",
    "Input: ``'1 2 3,2 4 6,3 6 9'``  \n",
    "Output: \n",
    "> 1 | 2 | 3  \n",
    "> 2 | 4 | 6  \n",
    "> 3 | 6 | 9  "
   ]
  },
  {
   "cell_type": "code",
   "execution_count": 101,
   "metadata": {},
   "outputs": [
    {
     "name": "stdout",
     "output_type": "stream",
     "text": [
      "[1, 2, 3]\n",
      "[2, 4, 6]\n",
      "[3, 6, 9]\n",
      "1|2|3\n",
      "2|4|6\n",
      "3|6|9\n"
     ]
    }
   ],
   "source": [
    "lines = '1 2 3,2 4 6,3 6 9'.split(',')\n",
    "mult_table = [[int(num) for num in line.split()] for line in lines]\n",
    "mult_table\n",
    "for x in range(0,3):\n",
    "    print(mult_table[x])\n",
    "\n",
    "output = \"\"\n",
    "for x in range(0,3):\n",
    "    for y in range(0,3):\n",
    "        output += (str(mult_table[x][y]) + '|') \n",
    "    print(output[:-1])\n",
    "    output = \"\"\n",
    "    "
   ]
  },
  {
   "cell_type": "markdown",
   "metadata": {},
   "source": [
    "### Begining to Classes\n",
    "\n",
    "Define the method object inc_num_kids() for PersonInfo. inc_num_kids increments the member data num_kids.\n"
   ]
  },
  {
   "cell_type": "code",
   "execution_count": 124,
   "metadata": {},
   "outputs": [],
   "source": [
    "class PersonInfo:\n",
    "    def __init__(self):\n",
    "        self.num_kids = 0\n",
    "    def inc_num_kids(self):\n",
    "        self.num_kids += 1\n",
    "\n",
    "    # Write inc_num_kids(self)\n",
    "    # Your solution goes here\n",
    "    \n",
    "person1 = PersonInfo()"
   ]
  },
  {
   "cell_type": "code",
   "execution_count": 125,
   "metadata": {},
   "outputs": [
    {
     "name": "stdout",
     "output_type": "stream",
     "text": [
      "Kids: 0\n"
     ]
    }
   ],
   "source": [
    "print('Kids:', person1.num_kids)"
   ]
  },
  {
   "cell_type": "code",
   "execution_count": 126,
   "metadata": {},
   "outputs": [
    {
     "name": "stdout",
     "output_type": "stream",
     "text": [
      "New baby, kids now: 1\n"
     ]
    }
   ],
   "source": [
    "person1.inc_num_kids()\n",
    "print('New baby, kids now:', person1.num_kids)"
   ]
  },
  {
   "cell_type": "markdown",
   "metadata": {},
   "source": [
    "# Great job!"
   ]
  }
 ],
 "metadata": {
  "kernelspec": {
   "display_name": "Python 3",
   "language": "python",
   "name": "python3"
  },
  "language_info": {
   "codemirror_mode": {
    "name": "ipython",
    "version": 3
   },
   "file_extension": ".py",
   "mimetype": "text/x-python",
   "name": "python",
   "nbconvert_exporter": "python",
   "pygments_lexer": "ipython3",
   "version": "3.8.8"
  }
 },
 "nbformat": 4,
 "nbformat_minor": 1
}
