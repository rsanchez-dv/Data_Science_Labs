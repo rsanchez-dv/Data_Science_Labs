{
 "cells": [
  {
   "cell_type": "markdown",
   "metadata": {},
   "source": [
    "<center>\n",
    "    <img src=\"https://www.clearlyrated.com/brand-logo/talent-path\" width=\"500\" alt=\"cognitiveclass.ai logo\"  />\n",
    "</center>"
   ]
  },
  {
   "cell_type": "markdown",
   "metadata": {},
   "source": [
    "<h1 style=\"color:DarkBlue; text-align:center\">Python Crash Course >> Part Three: Classes and Inheritance Activity</h1>"
   ]
  },
  {
   "cell_type": "markdown",
   "metadata": {},
   "source": [
    "### Finish the User class\n",
    "\n",
    "Methods Required\n",
    "- <b>\\__init__()</b> - Takes and sets First_name & Last_name\n",
    "- <b>print_name()</b> - Directly prints out First and Last Names\n",
    "\n",
    "Remember <b> self </b> is used to pass an instance"
   ]
  },
  {
   "cell_type": "code",
   "execution_count": 5,
   "metadata": {},
   "outputs": [
    {
     "data": {
      "text/plain": [
       "'Connor Fryar'"
      ]
     },
     "execution_count": 5,
     "metadata": {},
     "output_type": "execute_result"
    }
   ],
   "source": [
    "class User:\n",
    "    def __init__(self,first_name,last_name):\n",
    "        self.first_name = first_name\n",
    "        self.last_name = last_name\n",
    "    \n",
    "    def print_name(self):\n",
    "        return self.first_name +\" \"+ self.last_name\n",
    "\n",
    "User1 = User('Connor', 'Fryar')\n",
    "User1.print_name()"
   ]
  },
  {
   "cell_type": "markdown",
   "metadata": {},
   "source": [
    "### Write another class that inherits User with a different print_name() function"
   ]
  },
  {
   "cell_type": "code",
   "execution_count": 9,
   "metadata": {},
   "outputs": [
    {
     "data": {
      "text/plain": [
       "'Billy Mays'"
      ]
     },
     "execution_count": 9,
     "metadata": {},
     "output_type": "execute_result"
    }
   ],
   "source": [
    "class NewUser(User):    \n",
    "    def __init__(self, first_name = \"Billy\", last_name=\"Mays\"):\n",
    "        super().__init__(first_name,last_name)\n",
    "        \n",
    "    def print_name(self):\n",
    "        return super().print_name()\n",
    "    \n",
    "User2 = NewUser()\n",
    "User2.print_name()"
   ]
  },
  {
   "cell_type": "markdown",
   "metadata": {},
   "source": [
    "### Write another class that inherits User but add...\n",
    "\n",
    "Methods Required\n",
    "- <b>\\__init__()</b> - Using super().init(), set the User's names and add a new variable \"friends_list\"\n",
    "- <b>print_friends()</b> - Write a loop to go through the new \"friends_list\" and prints out each friend given"
   ]
  },
  {
   "cell_type": "code",
   "execution_count": 15,
   "metadata": {},
   "outputs": [],
   "source": [
    "class NewUser2(User):\n",
    "    def __init__(self, first_name, last_name, friends_list):\n",
    "        super().__init__(first_name,last_name)\n",
    "        self.friends_list = friends_list\n",
    "    def print_name(self):\n",
    "        return super().print_name()\n",
    "    def print_friends(self):\n",
    "        for x in self.friends_list:\n",
    "            print(x)"
   ]
  },
  {
   "cell_type": "code",
   "execution_count": 18,
   "metadata": {},
   "outputs": [
    {
     "name": "stdout",
     "output_type": "stream",
     "text": [
      "Billy Mays\n",
      "John Madden\n",
      "John Madden\n",
      "John Madden\n",
      "None\n"
     ]
    }
   ],
   "source": [
    "User3 = NewUser2(\"Billy\", \"Mays\", [\"John Madden\", \"John Madden\", \"John Madden\"])\n",
    "print(User3.print_name())\n",
    "print(User3.print_friends())"
   ]
  },
  {
   "cell_type": "code",
   "execution_count": null,
   "metadata": {},
   "outputs": [],
   "source": []
  }
 ],
 "metadata": {
  "kernelspec": {
   "display_name": "Python 3",
   "language": "python",
   "name": "python3"
  },
  "language_info": {
   "codemirror_mode": {
    "name": "ipython",
    "version": 3
   },
   "file_extension": ".py",
   "mimetype": "text/x-python",
   "name": "python",
   "nbconvert_exporter": "python",
   "pygments_lexer": "ipython3",
   "version": "3.8.8"
  }
 },
 "nbformat": 4,
 "nbformat_minor": 4
}
