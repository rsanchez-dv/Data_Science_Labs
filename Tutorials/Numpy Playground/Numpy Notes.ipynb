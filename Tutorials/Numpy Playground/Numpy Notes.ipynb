{
cells: [
{
cell_type: "markdown",
metadata: { },
source: [
"### Load in NumPy (remember to pip install numpy first)"
]
},
{
cell_type: "code",
execution_count: 1,
metadata: { },
outputs: [ ],
source: [
"import numpy as np"
]
},
{
cell_type: "markdown",
metadata: { },
source: [
"### The Basics"
]
},
{
cell_type: "code",
execution_count: 24,
metadata: { },
outputs: [
{
name: "stdout",
output_type: "stream",
text: [
"[1 2 3] "
]
}
],
source: [
"a = np.array([1,2,3], dtype='int32') ",
"print(a)"
]
},
{
cell_type: "code",
execution_count: 10,
metadata: { },
outputs: [
{
name: "stdout",
output_type: "stream",
text: [
"[[9. 8. 7.] ",
" [6. 5. 4.]] "
]
}
],
source: [
"b = np.array([[9.0,8.0,7.0],[6.0,5.0,4.0]]) ",
"print(b)"
]
},
{
cell_type: "code",
execution_count: 16,
metadata: { },
outputs: [
{
data: {
text/plain: [
"1"
]
},
execution_count: 16,
metadata: { },
output_type: "execute_result"
}
],
source: [
"# Get Dimension ",
"a.ndim"
]
},
{
cell_type: "code",
execution_count: 18,
metadata: { },
outputs: [
{
data: {
text/plain: [
"(2, 3)"
]
},
execution_count: 18,
metadata: { },
output_type: "execute_result"
}
],
source: [
"# Get Shape ",
"b.shape"
]
},
{
cell_type: "code",
execution_count: 32,
metadata: { },
outputs: [
{
data: {
text/plain: [
"dtype('int32')"
]
},
execution_count: 32,
metadata: { },
output_type: "execute_result"
}
],
source: [
"# Get Type ",
"a.dtype"
]
},
{
cell_type: "code",
execution_count: 31,
metadata: { },
outputs: [
{
data: {
text/plain: [
"4"
]
},
execution_count: 31,
metadata: { },
output_type: "execute_result"
}
],
source: [
"# Get Size ",
"a.itemsize"
]
},
{
cell_type: "code",
execution_count: 29,
metadata: { },
outputs: [
{
data: {
text/plain: [
"12"
]
},
execution_count: 29,
metadata: { },
output_type: "execute_result"
}
],
source: [
"# Get total size ",
"a.nbytes"
]
},
{
cell_type: "code",
execution_count: 35,
metadata: { },
outputs: [
{
data: {
text/plain: [
"3"
]
},
execution_count: 35,
metadata: { },
output_type: "execute_result"
}
],
source: [
"# Get number of elements ",
"a.size"
]
},
{
cell_type: "markdown",
metadata: { },
source: [
"### Accessing/Changing specific elements, rows, columns, etc"
]
},
{
cell_type: "code",
execution_count: 45,
metadata: { },
outputs: [
{
name: "stdout",
output_type: "stream",
text: [
"[[ 1 2 3 4 5 6 7] ",
" [ 8 9 10 11 12 13 14]] "
]
}
],
source: [
"a = np.array([[1,2,3,4,5,6,7],[8,9,10,11,12,13,14]]) ",
"print(a)"
]
},
{
cell_type: "code",
execution_count: 14,
metadata: { },
outputs: [
{
data: {
text/plain: [
"13"
]
},
execution_count: 14,
metadata: { },
output_type: "execute_result"
}
],
source: [
"# Get a specific element [r, c] ",
"a[1, 5]"
]
},
{
cell_type: "code",
execution_count: 15,
metadata: { },
outputs: [
{
data: {
text/plain: [
"array([1, 2, 3, 4, 5, 6, 7])"
]
},
execution_count: 15,
metadata: { },
output_type: "execute_result"
}
],
source: [
"# Get a specific row ",
"a[0, :]"
]
},
{
cell_type: "code",
execution_count: 16,
metadata: { },
outputs: [
{
data: {
text/plain: [
"array([ 3, 10])"
]
},
execution_count: 16,
metadata: { },
output_type: "execute_result"
}
],
source: [
"# Get a specific column ",
"a[:, 2]"
]
},
{
cell_type: "code",
execution_count: 20,
metadata: { },
outputs: [
{
data: {
text/plain: [
"array([2, 4, 6])"
]
},
execution_count: 20,
metadata: { },
output_type: "execute_result"
}
],
source: [
"# Getting a little more fancy [startindex:endindex:stepsize] ",
"a[0, 1:-1:2]"
]
},
{
cell_type: "code",
execution_count: 24,
metadata: { },
outputs: [
{
name: "stdout",
output_type: "stream",
text: [
"[[ 1 2 5 4 5 6 7] ",
" [ 8 9 5 11 12 20 14]] ",
"[[ 1 2 1 4 5 6 7] ",
" [ 8 9 2 11 12 20 14]] "
]
}
],
source: [
"a[1,5] = 20 ",
" ",
"a[:,2] = [1,2] ",
"print(a)"
]
},
{
cell_type: "markdown",
metadata: { },
source: [
"*3-d example"
]
},
{
cell_type: "code",
execution_count: 25,
metadata: { },
outputs: [
{
name: "stdout",
output_type: "stream",
text: [
"[[[1 2] ",
" [3 4]] ",
" ",
" [[5 6] ",
" [7 8]]] "
]
}
],
source: [
"b = np.array([[[1,2],[3,4]],[[5,6],[7,8]]]) ",
"print(b)"
]
},
{
cell_type: "code",
execution_count: 30,
metadata: { },
outputs: [
{
data: {
text/plain: [
"4"
]
},
execution_count: 30,
metadata: { },
output_type: "execute_result"
}
],
source: [
"# Get specific element (work outside in) ",
"b[0,1,1]"
]
},
{
cell_type: "code",
execution_count: 34,
metadata: { },
outputs: [
{
ename: "ValueError",
evalue: "setting an array element with a sequence.",
output_type: "error",
traceback: [
"[1;31m---------------------------------------------------------------------------[0m",
"[1;31mValueError[0m Traceback (most recent call last)",
"[1;32m<ipython-input-34-db1aebb5daad>[0m in [0;36m<module>[1;34m()[0m [0;32m 1[0m [1;31m# replace[0m[1;33m[0m[1;33m[0m[0m [1;32m----> 2[1;33m [0mb[0m[1;33m[[0m[1;33m:[0m[1;33m,[0m[1;36m1[0m[1;33m,[0m[1;33m:[0m[1;33m][0m [1;33m=[0m [1;33m[[0m[1;33m[[0m[1;36m9[0m[1;33m,[0m[1;36m9[0m[1;33m,[0m[1;36m9[0m[1;33m][0m[1;33m,[0m[1;33m[[0m[1;36m8[0m[1;33m,[0m[1;36m8[0m[1;33m][0m[1;33m][0m[1;33m[0m[0m [0m",
"[1;31mValueError[0m: setting an array element with a sequence."
]
}
],
source: [
"# replace ",
"b[:,1,:] = [[9,9,9],[8,8]]"
]
},
{
cell_type: "code",
execution_count: 33,
metadata: { },
outputs: [
{
data: {
text/plain: [
"array([[[1, 2], ",
" [9, 9]], ",
" ",
" [[5, 6], ",
" [8, 8]]])"
]
},
execution_count: 33,
metadata: { },
output_type: "execute_result"
}
],
source: [
"b"
]
},
{
cell_type: "markdown",
metadata: { },
source: [
"### Initializing Different Types of Arrays"
]
},
{
cell_type: "code",
execution_count: 40,
metadata: { },
outputs: [
{
data: {
text/plain: [
"array([[0., 0., 0.], ",
" [0., 0., 0.]])"
]
},
execution_count: 40,
metadata: { },
output_type: "execute_result"
}
],
source: [
"# All 0s matrix ",
"np.zeros((2,3))"
]
},
{
cell_type: "code",
execution_count: 42,
metadata: { },
outputs: [
{
data: {
text/plain: [
"array([[[1, 1], ",
" [1, 1]], ",
" ",
" [[1, 1], ",
" [1, 1]], ",
" ",
" [[1, 1], ",
" [1, 1]], ",
" ",
" [[1, 1], ",
" [1, 1]]])"
]
},
execution_count: 42,
metadata: { },
output_type: "execute_result"
}
],
source: [
"# All 1s matrix ",
"np.ones((4,2,2), dtype='int32')"
]
},
{
cell_type: "code",
execution_count: 44,
metadata: { },
outputs: [
{
data: {
text/plain: [
"array([[99., 99.], ",
" [99., 99.]], dtype=float32)"
]
},
execution_count: 44,
metadata: { },
output_type: "execute_result"
}
],
source: [
"# Any other number ",
"np.full((2,2), 99)"
]
},
{
cell_type: "code",
execution_count: 49,
metadata: { },
outputs: [
{
data: {
text/plain: [
"array([[4, 4, 4, 4, 4, 4, 4], ",
" [4, 4, 4, 4, 4, 4, 4]])"
]
},
execution_count: 49,
metadata: { },
output_type: "execute_result"
}
],
source: [
"# Any other number (full_like) ",
"np.full_like(a, 4)"
]
},
{
cell_type: "code",
execution_count: 56,
metadata: { },
outputs: [
{
data: {
text/plain: [
"array([[0.07805642, 0.53385716], ",
" [0.02494273, 0.99955252], ",
" [0.48588042, 0.91247437], ",
" [0.27779213, 0.16597751]])"
]
},
execution_count: 56,
metadata: { },
output_type: "execute_result"
}
],
source: [
"# Random decimal numbers ",
"np.random.rand(4,2)"
]
},
{
cell_type: "code",
execution_count: 73,
metadata: { },
outputs: [
{
data: {
text/plain: [
"array([[-2, -4, -4], ",
" [ 6, 6, 3], ",
" [ 3, 2, 2]])"
]
},
execution_count: 73,
metadata: { },
output_type: "execute_result"
}
],
source: [
"# Random Integer values ",
"np.random.randint(-4,8, size=(3,3))"
]
},
{
cell_type: "code",
execution_count: 76,
metadata: { },
outputs: [
{
data: {
text/plain: [
"array([[1., 0., 0., 0., 0.], ",
" [0., 1., 0., 0., 0.], ",
" [0., 0., 1., 0., 0.], ",
" [0., 0., 0., 1., 0.], ",
" [0., 0., 0., 0., 1.]])"
]
},
execution_count: 76,
metadata: { },
output_type: "execute_result"
}
],
source: [
"# The identity matrix ",
"np.identity(5)"
]
},
{
cell_type: "code",
execution_count: 82,
metadata: { },
outputs: [
{
name: "stdout",
output_type: "stream",
text: [
"[[1 2 3] ",
" [1 2 3] ",
" [1 2 3]] "
]
}
],
source: [
"# Repeat an array ",
"arr = np.array([[1,2,3]]) ",
"r1 = np.repeat(arr,3, axis=0) ",
"print(r1)"
]
},
{
cell_type: "code",
execution_count: 89,
metadata: { },
outputs: [
{
name: "stdout",
output_type: "stream",
text: [
"[[1. 1. 1. 1. 1.] ",
" [1. 1. 1. 1. 1.] ",
" [1. 1. 1. 1. 1.] ",
" [1. 1. 1. 1. 1.] ",
" [1. 1. 1. 1. 1.]] ",
"[[0. 0. 0.] ",
" [0. 9. 0.] ",
" [0. 0. 0.]] ",
"[[1. 1. 1. 1. 1.] ",
" [1. 0. 0. 0. 1.] ",
" [1. 0. 9. 0. 1.] ",
" [1. 0. 0. 0. 1.] ",
" [1. 1. 1. 1. 1.]] "
]
}
],
source: [
"output = np.ones((5,5)) ",
"print(output) ",
" ",
"z = np.zeros((3,3)) ",
"z[1,1] = 9 ",
"print(z) ",
" ",
"output[1:-1,1:-1] = z ",
"print(output)"
]
},
{
cell_type: "markdown",
metadata: { },
source: [
"##### Be careful when copying arrays!!!"
]
},
{
cell_type: "code",
execution_count: 98,
metadata: { },
outputs: [
{
name: "stdout",
output_type: "stream",
text: [
"[1 2 3] "
]
}
],
source: [
"a = np.array([1,2,3]) ",
"b = a.copy() ",
"b[0] = 100 ",
" ",
"print(a)"
]
},
{
cell_type: "markdown",
metadata: { },
source: [
"### Mathematics"
]
},
{
cell_type: "code",
execution_count: 111,
metadata: { },
outputs: [
{
name: "stdout",
output_type: "stream",
text: [
"[1 2 3 4] "
]
}
],
source: [
"a = np.array([1,2,3,4]) ",
"print(a)"
]
},
{
cell_type: "code",
execution_count: 109,
metadata: { },
outputs: [
{
data: {
text/plain: [
"array([5, 6, 7, 8])"
]
},
execution_count: 109,
metadata: { },
output_type: "execute_result"
}
],
source: [
"a + 2"
]
},
{
cell_type: "code",
execution_count: 102,
metadata: { },
outputs: [
{
data: {
text/plain: [
"array([-1, 0, 1, 2])"
]
},
execution_count: 102,
metadata: { },
output_type: "execute_result"
}
],
source: [
"a - 2"
]
},
{
cell_type: "code",
execution_count: 103,
metadata: { },
outputs: [
{
data: {
text/plain: [
"array([2, 4, 6, 8])"
]
},
execution_count: 103,
metadata: { },
output_type: "execute_result"
}
],
source: [
"a * 2"
]
},
{
cell_type: "code",
execution_count: 104,
metadata: { },
outputs: [
{
data: {
text/plain: [
"array([0.5, 1. , 1.5, 2. ])"
]
},
execution_count: 104,
metadata: { },
output_type: "execute_result"
}
],
source: [
"a / 2"
]
},
{
cell_type: "code",
execution_count: 118,
metadata: { },
outputs: [
{
data: {
text/plain: [
"array([1, 0, 3, 0])"
]
},
execution_count: 118,
metadata: { },
output_type: "execute_result"
}
],
source: [
"b = np.array([1,0,1,0]) ",
"a + b"
]
},
{
cell_type: "code",
execution_count: 113,
metadata: { },
outputs: [
{
data: {
text/plain: [
"array([ 1, 4, 9, 16], dtype=int32)"
]
},
execution_count: 113,
metadata: { },
output_type: "execute_result"
}
],
source: [
"a ** 2"
]
},
{
cell_type: "code",
execution_count: 116,
metadata: { },
outputs: [
{
data: {
text/plain: [
"array([ 0.54030231, -0.41614684, -0.9899925 , -0.65364362])"
]
},
execution_count: 116,
metadata: { },
output_type: "execute_result"
}
],
source: [
"# Take the sin ",
"np.cos(a) ",
" "
]
},
{
cell_type: "code",
execution_count: 117,
metadata: { },
outputs: [ ],
source: [
"# For a lot more (https://docs.scipy.org/doc/numpy/reference/routines.math.html)"
]
},
{
cell_type: "markdown",
metadata: { },
source: [
"##### Linear Algebra"
]
},
{
cell_type: "code",
execution_count: 127,
metadata: { },
outputs: [
{
name: "stdout",
output_type: "stream",
text: [
"[[1. 1. 1.] ",
" [1. 1. 1.]] ",
"[[2 2] ",
" [2 2] ",
" [2 2]] "
]
},
{
data: {
text/plain: [
"array([[6., 6.], ",
" [6., 6.]])"
]
},
execution_count: 127,
metadata: { },
output_type: "execute_result"
}
],
source: [
"a = np.ones((2,3)) ",
"print(a) ",
" ",
"b = np.full((3,2), 2) ",
"print(b) ",
" ",
"np.matmul(a,b)"
]
},
{
cell_type: "code",
execution_count: 132,
metadata: { },
outputs: [
{
data: {
text/plain: [
"1.0"
]
},
execution_count: 132,
metadata: { },
output_type: "execute_result"
}
],
source: [
"# Find the determinant ",
"c = np.identity(3) ",
"np.linalg.det(c)"
]
},
{
cell_type: "code",
execution_count: 133,
metadata: { },
outputs: [ ],
source: [
"## Reference docs (https://docs.scipy.org/doc/numpy/reference/routines.linalg.html) ",
" ",
"# Determinant ",
"# Trace ",
"# Singular Vector Decomposition ",
"# Eigenvalues ",
"# Matrix Norm ",
"# Inverse ",
"# Etc..."
]
},
{
cell_type: "markdown",
metadata: { },
source: [
"##### Statistics"
]
},
{
cell_type: "code",
execution_count: 134,
metadata: { },
outputs: [
{
data: {
text/plain: [
"array([[1, 2, 3], ",
" [4, 5, 6]])"
]
},
execution_count: 134,
metadata: { },
output_type: "execute_result"
}
],
source: [
"stats = np.array([[1,2,3],[4,5,6]]) ",
"stats"
]
},
{
cell_type: "code",
execution_count: 139,
metadata: { },
outputs: [
{
data: {
text/plain: [
"1"
]
},
execution_count: 139,
metadata: { },
output_type: "execute_result"
}
],
source: [
"np.min(stats)"
]
},
{
cell_type: "code",
execution_count: 141,
metadata: { },
outputs: [
{
data: {
text/plain: [
"array([3, 6])"
]
},
execution_count: 141,
metadata: { },
output_type: "execute_result"
}
],
source: [
"np.max(stats, axis=1)"
]
},
{
cell_type: "code",
execution_count: 143,
metadata: { },
outputs: [
{
data: {
text/plain: [
"array([5, 7, 9])"
]
},
execution_count: 143,
metadata: { },
output_type: "execute_result"
}
],
source: [
"np.sum(stats, axis=0)"
]
},
{
cell_type: "markdown",
metadata: { },
source: [
"### Reorganizing Arrays"
]
},
{
cell_type: "code",
execution_count: 151,
metadata: { },
outputs: [
{
name: "stdout",
output_type: "stream",
text: [
"[[1 2 3 4] ",
" [5 6 7 8]] "
]
},
{
ename: "ValueError",
evalue: "cannot reshape array of size 8 into shape (2,3)",
output_type: "error",
traceback: [
"[1;31m---------------------------------------------------------------------------[0m",
"[1;31mValueError[0m Traceback (most recent call last)",
"[1;32m<ipython-input-151-6aa1f4e15729>[0m in [0;36m<module>[1;34m()[0m [0;32m 2[0m [0mprint[0m[1;33m([0m[0mbefore[0m[1;33m)[0m[1;33m[0m[0m [0;32m 3[0m [1;33m[0m[0m [1;32m----> 4[1;33m [0mafter[0m [1;33m=[0m [0mbefore[0m[1;33m.[0m[0mreshape[0m[1;33m([0m[1;33m([0m[1;36m2[0m[1;33m,[0m[1;36m3[0m[1;33m)[0m[1;33m)[0m[1;33m[0m[0m [0m[0;32m 5[0m [0mprint[0m[1;33m([0m[0mafter[0m[1;33m)[0m[1;33m[0m[0m ",
"[1;31mValueError[0m: cannot reshape array of size 8 into shape (2,3)"
]
}
],
source: [
"before = np.array([[1,2,3,4],[5,6,7,8]]) ",
"print(before) ",
" ",
"after = before.reshape((2,3)) ",
"print(after)"
]
},
{
cell_type: "code",
execution_count: 158,
metadata: { },
outputs: [
{
data: {
text/plain: [
"array([[1, 2, 3, 4], ",
" [5, 6, 7, 8], ",
" [1, 2, 3, 4], ",
" [5, 6, 7, 8]])"
]
},
execution_count: 158,
metadata: { },
output_type: "execute_result"
}
],
source: [
"# Vertically stacking vectors ",
"v1 = np.array([1,2,3,4]) ",
"v2 = np.array([5,6,7,8]) ",
" ",
"np.vstack([v1,v2,v1,v2])"
]
},
{
cell_type: "code",
execution_count: 164,
metadata: { },
outputs: [
{
data: {
text/plain: [
"array([[1., 1., 1., 1., 0., 0.], ",
" [1., 1., 1., 1., 0., 0.]])"
]
},
execution_count: 164,
metadata: { },
output_type: "execute_result"
}
],
source: [
"# Horizontal stack ",
"h1 = np.ones((2,4)) ",
"h2 = np.zeros((2,2)) ",
" ",
"np.hstack((h1,h2))"
]
},
{
cell_type: "markdown",
metadata: { },
source: [
"### Miscellaneous ",
"##### Load Data from File"
]
},
{
cell_type: "code",
execution_count: 179,
metadata: { },
outputs: [
{
name: "stdout",
output_type: "stream",
text: [
"[[ 1 13 21 11 196 75 4 3 34 6 7 8 0 1 2 3 4 5] ",
" [ 3 42 12 33 766 75 4 55 6 4 3 4 5 6 7 0 11 12] ",
" [ 1 22 33 11 999 11 2 1 78 0 1 2 9 8 7 1 76 88]] "
]
}
],
source: [
"filedata = np.genfromtxt('data.txt', delimiter=',') ",
"filedata = filedata.astype('int32') ",
"print(filedata)"
]
},
{
cell_type: "markdown",
metadata: { },
source: [
"##### Boolean Masking and Advanced Indexing"
]
},
{
cell_type: "code",
execution_count: 196,
metadata: { },
outputs: [
{
data: {
text/plain: [
"array([[ True, True, True, True, True, False, True, True, True, ",
" True, True, True, True, True, True, True, True, True], ",
" [ True, True, True, True, True, False, True, False, True, ",
" True, True, True, True, True, True, True, True, True], ",
" [ True, True, True, True, True, True, True, True, False, ",
" True, True, True, True, True, True, True, False, False]])"
]
},
execution_count: 196,
metadata: { },
output_type: "execute_result"
}
],
source: [
"(~((filedata > 50) & (filedata < 100)))"
]
},
{
cell_type: "code",
execution_count: null,
metadata: { },
outputs: [ ],
source: [ ]
},
{
cell_type: "code",
execution_count: null,
metadata: { },
outputs: [ ],
source: [ ]
},
{
cell_type: "code",
execution_count: null,
metadata: { },
outputs: [ ],
source: [ ]
},
{
cell_type: "code",
execution_count: null,
metadata: { },
outputs: [ ],
source: [ ]
},
{
cell_type: "code",
execution_count: null,
metadata: { },
outputs: [ ],
source: [ ]
}
],
metadata: {
kernelspec: {
display_name: "Python 3",
language: "python",
name: "python3"
},
language_info: {
codemirror_mode: {
name: "ipython",
version: 3
},
file_extension: ".py",
mimetype: "text/x-python",
name: "python",
nbconvert_exporter: "python",
pygments_lexer: "ipython3",
version: "3.6.5"
}
},
nbformat: 4,
nbformat_minor: 2
}
