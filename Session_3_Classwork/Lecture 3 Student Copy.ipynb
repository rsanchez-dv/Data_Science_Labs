{
 "cells": [
  {
   "cell_type": "markdown",
   "id": "6fe41fe1",
   "metadata": {},
   "source": [
    "# Session 3 Notebook - Hypothesis Testing"
   ]
  },
  {
   "cell_type": "markdown",
   "id": "0b9292c0",
   "metadata": {},
   "source": [
    "## Exercise 1"
   ]
  },
  {
   "cell_type": "markdown",
   "id": "3bf573f8",
   "metadata": {},
   "source": [
    "*Your company’s research group surveys 500 women more than 40 years old to test the hypothesis that 28% of women prefer to have daily check-in meetings with their boss.*\n",
    "\n",
    "\n",
    "*Should the hypothesis be rejected at the 5% significance level is 151 of the women respond affirmatively?*"
   ]
  },
  {
   "cell_type": "markdown",
   "id": "4151f5b5",
   "metadata": {},
   "source": [
    "Step 1: Import the necessary library"
   ]
  },
  {
   "cell_type": "code",
   "execution_count": 1,
   "id": "e4307687",
   "metadata": {},
   "outputs": [],
   "source": [
    "from statsmodels.stats.proportion import proportions_ztest"
   ]
  },
  {
   "cell_type": "markdown",
   "id": "01f8a22a",
   "metadata": {},
   "source": [
    "Step 2: Set the variables for the sample size, the sample success and the null hypothesis. "
   ]
  },
  {
   "cell_type": "code",
   "execution_count": null,
   "id": "48fadff7",
   "metadata": {},
   "outputs": [],
   "source": [
    "sample_success = 151\n",
    "sample_size = 500\n",
    "null_hypothesis = 0.28"
   ]
  },
  {
   "cell_type": "markdown",
   "id": "631e68c0",
   "metadata": {},
   "source": [
    "Step 3: Run the test using the proportions_ztest function from the imported library "
   ]
  },
  {
   "cell_type": "code",
   "execution_count": null,
   "id": "a19fbbee",
   "metadata": {},
   "outputs": [],
   "source": [
    "# check our sample against Ho for Ha > Ho\n",
    "# for Ha < Ho use alternative='smaller'\n",
    "# for Ha != Ho use alternative='two-sided'\n",
    "# for Ha > Ho use alternative = 'larger'\n",
    "proportions_ztest(count=sample_success, nobs=sample_size, value=null_hypothesis, alternative='two-sided')\n",
    "#the first value in the output is the z score, the second is the p value"
   ]
  },
  {
   "cell_type": "markdown",
   "id": "c3b6c698",
   "metadata": {},
   "source": [
    "## Group Exercise 1: "
   ]
  },
  {
   "cell_type": "markdown",
   "id": "d996f87c",
   "metadata": {},
   "source": [
    "According to the February 2008 Federal Trade Commission report on consumer fraud and identity theft, 23% of all complaints in 2007 were for identity theft. In that year, Alaska had 321 complaints of identity theft out of 1,432 consumer complaints (\"Consumer fraud and,\" 2008). \n",
    "\n",
    "Does this data provide enough evidence to show that Alaska had a lower proportion of identity theft than 23%? Test at the 5% level.\n"
   ]
  },
  {
   "cell_type": "markdown",
   "id": "4d32fbaa",
   "metadata": {},
   "source": [
    "Step 1: Import the necessary library"
   ]
  },
  {
   "cell_type": "code",
   "execution_count": null,
   "id": "b7bc9f95",
   "metadata": {},
   "outputs": [],
   "source": [
    "from statsmodels.stats.proportion import proportions_ztest"
   ]
  },
  {
   "cell_type": "markdown",
   "id": "0e933895",
   "metadata": {},
   "source": [
    "Step 2: Set the variables for the sample size, the sample success and the null hypothesis. "
   ]
  },
  {
   "cell_type": "code",
   "execution_count": 3,
   "id": "67fa0855",
   "metadata": {},
   "outputs": [],
   "source": [
    "sample_success = 321\n",
    "sample_size = 1432\n",
    "null_hypothesis = 0.23"
   ]
  },
  {
   "cell_type": "markdown",
   "id": "f7159c73",
   "metadata": {},
   "source": [
    "Step 3: Run the test using the proportions_ztest function from the imported library "
   ]
  },
  {
   "cell_type": "code",
   "execution_count": 5,
   "id": "c02e0a09",
   "metadata": {},
   "outputs": [
    {
     "data": {
      "text/plain": [
       "(-0.5297466765209304, 0.2981437903628086)"
      ]
     },
     "execution_count": 5,
     "metadata": {},
     "output_type": "execute_result"
    }
   ],
   "source": [
    "# we want to check ha <ho for smaller\n",
    "proportions_ztest(count=sample_success, nobs=sample_size, value=null_hypothesis, alternative='smaller')\n",
    "# Z Score and P Value"
   ]
  },
  {
   "cell_type": "markdown",
   "id": "1f97ad9a",
   "metadata": {},
   "source": [
    "if the p value is higher than the sig level then reject the null hypo"
   ]
  },
  {
   "cell_type": "markdown",
   "id": "faeb64a0",
   "metadata": {},
   "source": [
    "## Exercise 2:"
   ]
  },
  {
   "cell_type": "markdown",
   "id": "82730336",
   "metadata": {},
   "source": [
    "Suppose that early in an election campaign a telephone poll of 800 registered votes shows 460 in favor of a particular candidate. Just before election day, a second poll shows only 520 of 1000 registered voters expressing the same preference. \n",
    "\n",
    "At the 10% significance level is there sufficient evidence that the candidates popularity has decreased?"
   ]
  },
  {
   "cell_type": "markdown",
   "id": "bbafae7d",
   "metadata": {},
   "source": [
    "Step 1: Import the necessary libraries "
   ]
  },
  {
   "cell_type": "code",
   "execution_count": 20,
   "id": "f2a7f01d",
   "metadata": {},
   "outputs": [
    {
     "data": {
      "text/plain": [
       "(2.328219763531173, 0.019900437267002254)"
      ]
     },
     "execution_count": 20,
     "metadata": {},
     "output_type": "execute_result"
    }
   ],
   "source": [
    "from statsmodels.stats.proportion import proportions_ztest\n",
    "import numpy as np"
   ]
  },
  {
   "cell_type": "markdown",
   "id": "40b8b4c6",
   "metadata": {},
   "source": [
    "Step 2: define the sample success and sample size for each of your two samples. "
   ]
  },
  {
   "cell_type": "code",
   "execution_count": null,
   "id": "aae7f350",
   "metadata": {},
   "outputs": [],
   "source": [
    "# note - the samples do not need to be the same size\n",
    "sample_success_a, sample_size_a = (460, 800)\n",
    "sample_success_b, sample_size_b = (520, 1000)\n"
   ]
  },
  {
   "cell_type": "markdown",
   "id": "a7b39226",
   "metadata": {},
   "source": [
    "Step 3: Check our sample against the Ho"
   ]
  },
  {
   "cell_type": "code",
   "execution_count": null,
   "id": "eb41ed00",
   "metadata": {},
   "outputs": [],
   "source": [
    "# check our sample against Ho for Ha != Ho\n",
    "successes = np.array([sample_success_a, sample_success_b])\n",
    "samples = np.array([sample_size_a, sample_size_b])\n"
   ]
  },
  {
   "cell_type": "markdown",
   "id": "2f02e0d8",
   "metadata": {},
   "source": [
    "Step 4: Use the proportions_ztest function to find your p value. "
   ]
  },
  {
   "cell_type": "code",
   "execution_count": null,
   "id": "11c63ab8",
   "metadata": {},
   "outputs": [],
   "source": [
    "# note, no need for a Ho value here - it's derived from the other parameters\n",
    "proportions_ztest(count=successes, nobs=samples,  alternative='two-sided')"
   ]
  },
  {
   "cell_type": "markdown",
   "id": "20f83858",
   "metadata": {},
   "source": [
    "## Group Exercise 2:"
   ]
  },
  {
   "cell_type": "markdown",
   "id": "8182b095",
   "metadata": {},
   "source": [
    "An automobile manufacturer tries two distinct assembly procedures. In a sample of 350 cars coming off the line using the first procedure, there are 28 with major defects. A sample of 500 autos coming from the second line shows 32 with defects. \n",
    "\n",
    "Is the difference significant at the 10% significance level? \n"
   ]
  },
  {
   "cell_type": "markdown",
   "id": "b3f1de96",
   "metadata": {},
   "source": [
    "Step 1: Import the necessary libraries "
   ]
  },
  {
   "cell_type": "code",
   "execution_count": 6,
   "id": "6dac7809",
   "metadata": {},
   "outputs": [],
   "source": [
    "from statsmodels.stats.proportion import proportions_ztest\n",
    "import numpy as np"
   ]
  },
  {
   "cell_type": "markdown",
   "id": "52feb1ff",
   "metadata": {},
   "source": [
    "Step 2: define the sample success and sample size for each of your two samples. "
   ]
  },
  {
   "cell_type": "code",
   "execution_count": 7,
   "id": "512067e2",
   "metadata": {},
   "outputs": [],
   "source": [
    "# note - the samples do not need to be the same size\n",
    "sample_success_a, sample_size_a = (28, 350)\n",
    "sample_success_b, sample_size_b = (32, 500)"
   ]
  },
  {
   "cell_type": "markdown",
   "id": "808b5074",
   "metadata": {},
   "source": [
    "Step 3: Check our sample against the Ho"
   ]
  },
  {
   "cell_type": "code",
   "execution_count": 8,
   "id": "e511b492",
   "metadata": {},
   "outputs": [],
   "source": [
    "# check our sample against Ho for Ha != Ho\n",
    "successes = np.array([sample_success_a, sample_success_b])\n",
    "samples = np.array([sample_size_a, sample_size_b])"
   ]
  },
  {
   "cell_type": "markdown",
   "id": "99f66e58",
   "metadata": {},
   "source": [
    "Step 4: Use the proportions_ztest function to find your p value. "
   ]
  },
  {
   "cell_type": "code",
   "execution_count": 9,
   "id": "6bddabb4",
   "metadata": {},
   "outputs": [
    {
     "data": {
      "text/plain": [
       "(0.8963121819021319, 0.3700860547245475)"
      ]
     },
     "execution_count": 9,
     "metadata": {},
     "output_type": "execute_result"
    }
   ],
   "source": [
    "proportions_ztest(count=successes, nobs=samples,  alternative='two-sided')"
   ]
  },
  {
   "cell_type": "markdown",
   "id": "7cd2141e",
   "metadata": {},
   "source": [
    "## Exercise 3:"
   ]
  },
  {
   "cell_type": "markdown",
   "id": "b5ef32a9",
   "metadata": {},
   "source": [
    "A manufacturer claims that a new brand of air-conditioning unit uses only 6.5 kilowatts of electricity per day. A consumer agency believes that the true figure is higher and runs a test on a sample of size 50. \n",
    "\n",
    "If the sample mean is 7.0 kilowatts with a standard deviation of 1.4, should the manufacturer’s claim be rejected at a significance level of 5%?  "
   ]
  },
  {
   "cell_type": "code",
   "execution_count": 10,
   "id": "6bf13a3c",
   "metadata": {},
   "outputs": [],
   "source": [
    "from scipy.stats import truncnorm\n",
    "from statsmodels.stats.weightstats import DescrStatsW as stats\n",
    "# can we assume anything from our sample?\n"
   ]
  },
  {
   "cell_type": "markdown",
   "id": "8fc27e6e",
   "metadata": {},
   "source": [
    "Step 2: Define the significance and the null hypothesis values"
   ]
  },
  {
   "cell_type": "code",
   "execution_count": 11,
   "id": "8043b8bd",
   "metadata": {},
   "outputs": [],
   "source": [
    "significance = 0.05\n",
    "\n",
    "null_hypothesis = 6.5"
   ]
  },
  {
   "cell_type": "markdown",
   "id": "5c0f07f0",
   "metadata": {},
   "source": [
    "Step 3: define the sample "
   ]
  },
  {
   "cell_type": "code",
   "execution_count": 12,
   "id": "5dff0d18",
   "metadata": {},
   "outputs": [],
   "source": [
    "# Normally, in the real world, you would process an entire sample (i.e. sample_a)\n",
    "# But for this test, we'll generate a sample from this shape, where:\n",
    "# - min/max is the range of available options\n",
    "# - sample mean/dev are used to define the normal distribution\n",
    "# - size is how large the sample will be\n",
    "sample_mean_a, sample_dev_a, sample_size_a = (7.0, 1.4, 50)\n"
   ]
  },
  {
   "cell_type": "markdown",
   "id": "2b1ce992",
   "metadata": {},
   "source": [
    "Step 4: Run the test!"
   ]
  },
  {
   "cell_type": "code",
   "execution_count": 13,
   "id": "df8b06ef",
   "metadata": {},
   "outputs": [
    {
     "name": "stdout",
     "output_type": "stream",
     "text": [
      "t_stat: 0.453, p_value: 0.326\n"
     ]
    }
   ],
   "source": [
    "# here - for our test - we're generating a random string of durations to be our sample\n",
    "# these are in a normal distribution between min/max, normalised around the mean\n",
    "sample_a = np.random.normal(loc=sample_mean_a, scale=sample_dev_a, size=sample_size_a)\n",
    "# Get the stat data\n",
    "(t_stat, p_value, degree_of_freedom) = stats(sample_a).ttest_mean(null_hypothesis, 'larger')\n",
    "# report\n",
    "print('t_stat: %0.3f, p_value: %0.3f' % (t_stat, p_value))"
   ]
  },
  {
   "cell_type": "markdown",
   "id": "5fac4fc6",
   "metadata": {},
   "source": [
    "## Group Exercise 3:"
   ]
  },
  {
   "cell_type": "markdown",
   "id": "e4bebc18",
   "metadata": {},
   "source": [
    "A local chamber of commerce claims that the mean sale price for homes in the city is $90,000. A real estate salesperson notes eight recent sales of $75,000, $102,000, $82,000, $87,000, $77,000, $ 93,000, $98,000, and $68,000. How strong is the evidence to reject the chamber of commerce claim with a 5% significance level? \n"
   ]
  },
  {
   "cell_type": "markdown",
   "id": "92c0b4a1",
   "metadata": {},
   "source": [
    "Step 1: Import the necessary libraries"
   ]
  },
  {
   "cell_type": "code",
   "execution_count": 11,
   "id": "73c3b683",
   "metadata": {},
   "outputs": [],
   "source": []
  },
  {
   "cell_type": "markdown",
   "id": "a7752e3e",
   "metadata": {},
   "source": [
    "Step 2: Define the significance and null hypothesis"
   ]
  },
  {
   "cell_type": "code",
   "execution_count": 12,
   "id": "280f0bb2",
   "metadata": {},
   "outputs": [],
   "source": []
  },
  {
   "cell_type": "markdown",
   "id": "3b9c4680",
   "metadata": {},
   "source": [
    "Step 3: define the sample "
   ]
  },
  {
   "cell_type": "code",
   "execution_count": 13,
   "id": "e9106f30",
   "metadata": {},
   "outputs": [],
   "source": []
  },
  {
   "cell_type": "markdown",
   "id": "f1911e84",
   "metadata": {},
   "source": [
    "Step 4: Run the test!"
   ]
  },
  {
   "cell_type": "code",
   "execution_count": null,
   "id": "364966e6",
   "metadata": {},
   "outputs": [],
   "source": []
  },
  {
   "cell_type": "markdown",
   "id": "e35ff6f3",
   "metadata": {},
   "source": [
    "## Exercise 4:"
   ]
  },
  {
   "cell_type": "markdown",
   "id": "aa220c8a",
   "metadata": {},
   "source": [
    "A city council member claims that male and female officers wait equal times for promotion in the police department. \n",
    "A women’s spokesperson, however, believes women must wait longer than men. \n",
    "If five men waited 8, 7, 10, 5 and 7 years, while four women waited 9, 5, 12, and 8 years, what conclusion should be drawn? "
   ]
  },
  {
   "cell_type": "markdown",
   "id": "2d1888bc",
   "metadata": {},
   "source": [
    "Step 1: Import the necessary libraries:"
   ]
  },
  {
   "cell_type": "code",
   "execution_count": 21,
   "id": "9c719e46",
   "metadata": {},
   "outputs": [],
   "source": [
    "from scipy.stats import truncnorm\n",
    "from statsmodels.stats.weightstats import ttest_ind"
   ]
  },
  {
   "cell_type": "markdown",
   "id": "9d419656",
   "metadata": {},
   "source": [
    "Step 2: Define the significance and the null hypothesis "
   ]
  },
  {
   "cell_type": "code",
   "execution_count": 22,
   "id": "f43691a4",
   "metadata": {},
   "outputs": [],
   "source": [
    "# can we assume anything from our sample?\n",
    "significance = 0.025\n",
    "# we're checking if it takes more than 7 (the mean men wait time is around 7 years) years to get a promotion. \n",
    "# so Ho == 7\n",
    "null_hypothesis = 7"
   ]
  },
  {
   "cell_type": "markdown",
   "id": "b72dd5a9",
   "metadata": {},
   "source": [
    "Step 3: Define the sample "
   ]
  },
  {
   "cell_type": "code",
   "execution_count": 23,
   "id": "d0388d79",
   "metadata": {},
   "outputs": [],
   "source": [
    "# Normally, in the real world, you would process an entire sample (i.e. sample_a)\n",
    "# But for this test, we'll generate a sample from this shape, wherE:\n",
    "# - min/max is the range of available options\n",
    "# - sample mean/dev are used to define the normal distribution\n",
    "# - size is how large the sample will be\n",
    "min, max = (5, 12)\n",
    "sample_mean_v1, sample_dev_v1, sample_size_v1 = (7.4, 56, 5)\n",
    "sample_mean_v2, sample_dev_v2, sample_size_v2 = (8.5, 2.9, 4)\n"
   ]
  },
  {
   "cell_type": "markdown",
   "id": "29b19ce7",
   "metadata": {},
   "source": [
    "Step 4: generate the random string of durations for samples 1 and 2"
   ]
  },
  {
   "cell_type": "code",
   "execution_count": 24,
   "id": "cb144ff9",
   "metadata": {},
   "outputs": [],
   "source": [
    "\n",
    "# here - for our test - we're generating a random string of durations to be our sample\n",
    "# these are in a normal distribution between min/max, normalised around the mean\n",
    "sample_v1 = truncnorm(\n",
    "(min - sample_mean_v1) / sample_dev_v1,\n",
    "(max - sample_mean_v1) / sample_dev_v1,\n",
    "loc=sample_mean_v1,\n",
    "scale=sample_dev_v1).rvs(sample_size_v1)\n",
    "\n",
    "sample_v2 = truncnorm(\n",
    "(min - sample_mean_v2) / sample_dev_v2,\n",
    "(max - sample_mean_v2) / sample_dev_v2,\n",
    "loc=sample_mean_v2,\n",
    "scale=sample_dev_v2).rvs(sample_size_v2)"
   ]
  },
  {
   "cell_type": "markdown",
   "id": "fcaa1193",
   "metadata": {},
   "source": [
    "Step 5: Get and report the p value"
   ]
  },
  {
   "cell_type": "code",
   "execution_count": 25,
   "id": "f73e256f",
   "metadata": {
    "scrolled": true
   },
   "outputs": [
    {
     "name": "stdout",
     "output_type": "stream",
     "text": [
      "t_stat: 0.871, p_value: 0.206\n"
     ]
    }
   ],
   "source": [
    "(t_stat, p_value, degree_of_freedom) = ttest_ind(sample_v2, sample_v1, alternative='larger')\n",
    "# report\n",
    "print('t_stat: %0.3f, p_value: %0.3f' % (t_stat, p_value))"
   ]
  },
  {
   "cell_type": "markdown",
   "id": "28507e56",
   "metadata": {},
   "source": [
    "## Group Exercise 4"
   ]
  },
  {
   "cell_type": "markdown",
   "id": "dba6e71f",
   "metadata": {},
   "source": [
    "A store manager wishes to determine whether there is a significant difference between two trucking firms with regard to the handling of egg cartons. In a simple random sample of 200 cartons on one firm’s truck there was an average of 0.7 broken eggs per carton with a standard deviation of 0.31, while a sample of 300 cartons on the second firm’s truck showed an average of 0.775 broken eggs per carton with a standard deviation of 0.42. \n",
    "\n",
    "Is the difference between averages significant at a significance level of 5%?  \n"
   ]
  },
  {
   "cell_type": "markdown",
   "id": "fb205929",
   "metadata": {},
   "source": [
    "Step 1: Import the necessary libraries:"
   ]
  },
  {
   "cell_type": "code",
   "execution_count": null,
   "id": "70b0a94d",
   "metadata": {},
   "outputs": [],
   "source": []
  },
  {
   "cell_type": "markdown",
   "id": "3153017c",
   "metadata": {},
   "source": [
    "Step 2: Define the significance and the null hypothesis "
   ]
  },
  {
   "cell_type": "code",
   "execution_count": null,
   "id": "8c894228",
   "metadata": {},
   "outputs": [],
   "source": []
  },
  {
   "cell_type": "markdown",
   "id": "3660cf56",
   "metadata": {},
   "source": [
    "Step 3: Define the sample "
   ]
  },
  {
   "cell_type": "code",
   "execution_count": 26,
   "id": "b3e1c2e9",
   "metadata": {},
   "outputs": [],
   "source": []
  },
  {
   "cell_type": "markdown",
   "id": "c11b991f",
   "metadata": {},
   "source": [
    "Step 4: generate the random string of durations for samples 1 and 2"
   ]
  },
  {
   "cell_type": "code",
   "execution_count": 27,
   "id": "382f2879",
   "metadata": {},
   "outputs": [],
   "source": []
  },
  {
   "cell_type": "markdown",
   "id": "6fecf742",
   "metadata": {},
   "source": [
    "Step 5: Get and report the p value"
   ]
  },
  {
   "cell_type": "code",
   "execution_count": null,
   "id": "b1b61788",
   "metadata": {},
   "outputs": [],
   "source": []
  },
  {
   "cell_type": "code",
   "execution_count": null,
   "id": "879f3c70",
   "metadata": {},
   "outputs": [],
   "source": []
  }
 ],
 "metadata": {
  "kernelspec": {
   "display_name": "Python 3",
   "language": "python",
   "name": "python3"
  },
  "language_info": {
   "codemirror_mode": {
    "name": "ipython",
    "version": 3
   },
   "file_extension": ".py",
   "mimetype": "text/x-python",
   "name": "python",
   "nbconvert_exporter": "python",
   "pygments_lexer": "ipython3",
   "version": "3.8.8"
  }
 },
 "nbformat": 4,
 "nbformat_minor": 5
}
